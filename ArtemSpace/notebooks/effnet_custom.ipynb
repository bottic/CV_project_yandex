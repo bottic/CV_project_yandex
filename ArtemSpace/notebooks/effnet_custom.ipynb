{
 "cells": [
  {
   "cell_type": "code",
   "execution_count": 1,
   "metadata": {
    "execution": {
     "iopub.execute_input": "2024-12-16T13:27:57.535638Z",
     "iopub.status.busy": "2024-12-16T13:27:57.534953Z",
     "iopub.status.idle": "2024-12-16T13:28:02.588203Z",
     "shell.execute_reply": "2024-12-16T13:28:02.587423Z",
     "shell.execute_reply.started": "2024-12-16T13:27:57.535606Z"
    },
    "trusted": true
   },
   "outputs": [],
   "source": [
    "import numpy as np\n",
    "import os\n",
    "import pandas as pd\n",
    "import matplotlib.pyplot as plt\n",
    "from PIL import Image\n",
    "import shutil\n",
    "from tqdm import tqdm \n",
    "import random\n",
    "\n",
    "import torch\n",
    "import torch.nn as nn\n",
    "from torch.utils.data import Dataset, DataLoader\n",
    "from torch.utils.data import random_split\n",
    "from sklearn.model_selection import train_test_split\n",
    "from torchvision import transforms\n",
    "from torchsummary import summary\n",
    "import torch\n",
    "import torch.nn as nn\n",
    "from torchvision.models import efficientnet_b1"
   ]
  },
  {
   "cell_type": "markdown",
   "metadata": {},
   "source": [
    "# Подготовка тренировочного датасета"
   ]
  },
  {
   "cell_type": "code",
   "execution_count": 2,
   "metadata": {
    "execution": {
     "iopub.execute_input": "2024-12-16T13:28:02.589921Z",
     "iopub.status.busy": "2024-12-16T13:28:02.589382Z",
     "iopub.status.idle": "2024-12-16T13:28:02.851485Z",
     "shell.execute_reply": "2024-12-16T13:28:02.850628Z",
     "shell.execute_reply.started": "2024-12-16T13:28:02.589877Z"
    },
    "trusted": true
   },
   "outputs": [
    {
     "name": "stdout",
     "output_type": "stream",
     "text": [
      "CUDA available: True\n",
      "CUDA device name: NVIDIA GeForce RTX 2060\n",
      "PyTorch CUDA version: 12.4\n",
      "Tensor device: cuda:0\n"
     ]
    }
   ],
   "source": [
    "print(\"CUDA available:\", torch.cuda.is_available())\n",
    "print(\"CUDA device name:\", torch.cuda.get_device_name(0))\n",
    "print(\"PyTorch CUDA version:\", torch.version.cuda)\n",
    "device = torch.device(\"cuda\" if torch.cuda.is_available() else \"cpu\")\n",
    "x = torch.rand(3, 3).to(device)\n",
    "print(\"Tensor device:\", x.device)"
   ]
  },
  {
   "cell_type": "code",
   "execution_count": 3,
   "metadata": {
    "execution": {
     "iopub.execute_input": "2024-12-16T13:28:02.854455Z",
     "iopub.status.busy": "2024-12-16T13:28:02.853878Z",
     "iopub.status.idle": "2024-12-16T13:28:02.860475Z",
     "shell.execute_reply": "2024-12-16T13:28:02.859608Z",
     "shell.execute_reply.started": "2024-12-16T13:28:02.854425Z"
    },
    "trusted": true
   },
   "outputs": [
    {
     "data": {
      "text/plain": [
       "device(type='cuda')"
      ]
     },
     "execution_count": 3,
     "metadata": {},
     "output_type": "execute_result"
    }
   ],
   "source": [
    "device"
   ]
  },
  {
   "cell_type": "code",
   "execution_count": 5,
   "metadata": {
    "execution": {
     "iopub.execute_input": "2024-12-16T13:28:02.861777Z",
     "iopub.status.busy": "2024-12-16T13:28:02.861460Z",
     "iopub.status.idle": "2024-12-16T13:28:02.903803Z",
     "shell.execute_reply": "2024-12-16T13:28:02.902950Z",
     "shell.execute_reply.started": "2024-12-16T13:28:02.861744Z"
    },
    "trusted": true
   },
   "outputs": [
    {
     "data": {
      "text/html": [
       "<div>\n",
       "<style scoped>\n",
       "    .dataframe tbody tr th:only-of-type {\n",
       "        vertical-align: middle;\n",
       "    }\n",
       "\n",
       "    .dataframe tbody tr th {\n",
       "        vertical-align: top;\n",
       "    }\n",
       "\n",
       "    .dataframe thead th {\n",
       "        text-align: right;\n",
       "    }\n",
       "</style>\n",
       "<table border=\"1\" class=\"dataframe\">\n",
       "  <thead>\n",
       "    <tr style=\"text-align: right;\">\n",
       "      <th></th>\n",
       "      <th>img_id</th>\n",
       "      <th>target_feature</th>\n",
       "    </tr>\n",
       "  </thead>\n",
       "  <tbody>\n",
       "    <tr>\n",
       "      <th>0</th>\n",
       "      <td>17363</td>\n",
       "      <td>2</td>\n",
       "    </tr>\n",
       "    <tr>\n",
       "      <th>1</th>\n",
       "      <td>8612</td>\n",
       "      <td>5</td>\n",
       "    </tr>\n",
       "    <tr>\n",
       "      <th>2</th>\n",
       "      <td>8244</td>\n",
       "      <td>0</td>\n",
       "    </tr>\n",
       "    <tr>\n",
       "      <th>3</th>\n",
       "      <td>9264</td>\n",
       "      <td>0</td>\n",
       "    </tr>\n",
       "    <tr>\n",
       "      <th>4</th>\n",
       "      <td>5382</td>\n",
       "      <td>6</td>\n",
       "    </tr>\n",
       "  </tbody>\n",
       "</table>\n",
       "</div>"
      ],
      "text/plain": [
       "   img_id  target_feature\n",
       "0   17363               2\n",
       "1    8612               5\n",
       "2    8244               0\n",
       "3    9264               0\n",
       "4    5382               6"
      ]
     },
     "execution_count": 5,
     "metadata": {},
     "output_type": "execute_result"
    }
   ],
   "source": [
    "pd.read_csv('/kaggle/input/ml-intensive-yandex-academy-autumn-2024/human_poses_data/train_answers.csv').head()"
   ]
  },
  {
   "cell_type": "code",
   "execution_count": 3,
   "metadata": {
    "execution": {
     "iopub.execute_input": "2024-12-16T13:28:02.905507Z",
     "iopub.status.busy": "2024-12-16T13:28:02.905150Z",
     "iopub.status.idle": "2024-12-16T13:28:02.920755Z",
     "shell.execute_reply": "2024-12-16T13:28:02.919931Z",
     "shell.execute_reply.started": "2024-12-16T13:28:02.905469Z"
    },
    "trusted": true
   },
   "outputs": [
    {
     "data": {
      "text/html": [
       "<div>\n",
       "<style scoped>\n",
       "    .dataframe tbody tr th:only-of-type {\n",
       "        vertical-align: middle;\n",
       "    }\n",
       "\n",
       "    .dataframe tbody tr th {\n",
       "        vertical-align: top;\n",
       "    }\n",
       "\n",
       "    .dataframe thead th {\n",
       "        text-align: right;\n",
       "    }\n",
       "</style>\n",
       "<table border=\"1\" class=\"dataframe\">\n",
       "  <thead>\n",
       "    <tr style=\"text-align: right;\">\n",
       "      <th></th>\n",
       "      <th>id</th>\n",
       "      <th>category</th>\n",
       "    </tr>\n",
       "  </thead>\n",
       "  <tbody>\n",
       "    <tr>\n",
       "      <th>0</th>\n",
       "      <td>0</td>\n",
       "      <td>sports</td>\n",
       "    </tr>\n",
       "    <tr>\n",
       "      <th>1</th>\n",
       "      <td>1</td>\n",
       "      <td>inactivity quiet/light</td>\n",
       "    </tr>\n",
       "    <tr>\n",
       "      <th>2</th>\n",
       "      <td>2</td>\n",
       "      <td>miscellaneous</td>\n",
       "    </tr>\n",
       "    <tr>\n",
       "      <th>3</th>\n",
       "      <td>3</td>\n",
       "      <td>occupation</td>\n",
       "    </tr>\n",
       "    <tr>\n",
       "      <th>4</th>\n",
       "      <td>4</td>\n",
       "      <td>water activities</td>\n",
       "    </tr>\n",
       "  </tbody>\n",
       "</table>\n",
       "</div>"
      ],
      "text/plain": [
       "   id                category\n",
       "0   0                  sports\n",
       "1   1  inactivity quiet/light\n",
       "2   2           miscellaneous\n",
       "3   3              occupation\n",
       "4   4        water activities"
      ]
     },
     "execution_count": 3,
     "metadata": {},
     "output_type": "execute_result"
    }
   ],
   "source": [
    "categories = pd.read_csv('../data/activity_categories.csv')\n",
    "\n",
    "categories.head()"
   ]
  },
  {
   "cell_type": "code",
   "execution_count": 4,
   "metadata": {
    "execution": {
     "iopub.execute_input": "2024-12-16T13:28:02.921972Z",
     "iopub.status.busy": "2024-12-16T13:28:02.921730Z",
     "iopub.status.idle": "2024-12-16T13:28:02.925983Z",
     "shell.execute_reply": "2024-12-16T13:28:02.925064Z",
     "shell.execute_reply.started": "2024-12-16T13:28:02.921949Z"
    },
    "trusted": true
   },
   "outputs": [],
   "source": [
    "id_to_category = dict(zip(categories['id'], categories['category']))"
   ]
  },
  {
   "cell_type": "code",
   "execution_count": 5,
   "metadata": {
    "execution": {
     "iopub.execute_input": "2024-12-16T13:28:02.927264Z",
     "iopub.status.busy": "2024-12-16T13:28:02.927058Z",
     "iopub.status.idle": "2024-12-16T13:28:02.937134Z",
     "shell.execute_reply": "2024-12-16T13:28:02.936462Z",
     "shell.execute_reply.started": "2024-12-16T13:28:02.927243Z"
    },
    "trusted": true
   },
   "outputs": [],
   "source": [
    "class HumanPoseDataset(Dataset):\n",
    "    def __init__(self, img_dir, csv_file, transform=None):\n",
    "        \"\"\"\n",
    "        img_dir: Папка с изображениями (img_train).\n",
    "        csv_file: Путь к таблице с метками (например, 'train_answers.csv').\n",
    "        transform: Трансформации для предобработки изображений.\n",
    "        \"\"\"\n",
    "        self.img_dir = img_dir\n",
    "        self.files = os.listdir(self.img_dir)\n",
    "        self.labels = pd.read_csv(csv_file)  # Загружаем таблицу меток\n",
    "        self.transform = transform\n",
    "\n",
    "    def __len__(self):\n",
    "        return len(self.labels)\n",
    "\n",
    "    def __getitem__(self, idx):\n",
    "        # Достаем имя изображения и метку\n",
    "        img_id = self.files[idx]\n",
    "        img_id =img_id.split('.')[0]\n",
    "        # img_id1 = self.labels.iloc[idx, 0]  # img_id (имя изображения)\n",
    "        # label = self.labels.iloc[idx, 1]  # target_feature (метка)\n",
    "        label = self.labels.loc[self.labels['img_id'] == int(img_id), 'target_feature'].values[0]\n",
    "\n",
    "        # Загружаем изображение\n",
    "        # img_path = os.path.join(self.img_dir, 'aug_'+str(img_id)+'.jpg')\n",
    "        img_path = os.path.join(self.img_dir, str(img_id)+'.jpg')\n",
    "        image = Image.open(img_path).convert(\"RGB\")\n",
    "\n",
    "        # Применяем трансформации\n",
    "        if self.transform:\n",
    "            image = self.transform(image)\n",
    "\n",
    "        return image, label, img_id\n",
    "    \n",
    "    def __len__(self):\n",
    "        return len(self.files)\n"
   ]
  },
  {
   "cell_type": "markdown",
   "metadata": {},
   "source": [
    "# Создание папки с аугментированными изображениями и ответами к ним"
   ]
  },
  {
   "cell_type": "markdown",
   "metadata": {},
   "source": [
    "Перед аугментацией, разобъем наш датасет на две части"
   ]
  },
  {
   "cell_type": "code",
   "execution_count": 9,
   "metadata": {
    "execution": {
     "iopub.execute_input": "2024-12-16T13:28:02.938468Z",
     "iopub.status.busy": "2024-12-16T13:28:02.938225Z",
     "iopub.status.idle": "2024-12-16T13:28:02.952430Z",
     "shell.execute_reply": "2024-12-16T13:28:02.951626Z",
     "shell.execute_reply.started": "2024-12-16T13:28:02.938445Z"
    },
    "trusted": true
   },
   "outputs": [],
   "source": [
    "#Класс для разделения\n",
    "class SplitPFileToVal:\n",
    "    def __init__(self, path_to_dir, path_to_new_dir_val, path_to_new_dir_train, p:float):\n",
    "        \"\"\"\n",
    "        Создаёт 2 новые папки: Для валидации - % от всех изображений, для трейна - все остальное. \n",
    "        Нужно для отделения части датасета, для val данных\n",
    "\n",
    "        path_to_dir: Папка с изображениями. (img_train)\n",
    "        path_to_new_dir_val: Путь до новой папки, можно не создавать вручную.\n",
    "        path_to_new_dir_train: Путь до новой папки, можно не создавать вручную.\n",
    "        p: % изображений, которые будут отделены для валидационного датасета\n",
    "        \"\"\"\n",
    "\n",
    "        #Проверка, введеного %\n",
    "        if not isinstance(p, float):\n",
    "            raise TypeError(\"% должен быть float\")\n",
    "        if p <= 0 or p > 1:\n",
    "            raise ValueError(\"% должен быть в диапозоне: 0 < p <= 1\")\n",
    "        self.p = p\n",
    "\n",
    "        self.path_to_dir = path_to_dir\n",
    "        self.files = os.listdir(self.path_to_dir)\n",
    "        self.path_to_new_dir_val = path_to_new_dir_val\n",
    "        self.path_to_new_dir_train = path_to_new_dir_train\n",
    "\n",
    "\n",
    "\n",
    "        # Создаем папки для сохранения\n",
    "        if os.path.exists(path_to_new_dir_val):\n",
    "            shutil.rmtree(path_to_new_dir_val)  # Удаляем папку, если она уже существует\n",
    "        os.makedirs(path_to_new_dir_val, exist_ok=True)\n",
    "\n",
    "        if os.path.exists(path_to_new_dir_train):\n",
    "            shutil.rmtree(path_to_new_dir_train)  # Удаляем папку, если она уже существует\n",
    "        os.makedirs(path_to_new_dir_train, exist_ok=True)\n",
    "\n",
    "    def split(self):\n",
    "        len_val = int(len(self.files)*self.p)\n",
    "        len_train = len(self.files) - len_val\n",
    "        with tqdm(total=len_val, desc=\"Отделение валидационных данных\", unit=\"img\") as pbar:\n",
    "            for _ in range(len_val):\n",
    "                idx = random.randint(0, len(self.files) - 1)\n",
    "                file = self.files[idx]\n",
    "                path_to_file = self.path_to_dir+f'/{file}'\n",
    "                shutil.copy(path_to_file, self.path_to_new_dir_val+f'/{file}')\n",
    "                self.files.pop(idx)\n",
    "\n",
    "                pbar.update(1)\n",
    "\n",
    "        with tqdm(total=len_train, desc=\"Отделение тренировочных данных\", unit=\"img\") as pbar:\n",
    "            for _ in range(len_train):\n",
    "                idx = random.randint(0, len(self.files) - 1)\n",
    "                file = self.files[idx]\n",
    "                path_to_file = self.path_to_dir+f'/{file}'\n",
    "                shutil.copy(path_to_file, self.path_to_new_dir_train+f'/{file}')\n",
    "                self.files.pop(idx)\n",
    "                \n",
    "                pbar.update(1)\n",
    "\n",
    "        print(f\"\\nОтделено {len_val} изображений, для валидации в папку: {self.path_to_new_dir_val}\")\n",
    "        print(f\"Отделено {len_train} изображений, для тренировки в папку: {self.path_to_new_dir_train}\")\n",
    "\n"
   ]
  },
  {
   "cell_type": "code",
   "execution_count": 10,
   "metadata": {
    "execution": {
     "iopub.execute_input": "2024-12-16T13:28:02.955441Z",
     "iopub.status.busy": "2024-12-16T13:28:02.955176Z",
     "iopub.status.idle": "2024-12-16T13:31:26.406647Z",
     "shell.execute_reply": "2024-12-16T13:31:26.405805Z",
     "shell.execute_reply.started": "2024-12-16T13:28:02.955415Z"
    },
    "trusted": true
   },
   "outputs": [
    {
     "name": "stderr",
     "output_type": "stream",
     "text": [
      "Отделение валидационных данных: 100%|██████████| 1236/1236 [00:19<00:00, 63.42img/s]\n",
      "Отделение тренировочных данных: 100%|██████████| 11131/11131 [03:03<00:00, 60.67img/s]"
     ]
    },
    {
     "name": "stdout",
     "output_type": "stream",
     "text": [
      "\n",
      "Отделено 1236 изображений, для валидации в папку: /kaggle/working/data/val_dataset\n",
      "Отделено 11131 изображений, для тренировки в папку: /kaggle/working/data/train_dataset\n"
     ]
    },
    {
     "name": "stderr",
     "output_type": "stream",
     "text": [
      "\n"
     ]
    }
   ],
   "source": [
    "#Использование разделения\n",
    "spliter = SplitPFileToVal(\n",
    "    path_to_dir='/kaggle/input/ml-intensive-yandex-academy-autumn-2024/human_poses_data/img_train',\n",
    "    path_to_new_dir_val='/kaggle/working/data/val_dataset',\n",
    "    path_to_new_dir_train='/kaggle/working/data/train_dataset',\n",
    "    p=0.1\n",
    ")\n",
    "\n",
    "spliter.split()"
   ]
  },
  {
   "cell_type": "code",
   "execution_count": 11,
   "metadata": {
    "execution": {
     "iopub.execute_input": "2024-12-16T13:31:26.408721Z",
     "iopub.status.busy": "2024-12-16T13:31:26.408223Z",
     "iopub.status.idle": "2024-12-16T13:31:26.419470Z",
     "shell.execute_reply": "2024-12-16T13:31:26.418708Z",
     "shell.execute_reply.started": "2024-12-16T13:31:26.408681Z"
    },
    "trusted": true
   },
   "outputs": [],
   "source": [
    "#Класс для создания аугментаций\n",
    "class AugmentedDatasetSaver:\n",
    "    def __init__(self, original_train_dataset, csv_path, augmentation_transform, new_train_dataset_path, output_csv_path, augment_count):\n",
    "        \"\"\"\n",
    "        Создает и сохраняет аугментированный датасет из тренировочного.\n",
    "        Также создает csv с ответами на аугментированный датасет, сохраняет ответы из train_answers\n",
    "\n",
    "        original_train_dataset: Исходный датасет (torch Dataset).\n",
    "        csv_path: путь к csv с ответами\n",
    "        augmentation_transform: Трансформации для аугментации.\n",
    "        new_train_dataset_path: Папка, куда будут сохранены данные.\n",
    "        output_csv_path: Путь, куда будет сохранена csv\n",
    "        augment_count: Количество аугментированных изображений, которые нужно создать.\n",
    "        \"\"\"\n",
    "        self.original_train_dataset_path = original_train_dataset\n",
    "        self.augmentation_transform = augmentation_transform\n",
    "        self.new_train_dataset_path = new_train_dataset_path\n",
    "        self.output_csv_path = output_csv_path\n",
    "        self.original_labels = pd.read_csv(csv_path)\n",
    "\n",
    "        \n",
    "        if augment_count >= len(original_train_dataset):\n",
    "            print(\"Введеный augment_count > длины датасета\")\n",
    "        self.augment_count = augment_count\n",
    "\n",
    "\n",
    "        # Создаем папку для сохранения\n",
    "        if os.path.exists(new_train_dataset_path):\n",
    "            shutil.rmtree(new_train_dataset_path)  # Удаляем папку, если она уже существует\n",
    "        os.makedirs(new_train_dataset_path, exist_ok=True)\n",
    "\n",
    "    def save(self):\n",
    "        new_entries = []\n",
    "        max_id = self.original_labels['img_id'].max()\n",
    "        with tqdm(total=self.augment_count, desc=\"Создание аугментированных данных\", unit=\"img\") as pbar:\n",
    "            for i in range(self.augment_count):\n",
    "                # Выбираем случайное изображение из оригинального датасета\n",
    "                image, label, img_id = random.choice(self.original_train_dataset_path)\n",
    "\n",
    "                # Преобразуем в тензор, если это PIL.Image\n",
    "                if not isinstance(image, Image.Image):\n",
    "                    raise ValueError(f\"Unsupported image format: {type(image)}\")\n",
    "\n",
    "                # Применяем аугментацию\n",
    "                augmented_image = self.augmentation_transform(image)\n",
    "\n",
    "                \n",
    "\n",
    "                # Генерируем имя файла, сохраняя оригинальное имя с префиксом\n",
    "                img_id = max_id+i+1\n",
    "\n",
    "                new_entries.append({'img_id': int(img_id), 'target_feature': label})\n",
    "\n",
    "                img_save_path = os.path.join(self.new_train_dataset_path, f\"{img_id}.jpg\")\n",
    "\n",
    "                # Преобразуем аугментированный тензор обратно в PIL.Image и сохраняем\n",
    "                augmented_image = transforms.ToPILImage()(augmented_image)  # Перевод тензора в PIL\n",
    "                augmented_image.save(img_save_path)\n",
    "\n",
    "                pbar.update(1)\n",
    "        # Создание DataFrame для новых данных\n",
    "        augmented_df = pd.DataFrame(new_entries)\n",
    "        combined_df = pd.concat([self.original_labels, augmented_df], ignore_index=True)\n",
    "        combined_df.to_csv(self.output_csv_path, index=False)\n",
    "        \n",
    "        print(f\"CSV файл с метками успешно сохранён в: {self.output_csv_path}\")\n",
    "        print(f\"\\nСохранено {self.augment_count} аугментированных изображений в папке: {self.new_train_dataset_path}\")\n"
   ]
  },
  {
   "cell_type": "code",
   "execution_count": 12,
   "metadata": {
    "execution": {
     "iopub.execute_input": "2024-12-16T13:31:26.420635Z",
     "iopub.status.busy": "2024-12-16T13:31:26.420369Z",
     "iopub.status.idle": "2024-12-16T13:31:26.435536Z",
     "shell.execute_reply": "2024-12-16T13:31:26.434714Z",
     "shell.execute_reply.started": "2024-12-16T13:31:26.420607Z"
    },
    "trusted": true
   },
   "outputs": [],
   "source": [
    "#transform для аугментации\n",
    "augmentation_transform = transforms.Compose([\n",
    "    transforms.RandomResizedCrop(size=227, scale=(0.8, 1.0)), \n",
    "    transforms.RandomHorizontalFlip(p=0.5),\n",
    "    transforms.ColorJitter(brightness=0.2, contrast=0.2, saturation=0.2, hue=0.1),\n",
    "    transforms.RandomRotation(degrees=25), \n",
    "    transforms.ToTensor(),  # Преобразование в тензор для работы с RandomErasing\n",
    "    transforms.RandomErasing(p=0.3, scale=(0.02, 0.15), ratio=(0.3, 3.3))\n",
    "])"
   ]
  },
  {
   "cell_type": "code",
   "execution_count": 13,
   "metadata": {
    "execution": {
     "iopub.execute_input": "2024-12-16T13:31:26.436947Z",
     "iopub.status.busy": "2024-12-16T13:31:26.436632Z",
     "iopub.status.idle": "2024-12-16T13:31:26.463299Z",
     "shell.execute_reply": "2024-12-16T13:31:26.462693Z",
     "shell.execute_reply.started": "2024-12-16T13:31:26.436911Z"
    },
    "trusted": true
   },
   "outputs": [],
   "source": [
    "# Загружаем датасет, для тренировки\n",
    "original_traint_dataset = HumanPoseDataset(\n",
    "    img_dir='/kaggle/working/data/train_dataset',\n",
    "    csv_file='/kaggle/input/ml-intensive-yandex-academy-autumn-2024/human_poses_data/train_answers.csv',\n",
    "    transform=None  # Оставляем без изменений\n",
    ")\n",
    "\n",
    "# Папка для сохранения аугментированного датасета\n",
    "save_dir = \"/kaggle/working/data/augmented_only_dataset\"\n",
    "\n",
    "# Количество аугментированных изображений\n",
    "augment_count = 11000 \n",
    "\n",
    "# Создаем и сохраняем \n",
    "dataset_saver = AugmentedDatasetSaver(\n",
    "    original_train_dataset=original_traint_dataset,\n",
    "    augmentation_transform=augmentation_transform,\n",
    "    csv_path='/kaggle/input/ml-intensive-yandex-academy-autumn-2024/human_poses_data/train_answers.csv',\n",
    "    new_train_dataset_path=save_dir,\n",
    "    augment_count=augment_count,\n",
    "    output_csv_path='/kaggle/working/data/augmented_train_answers.csv'\n",
    ")"
   ]
  },
  {
   "cell_type": "code",
   "execution_count": 14,
   "metadata": {
    "execution": {
     "iopub.execute_input": "2024-12-16T13:31:26.464524Z",
     "iopub.status.busy": "2024-12-16T13:31:26.464271Z",
     "iopub.status.idle": "2024-12-16T13:36:18.413272Z",
     "shell.execute_reply": "2024-12-16T13:36:18.412361Z",
     "shell.execute_reply.started": "2024-12-16T13:31:26.464499Z"
    },
    "trusted": true
   },
   "outputs": [
    {
     "name": "stderr",
     "output_type": "stream",
     "text": [
      "Создание аугментированных данных: 100%|██████████| 11000/11000 [04:51<00:00, 37.69img/s]"
     ]
    },
    {
     "name": "stdout",
     "output_type": "stream",
     "text": [
      "CSV файл с метками успешно сохранён в: /kaggle/working/data/augmented_train_answers.csv\n",
      "\n",
      "Сохранено 11000 аугментированных изображений в папке: /kaggle/working/data/augmented_only_dataset\n"
     ]
    },
    {
     "name": "stderr",
     "output_type": "stream",
     "text": [
      "\n"
     ]
    }
   ],
   "source": [
    "# Создание аугментированных файлов\n",
    "dataset_saver.save()"
   ]
  },
  {
   "cell_type": "markdown",
   "metadata": {},
   "source": [
    "Проверка, что все создалось в нужном кол-ве"
   ]
  },
  {
   "cell_type": "code",
   "execution_count": 15,
   "metadata": {
    "execution": {
     "iopub.execute_input": "2024-12-16T13:36:18.414807Z",
     "iopub.status.busy": "2024-12-16T13:36:18.414449Z",
     "iopub.status.idle": "2024-12-16T13:36:18.426315Z",
     "shell.execute_reply": "2024-12-16T13:36:18.425613Z",
     "shell.execute_reply.started": "2024-12-16T13:36:18.414769Z"
    },
    "trusted": true
   },
   "outputs": [
    {
     "name": "stdout",
     "output_type": "stream",
     "text": [
      "OK\n"
     ]
    }
   ],
   "source": [
    "line_count = sum(1 for line in open('/kaggle/working/data/augmented_train_answers.csv')) - sum(1 for line in open('/kaggle/input/ml-intensive-yandex-academy-autumn-2024/human_poses_data/train_answers.csv'))\n",
    "if augment_count == line_count:\n",
    "    print('OK')\n",
    "else:\n",
    "    print(f'Ожидалось {augment_count}(augment_count)\\n Получилось {line_count}(line_count)')"
   ]
  },
  {
   "cell_type": "code",
   "execution_count": 16,
   "metadata": {
    "execution": {
     "iopub.execute_input": "2024-12-16T13:36:18.427471Z",
     "iopub.status.busy": "2024-12-16T13:36:18.427220Z",
     "iopub.status.idle": "2024-12-16T13:36:18.440741Z",
     "shell.execute_reply": "2024-12-16T13:36:18.439954Z",
     "shell.execute_reply.started": "2024-12-16T13:36:18.427443Z"
    },
    "trusted": true
   },
   "outputs": [
    {
     "name": "stdout",
     "output_type": "stream",
     "text": [
      "OK\n"
     ]
    }
   ],
   "source": [
    "aug_file_count = len(os.listdir(\"/kaggle/working/data/augmented_only_dataset\"))\n",
    "if augment_count == aug_file_count:\n",
    "    print('OK')\n",
    "else:\n",
    "    print(f'Ожидалось {augment_count}(augment_count)\\n Получилось {aug_file_count}(aug_file_count)')"
   ]
  },
  {
   "cell_type": "markdown",
   "metadata": {},
   "source": [
    "## Cоединение папки с аугментированными картинками и тренировочным датасетом в новую папку."
   ]
  },
  {
   "cell_type": "markdown",
   "metadata": {},
   "source": [
    "Удаляет папку по пути, который указан в path_augmented_only_dataset"
   ]
  },
  {
   "cell_type": "code",
   "execution_count": 17,
   "metadata": {
    "execution": {
     "iopub.execute_input": "2024-12-16T13:36:18.442167Z",
     "iopub.status.busy": "2024-12-16T13:36:18.441897Z",
     "iopub.status.idle": "2024-12-16T13:36:18.450049Z",
     "shell.execute_reply": "2024-12-16T13:36:18.449158Z",
     "shell.execute_reply.started": "2024-12-16T13:36:18.442138Z"
    },
    "trusted": true
   },
   "outputs": [],
   "source": [
    "def merge_folders(path_train_dataset, path_augmented_only_dataset, path_destination_folder):\n",
    "    \"\"\"\n",
    "    Объединяет две папки с картинками в одну. УДАЛЯЕТ папку path_augmented_only_dataset\n",
    "\n",
    "    :param path_train_dataset: Путь к первой исходной папке\n",
    "    :param source_folder2: Путь ко второй исходной папке\n",
    "    :param destination_folder: Путь к папке назначения\n",
    "    \"\"\"\n",
    "    # Создаем папку назначения, если она не существует\n",
    "    if os.path.exists(path_destination_folder):\n",
    "        shutil.rmtree(path_destination_folder)  # Удаляем папку, если она уже существует\n",
    "    os.makedirs(path_destination_folder, exist_ok=True)\n",
    "    \n",
    "    # Функция для копирования файлов из папки\n",
    "    def copy_files_from_folder(folder):\n",
    "        with tqdm(total=len(os.listdir(folder)), desc=f\"Копирование из {folder}\", unit=\"img\") as pbar:\n",
    "            for file_name in os.listdir(folder):\n",
    "                source_path = os.path.join(folder, file_name)\n",
    "                dest_path = os.path.join(path_destination_folder, file_name)\n",
    "                \n",
    "                # Проверяем, является ли элемент файлом\n",
    "                if os.path.isfile(source_path):\n",
    "                    if os.path.exists(dest_path):\n",
    "                        raise KeyError('файл с таким именем уже существует в папке назначения')\n",
    "                    shutil.copy2(source_path, dest_path)\n",
    "                pbar.update(1)\n",
    "    \n",
    "    # Копируем файлы из обеих папок\n",
    "    copy_files_from_folder(path_train_dataset)\n",
    "    copy_files_from_folder(path_augmented_only_dataset)\n",
    "    #Удаляем папку с аугментацией\n",
    "    shutil.rmtree(path_augmented_only_dataset)"
   ]
  },
  {
   "cell_type": "code",
   "execution_count": 18,
   "metadata": {
    "execution": {
     "iopub.execute_input": "2024-12-16T13:36:18.451253Z",
     "iopub.status.busy": "2024-12-16T13:36:18.450933Z",
     "iopub.status.idle": "2024-12-16T13:36:18.462786Z",
     "shell.execute_reply": "2024-12-16T13:36:18.462096Z",
     "shell.execute_reply.started": "2024-12-16T13:36:18.451227Z"
    },
    "trusted": true
   },
   "outputs": [],
   "source": [
    "path_train_dataset = '/kaggle/working/data/train_dataset'\n",
    "path_augmented_only_dataset = \"/kaggle/working/data/augmented_only_dataset\"\n",
    "destination_folder = \"/kaggle/working/data/augmented_and_train_dataset\""
   ]
  },
  {
   "cell_type": "code",
   "execution_count": 19,
   "metadata": {
    "execution": {
     "iopub.execute_input": "2024-12-16T13:36:18.463942Z",
     "iopub.status.busy": "2024-12-16T13:36:18.463701Z",
     "iopub.status.idle": "2024-12-16T13:36:28.965030Z",
     "shell.execute_reply": "2024-12-16T13:36:28.964276Z",
     "shell.execute_reply.started": "2024-12-16T13:36:18.463914Z"
    },
    "trusted": true
   },
   "outputs": [
    {
     "name": "stderr",
     "output_type": "stream",
     "text": [
      "Копирование из /kaggle/working/data/train_dataset: 100%|██████████| 11131/11131 [00:08<00:00, 1278.64img/s]\n",
      "Копирование из /kaggle/working/data/augmented_only_dataset: 100%|██████████| 11000/11000 [00:01<00:00, 7548.67img/s]\n"
     ]
    }
   ],
   "source": [
    "merge_folders(path_train_dataset, path_augmented_only_dataset, destination_folder)"
   ]
  },
  {
   "cell_type": "code",
   "execution_count": 20,
   "metadata": {
    "execution": {
     "iopub.execute_input": "2024-12-16T13:36:28.966229Z",
     "iopub.status.busy": "2024-12-16T13:36:28.965997Z",
     "iopub.status.idle": "2024-12-16T13:36:28.988004Z",
     "shell.execute_reply": "2024-12-16T13:36:28.987302Z",
     "shell.execute_reply.started": "2024-12-16T13:36:28.966205Z"
    },
    "trusted": true
   },
   "outputs": [
    {
     "name": "stdout",
     "output_type": "stream",
     "text": [
      "OK\n"
     ]
    }
   ],
   "source": [
    "expected_count = aug_file_count+len(os.listdir(\"/kaggle/working/data/train_dataset\"))\n",
    "quantity_count = len(os.listdir(\"/kaggle/working/data/augmented_and_train_dataset\"))\n",
    "if expected_count == quantity_count:\n",
    "    print('OK')\n",
    "else:\n",
    "    print(f'Ожидалось {expected_count}(expected_count)\\n Получилось {quantity_count}(quantity_count)')"
   ]
  },
  {
   "cell_type": "markdown",
   "metadata": {},
   "source": [
    "По итогу получилось:   \n",
    "папка img_train -- картинки в оригинале,  \n",
    "папка train_dataset -- часть датасета, для обучения,  \n",
    "папка val_dataset -- часть датасета, для валидации,   \n",
    "папка augmented_and_train_dataset -- augmented_only_dataset+img_train,   \n",
    "augmented_train_answers.csv -- ответы на все папки  "
   ]
  },
  {
   "cell_type": "markdown",
   "metadata": {},
   "source": [
    "# Начало работы с моделью"
   ]
  },
  {
   "cell_type": "code",
   "execution_count": 21,
   "metadata": {
    "execution": {
     "iopub.execute_input": "2024-12-16T13:36:28.989095Z",
     "iopub.status.busy": "2024-12-16T13:36:28.988873Z",
     "iopub.status.idle": "2024-12-16T13:36:45.222402Z",
     "shell.execute_reply": "2024-12-16T13:36:45.220537Z",
     "shell.execute_reply.started": "2024-12-16T13:36:28.989072Z"
    },
    "trusted": true
   },
   "outputs": [],
   "source": [
    "# RANDOM_SEED = 52\n",
    "# generator = torch.Generator().manual_seed(RANDOM_SEED)"
   ]
  },
  {
   "cell_type": "code",
   "execution_count": 22,
   "metadata": {
    "execution": {
     "iopub.execute_input": "2024-12-16T13:36:45.224048Z",
     "iopub.status.busy": "2024-12-16T13:36:45.223629Z",
     "iopub.status.idle": "2024-12-16T13:36:45.247935Z",
     "shell.execute_reply": "2024-12-16T13:36:45.247100Z",
     "shell.execute_reply.started": "2024-12-16T13:36:45.224005Z"
    },
    "trusted": true
   },
   "outputs": [
    {
     "name": "stdout",
     "output_type": "stream",
     "text": [
      "Available CPU cores: 4\n"
     ]
    }
   ],
   "source": [
    "print(f\"Available CPU cores: {os.cpu_count()}\")"
   ]
  },
  {
   "cell_type": "code",
   "execution_count": 6,
   "metadata": {
    "execution": {
     "iopub.execute_input": "2024-12-16T13:36:45.249180Z",
     "iopub.status.busy": "2024-12-16T13:36:45.248949Z",
     "iopub.status.idle": "2024-12-16T13:36:45.258212Z",
     "shell.execute_reply": "2024-12-16T13:36:45.257466Z",
     "shell.execute_reply.started": "2024-12-16T13:36:45.249157Z"
    },
    "trusted": true
   },
   "outputs": [],
   "source": [
    "# transform_train = transforms.Compose([\n",
    "#     transforms.Resize((227, 227)), # тк в ауг датасете есть фото без аугментации\n",
    "#     transforms.ToTensor(),\n",
    "#     transforms.Normalize(mean=[0.485, 0.456, 0.406],\n",
    "#                          std=[0.229, 0.224, 0.225])\n",
    "# ])\n",
    "\n",
    "transform = transforms.Compose([\n",
    "    transforms.Resize((227, 227)),  # Изменяем размер изображений\n",
    "    transforms.ToTensor(),\n",
    "    transforms.Normalize(mean=[0.485, 0.456, 0.406],\n",
    "                         std=[0.229, 0.224, 0.225])\n",
    "])"
   ]
  },
  {
   "cell_type": "code",
   "execution_count": 7,
   "metadata": {
    "execution": {
     "iopub.execute_input": "2024-12-16T13:36:45.259319Z",
     "iopub.status.busy": "2024-12-16T13:36:45.259072Z",
     "iopub.status.idle": "2024-12-16T13:36:45.290807Z",
     "shell.execute_reply": "2024-12-16T13:36:45.290117Z",
     "shell.execute_reply.started": "2024-12-16T13:36:45.259276Z"
    },
    "trusted": true
   },
   "outputs": [],
   "source": [
    "val_dataset = HumanPoseDataset(\n",
    "    img_dir='../data/val_dataset',\n",
    "    csv_file='../data/train_answers.csv',\n",
    "    transform=transform\n",
    ")\n",
    "\n",
    "train_dataset = HumanPoseDataset(\n",
    "    img_dir='../data/augmented_and_train_dataset',\n",
    "    csv_file='../data/augmented_train_answers.csv',\n",
    "    transform=transform\n",
    ")\n",
    "\n",
    "\n",
    "\n",
    "# train_dataset, _ = random_split(dataset_train, [int(0.9*len(dataset_train)), len(dataset_train) - int(0.9*len(dataset_train))], generator)\n",
    "# _, val_dataset = random_split(dataset_val, [int(0.9*len(dataset_val)), len(dataset_val) - int(0.9*len(dataset_val))], generator)"
   ]
  },
  {
   "cell_type": "code",
   "execution_count": 8,
   "metadata": {
    "execution": {
     "iopub.execute_input": "2024-12-16T13:36:45.291927Z",
     "iopub.status.busy": "2024-12-16T13:36:45.291678Z",
     "iopub.status.idle": "2024-12-16T13:36:45.317803Z",
     "shell.execute_reply": "2024-12-16T13:36:45.317008Z",
     "shell.execute_reply.started": "2024-12-16T13:36:45.291902Z"
    },
    "trusted": true
   },
   "outputs": [
    {
     "name": "stdout",
     "output_type": "stream",
     "text": [
      "Train class counts:\n",
      "{0: 4764, 1: 273, 2: 1053, 3: 3197, 4: 1386, 5: 1864, 6: 1527, 8: 990, 9: 2305, 10: 739, 11: 984, 12: 892, 13: 821, 14: 419, 16: 1428, 18: 725}\n",
      "Validation class counts:\n",
      "{0: 2512, 1: 135, 2: 530, 3: 1680, 4: 752, 5: 982, 6: 800, 8: 533, 9: 1223, 10: 390, 11: 528, 12: 469, 13: 442, 14: 228, 16: 753, 18: 410}\n"
     ]
    }
   ],
   "source": [
    "import pandas as pd\n",
    "\n",
    "# Загрузим CSV-файлы для валидационного и тренировочного датасетов\n",
    "val_labels_df = pd.read_csv('../data/train_answers.csv')\n",
    "train_labels_df = pd.read_csv('../data/augmented_train_answers.csv')\n",
    "\n",
    "# Предположим, что метки классов в этих датафреймах хранятся в колонке 'label' или другой\n",
    "# Замените 'label' на название колонки с метками в вашем случае\n",
    "val_labels = val_labels_df['target_feature'].values\n",
    "train_labels = train_labels_df['target_feature'].values\n",
    "\n",
    "# Подсчитаем количество примеров для каждого класса в тренировочном датасете\n",
    "train_class_counts = pd.Series(train_labels).value_counts().sort_index().to_dict()\n",
    "\n",
    "# Подсчитаем количество примеров для каждого класса в валидационном датасете\n",
    "val_class_counts = pd.Series(val_labels).value_counts().sort_index().to_dict()\n",
    "\n",
    "# Выведем количество примеров для каждого класса\n",
    "print(f\"Train class counts:\\n{train_class_counts}\")\n",
    "print(f\"Validation class counts:\\n{val_class_counts}\")\n"
   ]
  },
  {
   "cell_type": "code",
   "execution_count": null,
   "metadata": {
    "trusted": true
   },
   "outputs": [],
   "source": []
  },
  {
   "cell_type": "code",
   "execution_count": 9,
   "metadata": {
    "execution": {
     "iopub.execute_input": "2024-12-16T13:36:45.319085Z",
     "iopub.status.busy": "2024-12-16T13:36:45.318842Z",
     "iopub.status.idle": "2024-12-16T13:36:45.324368Z",
     "shell.execute_reply": "2024-12-16T13:36:45.323492Z",
     "shell.execute_reply.started": "2024-12-16T13:36:45.319061Z"
    },
    "trusted": true
   },
   "outputs": [
    {
     "name": "stdout",
     "output_type": "stream",
     "text": [
      "Train class weights: {0: 4.904911838790932, 1: 85.5934065934066, 2: 22.19088319088319, 3: 7.309039724741946, 4: 16.85930735930736, 5: 12.535944206008583, 6: 15.302554027504911, 8: 23.6030303030303, 9: 10.137527114967462, 10: 31.619756427604873, 11: 23.746951219512194, 12: 26.196188340807176, 13: 28.46163215590743, 14: 55.76849642004773, 16: 16.363445378151262, 18: 32.23034482758621}\n",
      "Validation class weights: {0: 4.923168789808917, 1: 91.60740740740741, 2: 23.333962264150944, 3: 7.361309523809524, 4: 16.445478723404257, 5: 12.59368635437882, 6: 15.45875, 8: 23.202626641651033, 9: 10.112019623875716, 10: 31.71025641025641, 11: 23.422348484848484, 12: 26.368869936034116, 13: 27.979638009049772, 14: 54.24122807017544, 16: 16.42363877822045, 18: 30.163414634146342}\n"
     ]
    }
   ],
   "source": [
    "total_train_samples = sum(train_class_counts.values())\n",
    "total_val_samples = sum(val_class_counts.values())\n",
    "\n",
    "# Веса для классов в тренировочном и валидационном датасетах\n",
    "train_class_weights = {k: total_train_samples / v for k, v in train_class_counts.items()}\n",
    "val_class_weights = {k: total_val_samples / v for k, v in val_class_counts.items()}\n",
    "\n",
    "# Выводим веса для классов\n",
    "print(\"Train class weights:\", train_class_weights)\n",
    "print(\"Validation class weights:\", val_class_weights)"
   ]
  },
  {
   "cell_type": "code",
   "execution_count": 27,
   "metadata": {
    "execution": {
     "iopub.execute_input": "2024-12-16T13:36:45.325803Z",
     "iopub.status.busy": "2024-12-16T13:36:45.325462Z",
     "iopub.status.idle": "2024-12-16T13:36:45.377140Z",
     "shell.execute_reply": "2024-12-16T13:36:45.376308Z",
     "shell.execute_reply.started": "2024-12-16T13:36:45.325768Z"
    },
    "trusted": true
   },
   "outputs": [
    {
     "data": {
      "text/plain": [
       "(tensor([[[-2.1179, -2.1179, -2.1179,  ..., -2.1179, -2.1179, -2.1179],\n",
       "          [-2.1179, -2.1179, -2.1179,  ..., -2.1179, -2.1179, -2.1179],\n",
       "          [-2.1179, -2.1179, -2.1179,  ..., -2.1179, -2.1179, -2.1179],\n",
       "          ...,\n",
       "          [-2.1179, -2.1179, -2.1179,  ..., -2.1179, -2.1179, -2.1179],\n",
       "          [-2.1179, -2.1179, -2.1179,  ..., -2.1179, -2.1179, -2.1179],\n",
       "          [-2.1179, -2.1179, -2.1179,  ..., -2.1179, -2.1179, -2.1179]],\n",
       " \n",
       "         [[-2.0357, -2.0357, -2.0357,  ..., -2.0357, -2.0357, -2.0357],\n",
       "          [-2.0357, -2.0357, -2.0357,  ..., -2.0357, -2.0357, -2.0357],\n",
       "          [-2.0357, -2.0357, -2.0357,  ..., -2.0357, -2.0357, -2.0357],\n",
       "          ...,\n",
       "          [-2.0357, -2.0357, -2.0357,  ..., -2.0357, -2.0357, -2.0357],\n",
       "          [-2.0357, -2.0357, -2.0357,  ..., -2.0357, -2.0357, -2.0357],\n",
       "          [-2.0357, -2.0357, -2.0357,  ..., -2.0357, -2.0357, -2.0357]],\n",
       " \n",
       "         [[-1.8044, -1.8044, -1.8044,  ..., -1.8044, -1.8044, -1.8044],\n",
       "          [-1.8044, -1.8044, -1.8044,  ..., -1.8044, -1.8044, -1.8044],\n",
       "          [-1.8044, -1.8044, -1.8044,  ..., -1.8044, -1.8044, -1.8044],\n",
       "          ...,\n",
       "          [-1.8044, -1.8044, -1.8044,  ..., -1.8044, -1.8044, -1.8044],\n",
       "          [-1.8044, -1.8044, -1.8044,  ..., -1.8044, -1.8044, -1.8044],\n",
       "          [-1.8044, -1.8044, -1.8044,  ..., -1.8044, -1.8044, -1.8044]]]),\n",
       " 0,\n",
       " '28290')"
      ]
     },
     "execution_count": 27,
     "metadata": {},
     "output_type": "execute_result"
    }
   ],
   "source": [
    "train_dataset[0]"
   ]
  },
  {
   "cell_type": "code",
   "execution_count": 28,
   "metadata": {
    "execution": {
     "iopub.execute_input": "2024-12-16T13:36:45.382333Z",
     "iopub.status.busy": "2024-12-16T13:36:45.381783Z",
     "iopub.status.idle": "2024-12-16T13:36:45.387655Z",
     "shell.execute_reply": "2024-12-16T13:36:45.386778Z",
     "shell.execute_reply.started": "2024-12-16T13:36:45.382301Z"
    },
    "trusted": true
   },
   "outputs": [],
   "source": [
    "# Функция для отображения изображений с подписями\n",
    "def show_images_with_labels(dataset, id_to_category, num_images=10):\n",
    "    fig, axes = plt.subplots(1, num_images, figsize=(20, 5))\n",
    "    for i in range(num_images):\n",
    "        # Достаем изображение и метку\n",
    "        image, label, img_id= dataset[i]\n",
    "        # img_name = dataset.labels.iloc[i, 0]  # Имя файла\n",
    "\n",
    "        # Декодируем метку в категорию\n",
    "        category = id_to_category[label] if id_to_category else label\n",
    "\n",
    "        # # Отображаем изображение\n",
    "        axes[i].imshow(image.permute(1, 2, 0))  # Преобразуем тензор в (H, W, C)"
   ]
  },
  {
   "cell_type": "code",
   "execution_count": 29,
   "metadata": {
    "execution": {
     "iopub.execute_input": "2024-12-16T13:36:45.388843Z",
     "iopub.status.busy": "2024-12-16T13:36:45.388510Z",
     "iopub.status.idle": "2024-12-16T13:36:46.653173Z",
     "shell.execute_reply": "2024-12-16T13:36:46.652238Z",
     "shell.execute_reply.started": "2024-12-16T13:36:45.388806Z"
    },
    "trusted": true
   },
   "outputs": [
    {
     "data": {
      "image/png": "[encoded data removed]",
      "text/plain": [
       "<Figure size 2000x500 with 10 Axes>"
      ]
     },
     "metadata": {},
     "output_type": "display_data"
    }
   ],
   "source": [
    "# Вывести первые 5 изображений в одну строку\n",
    "show_images_with_labels(train_dataset, id_to_category, 10)"
   ]
  },
  {
   "cell_type": "markdown",
   "metadata": {},
   "source": [
    "# Архитектуры"
   ]
  },
  {
   "cell_type": "code",
   "execution_count": 30,
   "metadata": {
    "execution": {
     "iopub.execute_input": "2024-12-16T13:36:46.654886Z",
     "iopub.status.busy": "2024-12-16T13:36:46.654558Z",
     "iopub.status.idle": "2024-12-16T13:36:46.671643Z",
     "shell.execute_reply": "2024-12-16T13:36:46.670914Z",
     "shell.execute_reply.started": "2024-12-16T13:36:46.654858Z"
    },
    "trusted": true
   },
   "outputs": [],
   "source": [
    "class Mish(nn.Module):\n",
    "    def forward(self, x):\n",
    "        return x * torch.tanh(nn.functional.softplus(x))\n",
    "\n",
    "class SEBlock(nn.Module):\n",
    "    def __init__(self, channels, reduction=16):\n",
    "        super(SEBlock, self).__init__()\n",
    "        self.fc1 = nn.Linear(channels, channels // reduction, bias=False)\n",
    "        self.relu = nn.ReLU(inplace=True)\n",
    "        self.fc2 = nn.Linear(channels // reduction, channels, bias=False)\n",
    "        self.sigmoid = nn.Sigmoid()\n",
    "\n",
    "    def forward(self, x):\n",
    "        b, c, _, _ = x.size()\n",
    "        y = x.view(b, c, -1).mean(dim=2)\n",
    "        y = self.fc1(y)\n",
    "        y = self.relu(y)\n",
    "        y = self.fc2(y)\n",
    "        y = self.sigmoid(y).view(b, c, 1, 1)\n",
    "        return x * y\n",
    "\n",
    "class ResidualBlock(nn.Module):\n",
    "    def __init__(self, in_channels, out_channels, stride=1, downsample=None, dropout_prob=0.3):\n",
    "        super(ResidualBlock, self).__init__()\n",
    "        self.conv1 = nn.Conv2d(in_channels, out_channels, kernel_size=3, stride=stride, padding=1, bias=False)\n",
    "        self.mish = Mish()\n",
    "        self.group_norm1 = nn.GroupNorm(32, out_channels)\n",
    "        self.dropout1 = nn.Dropout2d(p=dropout_prob)\n",
    "\n",
    "        self.conv2 = nn.Conv2d(out_channels, out_channels, kernel_size=3, stride=1, padding=1, bias=False)\n",
    "        self.group_norm2 = nn.GroupNorm(32, out_channels)\n",
    "        self.dropout2 = nn.Dropout2d(p=dropout_prob)\n",
    "\n",
    "        self.se_block = SEBlock(out_channels)\n",
    "        self.downsample = downsample\n",
    "\n",
    "    def forward(self, x):\n",
    "        identity = x\n",
    "        if self.downsample:\n",
    "            identity = self.downsample(x)\n",
    "\n",
    "        out = self.conv1(x)\n",
    "        out = self.mish(out)\n",
    "        out = self.group_norm1(out)\n",
    "        out = self.dropout1(out)\n",
    "\n",
    "        out = self.conv2(out)\n",
    "        out = self.mish(out)\n",
    "        out = self.group_norm2(out)\n",
    "        out = self.dropout2(out)\n",
    "\n",
    "        out = self.se_block(out)\n",
    "        out += identity\n",
    "        out = self.mish(out)\n",
    "        return out\n",
    "\n",
    "class UpdatedResNet(nn.Module):\n",
    "    def __init__(self, block, layers, num_classes=20, dropout_prob=0.5):\n",
    "        super(UpdatedResNet, self).__init__()\n",
    "        self.in_channels = 64\n",
    "\n",
    "        self.conv1 = nn.Conv2d(3, 64, kernel_size=7, stride=2, padding=3, bias=False)\n",
    "        self.mish = Mish()\n",
    "        self.group_norm = nn.GroupNorm(32, 64)\n",
    "        self.maxpool = nn.MaxPool2d(kernel_size=3, stride=2, padding=1)\n",
    "\n",
    "        self.layer1 = self._make_layer(block, 64, layers[0], dropout_prob=dropout_prob)\n",
    "        self.layer2 = self._make_layer(block, 128, layers[1], stride=2, dropout_prob=dropout_prob)\n",
    "        self.layer3 = self._make_layer(block, 256, layers[2], stride=2, dropout_prob=dropout_prob)\n",
    "        self.layer4 = self._make_layer(block, 512, layers[3], stride=2, dropout_prob=dropout_prob)\n",
    "\n",
    "        self.avgpool = nn.AdaptiveAvgPool2d((1, 1))\n",
    "        self.fc = nn.Linear(512, num_classes)\n",
    "\n",
    "    def _make_layer(self, block, out_channels, blocks, stride=1, dropout_prob=0.3):\n",
    "        downsample = None\n",
    "        if stride != 1 or self.in_channels != out_channels:\n",
    "            downsample = nn.Sequential(\n",
    "                nn.Conv2d(self.in_channels, out_channels, kernel_size=1, stride=stride, bias=False),\n",
    "                nn.GroupNorm(32, out_channels)\n",
    "            )\n",
    "        \n",
    "        layers = []\n",
    "        layers.append(block(self.in_channels, out_channels, stride, downsample, dropout_prob=dropout_prob))\n",
    "        self.in_channels = out_channels\n",
    "        for _ in range(1, blocks):\n",
    "            layers.append(block(out_channels, out_channels, dropout_prob=dropout_prob))\n",
    "        \n",
    "        return nn.Sequential(*layers)\n",
    "\n",
    "    def forward(self, x):\n",
    "        x = self.conv1(x)\n",
    "        x = self.mish(x)\n",
    "        x = self.group_norm(x)\n",
    "        x = self.maxpool(x)\n",
    "\n",
    "        x = self.layer1(x)\n",
    "        x = self.layer2(x)\n",
    "        x = self.layer3(x)\n",
    "        x = self.layer4(x)\n",
    "\n",
    "        x = self.avgpool(x)\n",
    "        x = torch.flatten(x, 1)\n",
    "        x = self.fc(x)\n",
    "        return x\n",
    "\n",
    "def custom_resnet18(num_classes=20, dropout_prob=0.3):\n",
    "    return UpdatedResNet(ResidualBlock, [2, 2, 2, 2], num_classes, dropout_prob)\n"
   ]
  },
  {
   "cell_type": "code",
   "execution_count": 31,
   "metadata": {
    "execution": {
     "iopub.execute_input": "2024-12-16T13:36:46.673147Z",
     "iopub.status.busy": "2024-12-16T13:36:46.672832Z",
     "iopub.status.idle": "2024-12-16T13:36:46.692187Z",
     "shell.execute_reply": "2024-12-16T13:36:46.691418Z",
     "shell.execute_reply.started": "2024-12-16T13:36:46.673121Z"
    },
    "trusted": true
   },
   "outputs": [],
   "source": [
    "import torch.nn.functional as F\n",
    "class Mish(nn.Module):\n",
    "    def forward(self, x):\n",
    "        return x * torch.tanh(F.softplus(x))\n",
    "\n",
    "class SEBlock(nn.Module):\n",
    "    def __init__(self, channels, reduction=16):\n",
    "        super(SEBlock, self).__init__()\n",
    "        self.avg_pool = nn.AdaptiveAvgPool2d(1)\n",
    "        self.fc = nn.Sequential(\n",
    "            nn.Conv2d(channels, channels // reduction, kernel_size=1, bias=False),\n",
    "            nn.ReLU(inplace=True),\n",
    "            nn.Conv2d(channels // reduction, channels, kernel_size=1, bias=False),\n",
    "            nn.Sigmoid()\n",
    "        )\n",
    "\n",
    "    def forward(self, x):\n",
    "        y = self.avg_pool(x)\n",
    "        y = self.fc(y)\n",
    "        return x * y\n",
    "\n",
    "class ResidualBlock(nn.Module):\n",
    "    def __init__(self, in_channels, out_channels, stride=1, downsample=None, dropout_prob=0.2):\n",
    "        super(ResidualBlock, self).__init__()\n",
    "        self.conv1 = nn.Conv2d(in_channels, out_channels, kernel_size=3, stride=stride, padding=1, bias=False)\n",
    "        self.mish = Mish()\n",
    "        self.group_norm1 = nn.GroupNorm(32, out_channels)\n",
    "        self.dropout1 = nn.Dropout2d(p=dropout_prob)\n",
    "\n",
    "        self.conv2 = nn.Conv2d(out_channels, out_channels, kernel_size=3, stride=1, padding=1, bias=False)\n",
    "        self.group_norm2 = nn.GroupNorm(32, out_channels)\n",
    "        self.dropout2 = nn.Dropout2d(p=dropout_prob)\n",
    "\n",
    "        self.se_block = SEBlock(out_channels)\n",
    "        self.downsample = downsample\n",
    "\n",
    "    def forward(self, x):\n",
    "        identity = x\n",
    "        if self.downsample:\n",
    "            identity = self.downsample(x)\n",
    "\n",
    "        out = self.conv1(x)\n",
    "        out = self.mish(out)\n",
    "        out = self.group_norm1(out)\n",
    "        out = self.dropout1(out)\n",
    "\n",
    "        out = self.conv2(out)\n",
    "        out = self.mish(out)\n",
    "        out = self.group_norm2(out)\n",
    "        out = self.dropout2(out)\n",
    "\n",
    "        out = self.se_block(out)\n",
    "        out += identity\n",
    "        out = self.mish(out)\n",
    "        return out\n",
    "\n",
    "class UpdatedResNet(nn.Module):\n",
    "    def __init__(self, block, layers, num_classes=20, dropout_prob=0.2):\n",
    "        super(UpdatedResNet, self).__init__()\n",
    "        self.in_channels = 64\n",
    "\n",
    "        self.conv1 = nn.Conv2d(3, 64, kernel_size=7, stride=2, padding=3, bias=False)\n",
    "        self.mish = Mish()\n",
    "        self.group_norm = nn.GroupNorm(32, 64)\n",
    "        self.maxpool = nn.MaxPool2d(kernel_size=3, stride=2, padding=1)\n",
    "\n",
    "        self.layer1 = self._make_layer(block, 64, layers[0], dropout_prob=dropout_prob)\n",
    "        self.layer2 = self._make_layer(block, 128, layers[1], stride=2, dropout_prob=dropout_prob)\n",
    "        self.layer3 = self._make_layer(block, 256, layers[2], stride=2, dropout_prob=dropout_prob)\n",
    "        self.layer4 = self._make_layer(block, 512, layers[3], stride=2, dropout_prob=dropout_prob)\n",
    "\n",
    "        self.avgpool = nn.AdaptiveAvgPool2d((1, 1))\n",
    "        self.fc = nn.Linear(512, num_classes)\n",
    "\n",
    "    def _make_layer(self, block, out_channels, blocks, stride=1, dropout_prob=0.2):\n",
    "        downsample = None\n",
    "        if stride != 1 or self.in_channels != out_channels:\n",
    "            downsample = nn.Sequential(\n",
    "                nn.Conv2d(self.in_channels, out_channels, kernel_size=1, stride=stride, bias=False),\n",
    "                nn.GroupNorm(32, out_channels)\n",
    "            )\n",
    "\n",
    "        layers = []\n",
    "        layers.append(block(self.in_channels, out_channels, stride, downsample, dropout_prob=dropout_prob))\n",
    "        self.in_channels = out_channels\n",
    "        for _ in range(1, blocks):\n",
    "            layers.append(block(out_channels, out_channels, dropout_prob=dropout_prob))\n",
    "\n",
    "        return nn.Sequential(*layers)\n",
    "\n",
    "    def forward(self, x):\n",
    "        x = self.conv1(x)\n",
    "        x = self.mish(x)\n",
    "        x = self.group_norm(x)\n",
    "        x = self.maxpool(x)\n",
    "\n",
    "        x = self.layer1(x)\n",
    "        x = self.layer2(x)\n",
    "        x = self.layer3(x)\n",
    "        x = self.layer4(x)\n",
    "\n",
    "        x = self.avgpool(x)\n",
    "        x = torch.flatten(x, 1)\n",
    "        x = self.fc(x)\n",
    "        return x\n",
    "\n",
    "def custom_resnet18(num_classes=20, dropout_prob=0.2):\n",
    "    return UpdatedResNet(ResidualBlock, [2, 2, 2, 2], num_classes, dropout_prob)"
   ]
  },
  {
   "cell_type": "code",
   "execution_count": 10,
   "metadata": {
    "execution": {
     "iopub.execute_input": "2024-12-16T13:36:46.694333Z",
     "iopub.status.busy": "2024-12-16T13:36:46.693447Z",
     "iopub.status.idle": "2024-12-16T13:36:46.704939Z",
     "shell.execute_reply": "2024-12-16T13:36:46.704227Z",
     "shell.execute_reply.started": "2024-12-16T13:36:46.694303Z"
    },
    "trusted": true
   },
   "outputs": [],
   "source": [
    "\n",
    "from torchvision.models import efficientnet_b0\n",
    "from torchsummary import summary"
   ]
  },
  {
   "cell_type": "code",
   "execution_count": 12,
   "metadata": {
    "execution": {
     "iopub.execute_input": "2024-12-16T18:50:26.311062Z",
     "iopub.status.busy": "2024-12-16T18:50:26.310740Z",
     "iopub.status.idle": "2024-12-16T18:50:26.320134Z",
     "shell.execute_reply": "2024-12-16T18:50:26.319117Z",
     "shell.execute_reply.started": "2024-12-16T18:50:26.311036Z"
    },
    "trusted": true
   },
   "outputs": [],
   "source": [
    "\n",
    "import torch.nn as nn\n",
    "from torchvision import models\n",
    "\n",
    "class CustomEfficientNet(nn.Module):\n",
    "    def __init__(self, num_classes=20):\n",
    "        super(CustomEfficientNet, self).__init__()\n",
    "\n",
    "        # Загрузка базовой модели EfficientNet-B0 без предобученных весов\n",
    "        self.base_model = models.efficientnet_b0(pretrained=False)\n",
    "\n",
    "        # Добавление дополнительных сверточных слоев и Batch Normalization\n",
    "        # Сначала добавляем дополнительные сверточные слои и Batch Normalization\n",
    "        self.extra_conv = nn.Sequential(\n",
    "            nn.Conv2d(3, 32, kernel_size=3, stride=1, padding=1),\n",
    "            nn.BatchNorm2d(32),\n",
    "            nn.ReLU(inplace=True),\n",
    "            nn.Conv2d(32, 64, kernel_size=3, stride=1, padding=1),\n",
    "            nn.BatchNorm2d(64),\n",
    "            nn.ReLU(inplace=True),\n",
    "            nn.Conv2d(64, 64, kernel_size=1, stride=1),  # Identity mapping\n",
    "            nn.ReLU(inplace=True)\n",
    "        )\n",
    "\n",
    "\n",
    "        # Обновляем первый слой базовой модели для использования 64 каналов (после добавленных слоев)\n",
    "        self.base_model.features[0][0] = nn.Conv2d(64, 32, kernel_size=3, stride=2, padding=1)\n",
    "\n",
    "        # Заменяем последний классификатор для 20 классов\n",
    "        in_features = self.base_model.classifier[1].in_features\n",
    "        self.base_model.classifier = nn.Sequential(\n",
    "            nn.Dropout(p=0.5, inplace=True),  # Увеличиваем dropout\n",
    "            nn.Linear(in_features, num_classes)\n",
    "        )\n",
    "\n",
    "    def forward(self, x):\n",
    "        # Применяем дополнительные слои перед базовой моделью\n",
    "        x = self.extra_conv(x)\n",
    "        \n",
    "        # Дальше передаем результат в базовую модель\n",
    "        return self.base_model(x)\n",
    "\n",
    "def custom_efficientnet_b0(num_classes=20):\n",
    "    return CustomEfficientNet(num_classes=num_classes)"
   ]
  },
  {
   "cell_type": "code",
   "execution_count": 13,
   "metadata": {
    "execution": {
     "iopub.execute_input": "2024-12-16T18:50:28.337093Z",
     "iopub.status.busy": "2024-12-16T18:50:28.336384Z",
     "iopub.status.idle": "2024-12-16T18:50:28.630236Z",
     "shell.execute_reply": "2024-12-16T18:50:28.629355Z",
     "shell.execute_reply.started": "2024-12-16T18:50:28.337060Z"
    },
    "trusted": true
   },
   "outputs": [],
   "source": [
    "import gc\n",
    "import torch\n",
    "\n",
    "# Assuming `obj` is the object consuming GPU memory\n",
    "obj = None\n",
    "\n",
    "# Collect garbage\n",
    "gc.collect()\n",
    "\n",
    "# Empty PyTorch cache\n",
    "torch.cuda.empty_cache()"
   ]
  },
  {
   "cell_type": "code",
   "execution_count": 14,
   "metadata": {
    "execution": {
     "iopub.execute_input": "2024-12-16T18:50:30.832292Z",
     "iopub.status.busy": "2024-12-16T18:50:30.831944Z",
     "iopub.status.idle": "2024-12-16T18:50:30.944087Z",
     "shell.execute_reply": "2024-12-16T18:50:30.943134Z",
     "shell.execute_reply.started": "2024-12-16T18:50:30.832261Z"
    },
    "trusted": true
   },
   "outputs": [
    {
     "name": "stderr",
     "output_type": "stream",
     "text": [
      "/home/bottic/anaconda3/envs/ttorchenv/lib/python3.10/site-packages/torchvision/models/_utils.py:208: UserWarning: The parameter 'pretrained' is deprecated since 0.13 and may be removed in the future, please use 'weights' instead.\n",
      "  warnings.warn(\n",
      "/home/bottic/anaconda3/envs/ttorchenv/lib/python3.10/site-packages/torchvision/models/_utils.py:223: UserWarning: Arguments other than a weight enum or `None` for 'weights' are deprecated since 0.13 and may be removed in the future. The current behavior is equivalent to passing `weights=None`.\n",
      "  warnings.warn(msg)\n"
     ]
    }
   ],
   "source": [
    "model = custom_efficientnet_b0(num_classes=20).to(device)"
   ]
  },
  {
   "cell_type": "code",
   "execution_count": 156,
   "metadata": {
    "execution": {
     "iopub.execute_input": "2024-12-16T18:50:32.755454Z",
     "iopub.status.busy": "2024-12-16T18:50:32.754883Z",
     "iopub.status.idle": "2024-12-16T18:50:32.761021Z",
     "shell.execute_reply": "2024-12-16T18:50:32.760133Z",
     "shell.execute_reply.started": "2024-12-16T18:50:32.755423Z"
    },
    "trusted": true
   },
   "outputs": [
    {
     "data": {
      "text/plain": [
       "20"
      ]
     },
     "execution_count": 156,
     "metadata": {},
     "output_type": "execute_result"
    }
   ],
   "source": [
    "len(id_to_category)"
   ]
  },
  {
   "cell_type": "code",
   "execution_count": 157,
   "metadata": {
    "execution": {
     "iopub.execute_input": "2024-12-16T18:50:34.191492Z",
     "iopub.status.busy": "2024-12-16T18:50:34.191154Z",
     "iopub.status.idle": "2024-12-16T18:50:34.388741Z",
     "shell.execute_reply": "2024-12-16T18:50:34.387781Z",
     "shell.execute_reply.started": "2024-12-16T18:50:34.191461Z"
    },
    "trusted": true
   },
   "outputs": [
    {
     "name": "stdout",
     "output_type": "stream",
     "text": [
      "----------------------------------------------------------------\n",
      "        Layer (type)               Output Shape         Param #\n",
      "================================================================\n",
      "            Conv2d-1         [-1, 32, 227, 227]             896\n",
      "       BatchNorm2d-2         [-1, 32, 227, 227]              64\n",
      "              ReLU-3         [-1, 32, 227, 227]               0\n",
      "            Conv2d-4         [-1, 64, 227, 227]          18,496\n",
      "       BatchNorm2d-5         [-1, 64, 227, 227]             128\n",
      "              ReLU-6         [-1, 64, 227, 227]               0\n",
      "            Conv2d-7         [-1, 64, 227, 227]           4,160\n",
      "              ReLU-8         [-1, 64, 227, 227]               0\n",
      "            Conv2d-9         [-1, 32, 114, 114]          18,464\n",
      "      BatchNorm2d-10         [-1, 32, 114, 114]              64\n",
      "             SiLU-11         [-1, 32, 114, 114]               0\n",
      "           Conv2d-12         [-1, 32, 114, 114]             288\n",
      "      BatchNorm2d-13         [-1, 32, 114, 114]              64\n",
      "             SiLU-14         [-1, 32, 114, 114]               0\n",
      "AdaptiveAvgPool2d-15             [-1, 32, 1, 1]               0\n",
      "           Conv2d-16              [-1, 8, 1, 1]             264\n",
      "             SiLU-17              [-1, 8, 1, 1]               0\n",
      "           Conv2d-18             [-1, 32, 1, 1]             288\n",
      "          Sigmoid-19             [-1, 32, 1, 1]               0\n",
      "SqueezeExcitation-20         [-1, 32, 114, 114]               0\n",
      "           Conv2d-21         [-1, 16, 114, 114]             512\n",
      "      BatchNorm2d-22         [-1, 16, 114, 114]              32\n",
      "           MBConv-23         [-1, 16, 114, 114]               0\n",
      "           Conv2d-24         [-1, 96, 114, 114]           1,536\n",
      "      BatchNorm2d-25         [-1, 96, 114, 114]             192\n",
      "             SiLU-26         [-1, 96, 114, 114]               0\n",
      "           Conv2d-27           [-1, 96, 57, 57]             864\n",
      "      BatchNorm2d-28           [-1, 96, 57, 57]             192\n",
      "             SiLU-29           [-1, 96, 57, 57]               0\n",
      "AdaptiveAvgPool2d-30             [-1, 96, 1, 1]               0\n",
      "           Conv2d-31              [-1, 4, 1, 1]             388\n",
      "             SiLU-32              [-1, 4, 1, 1]               0\n",
      "           Conv2d-33             [-1, 96, 1, 1]             480\n",
      "          Sigmoid-34             [-1, 96, 1, 1]               0\n",
      "SqueezeExcitation-35           [-1, 96, 57, 57]               0\n",
      "           Conv2d-36           [-1, 24, 57, 57]           2,304\n",
      "      BatchNorm2d-37           [-1, 24, 57, 57]              48\n",
      "           MBConv-38           [-1, 24, 57, 57]               0\n",
      "           Conv2d-39          [-1, 144, 57, 57]           3,456\n",
      "      BatchNorm2d-40          [-1, 144, 57, 57]             288\n",
      "             SiLU-41          [-1, 144, 57, 57]               0\n",
      "           Conv2d-42          [-1, 144, 57, 57]           1,296\n",
      "      BatchNorm2d-43          [-1, 144, 57, 57]             288\n",
      "             SiLU-44          [-1, 144, 57, 57]               0\n",
      "AdaptiveAvgPool2d-45            [-1, 144, 1, 1]               0\n",
      "           Conv2d-46              [-1, 6, 1, 1]             870\n",
      "             SiLU-47              [-1, 6, 1, 1]               0\n",
      "           Conv2d-48            [-1, 144, 1, 1]           1,008\n",
      "          Sigmoid-49            [-1, 144, 1, 1]               0\n",
      "SqueezeExcitation-50          [-1, 144, 57, 57]               0\n",
      "           Conv2d-51           [-1, 24, 57, 57]           3,456\n",
      "      BatchNorm2d-52           [-1, 24, 57, 57]              48\n",
      "  StochasticDepth-53           [-1, 24, 57, 57]               0\n",
      "           MBConv-54           [-1, 24, 57, 57]               0\n",
      "           Conv2d-55          [-1, 144, 57, 57]           3,456\n",
      "      BatchNorm2d-56          [-1, 144, 57, 57]             288\n",
      "             SiLU-57          [-1, 144, 57, 57]               0\n",
      "           Conv2d-58          [-1, 144, 29, 29]           3,600\n",
      "      BatchNorm2d-59          [-1, 144, 29, 29]             288\n",
      "             SiLU-60          [-1, 144, 29, 29]               0\n",
      "AdaptiveAvgPool2d-61            [-1, 144, 1, 1]               0\n",
      "           Conv2d-62              [-1, 6, 1, 1]             870\n",
      "             SiLU-63              [-1, 6, 1, 1]               0\n",
      "           Conv2d-64            [-1, 144, 1, 1]           1,008\n",
      "          Sigmoid-65            [-1, 144, 1, 1]               0\n",
      "SqueezeExcitation-66          [-1, 144, 29, 29]               0\n",
      "           Conv2d-67           [-1, 40, 29, 29]           5,760\n",
      "      BatchNorm2d-68           [-1, 40, 29, 29]              80\n",
      "           MBConv-69           [-1, 40, 29, 29]               0\n",
      "           Conv2d-70          [-1, 240, 29, 29]           9,600\n",
      "      BatchNorm2d-71          [-1, 240, 29, 29]             480\n",
      "             SiLU-72          [-1, 240, 29, 29]               0\n",
      "           Conv2d-73          [-1, 240, 29, 29]           6,000\n",
      "      BatchNorm2d-74          [-1, 240, 29, 29]             480\n",
      "             SiLU-75          [-1, 240, 29, 29]               0\n",
      "AdaptiveAvgPool2d-76            [-1, 240, 1, 1]               0\n",
      "           Conv2d-77             [-1, 10, 1, 1]           2,410\n",
      "             SiLU-78             [-1, 10, 1, 1]               0\n",
      "           Conv2d-79            [-1, 240, 1, 1]           2,640\n",
      "          Sigmoid-80            [-1, 240, 1, 1]               0\n",
      "SqueezeExcitation-81          [-1, 240, 29, 29]               0\n",
      "           Conv2d-82           [-1, 40, 29, 29]           9,600\n",
      "      BatchNorm2d-83           [-1, 40, 29, 29]              80\n",
      "  StochasticDepth-84           [-1, 40, 29, 29]               0\n",
      "           MBConv-85           [-1, 40, 29, 29]               0\n",
      "           Conv2d-86          [-1, 240, 29, 29]           9,600\n",
      "      BatchNorm2d-87          [-1, 240, 29, 29]             480\n",
      "             SiLU-88          [-1, 240, 29, 29]               0\n",
      "           Conv2d-89          [-1, 240, 15, 15]           2,160\n",
      "      BatchNorm2d-90          [-1, 240, 15, 15]             480\n",
      "             SiLU-91          [-1, 240, 15, 15]               0\n",
      "AdaptiveAvgPool2d-92            [-1, 240, 1, 1]               0\n",
      "           Conv2d-93             [-1, 10, 1, 1]           2,410\n",
      "             SiLU-94             [-1, 10, 1, 1]               0\n",
      "           Conv2d-95            [-1, 240, 1, 1]           2,640\n",
      "          Sigmoid-96            [-1, 240, 1, 1]               0\n",
      "SqueezeExcitation-97          [-1, 240, 15, 15]               0\n",
      "           Conv2d-98           [-1, 80, 15, 15]          19,200\n",
      "      BatchNorm2d-99           [-1, 80, 15, 15]             160\n",
      "          MBConv-100           [-1, 80, 15, 15]               0\n",
      "          Conv2d-101          [-1, 480, 15, 15]          38,400\n",
      "     BatchNorm2d-102          [-1, 480, 15, 15]             960\n",
      "            SiLU-103          [-1, 480, 15, 15]               0\n",
      "          Conv2d-104          [-1, 480, 15, 15]           4,320\n",
      "     BatchNorm2d-105          [-1, 480, 15, 15]             960\n",
      "            SiLU-106          [-1, 480, 15, 15]               0\n",
      "AdaptiveAvgPool2d-107            [-1, 480, 1, 1]               0\n",
      "          Conv2d-108             [-1, 20, 1, 1]           9,620\n",
      "            SiLU-109             [-1, 20, 1, 1]               0\n",
      "          Conv2d-110            [-1, 480, 1, 1]          10,080\n",
      "         Sigmoid-111            [-1, 480, 1, 1]               0\n",
      "SqueezeExcitation-112          [-1, 480, 15, 15]               0\n",
      "          Conv2d-113           [-1, 80, 15, 15]          38,400\n",
      "     BatchNorm2d-114           [-1, 80, 15, 15]             160\n",
      " StochasticDepth-115           [-1, 80, 15, 15]               0\n",
      "          MBConv-116           [-1, 80, 15, 15]               0\n",
      "          Conv2d-117          [-1, 480, 15, 15]          38,400\n",
      "     BatchNorm2d-118          [-1, 480, 15, 15]             960\n",
      "            SiLU-119          [-1, 480, 15, 15]               0\n",
      "          Conv2d-120          [-1, 480, 15, 15]           4,320\n",
      "     BatchNorm2d-121          [-1, 480, 15, 15]             960\n",
      "            SiLU-122          [-1, 480, 15, 15]               0\n",
      "AdaptiveAvgPool2d-123            [-1, 480, 1, 1]               0\n",
      "          Conv2d-124             [-1, 20, 1, 1]           9,620\n",
      "            SiLU-125             [-1, 20, 1, 1]               0\n",
      "          Conv2d-126            [-1, 480, 1, 1]          10,080\n",
      "         Sigmoid-127            [-1, 480, 1, 1]               0\n",
      "SqueezeExcitation-128          [-1, 480, 15, 15]               0\n",
      "          Conv2d-129           [-1, 80, 15, 15]          38,400\n",
      "     BatchNorm2d-130           [-1, 80, 15, 15]             160\n",
      " StochasticDepth-131           [-1, 80, 15, 15]               0\n",
      "          MBConv-132           [-1, 80, 15, 15]               0\n",
      "          Conv2d-133          [-1, 480, 15, 15]          38,400\n",
      "     BatchNorm2d-134          [-1, 480, 15, 15]             960\n",
      "            SiLU-135          [-1, 480, 15, 15]               0\n",
      "          Conv2d-136          [-1, 480, 15, 15]          12,000\n",
      "     BatchNorm2d-137          [-1, 480, 15, 15]             960\n",
      "            SiLU-138          [-1, 480, 15, 15]               0\n",
      "AdaptiveAvgPool2d-139            [-1, 480, 1, 1]               0\n",
      "          Conv2d-140             [-1, 20, 1, 1]           9,620\n",
      "            SiLU-141             [-1, 20, 1, 1]               0\n",
      "          Conv2d-142            [-1, 480, 1, 1]          10,080\n",
      "         Sigmoid-143            [-1, 480, 1, 1]               0\n",
      "SqueezeExcitation-144          [-1, 480, 15, 15]               0\n",
      "          Conv2d-145          [-1, 112, 15, 15]          53,760\n",
      "     BatchNorm2d-146          [-1, 112, 15, 15]             224\n",
      "          MBConv-147          [-1, 112, 15, 15]               0\n",
      "          Conv2d-148          [-1, 672, 15, 15]          75,264\n",
      "     BatchNorm2d-149          [-1, 672, 15, 15]           1,344\n",
      "            SiLU-150          [-1, 672, 15, 15]               0\n",
      "          Conv2d-151          [-1, 672, 15, 15]          16,800\n",
      "     BatchNorm2d-152          [-1, 672, 15, 15]           1,344\n",
      "            SiLU-153          [-1, 672, 15, 15]               0\n",
      "AdaptiveAvgPool2d-154            [-1, 672, 1, 1]               0\n",
      "          Conv2d-155             [-1, 28, 1, 1]          18,844\n",
      "            SiLU-156             [-1, 28, 1, 1]               0\n",
      "          Conv2d-157            [-1, 672, 1, 1]          19,488\n",
      "         Sigmoid-158            [-1, 672, 1, 1]               0\n",
      "SqueezeExcitation-159          [-1, 672, 15, 15]               0\n",
      "          Conv2d-160          [-1, 112, 15, 15]          75,264\n",
      "     BatchNorm2d-161          [-1, 112, 15, 15]             224\n",
      " StochasticDepth-162          [-1, 112, 15, 15]               0\n",
      "          MBConv-163          [-1, 112, 15, 15]               0\n",
      "          Conv2d-164          [-1, 672, 15, 15]          75,264\n",
      "     BatchNorm2d-165          [-1, 672, 15, 15]           1,344\n",
      "            SiLU-166          [-1, 672, 15, 15]               0\n",
      "          Conv2d-167          [-1, 672, 15, 15]          16,800\n",
      "     BatchNorm2d-168          [-1, 672, 15, 15]           1,344\n",
      "            SiLU-169          [-1, 672, 15, 15]               0\n",
      "AdaptiveAvgPool2d-170            [-1, 672, 1, 1]               0\n",
      "          Conv2d-171             [-1, 28, 1, 1]          18,844\n",
      "            SiLU-172             [-1, 28, 1, 1]               0\n",
      "          Conv2d-173            [-1, 672, 1, 1]          19,488\n",
      "         Sigmoid-174            [-1, 672, 1, 1]               0\n",
      "SqueezeExcitation-175          [-1, 672, 15, 15]               0\n",
      "          Conv2d-176          [-1, 112, 15, 15]          75,264\n",
      "     BatchNorm2d-177          [-1, 112, 15, 15]             224\n",
      " StochasticDepth-178          [-1, 112, 15, 15]               0\n",
      "          MBConv-179          [-1, 112, 15, 15]               0\n",
      "          Conv2d-180          [-1, 672, 15, 15]          75,264\n",
      "     BatchNorm2d-181          [-1, 672, 15, 15]           1,344\n",
      "            SiLU-182          [-1, 672, 15, 15]               0\n",
      "          Conv2d-183            [-1, 672, 8, 8]          16,800\n",
      "     BatchNorm2d-184            [-1, 672, 8, 8]           1,344\n",
      "            SiLU-185            [-1, 672, 8, 8]               0\n",
      "AdaptiveAvgPool2d-186            [-1, 672, 1, 1]               0\n",
      "          Conv2d-187             [-1, 28, 1, 1]          18,844\n",
      "            SiLU-188             [-1, 28, 1, 1]               0\n",
      "          Conv2d-189            [-1, 672, 1, 1]          19,488\n",
      "         Sigmoid-190            [-1, 672, 1, 1]               0\n",
      "SqueezeExcitation-191            [-1, 672, 8, 8]               0\n",
      "          Conv2d-192            [-1, 192, 8, 8]         129,024\n",
      "     BatchNorm2d-193            [-1, 192, 8, 8]             384\n",
      "          MBConv-194            [-1, 192, 8, 8]               0\n",
      "          Conv2d-195           [-1, 1152, 8, 8]         221,184\n",
      "     BatchNorm2d-196           [-1, 1152, 8, 8]           2,304\n",
      "            SiLU-197           [-1, 1152, 8, 8]               0\n",
      "          Conv2d-198           [-1, 1152, 8, 8]          28,800\n",
      "     BatchNorm2d-199           [-1, 1152, 8, 8]           2,304\n",
      "            SiLU-200           [-1, 1152, 8, 8]               0\n",
      "AdaptiveAvgPool2d-201           [-1, 1152, 1, 1]               0\n",
      "          Conv2d-202             [-1, 48, 1, 1]          55,344\n",
      "            SiLU-203             [-1, 48, 1, 1]               0\n",
      "          Conv2d-204           [-1, 1152, 1, 1]          56,448\n",
      "         Sigmoid-205           [-1, 1152, 1, 1]               0\n",
      "SqueezeExcitation-206           [-1, 1152, 8, 8]               0\n",
      "          Conv2d-207            [-1, 192, 8, 8]         221,184\n",
      "     BatchNorm2d-208            [-1, 192, 8, 8]             384\n",
      " StochasticDepth-209            [-1, 192, 8, 8]               0\n",
      "          MBConv-210            [-1, 192, 8, 8]               0\n",
      "          Conv2d-211           [-1, 1152, 8, 8]         221,184\n",
      "     BatchNorm2d-212           [-1, 1152, 8, 8]           2,304\n",
      "            SiLU-213           [-1, 1152, 8, 8]               0\n",
      "          Conv2d-214           [-1, 1152, 8, 8]          28,800\n",
      "     BatchNorm2d-215           [-1, 1152, 8, 8]           2,304\n",
      "            SiLU-216           [-1, 1152, 8, 8]               0\n",
      "AdaptiveAvgPool2d-217           [-1, 1152, 1, 1]               0\n",
      "          Conv2d-218             [-1, 48, 1, 1]          55,344\n",
      "            SiLU-219             [-1, 48, 1, 1]               0\n",
      "          Conv2d-220           [-1, 1152, 1, 1]          56,448\n",
      "         Sigmoid-221           [-1, 1152, 1, 1]               0\n",
      "SqueezeExcitation-222           [-1, 1152, 8, 8]               0\n",
      "          Conv2d-223            [-1, 192, 8, 8]         221,184\n",
      "     BatchNorm2d-224            [-1, 192, 8, 8]             384\n",
      " StochasticDepth-225            [-1, 192, 8, 8]               0\n",
      "          MBConv-226            [-1, 192, 8, 8]               0\n",
      "          Conv2d-227           [-1, 1152, 8, 8]         221,184\n",
      "     BatchNorm2d-228           [-1, 1152, 8, 8]           2,304\n",
      "            SiLU-229           [-1, 1152, 8, 8]               0\n",
      "          Conv2d-230           [-1, 1152, 8, 8]          28,800\n",
      "     BatchNorm2d-231           [-1, 1152, 8, 8]           2,304\n",
      "            SiLU-232           [-1, 1152, 8, 8]               0\n",
      "AdaptiveAvgPool2d-233           [-1, 1152, 1, 1]               0\n",
      "          Conv2d-234             [-1, 48, 1, 1]          55,344\n",
      "            SiLU-235             [-1, 48, 1, 1]               0\n",
      "          Conv2d-236           [-1, 1152, 1, 1]          56,448\n",
      "         Sigmoid-237           [-1, 1152, 1, 1]               0\n",
      "SqueezeExcitation-238           [-1, 1152, 8, 8]               0\n",
      "          Conv2d-239            [-1, 192, 8, 8]         221,184\n",
      "     BatchNorm2d-240            [-1, 192, 8, 8]             384\n",
      " StochasticDepth-241            [-1, 192, 8, 8]               0\n",
      "          MBConv-242            [-1, 192, 8, 8]               0\n",
      "          Conv2d-243           [-1, 1152, 8, 8]         221,184\n",
      "     BatchNorm2d-244           [-1, 1152, 8, 8]           2,304\n",
      "            SiLU-245           [-1, 1152, 8, 8]               0\n",
      "          Conv2d-246           [-1, 1152, 8, 8]          10,368\n",
      "     BatchNorm2d-247           [-1, 1152, 8, 8]           2,304\n",
      "            SiLU-248           [-1, 1152, 8, 8]               0\n",
      "AdaptiveAvgPool2d-249           [-1, 1152, 1, 1]               0\n",
      "          Conv2d-250             [-1, 48, 1, 1]          55,344\n",
      "            SiLU-251             [-1, 48, 1, 1]               0\n",
      "          Conv2d-252           [-1, 1152, 1, 1]          56,448\n",
      "         Sigmoid-253           [-1, 1152, 1, 1]               0\n",
      "SqueezeExcitation-254           [-1, 1152, 8, 8]               0\n",
      "          Conv2d-255            [-1, 320, 8, 8]         368,640\n",
      "     BatchNorm2d-256            [-1, 320, 8, 8]             640\n",
      "          MBConv-257            [-1, 320, 8, 8]               0\n",
      "          Conv2d-258           [-1, 1280, 8, 8]         409,600\n",
      "     BatchNorm2d-259           [-1, 1280, 8, 8]           2,560\n",
      "            SiLU-260           [-1, 1280, 8, 8]               0\n",
      "AdaptiveAvgPool2d-261           [-1, 1280, 1, 1]               0\n",
      "         Dropout-262                 [-1, 1280]               0\n",
      "          Linear-263                   [-1, 20]          25,620\n",
      "    EfficientNet-264                   [-1, 20]               0\n",
      "================================================================\n",
      "Total params: 4,074,512\n",
      "Trainable params: 4,074,512\n",
      "Non-trainable params: 0\n",
      "----------------------------------------------------------------\n",
      "Input size (MB): 0.59\n",
      "Forward/backward pass size (MB): 352.57\n",
      "Params size (MB): 15.54\n",
      "Estimated Total Size (MB): 368.70\n",
      "----------------------------------------------------------------\n",
      "torch.Size([1, 20])\n"
     ]
    }
   ],
   "source": [
    "model = custom_efficientnet_b0(num_classes=20)\n",
    "\n",
    "device = torch.device(\"cuda\" if torch.cuda.is_available() else \"cpu\")\n",
    "model.to(device)\n",
    "\n",
    "summary(model, (3, 227, 227))\n",
    "\n",
    "dummy_input = torch.randn(1, 3, 227, 227).to(device)\n",
    "\n",
    "output = model(dummy_input)\n",
    "print(output.shape)"
   ]
  },
  {
   "cell_type": "markdown",
   "metadata": {},
   "source": []
  },
  {
   "cell_type": "code",
   "execution_count": 15,
   "metadata": {
    "execution": {
     "iopub.execute_input": "2024-12-16T13:48:28.806885Z",
     "iopub.status.busy": "2024-12-16T13:48:28.806514Z",
     "iopub.status.idle": "2024-12-16T13:48:28.811558Z",
     "shell.execute_reply": "2024-12-16T13:48:28.810692Z",
     "shell.execute_reply.started": "2024-12-16T13:48:28.806855Z"
    },
    "trusted": true
   },
   "outputs": [
    {
     "name": "stderr",
     "output_type": "stream",
     "text": [
      "/home/bottic/anaconda3/envs/ttorchenv/lib/python3.10/site-packages/ignite/handlers/checkpoint.py:16: DeprecationWarning: `TorchScript` support for functional optimizers is deprecated and will be removed in a future PyTorch release. Consider using the `torch.compile` optimizer instead.\n",
      "  from torch.distributed.optim import ZeroRedundancyOptimizer\n"
     ]
    }
   ],
   "source": [
    "from torch.optim import Adam\n",
    "from torch.utils.data import DataLoader\n",
    "from ignite.engine import Engine, Events\n",
    "from ignite.handlers import Checkpoint, DiskSaver, global_step_from_engine\n",
    "from ignite.metrics import Accuracy, Loss\n",
    "from ignite.contrib.handlers import ProgressBar\n",
    "import logging\n",
    "from ignite.metrics import Precision, Recall"
   ]
  },
  {
   "cell_type": "code",
   "execution_count": 15,
   "metadata": {
    "execution": {
     "iopub.execute_input": "2024-12-16T16:37:05.814467Z",
     "iopub.status.busy": "2024-12-16T16:37:05.814090Z",
     "iopub.status.idle": "2024-12-16T16:37:05.938793Z",
     "shell.execute_reply": "2024-12-16T16:37:05.937818Z",
     "shell.execute_reply.started": "2024-12-16T16:37:05.814433Z"
    },
    "trusted": true
   },
   "outputs": [
    {
     "name": "stderr",
     "output_type": "stream",
     "text": [
      "/home/bottic/anaconda3/envs/ttorchenv/lib/python3.10/site-packages/torchvision/models/_utils.py:208: UserWarning: The parameter 'pretrained' is deprecated since 0.13 and may be removed in the future, please use 'weights' instead.\n",
      "  warnings.warn(\n",
      "/home/bottic/anaconda3/envs/ttorchenv/lib/python3.10/site-packages/torchvision/models/_utils.py:223: UserWarning: Arguments other than a weight enum or `None` for 'weights' are deprecated since 0.13 and may be removed in the future. The current behavior is equivalent to passing `weights=None`.\n",
      "  warnings.warn(msg)\n"
     ]
    }
   ],
   "source": [
    "model = custom_efficientnet_b0(num_classes=20).to(device)"
   ]
  },
  {
   "cell_type": "code",
   "execution_count": 15,
   "metadata": {
    "execution": {
     "iopub.execute_input": "2024-12-16T18:50:43.272068Z",
     "iopub.status.busy": "2024-12-16T18:50:43.271725Z",
     "iopub.status.idle": "2024-12-16T18:50:43.278909Z",
     "shell.execute_reply": "2024-12-16T18:50:43.277979Z",
     "shell.execute_reply.started": "2024-12-16T18:50:43.272038Z"
    },
    "trusted": true
   },
   "outputs": [],
   "source": [
    "# Определение функции потерь и оптимизатора\n",
    "# criterion = nn.CrossEntropyLoss()\n",
    "criterion = nn.CrossEntropyLoss(label_smoothing=0.1)\n",
    "weight_decay = 1e-4\n",
    "optimizer = torch.optim.AdamW(model.parameters(), lr=0.001, weight_decay=weight_decay)\n",
    "\n",
    "# Создание DataLoader\n",
    "train_loader = DataLoader(train_dataset, batch_size=32, shuffle=True, num_workers=3)\n",
    "val_loader = DataLoader(val_dataset, batch_size=32, shuffle=False, num_workers=3)"
   ]
  },
  {
   "cell_type": "code",
   "execution_count": 16,
   "metadata": {
    "execution": {
     "iopub.execute_input": "2024-12-16T18:50:44.795269Z",
     "iopub.status.busy": "2024-12-16T18:50:44.794651Z",
     "iopub.status.idle": "2024-12-16T18:50:44.800913Z",
     "shell.execute_reply": "2024-12-16T18:50:44.799929Z",
     "shell.execute_reply.started": "2024-12-16T18:50:44.795236Z"
    },
    "trusted": true
   },
   "outputs": [
    {
     "data": {
      "text/plain": [
       "time.struct_time(tm_year=2024, tm_mon=12, tm_mday=17, tm_hour=19, tm_min=24, tm_sec=14, tm_wday=1, tm_yday=352, tm_isdst=0)"
      ]
     },
     "execution_count": 16,
     "metadata": {},
     "output_type": "execute_result"
    }
   ],
   "source": [
    "import time\n",
    "\n",
    "time.localtime()"
   ]
  },
  {
   "cell_type": "code",
   "execution_count": 17,
   "metadata": {
    "execution": {
     "iopub.execute_input": "2024-12-16T18:50:46.038225Z",
     "iopub.status.busy": "2024-12-16T18:50:46.037877Z",
     "iopub.status.idle": "2024-12-16T18:50:46.042926Z",
     "shell.execute_reply": "2024-12-16T18:50:46.041878Z",
     "shell.execute_reply.started": "2024-12-16T18:50:46.038193Z"
    },
    "trusted": true
   },
   "outputs": [],
   "source": [
    "# lr_scheduler = torch.optim.lr_scheduler.ReduceLROnPlateau(\n",
    "#     optimizer, \n",
    "#     mode='min',  # Или 'max', если метрика должна увеличиваться\n",
    "#     factor=0.75,  # Во сколько раз уменьшать learning rate\n",
    "#     patience=1,  # Сколько эпох ждать улучшений\n",
    "#     verbose=True,  # Выводить сообщения о снижении learning rate\n",
    "#     min_lr=1e-6  # Минимальное значение learning rate\n",
    "# )\n",
    "\n",
    "lr_scheduler = torch.optim.lr_scheduler.CosineAnnealingLR(optimizer, T_max=10)"
   ]
  },
  {
   "cell_type": "code",
   "execution_count": 21,
   "metadata": {
    "execution": {
     "iopub.execute_input": "2024-12-16T18:50:47.667143Z",
     "iopub.status.busy": "2024-12-16T18:50:47.666799Z",
     "iopub.status.idle": "2024-12-16T18:50:47.696383Z",
     "shell.execute_reply": "2024-12-16T18:50:47.695667Z",
     "shell.execute_reply.started": "2024-12-16T18:50:47.667104Z"
    },
    "trusted": true
   },
   "outputs": [
    {
     "name": "stderr",
     "output_type": "stream",
     "text": [
      "/home/bottic/anaconda3/envs/ttorchenv/lib/python3.10/site-packages/ignite/handlers/tqdm_logger.py:127: TqdmWarning: IProgress not found. Please update jupyter and ipywidgets. See https://ipywidgets.readthedocs.io/en/stable/user_install.html\n",
      "  from tqdm.autonotebook import tqdm\n"
     ]
    }
   ],
   "source": [
    "import os\n",
    "import time\n",
    "import logging\n",
    "import pandas as pd\n",
    "import torch\n",
    "from ignite.engine import Engine, Events\n",
    "from ignite.metrics import Precision, Recall, Loss, MetricsLambda\n",
    "from ignite.handlers import EarlyStopping, Checkpoint, DiskSaver, global_step_from_engine\n",
    "from ignite.contrib.handlers import ProgressBar\n",
    "\n",
    "\n",
    "# Функция для вычисления взвешенного F1\n",
    "def weighted_f1_from_tensor(f1_tensor, class_weights):\n",
    "    # Преобразуем веса классов в список\n",
    "    class_weights_tensor = torch.tensor([class_weights.get(i, 0) for i in range(len(f1_tensor))], dtype=torch.float32)\n",
    "\n",
    "    # Массив F1 для классов, которые присутствуют в данных\n",
    "    f1_values = f1_tensor[class_weights_tensor > 0]  # Фильтруем классы с нулевыми весами\n",
    "    class_weights_values = class_weights_tensor[class_weights_tensor > 0]\n",
    "\n",
    "    if len(f1_values) == 0:  # Если нет классов с ненулевыми весами\n",
    "        return 0.0\n",
    "\n",
    "    # Рассчитываем взвешенный F1\n",
    "    weighted_f1 = torch.sum(f1_values * class_weights_values) / torch.sum(class_weights_values)\n",
    "    return weighted_f1.item()\n",
    "\n",
    "# Определяем одну итерацию обучения (тренировочный шаг)\n",
    "def train_step(engine, batch):\n",
    "    model.train()\n",
    "    images, labels, img_id = batch\n",
    "    images, labels = images.to(device), labels.to(device)\n",
    "    optimizer.zero_grad()\n",
    "    outputs = model(images)\n",
    "    loss = criterion(outputs, labels)\n",
    "    loss.backward()\n",
    "    optimizer.step()\n",
    "    return {\"loss\": loss.item(), \"outputs\": outputs, \"labels\": labels}\n",
    "\n",
    "# Определяем одну итерацию валидации\n",
    "def val_step(engine, batch):\n",
    "    model.eval()\n",
    "    with torch.no_grad():\n",
    "        images, labels, img_id = batch\n",
    "        images, labels = images.to(device), labels.to(device)\n",
    "        outputs = model(images)\n",
    "        return {\"outputs\": outputs, \"labels\": labels}\n",
    "\n",
    "# Создаём движки для тренировки и валидации\n",
    "trainer = Engine(train_step)\n",
    "evaluator = Engine(val_step)\n",
    "\n",
    "# Определяем метрики Precision, Recall и F1\n",
    "precision = Precision(average=False, output_transform=lambda x: (x[\"outputs\"], x[\"labels\"]))\n",
    "recall = Recall(average=False, output_transform=lambda x: (x[\"outputs\"], x[\"labels\"]))\n",
    "f1 = MetricsLambda(lambda p, r: 2 * (p * r) / (p + r + 1e-9), precision, recall)\n",
    "\n",
    "# Добавляем метрики к тренеру и валидатору\n",
    "train_loss = Loss(criterion, output_transform=lambda x: (x[\"outputs\"], x[\"labels\"]))\n",
    "train_loss.attach(trainer, \"loss\")\n",
    "precision.attach(trainer, \"precision\")\n",
    "recall.attach(trainer, \"recall\")\n",
    "f1.attach(trainer, \"F1\")\n",
    "\n",
    "eval_loss = Loss(criterion, output_transform=lambda x: (x[\"outputs\"], x[\"labels\"]))\n",
    "eval_loss.attach(evaluator, \"loss\")\n",
    "precision.attach(evaluator, \"precision\")\n",
    "recall.attach(evaluator, \"recall\")\n",
    "f1.attach(evaluator, \"F1\")\n",
    "\n",
    "# # Обработчик ранней остановки\n",
    "# handler = EarlyStopping(\n",
    "#     patience=10,\n",
    "#     score_function=lambda engine: -engine.state.metrics[\"loss\"],  # Отслеживаем метрику потерь\n",
    "#     trainer=trainer,\n",
    "#     min_delta=0.01\n",
    "# )\n",
    "# evaluator.add_event_handler(Events.COMPLETED, handler)\n",
    "\n",
    "# Прогресс-бар\n",
    "ProgressBar().attach(trainer)\n",
    "ProgressBar().attach(evaluator)\n",
    "\n",
    "# Логирование\n",
    "cur_time = time.localtime()\n",
    "path_suf = f'_{cur_time.tm_mday}_{cur_time.tm_mon}_{cur_time.tm_hour}_{cur_time.tm_min}'\n",
    "\n",
    "log_dir = \"./train_info/logs\" + path_suf\n",
    "os.makedirs(log_dir, exist_ok=True)\n",
    "logging.basicConfig(\n",
    "    filename=os.path.join(log_dir, \"training.log\"),\n",
    "    level=logging.INFO,\n",
    "    format=\"%(asctime)s - %(message)s\",\n",
    ")\n",
    "logger = logging.getLogger()\n",
    "\n",
    "# Сохраняем метрики в DataFrame\n",
    "metrics_path = os.path.join(log_dir, \"metrics.csv\")\n",
    "if os.path.exists(metrics_path):\n",
    "    metrics_df = pd.read_csv(metrics_path)\n",
    "else:\n",
    "    metrics_df = pd.DataFrame(columns=[\"Epoch\", \"Train Loss\", \"Train F1\", \"Validation Loss\", \"Validation F1\"])\n",
    "\n",
    "# Сохранение модели\n",
    "to_save = {\"model\": model, \"optimizer\": optimizer, \"trainer\": trainer}\n",
    "checkpoint_handler = Checkpoint(\n",
    "    to_save,\n",
    "    DiskSaver(\"./train_info/checkpoints\" + path_suf, create_dir=True, require_empty=False, atomic=False),\n",
    "    n_saved=3,\n",
    "    filename_prefix=\"best\",\n",
    "    score_function=lambda engine: weighted_f1_from_tensor(engine.state.metrics[\"F1\"], train_class_weights),  # Применяем weighted F1\n",
    "    score_name=\"val_F1\",\n",
    "    global_step_transform=global_step_from_engine(trainer),\n",
    ")\n",
    "\n",
    "\n",
    "@trainer.on(Events.EPOCH_COMPLETED)\n",
    "def log_and_save_metrics(engine):\n",
    "    # Логируем метрики тренировки\n",
    "    train_metrics = engine.state.metrics\n",
    "    train_loss = train_metrics[\"loss\"]\n",
    "    train_F1 = train_metrics[\"F1\"]\n",
    "\n",
    "    # Запускаем валидацию\n",
    "    evaluator.run(val_loader)\n",
    "    val_metrics = evaluator.state.metrics\n",
    "    val_loss = val_metrics[\"loss\"]\n",
    "    val_F1 = val_metrics[\"F1\"]\n",
    "    \n",
    "    # Рассчитываем взвешенные F1\n",
    "    weighted_train_f1 = weighted_f1_from_tensor(train_F1, train_class_weights)\n",
    "    weighted_val_f1 = weighted_f1_from_tensor(val_F1, val_class_weights)\n",
    "\n",
    "\n",
    "    # Логируем результаты\n",
    "    logger.info(f\"Epoch {engine.state.epoch}: Train Loss: {train_loss:.4f}, Train Weighted F1: {weighted_train_f1:.4f}, \"\n",
    "                f\"Validation Loss: {val_loss:.4f}, Validation Weighted F1: {weighted_val_f1:.4f}\")\n",
    "    print(f\"Epoch {engine.state.epoch}: Train Loss: {train_loss:.4f}, Train Weighted F1: {weighted_train_f1:.4f}, \"\n",
    "          f\"Validation Loss: {val_loss:.4f}, Validation Weighted F1: {weighted_val_f1:.4f}\")\n",
    "\n",
    "    # Сохраняем метрики в DataFrame\n",
    "    global metrics_df\n",
    "    metrics_df = pd.concat(\n",
    "        [metrics_df, pd.DataFrame({\n",
    "            \"Epoch\": [engine.state.epoch],\n",
    "            \"Train Loss\": [train_loss],\n",
    "            \"Train F1\": [train_F1],\n",
    "            \"Validation Loss\": [val_loss],\n",
    "            \"Validation F1\": [val_F1],\n",
    "        })],\n",
    "        ignore_index=True\n",
    "    )\n",
    "    metrics_df.to_csv(metrics_path, index=False)\n",
    "\n",
    "    # Сохраняем модель\n",
    "    checkpoint_handler(evaluator)\n",
    "\n",
    "# Логируем изменения learning rate и weight decay\n",
    "@trainer.on(Events.EPOCH_COMPLETED)\n",
    "def log_lr_and_threshold(engine):\n",
    "    current_lr = optimizer.param_groups[0][\"lr\"]\n",
    "    logger.info(f\"Epoch {engine.state.epoch}: Learning Rate: {current_lr:.6f}\")\n",
    "    print(f\"Epoch {engine.state.epoch}: Learning Rate: {current_lr:.6f}\")\n"
   ]
  },
  {
   "cell_type": "code",
   "execution_count": 22,
   "metadata": {
    "execution": {
     "iopub.execute_input": "2024-12-16T18:50:51.132213Z",
     "iopub.status.busy": "2024-12-16T18:50:51.131796Z"
    },
    "trusted": true
   },
   "outputs": [
    {
     "name": "stderr",
     "output_type": "stream",
     "text": [
      "/tmp/ipykernel_10828/2064936633.py:143: FutureWarning: The behavior of DataFrame concatenation with empty or all-NA entries is deprecated. In a future version, this will no longer exclude empty or all-NA columns when determining the result dtypes. To retain the old behavior, exclude the relevant entries before the concat operation.\n",
      "  metrics_df = pd.concat(\n"
     ]
    },
    {
     "name": "stdout",
     "output_type": "stream",
     "text": [
      "Epoch 1: Train Loss: 0.7223, Train Weighted F1: 0.9750, Validation Loss: 1.5438, Validation Weighted F1: 0.5247\n",
      "Epoch 1: Learning Rate: 0.001000\n"
     ]
    },
    {
     "name": "stderr",
     "output_type": "stream",
     "text": [
      "                                                      \r"
     ]
    },
    {
     "name": "stdout",
     "output_type": "stream",
     "text": [
      "Epoch 2: Train Loss: 0.7234, Train Weighted F1: 0.9717, Validation Loss: 1.6057, Validation Weighted F1: 0.4749\n",
      "Epoch 2: Learning Rate: 0.001000\n"
     ]
    },
    {
     "name": "stderr",
     "output_type": "stream",
     "text": [
      "                                                      \r"
     ]
    },
    {
     "name": "stdout",
     "output_type": "stream",
     "text": [
      "Epoch 3: Train Loss: 0.7217, Train Weighted F1: 0.9725, Validation Loss: 1.5819, Validation Weighted F1: 0.5257\n",
      "Epoch 3: Learning Rate: 0.001000\n"
     ]
    },
    {
     "name": "stderr",
     "output_type": "stream",
     "text": [
      "                                                      \r"
     ]
    },
    {
     "name": "stdout",
     "output_type": "stream",
     "text": [
      "Epoch 4: Train Loss: 0.7149, Train Weighted F1: 0.9749, Validation Loss: 1.5902, Validation Weighted F1: 0.5415\n",
      "Epoch 4: Learning Rate: 0.001000\n"
     ]
    },
    {
     "name": "stderr",
     "output_type": "stream",
     "text": [
      "                                                      \r"
     ]
    },
    {
     "name": "stdout",
     "output_type": "stream",
     "text": [
      "Epoch 5: Train Loss: 0.7132, Train Weighted F1: 0.9753, Validation Loss: 1.5762, Validation Weighted F1: 0.5284\n",
      "Epoch 5: Learning Rate: 0.001000\n"
     ]
    },
    {
     "name": "stderr",
     "output_type": "stream",
     "text": [
      "                                                      \r"
     ]
    },
    {
     "name": "stdout",
     "output_type": "stream",
     "text": [
      "Epoch 6: Train Loss: 0.6948, Train Weighted F1: 0.9827, Validation Loss: 1.6019, Validation Weighted F1: 0.5253\n",
      "Epoch 6: Learning Rate: 0.001000\n"
     ]
    },
    {
     "name": "stderr",
     "output_type": "stream",
     "text": [
      "                                                      \r"
     ]
    },
    {
     "name": "stdout",
     "output_type": "stream",
     "text": [
      "Epoch 7: Train Loss: 0.7101, Train Weighted F1: 0.9748, Validation Loss: 1.5573, Validation Weighted F1: 0.5659\n",
      "Epoch 7: Learning Rate: 0.001000\n"
     ]
    },
    {
     "name": "stderr",
     "output_type": "stream",
     "text": [
      "                                                      \r"
     ]
    },
    {
     "name": "stdout",
     "output_type": "stream",
     "text": [
      "Epoch 8: Train Loss: 0.7022, Train Weighted F1: 0.9789, Validation Loss: 1.5358, Validation Weighted F1: 0.5561\n",
      "Epoch 8: Learning Rate: 0.001000\n"
     ]
    },
    {
     "name": "stderr",
     "output_type": "stream",
     "text": [
      "                                                      \r"
     ]
    },
    {
     "name": "stdout",
     "output_type": "stream",
     "text": [
      "Epoch 9: Train Loss: 0.7016, Train Weighted F1: 0.9777, Validation Loss: 1.5624, Validation Weighted F1: 0.5689\n",
      "Epoch 9: Learning Rate: 0.001000\n"
     ]
    },
    {
     "name": "stderr",
     "output_type": "stream",
     "text": [
      "                                                       \r"
     ]
    },
    {
     "name": "stdout",
     "output_type": "stream",
     "text": [
      "Epoch 10: Train Loss: 0.6983, Train Weighted F1: 0.9771, Validation Loss: 1.6120, Validation Weighted F1: 0.5579\n",
      "Epoch 10: Learning Rate: 0.001000\n"
     ]
    },
    {
     "name": "stderr",
     "output_type": "stream",
     "text": [
      "                                                       \r"
     ]
    },
    {
     "name": "stdout",
     "output_type": "stream",
     "text": [
      "Epoch 11: Train Loss: 0.6962, Train Weighted F1: 0.9787, Validation Loss: 1.5550, Validation Weighted F1: 0.5593\n",
      "Epoch 11: Learning Rate: 0.001000\n"
     ]
    },
    {
     "name": "stderr",
     "output_type": "stream",
     "text": [
      "                                                       "
     ]
    },
    {
     "name": "stdout",
     "output_type": "stream",
     "text": [
      "Epoch 12: Train Loss: 0.6899, Train Weighted F1: 0.9824, Validation Loss: 1.5252, Validation Weighted F1: 0.5383\n",
      "Epoch 12: Learning Rate: 0.001000\n"
     ]
    },
    {
     "name": "stderr",
     "output_type": "stream",
     "text": [
      "                                                       "
     ]
    },
    {
     "name": "stdout",
     "output_type": "stream",
     "text": [
      "Epoch 13: Train Loss: 0.6850, Train Weighted F1: 0.9821, Validation Loss: 1.5564, Validation Weighted F1: 0.5342\n",
      "Epoch 13: Learning Rate: 0.001000\n"
     ]
    },
    {
     "name": "stderr",
     "output_type": "stream",
     "text": [
      "                                                       "
     ]
    },
    {
     "name": "stdout",
     "output_type": "stream",
     "text": [
      "Epoch 14: Train Loss: 0.6888, Train Weighted F1: 0.9793, Validation Loss: 1.5416, Validation Weighted F1: 0.5454\n",
      "Epoch 14: Learning Rate: 0.001000\n"
     ]
    },
    {
     "name": "stderr",
     "output_type": "stream",
     "text": [
      "                                                       "
     ]
    },
    {
     "name": "stdout",
     "output_type": "stream",
     "text": [
      "Epoch 15: Train Loss: 0.6837, Train Weighted F1: 0.9823, Validation Loss: 1.5691, Validation Weighted F1: 0.5220\n",
      "Epoch 15: Learning Rate: 0.001000\n"
     ]
    },
    {
     "name": "stderr",
     "output_type": "stream",
     "text": [
      "                                                       "
     ]
    },
    {
     "name": "stdout",
     "output_type": "stream",
     "text": [
      "Epoch 16: Train Loss: 0.6884, Train Weighted F1: 0.9841, Validation Loss: 1.5687, Validation Weighted F1: 0.4835\n",
      "Epoch 16: Learning Rate: 0.001000\n"
     ]
    },
    {
     "name": "stderr",
     "output_type": "stream",
     "text": [
      "                                                       \r"
     ]
    },
    {
     "name": "stdout",
     "output_type": "stream",
     "text": [
      "Epoch 17: Train Loss: 0.6823, Train Weighted F1: 0.9850, Validation Loss: 1.5348, Validation Weighted F1: 0.5710\n",
      "Epoch 17: Learning Rate: 0.001000\n"
     ]
    },
    {
     "name": "stderr",
     "output_type": "stream",
     "text": [
      "                                                       "
     ]
    },
    {
     "name": "stdout",
     "output_type": "stream",
     "text": [
      "Epoch 18: Train Loss: 0.6791, Train Weighted F1: 0.9837, Validation Loss: 1.5242, Validation Weighted F1: 0.5161\n",
      "Epoch 18: Learning Rate: 0.001000\n"
     ]
    },
    {
     "name": "stderr",
     "output_type": "stream",
     "text": [
      "                                                       "
     ]
    },
    {
     "name": "stdout",
     "output_type": "stream",
     "text": [
      "Epoch 19: Train Loss: 0.6778, Train Weighted F1: 0.9837, Validation Loss: 1.5307, Validation Weighted F1: 0.5144\n",
      "Epoch 19: Learning Rate: 0.001000\n"
     ]
    },
    {
     "name": "stderr",
     "output_type": "stream",
     "text": [
      "                                                       \r"
     ]
    },
    {
     "name": "stdout",
     "output_type": "stream",
     "text": [
      "Epoch 20: Train Loss: 0.6813, Train Weighted F1: 0.9810, Validation Loss: 1.5609, Validation Weighted F1: 0.5442\n",
      "Epoch 20: Learning Rate: 0.001000\n"
     ]
    },
    {
     "name": "stderr",
     "output_type": "stream",
     "text": [
      "                                                       \r"
     ]
    },
    {
     "name": "stdout",
     "output_type": "stream",
     "text": [
      "Epoch 21: Train Loss: 0.6753, Train Weighted F1: 0.9849, Validation Loss: 1.5506, Validation Weighted F1: 0.5446\n",
      "Epoch 21: Learning Rate: 0.001000\n"
     ]
    },
    {
     "name": "stderr",
     "output_type": "stream",
     "text": [
      "                                                       \r"
     ]
    },
    {
     "name": "stdout",
     "output_type": "stream",
     "text": [
      "Epoch 22: Train Loss: 0.6741, Train Weighted F1: 0.9846, Validation Loss: 1.5921, Validation Weighted F1: 0.5527\n",
      "Epoch 22: Learning Rate: 0.001000\n"
     ]
    },
    {
     "name": "stderr",
     "output_type": "stream",
     "text": [
      "                                                       "
     ]
    },
    {
     "name": "stdout",
     "output_type": "stream",
     "text": [
      "Epoch 23: Train Loss: 0.6758, Train Weighted F1: 0.9849, Validation Loss: 1.5576, Validation Weighted F1: 0.5407\n",
      "Epoch 23: Learning Rate: 0.001000\n"
     ]
    },
    {
     "name": "stderr",
     "output_type": "stream",
     "text": [
      "                                                       "
     ]
    },
    {
     "name": "stdout",
     "output_type": "stream",
     "text": [
      "Epoch 24: Train Loss: 0.6692, Train Weighted F1: 0.9862, Validation Loss: 1.5815, Validation Weighted F1: 0.5461\n",
      "Epoch 24: Learning Rate: 0.001000\n"
     ]
    },
    {
     "name": "stderr",
     "output_type": "stream",
     "text": [
      "                                                       "
     ]
    },
    {
     "name": "stdout",
     "output_type": "stream",
     "text": [
      "Epoch 25: Train Loss: 0.6718, Train Weighted F1: 0.9853, Validation Loss: 1.5660, Validation Weighted F1: 0.5307\n",
      "Epoch 25: Learning Rate: 0.001000\n"
     ]
    },
    {
     "name": "stderr",
     "output_type": "stream",
     "text": [
      "                                                       "
     ]
    },
    {
     "name": "stdout",
     "output_type": "stream",
     "text": [
      "Epoch 26: Train Loss: 0.6739, Train Weighted F1: 0.9812, Validation Loss: 1.5520, Validation Weighted F1: 0.5483\n",
      "Epoch 26: Learning Rate: 0.001000\n"
     ]
    },
    {
     "name": "stderr",
     "output_type": "stream",
     "text": [
      "                                                       "
     ]
    },
    {
     "name": "stdout",
     "output_type": "stream",
     "text": [
      "Epoch 27: Train Loss: 0.6666, Train Weighted F1: 0.9856, Validation Loss: 1.5634, Validation Weighted F1: 0.5657\n",
      "Epoch 27: Learning Rate: 0.001000\n"
     ]
    },
    {
     "name": "stderr",
     "output_type": "stream",
     "text": [
      "                                                       "
     ]
    },
    {
     "name": "stdout",
     "output_type": "stream",
     "text": [
      "Epoch 28: Train Loss: 0.6647, Train Weighted F1: 0.9852, Validation Loss: 1.5440, Validation Weighted F1: 0.5503\n",
      "Epoch 28: Learning Rate: 0.001000\n"
     ]
    },
    {
     "name": "stderr",
     "output_type": "stream",
     "text": [
      "                                                       "
     ]
    },
    {
     "name": "stdout",
     "output_type": "stream",
     "text": [
      "Epoch 29: Train Loss: 0.6669, Train Weighted F1: 0.9836, Validation Loss: 1.5533, Validation Weighted F1: 0.5445\n",
      "Epoch 29: Learning Rate: 0.001000\n"
     ]
    },
    {
     "name": "stderr",
     "output_type": "stream",
     "text": [
      "                                                       \r"
     ]
    },
    {
     "name": "stdout",
     "output_type": "stream",
     "text": [
      "Epoch 30: Train Loss: 0.6659, Train Weighted F1: 0.9872, Validation Loss: 1.5818, Validation Weighted F1: 0.5202\n",
      "Epoch 30: Learning Rate: 0.001000\n"
     ]
    },
    {
     "name": "stderr",
     "output_type": "stream",
     "text": [
      "                                                       "
     ]
    },
    {
     "name": "stdout",
     "output_type": "stream",
     "text": [
      "Epoch 31: Train Loss: 0.6748, Train Weighted F1: 0.9831, Validation Loss: 1.5613, Validation Weighted F1: 0.5259\n",
      "Epoch 31: Learning Rate: 0.001000\n"
     ]
    },
    {
     "name": "stderr",
     "output_type": "stream",
     "text": [
      "                                                       \r"
     ]
    },
    {
     "name": "stdout",
     "output_type": "stream",
     "text": [
      "Epoch 32: Train Loss: 0.6558, Train Weighted F1: 0.9887, Validation Loss: 1.5539, Validation Weighted F1: 0.5757\n",
      "Epoch 32: Learning Rate: 0.001000\n"
     ]
    },
    {
     "name": "stderr",
     "output_type": "stream",
     "text": [
      "                                                       \r"
     ]
    },
    {
     "name": "stdout",
     "output_type": "stream",
     "text": [
      "Epoch 33: Train Loss: 0.6604, Train Weighted F1: 0.9873, Validation Loss: 1.5681, Validation Weighted F1: 0.5161\n",
      "Epoch 33: Learning Rate: 0.001000\n"
     ]
    },
    {
     "name": "stderr",
     "output_type": "stream",
     "text": [
      "                                                       \r"
     ]
    },
    {
     "name": "stdout",
     "output_type": "stream",
     "text": [
      "Epoch 34: Train Loss: 0.6678, Train Weighted F1: 0.9824, Validation Loss: 1.5618, Validation Weighted F1: 0.5195\n",
      "Epoch 34: Learning Rate: 0.001000\n"
     ]
    },
    {
     "name": "stderr",
     "output_type": "stream",
     "text": [
      "                                                       \r"
     ]
    },
    {
     "name": "stdout",
     "output_type": "stream",
     "text": [
      "Epoch 35: Train Loss: 0.6640, Train Weighted F1: 0.9849, Validation Loss: 1.5511, Validation Weighted F1: 0.5447\n",
      "Epoch 35: Learning Rate: 0.001000\n"
     ]
    },
    {
     "name": "stderr",
     "output_type": "stream",
     "text": [
      "                                                       \r"
     ]
    },
    {
     "name": "stdout",
     "output_type": "stream",
     "text": [
      "Epoch 36: Train Loss: 0.6601, Train Weighted F1: 0.9862, Validation Loss: 1.5238, Validation Weighted F1: 0.5655\n",
      "Epoch 36: Learning Rate: 0.001000\n"
     ]
    },
    {
     "name": "stderr",
     "output_type": "stream",
     "text": [
      "                                                       \r"
     ]
    },
    {
     "name": "stdout",
     "output_type": "stream",
     "text": [
      "Epoch 37: Train Loss: 0.6589, Train Weighted F1: 0.9853, Validation Loss: 1.6179, Validation Weighted F1: 0.5470\n",
      "Epoch 37: Learning Rate: 0.001000\n"
     ]
    },
    {
     "name": "stderr",
     "output_type": "stream",
     "text": [
      "                                                       \r"
     ]
    },
    {
     "name": "stdout",
     "output_type": "stream",
     "text": [
      "Epoch 38: Train Loss: 0.6648, Train Weighted F1: 0.9845, Validation Loss: 1.6235, Validation Weighted F1: 0.4711\n",
      "Epoch 38: Learning Rate: 0.001000\n"
     ]
    },
    {
     "name": "stderr",
     "output_type": "stream",
     "text": [
      "                                                       \r"
     ]
    },
    {
     "name": "stdout",
     "output_type": "stream",
     "text": [
      "Epoch 39: Train Loss: 0.6613, Train Weighted F1: 0.9856, Validation Loss: 1.5828, Validation Weighted F1: 0.5067\n",
      "Epoch 39: Learning Rate: 0.001000\n"
     ]
    },
    {
     "name": "stderr",
     "output_type": "stream",
     "text": [
      "                                                       \r"
     ]
    },
    {
     "name": "stdout",
     "output_type": "stream",
     "text": [
      "Epoch 40: Train Loss: 0.6556, Train Weighted F1: 0.9858, Validation Loss: 1.5980, Validation Weighted F1: 0.5479\n",
      "Epoch 40: Learning Rate: 0.001000\n"
     ]
    },
    {
     "name": "stderr",
     "output_type": "stream",
     "text": [
      "                                                       \r"
     ]
    },
    {
     "name": "stdout",
     "output_type": "stream",
     "text": [
      "Epoch 41: Train Loss: 0.6601, Train Weighted F1: 0.9873, Validation Loss: 1.5547, Validation Weighted F1: 0.5719\n",
      "Epoch 41: Learning Rate: 0.001000\n"
     ]
    },
    {
     "name": "stderr",
     "output_type": "stream",
     "text": [
      "                                                       \r"
     ]
    },
    {
     "name": "stdout",
     "output_type": "stream",
     "text": [
      "Epoch 42: Train Loss: 0.6599, Train Weighted F1: 0.9835, Validation Loss: 1.5784, Validation Weighted F1: 0.5556\n",
      "Epoch 42: Learning Rate: 0.001000\n"
     ]
    },
    {
     "name": "stderr",
     "output_type": "stream",
     "text": [
      "                                                       \r"
     ]
    },
    {
     "name": "stdout",
     "output_type": "stream",
     "text": [
      "Epoch 43: Train Loss: 0.6532, Train Weighted F1: 0.9860, Validation Loss: 1.5658, Validation Weighted F1: 0.5573\n",
      "Epoch 43: Learning Rate: 0.001000\n"
     ]
    },
    {
     "name": "stderr",
     "output_type": "stream",
     "text": [
      "                                                       \r"
     ]
    },
    {
     "name": "stdout",
     "output_type": "stream",
     "text": [
      "Epoch 44: Train Loss: 0.6581, Train Weighted F1: 0.9851, Validation Loss: 1.5212, Validation Weighted F1: 0.5656\n",
      "Epoch 44: Learning Rate: 0.001000\n"
     ]
    },
    {
     "name": "stderr",
     "output_type": "stream",
     "text": [
      "                                                       \r"
     ]
    },
    {
     "name": "stdout",
     "output_type": "stream",
     "text": [
      "Epoch 45: Train Loss: 0.6516, Train Weighted F1: 0.9886, Validation Loss: 1.4960, Validation Weighted F1: 0.5612\n",
      "Epoch 45: Learning Rate: 0.001000\n"
     ]
    },
    {
     "name": "stderr",
     "output_type": "stream",
     "text": [
      "                                                       \r"
     ]
    },
    {
     "name": "stdout",
     "output_type": "stream",
     "text": [
      "Epoch 46: Train Loss: 0.6616, Train Weighted F1: 0.9823, Validation Loss: 1.5928, Validation Weighted F1: 0.5496\n",
      "Epoch 46: Learning Rate: 0.001000\n"
     ]
    },
    {
     "name": "stderr",
     "output_type": "stream",
     "text": [
      "                                                       \r"
     ]
    },
    {
     "name": "stdout",
     "output_type": "stream",
     "text": [
      "Epoch 47: Train Loss: 0.6483, Train Weighted F1: 0.9905, Validation Loss: 1.5634, Validation Weighted F1: 0.5838\n",
      "Epoch 47: Learning Rate: 0.001000\n"
     ]
    },
    {
     "name": "stderr",
     "output_type": "stream",
     "text": [
      "                                                       \r"
     ]
    },
    {
     "name": "stdout",
     "output_type": "stream",
     "text": [
      "Epoch 48: Train Loss: 0.6558, Train Weighted F1: 0.9850, Validation Loss: 1.5681, Validation Weighted F1: 0.5905\n",
      "Epoch 48: Learning Rate: 0.001000\n"
     ]
    },
    {
     "name": "stderr",
     "output_type": "stream",
     "text": [
      "                                                       \r"
     ]
    },
    {
     "name": "stdout",
     "output_type": "stream",
     "text": [
      "Epoch 49: Train Loss: 0.6492, Train Weighted F1: 0.9871, Validation Loss: 1.5507, Validation Weighted F1: 0.5483\n",
      "Epoch 49: Learning Rate: 0.001000\n"
     ]
    },
    {
     "name": "stderr",
     "output_type": "stream",
     "text": [
      "                                                       \r"
     ]
    },
    {
     "name": "stdout",
     "output_type": "stream",
     "text": [
      "Epoch 50: Train Loss: 0.6560, Train Weighted F1: 0.9859, Validation Loss: 1.5872, Validation Weighted F1: 0.5352\n",
      "Epoch 50: Learning Rate: 0.001000\n"
     ]
    },
    {
     "name": "stderr",
     "output_type": "stream",
     "text": [
      "                                                       \r"
     ]
    },
    {
     "name": "stdout",
     "output_type": "stream",
     "text": [
      "Epoch 51: Train Loss: 0.6532, Train Weighted F1: 0.9874, Validation Loss: 1.5897, Validation Weighted F1: 0.5100\n",
      "Epoch 51: Learning Rate: 0.001000\n"
     ]
    },
    {
     "name": "stderr",
     "output_type": "stream",
     "text": [
      "                                                       \r"
     ]
    },
    {
     "name": "stdout",
     "output_type": "stream",
     "text": [
      "Epoch 52: Train Loss: 0.6509, Train Weighted F1: 0.9859, Validation Loss: 1.5867, Validation Weighted F1: 0.5834\n",
      "Epoch 52: Learning Rate: 0.001000\n"
     ]
    },
    {
     "name": "stderr",
     "output_type": "stream",
     "text": [
      "                                                       \r"
     ]
    },
    {
     "name": "stdout",
     "output_type": "stream",
     "text": [
      "Epoch 53: Train Loss: 0.6511, Train Weighted F1: 0.9888, Validation Loss: 1.5678, Validation Weighted F1: 0.5702\n",
      "Epoch 53: Learning Rate: 0.001000\n"
     ]
    },
    {
     "name": "stderr",
     "output_type": "stream",
     "text": [
      "                                                       \r"
     ]
    },
    {
     "name": "stdout",
     "output_type": "stream",
     "text": [
      "Epoch 54: Train Loss: 0.6466, Train Weighted F1: 0.9878, Validation Loss: 1.5540, Validation Weighted F1: 0.5945\n",
      "Epoch 54: Learning Rate: 0.001000\n"
     ]
    },
    {
     "name": "stderr",
     "output_type": "stream",
     "text": [
      "                                                       \r"
     ]
    },
    {
     "name": "stdout",
     "output_type": "stream",
     "text": [
      "Epoch 55: Train Loss: 0.6502, Train Weighted F1: 0.9869, Validation Loss: 1.5529, Validation Weighted F1: 0.5413\n",
      "Epoch 55: Learning Rate: 0.001000\n"
     ]
    },
    {
     "name": "stderr",
     "output_type": "stream",
     "text": [
      "                                                       \r"
     ]
    },
    {
     "name": "stdout",
     "output_type": "stream",
     "text": [
      "Epoch 56: Train Loss: 0.6508, Train Weighted F1: 0.9859, Validation Loss: 1.5794, Validation Weighted F1: 0.5495\n",
      "Epoch 56: Learning Rate: 0.001000\n"
     ]
    },
    {
     "name": "stderr",
     "output_type": "stream",
     "text": [
      "                                                       \r"
     ]
    },
    {
     "name": "stdout",
     "output_type": "stream",
     "text": [
      "Epoch 57: Train Loss: 0.6512, Train Weighted F1: 0.9877, Validation Loss: 1.5946, Validation Weighted F1: 0.5477\n",
      "Epoch 57: Learning Rate: 0.001000\n"
     ]
    },
    {
     "name": "stderr",
     "output_type": "stream",
     "text": [
      "                                                       \r"
     ]
    },
    {
     "name": "stdout",
     "output_type": "stream",
     "text": [
      "Epoch 58: Train Loss: 0.6444, Train Weighted F1: 0.9889, Validation Loss: 1.5384, Validation Weighted F1: 0.5622\n",
      "Epoch 58: Learning Rate: 0.001000\n"
     ]
    },
    {
     "name": "stderr",
     "output_type": "stream",
     "text": [
      "                                                       \r"
     ]
    },
    {
     "name": "stdout",
     "output_type": "stream",
     "text": [
      "Epoch 59: Train Loss: 0.6437, Train Weighted F1: 0.9880, Validation Loss: 1.5755, Validation Weighted F1: 0.5793\n",
      "Epoch 59: Learning Rate: 0.001000\n"
     ]
    },
    {
     "name": "stderr",
     "output_type": "stream",
     "text": [
      "                                                       \r"
     ]
    },
    {
     "name": "stdout",
     "output_type": "stream",
     "text": [
      "Epoch 60: Train Loss: 0.6522, Train Weighted F1: 0.9826, Validation Loss: 1.6027, Validation Weighted F1: 0.5744\n",
      "Epoch 60: Learning Rate: 0.001000\n"
     ]
    },
    {
     "name": "stderr",
     "output_type": "stream",
     "text": [
      "                                                       \r"
     ]
    },
    {
     "name": "stdout",
     "output_type": "stream",
     "text": [
      "Epoch 61: Train Loss: 0.6519, Train Weighted F1: 0.9860, Validation Loss: 1.5448, Validation Weighted F1: 0.5418\n",
      "Epoch 61: Learning Rate: 0.001000\n"
     ]
    },
    {
     "name": "stderr",
     "output_type": "stream",
     "text": [
      "                                                       \r"
     ]
    },
    {
     "name": "stdout",
     "output_type": "stream",
     "text": [
      "Epoch 62: Train Loss: 0.6464, Train Weighted F1: 0.9880, Validation Loss: 1.5457, Validation Weighted F1: 0.5771\n",
      "Epoch 62: Learning Rate: 0.001000\n"
     ]
    },
    {
     "name": "stderr",
     "output_type": "stream",
     "text": [
      "                                                       \r"
     ]
    },
    {
     "name": "stdout",
     "output_type": "stream",
     "text": [
      "Epoch 63: Train Loss: 0.6444, Train Weighted F1: 0.9904, Validation Loss: 1.5875, Validation Weighted F1: 0.5639\n",
      "Epoch 63: Learning Rate: 0.001000\n"
     ]
    },
    {
     "name": "stderr",
     "output_type": "stream",
     "text": [
      "                                                       \r"
     ]
    },
    {
     "name": "stdout",
     "output_type": "stream",
     "text": [
      "Epoch 64: Train Loss: 0.6418, Train Weighted F1: 0.9884, Validation Loss: 1.5716, Validation Weighted F1: 0.5506\n",
      "Epoch 64: Learning Rate: 0.001000\n"
     ]
    },
    {
     "name": "stderr",
     "output_type": "stream",
     "text": [
      "                                                       \r"
     ]
    },
    {
     "name": "stdout",
     "output_type": "stream",
     "text": [
      "Epoch 65: Train Loss: 0.6441, Train Weighted F1: 0.9862, Validation Loss: 1.6392, Validation Weighted F1: 0.5194\n",
      "Epoch 65: Learning Rate: 0.001000\n"
     ]
    },
    {
     "name": "stderr",
     "output_type": "stream",
     "text": [
      "                                                       \r"
     ]
    },
    {
     "name": "stdout",
     "output_type": "stream",
     "text": [
      "Epoch 66: Train Loss: 0.6467, Train Weighted F1: 0.9877, Validation Loss: 1.5244, Validation Weighted F1: 0.5663\n",
      "Epoch 66: Learning Rate: 0.001000\n"
     ]
    },
    {
     "name": "stderr",
     "output_type": "stream",
     "text": [
      "                                                       \r"
     ]
    },
    {
     "name": "stdout",
     "output_type": "stream",
     "text": [
      "Epoch 67: Train Loss: 0.6431, Train Weighted F1: 0.9871, Validation Loss: 1.5694, Validation Weighted F1: 0.5485\n",
      "Epoch 67: Learning Rate: 0.001000\n"
     ]
    },
    {
     "name": "stderr",
     "output_type": "stream",
     "text": [
      "                                                       \r"
     ]
    },
    {
     "name": "stdout",
     "output_type": "stream",
     "text": [
      "Epoch 68: Train Loss: 0.6447, Train Weighted F1: 0.9874, Validation Loss: 1.5797, Validation Weighted F1: 0.5704\n",
      "Epoch 68: Learning Rate: 0.001000\n"
     ]
    },
    {
     "name": "stderr",
     "output_type": "stream",
     "text": [
      "                                                       \r"
     ]
    },
    {
     "name": "stdout",
     "output_type": "stream",
     "text": [
      "Epoch 69: Train Loss: 0.6478, Train Weighted F1: 0.9876, Validation Loss: 1.5915, Validation Weighted F1: 0.5715\n",
      "Epoch 69: Learning Rate: 0.001000\n"
     ]
    },
    {
     "name": "stderr",
     "output_type": "stream",
     "text": [
      "                                                       \r"
     ]
    },
    {
     "name": "stdout",
     "output_type": "stream",
     "text": [
      "Epoch 70: Train Loss: 0.6419, Train Weighted F1: 0.9863, Validation Loss: 1.5615, Validation Weighted F1: 0.5789\n",
      "Epoch 70: Learning Rate: 0.001000\n"
     ]
    },
    {
     "name": "stderr",
     "output_type": "stream",
     "text": [
      "                                                       \r"
     ]
    },
    {
     "name": "stdout",
     "output_type": "stream",
     "text": [
      "Epoch 71: Train Loss: 0.6442, Train Weighted F1: 0.9888, Validation Loss: 1.6246, Validation Weighted F1: 0.5179\n",
      "Epoch 71: Learning Rate: 0.001000\n"
     ]
    },
    {
     "name": "stderr",
     "output_type": "stream",
     "text": [
      "                                                       \r"
     ]
    },
    {
     "name": "stdout",
     "output_type": "stream",
     "text": [
      "Epoch 72: Train Loss: 0.6469, Train Weighted F1: 0.9882, Validation Loss: 1.5884, Validation Weighted F1: 0.5748\n",
      "Epoch 72: Learning Rate: 0.001000\n"
     ]
    },
    {
     "name": "stderr",
     "output_type": "stream",
     "text": [
      "                                                       \r"
     ]
    },
    {
     "name": "stdout",
     "output_type": "stream",
     "text": [
      "Epoch 73: Train Loss: 0.6388, Train Weighted F1: 0.9895, Validation Loss: 1.5806, Validation Weighted F1: 0.5769\n",
      "Epoch 73: Learning Rate: 0.001000\n"
     ]
    },
    {
     "name": "stderr",
     "output_type": "stream",
     "text": [
      "                                                       \r"
     ]
    },
    {
     "name": "stdout",
     "output_type": "stream",
     "text": [
      "Epoch 74: Train Loss: 0.6435, Train Weighted F1: 0.9887, Validation Loss: 1.5780, Validation Weighted F1: 0.5533\n",
      "Epoch 74: Learning Rate: 0.001000\n"
     ]
    },
    {
     "name": "stderr",
     "output_type": "stream",
     "text": [
      "                                                       \r"
     ]
    },
    {
     "name": "stdout",
     "output_type": "stream",
     "text": [
      "Epoch 75: Train Loss: 0.6443, Train Weighted F1: 0.9871, Validation Loss: 1.5493, Validation Weighted F1: 0.5900\n",
      "Epoch 75: Learning Rate: 0.001000\n"
     ]
    },
    {
     "name": "stderr",
     "output_type": "stream",
     "text": [
      "                                                       \r"
     ]
    },
    {
     "name": "stdout",
     "output_type": "stream",
     "text": [
      "Epoch 76: Train Loss: 0.6408, Train Weighted F1: 0.9871, Validation Loss: 1.5206, Validation Weighted F1: 0.5781\n",
      "Epoch 76: Learning Rate: 0.001000\n"
     ]
    },
    {
     "name": "stderr",
     "output_type": "stream",
     "text": [
      "                                                       \r"
     ]
    },
    {
     "name": "stdout",
     "output_type": "stream",
     "text": [
      "Epoch 77: Train Loss: 0.6400, Train Weighted F1: 0.9881, Validation Loss: 1.5690, Validation Weighted F1: 0.5887\n",
      "Epoch 77: Learning Rate: 0.001000\n"
     ]
    },
    {
     "name": "stderr",
     "output_type": "stream",
     "text": [
      "                                                       \r"
     ]
    },
    {
     "name": "stdout",
     "output_type": "stream",
     "text": [
      "Epoch 78: Train Loss: 0.6399, Train Weighted F1: 0.9883, Validation Loss: 1.5591, Validation Weighted F1: 0.5862\n",
      "Epoch 78: Learning Rate: 0.001000\n"
     ]
    },
    {
     "name": "stderr",
     "output_type": "stream",
     "text": [
      "                                                       \r"
     ]
    },
    {
     "name": "stdout",
     "output_type": "stream",
     "text": [
      "Epoch 79: Train Loss: 0.6403, Train Weighted F1: 0.9889, Validation Loss: 1.5591, Validation Weighted F1: 0.5616\n",
      "Epoch 79: Learning Rate: 0.001000\n"
     ]
    },
    {
     "name": "stderr",
     "output_type": "stream",
     "text": [
      "                                                       \r"
     ]
    },
    {
     "name": "stdout",
     "output_type": "stream",
     "text": [
      "Epoch 80: Train Loss: 0.6399, Train Weighted F1: 0.9873, Validation Loss: 1.5957, Validation Weighted F1: 0.5425\n",
      "Epoch 80: Learning Rate: 0.001000\n"
     ]
    },
    {
     "name": "stderr",
     "output_type": "stream",
     "text": [
      "                                                       \r"
     ]
    },
    {
     "name": "stdout",
     "output_type": "stream",
     "text": [
      "Epoch 81: Train Loss: 0.6402, Train Weighted F1: 0.9878, Validation Loss: 1.5985, Validation Weighted F1: 0.5667\n",
      "Epoch 81: Learning Rate: 0.001000\n"
     ]
    },
    {
     "name": "stderr",
     "output_type": "stream",
     "text": [
      "                                                       \r"
     ]
    },
    {
     "name": "stdout",
     "output_type": "stream",
     "text": [
      "Epoch 82: Train Loss: 0.6457, Train Weighted F1: 0.9853, Validation Loss: 1.5946, Validation Weighted F1: 0.5724\n",
      "Epoch 82: Learning Rate: 0.001000\n"
     ]
    },
    {
     "name": "stderr",
     "output_type": "stream",
     "text": [
      "                                                       \r"
     ]
    },
    {
     "name": "stdout",
     "output_type": "stream",
     "text": [
      "Epoch 83: Train Loss: 0.6389, Train Weighted F1: 0.9901, Validation Loss: 1.5684, Validation Weighted F1: 0.5796\n",
      "Epoch 83: Learning Rate: 0.001000\n"
     ]
    },
    {
     "name": "stderr",
     "output_type": "stream",
     "text": [
      "                                                       \r"
     ]
    },
    {
     "name": "stdout",
     "output_type": "stream",
     "text": [
      "Epoch 84: Train Loss: 0.6361, Train Weighted F1: 0.9919, Validation Loss: 1.6058, Validation Weighted F1: 0.5790\n",
      "Epoch 84: Learning Rate: 0.001000\n"
     ]
    },
    {
     "name": "stderr",
     "output_type": "stream",
     "text": [
      "                                                       \r"
     ]
    },
    {
     "name": "stdout",
     "output_type": "stream",
     "text": [
      "Epoch 85: Train Loss: 0.6390, Train Weighted F1: 0.9887, Validation Loss: 1.5787, Validation Weighted F1: 0.5347\n",
      "Epoch 85: Learning Rate: 0.001000\n"
     ]
    },
    {
     "name": "stderr",
     "output_type": "stream",
     "text": [
      "                                                       \r"
     ]
    },
    {
     "name": "stdout",
     "output_type": "stream",
     "text": [
      "Epoch 86: Train Loss: 0.6409, Train Weighted F1: 0.9882, Validation Loss: 1.6197, Validation Weighted F1: 0.5837\n",
      "Epoch 86: Learning Rate: 0.001000\n"
     ]
    },
    {
     "name": "stderr",
     "output_type": "stream",
     "text": [
      "                                                       \r"
     ]
    },
    {
     "name": "stdout",
     "output_type": "stream",
     "text": [
      "Epoch 87: Train Loss: 0.6372, Train Weighted F1: 0.9887, Validation Loss: 1.5900, Validation Weighted F1: 0.5670\n",
      "Epoch 87: Learning Rate: 0.001000\n"
     ]
    },
    {
     "name": "stderr",
     "output_type": "stream",
     "text": [
      "                                                       \r"
     ]
    },
    {
     "name": "stdout",
     "output_type": "stream",
     "text": [
      "Epoch 88: Train Loss: 0.6388, Train Weighted F1: 0.9911, Validation Loss: 1.5965, Validation Weighted F1: 0.5583\n",
      "Epoch 88: Learning Rate: 0.001000\n"
     ]
    },
    {
     "name": "stderr",
     "output_type": "stream",
     "text": [
      "                                                       \r"
     ]
    },
    {
     "name": "stdout",
     "output_type": "stream",
     "text": [
      "Epoch 89: Train Loss: 0.6371, Train Weighted F1: 0.9888, Validation Loss: 1.6005, Validation Weighted F1: 0.5943\n",
      "Epoch 89: Learning Rate: 0.001000\n"
     ]
    },
    {
     "name": "stderr",
     "output_type": "stream",
     "text": [
      "                                                       \r"
     ]
    },
    {
     "name": "stdout",
     "output_type": "stream",
     "text": [
      "Epoch 90: Train Loss: 0.6402, Train Weighted F1: 0.9883, Validation Loss: 1.5963, Validation Weighted F1: 0.6000\n",
      "Epoch 90: Learning Rate: 0.001000\n"
     ]
    },
    {
     "name": "stderr",
     "output_type": "stream",
     "text": [
      "                                                       \r"
     ]
    },
    {
     "name": "stdout",
     "output_type": "stream",
     "text": [
      "Epoch 91: Train Loss: 0.6363, Train Weighted F1: 0.9893, Validation Loss: 1.6076, Validation Weighted F1: 0.5851\n",
      "Epoch 91: Learning Rate: 0.001000\n"
     ]
    },
    {
     "name": "stderr",
     "output_type": "stream",
     "text": [
      "                                                       \r"
     ]
    },
    {
     "name": "stdout",
     "output_type": "stream",
     "text": [
      "Epoch 92: Train Loss: 0.6367, Train Weighted F1: 0.9893, Validation Loss: 1.5831, Validation Weighted F1: 0.5404\n",
      "Epoch 92: Learning Rate: 0.001000\n"
     ]
    },
    {
     "name": "stderr",
     "output_type": "stream",
     "text": [
      "                                                       \r"
     ]
    },
    {
     "name": "stdout",
     "output_type": "stream",
     "text": [
      "Epoch 93: Train Loss: 0.6373, Train Weighted F1: 0.9894, Validation Loss: 1.6007, Validation Weighted F1: 0.5823\n",
      "Epoch 93: Learning Rate: 0.001000\n"
     ]
    },
    {
     "name": "stderr",
     "output_type": "stream",
     "text": [
      "                                                       \r"
     ]
    },
    {
     "name": "stdout",
     "output_type": "stream",
     "text": [
      "Epoch 94: Train Loss: 0.6397, Train Weighted F1: 0.9878, Validation Loss: 1.6033, Validation Weighted F1: 0.5456\n",
      "Epoch 94: Learning Rate: 0.001000\n"
     ]
    },
    {
     "name": "stderr",
     "output_type": "stream",
     "text": [
      "                                                       \r"
     ]
    },
    {
     "name": "stdout",
     "output_type": "stream",
     "text": [
      "Epoch 95: Train Loss: 0.6360, Train Weighted F1: 0.9897, Validation Loss: 1.6317, Validation Weighted F1: 0.5503\n",
      "Epoch 95: Learning Rate: 0.001000\n"
     ]
    },
    {
     "name": "stderr",
     "output_type": "stream",
     "text": [
      "                                                       \r"
     ]
    },
    {
     "name": "stdout",
     "output_type": "stream",
     "text": [
      "Epoch 96: Train Loss: 0.6320, Train Weighted F1: 0.9907, Validation Loss: 1.5817, Validation Weighted F1: 0.5730\n",
      "Epoch 96: Learning Rate: 0.001000\n"
     ]
    },
    {
     "name": "stderr",
     "output_type": "stream",
     "text": [
      "                                                       \r"
     ]
    },
    {
     "name": "stdout",
     "output_type": "stream",
     "text": [
      "Epoch 97: Train Loss: 0.6393, Train Weighted F1: 0.9885, Validation Loss: 1.5743, Validation Weighted F1: 0.5553\n",
      "Epoch 97: Learning Rate: 0.001000\n"
     ]
    },
    {
     "name": "stderr",
     "output_type": "stream",
     "text": [
      "                                                       \r"
     ]
    },
    {
     "name": "stdout",
     "output_type": "stream",
     "text": [
      "Epoch 98: Train Loss: 0.6346, Train Weighted F1: 0.9902, Validation Loss: 1.6608, Validation Weighted F1: 0.5569\n",
      "Epoch 98: Learning Rate: 0.001000\n"
     ]
    },
    {
     "name": "stderr",
     "output_type": "stream",
     "text": [
      "                                                       \r"
     ]
    },
    {
     "name": "stdout",
     "output_type": "stream",
     "text": [
      "Epoch 99: Train Loss: 0.6376, Train Weighted F1: 0.9903, Validation Loss: 1.5887, Validation Weighted F1: 0.5514\n",
      "Epoch 99: Learning Rate: 0.001000\n"
     ]
    },
    {
     "name": "stderr",
     "output_type": "stream",
     "text": [
      "                                                        \r"
     ]
    },
    {
     "name": "stdout",
     "output_type": "stream",
     "text": [
      "Epoch 100: Train Loss: 0.6309, Train Weighted F1: 0.9915, Validation Loss: 1.6123, Validation Weighted F1: 0.5699\n",
      "Epoch 100: Learning Rate: 0.001000\n"
     ]
    },
    {
     "name": "stderr",
     "output_type": "stream",
     "text": [
      "                                                        \r"
     ]
    },
    {
     "name": "stdout",
     "output_type": "stream",
     "text": [
      "Epoch 101: Train Loss: 0.6423, Train Weighted F1: 0.9872, Validation Loss: 1.6336, Validation Weighted F1: 0.5768\n",
      "Epoch 101: Learning Rate: 0.001000\n"
     ]
    },
    {
     "name": "stderr",
     "output_type": "stream",
     "text": [
      "                                                        \r"
     ]
    },
    {
     "name": "stdout",
     "output_type": "stream",
     "text": [
      "Epoch 102: Train Loss: 0.6382, Train Weighted F1: 0.9878, Validation Loss: 1.6232, Validation Weighted F1: 0.5534\n",
      "Epoch 102: Learning Rate: 0.001000\n"
     ]
    },
    {
     "name": "stderr",
     "output_type": "stream",
     "text": [
      "                                                        \r"
     ]
    },
    {
     "name": "stdout",
     "output_type": "stream",
     "text": [
      "Epoch 103: Train Loss: 0.6358, Train Weighted F1: 0.9890, Validation Loss: 1.6114, Validation Weighted F1: 0.5765\n",
      "Epoch 103: Learning Rate: 0.001000\n"
     ]
    },
    {
     "name": "stderr",
     "output_type": "stream",
     "text": [
      "                                                        \r"
     ]
    },
    {
     "name": "stdout",
     "output_type": "stream",
     "text": [
      "Epoch 104: Train Loss: 0.6322, Train Weighted F1: 0.9906, Validation Loss: 1.5785, Validation Weighted F1: 0.5899\n",
      "Epoch 104: Learning Rate: 0.001000\n"
     ]
    },
    {
     "name": "stderr",
     "output_type": "stream",
     "text": [
      "                                                        \r"
     ]
    },
    {
     "name": "stdout",
     "output_type": "stream",
     "text": [
      "Epoch 105: Train Loss: 0.6333, Train Weighted F1: 0.9889, Validation Loss: 1.5687, Validation Weighted F1: 0.5462\n",
      "Epoch 105: Learning Rate: 0.001000\n"
     ]
    },
    {
     "name": "stderr",
     "output_type": "stream",
     "text": [
      "                                                        \r"
     ]
    },
    {
     "name": "stdout",
     "output_type": "stream",
     "text": [
      "Epoch 106: Train Loss: 0.6308, Train Weighted F1: 0.9902, Validation Loss: 1.5530, Validation Weighted F1: 0.5562\n",
      "Epoch 106: Learning Rate: 0.001000\n"
     ]
    },
    {
     "name": "stderr",
     "output_type": "stream",
     "text": [
      "                                                        \r"
     ]
    },
    {
     "name": "stdout",
     "output_type": "stream",
     "text": [
      "Epoch 107: Train Loss: 0.6350, Train Weighted F1: 0.9910, Validation Loss: 1.5701, Validation Weighted F1: 0.5802\n",
      "Epoch 107: Learning Rate: 0.001000\n"
     ]
    },
    {
     "name": "stderr",
     "output_type": "stream",
     "text": [
      "                                                        \r"
     ]
    },
    {
     "name": "stdout",
     "output_type": "stream",
     "text": [
      "Epoch 108: Train Loss: 0.6328, Train Weighted F1: 0.9887, Validation Loss: 1.6210, Validation Weighted F1: 0.5618\n",
      "Epoch 108: Learning Rate: 0.001000\n"
     ]
    },
    {
     "name": "stderr",
     "output_type": "stream",
     "text": [
      "                                                        \r"
     ]
    },
    {
     "name": "stdout",
     "output_type": "stream",
     "text": [
      "Epoch 109: Train Loss: 0.6312, Train Weighted F1: 0.9889, Validation Loss: 1.5675, Validation Weighted F1: 0.5686\n",
      "Epoch 109: Learning Rate: 0.001000\n"
     ]
    },
    {
     "name": "stderr",
     "output_type": "stream",
     "text": [
      "                                                        \r"
     ]
    },
    {
     "name": "stdout",
     "output_type": "stream",
     "text": [
      "Epoch 110: Train Loss: 0.6395, Train Weighted F1: 0.9899, Validation Loss: 1.5909, Validation Weighted F1: 0.5831\n",
      "Epoch 110: Learning Rate: 0.001000\n"
     ]
    },
    {
     "name": "stderr",
     "output_type": "stream",
     "text": [
      "                                                        \r"
     ]
    },
    {
     "name": "stdout",
     "output_type": "stream",
     "text": [
      "Epoch 111: Train Loss: 0.6312, Train Weighted F1: 0.9907, Validation Loss: 1.6118, Validation Weighted F1: 0.5604\n",
      "Epoch 111: Learning Rate: 0.001000\n"
     ]
    },
    {
     "name": "stderr",
     "output_type": "stream",
     "text": [
      "                                                        \r"
     ]
    },
    {
     "name": "stdout",
     "output_type": "stream",
     "text": [
      "Epoch 112: Train Loss: 0.6314, Train Weighted F1: 0.9880, Validation Loss: 1.6090, Validation Weighted F1: 0.5533\n",
      "Epoch 112: Learning Rate: 0.001000\n"
     ]
    },
    {
     "name": "stderr",
     "output_type": "stream",
     "text": [
      "                                                        \r"
     ]
    },
    {
     "name": "stdout",
     "output_type": "stream",
     "text": [
      "Epoch 113: Train Loss: 0.6307, Train Weighted F1: 0.9907, Validation Loss: 1.6071, Validation Weighted F1: 0.5837\n",
      "Epoch 113: Learning Rate: 0.001000\n"
     ]
    },
    {
     "name": "stderr",
     "output_type": "stream",
     "text": [
      "                                                        \r"
     ]
    },
    {
     "name": "stdout",
     "output_type": "stream",
     "text": [
      "Epoch 114: Train Loss: 0.6415, Train Weighted F1: 0.9837, Validation Loss: 1.6022, Validation Weighted F1: 0.5795\n",
      "Epoch 114: Learning Rate: 0.001000\n"
     ]
    },
    {
     "name": "stderr",
     "output_type": "stream",
     "text": [
      "                                                        \r"
     ]
    },
    {
     "name": "stdout",
     "output_type": "stream",
     "text": [
      "Epoch 115: Train Loss: 0.6283, Train Weighted F1: 0.9921, Validation Loss: 1.6214, Validation Weighted F1: 0.5514\n",
      "Epoch 115: Learning Rate: 0.001000\n"
     ]
    },
    {
     "name": "stderr",
     "output_type": "stream",
     "text": [
      "                                                        \r"
     ]
    },
    {
     "name": "stdout",
     "output_type": "stream",
     "text": [
      "Epoch 116: Train Loss: 0.6263, Train Weighted F1: 0.9927, Validation Loss: 1.5984, Validation Weighted F1: 0.5325\n",
      "Epoch 116: Learning Rate: 0.001000\n"
     ]
    },
    {
     "name": "stderr",
     "output_type": "stream",
     "text": [
      "                                                        \r"
     ]
    },
    {
     "name": "stdout",
     "output_type": "stream",
     "text": [
      "Epoch 117: Train Loss: 0.6278, Train Weighted F1: 0.9911, Validation Loss: 1.6070, Validation Weighted F1: 0.5837\n",
      "Epoch 117: Learning Rate: 0.001000\n"
     ]
    },
    {
     "name": "stderr",
     "output_type": "stream",
     "text": [
      "                                                        \r"
     ]
    },
    {
     "name": "stdout",
     "output_type": "stream",
     "text": [
      "Epoch 118: Train Loss: 0.6391, Train Weighted F1: 0.9878, Validation Loss: 1.5861, Validation Weighted F1: 0.5545\n",
      "Epoch 118: Learning Rate: 0.001000\n"
     ]
    },
    {
     "name": "stderr",
     "output_type": "stream",
     "text": [
      "                                                        \r"
     ]
    },
    {
     "name": "stdout",
     "output_type": "stream",
     "text": [
      "Epoch 119: Train Loss: 0.6304, Train Weighted F1: 0.9915, Validation Loss: 1.5897, Validation Weighted F1: 0.5934\n",
      "Epoch 119: Learning Rate: 0.001000\n"
     ]
    },
    {
     "name": "stderr",
     "output_type": "stream",
     "text": [
      "                                                        \r"
     ]
    },
    {
     "name": "stdout",
     "output_type": "stream",
     "text": [
      "Epoch 120: Train Loss: 0.6303, Train Weighted F1: 0.9904, Validation Loss: 1.5778, Validation Weighted F1: 0.5415\n",
      "Epoch 120: Learning Rate: 0.001000\n"
     ]
    },
    {
     "name": "stderr",
     "output_type": "stream",
     "text": [
      "                                                        \r"
     ]
    },
    {
     "name": "stdout",
     "output_type": "stream",
     "text": [
      "Epoch 121: Train Loss: 0.6311, Train Weighted F1: 0.9913, Validation Loss: 1.5523, Validation Weighted F1: 0.5655\n",
      "Epoch 121: Learning Rate: 0.001000\n"
     ]
    },
    {
     "name": "stderr",
     "output_type": "stream",
     "text": [
      "                                                        \r"
     ]
    },
    {
     "name": "stdout",
     "output_type": "stream",
     "text": [
      "Epoch 122: Train Loss: 0.6318, Train Weighted F1: 0.9901, Validation Loss: 1.5590, Validation Weighted F1: 0.5938\n",
      "Epoch 122: Learning Rate: 0.001000\n"
     ]
    },
    {
     "name": "stderr",
     "output_type": "stream",
     "text": [
      "                                                        \r"
     ]
    },
    {
     "name": "stdout",
     "output_type": "stream",
     "text": [
      "Epoch 123: Train Loss: 0.6300, Train Weighted F1: 0.9918, Validation Loss: 1.6093, Validation Weighted F1: 0.5791\n",
      "Epoch 123: Learning Rate: 0.001000\n"
     ]
    },
    {
     "name": "stderr",
     "output_type": "stream",
     "text": [
      "                                                        \r"
     ]
    },
    {
     "name": "stdout",
     "output_type": "stream",
     "text": [
      "Epoch 124: Train Loss: 0.6343, Train Weighted F1: 0.9868, Validation Loss: 1.5964, Validation Weighted F1: 0.5436\n",
      "Epoch 124: Learning Rate: 0.001000\n"
     ]
    },
    {
     "name": "stderr",
     "output_type": "stream",
     "text": [
      "                                                        \r"
     ]
    },
    {
     "name": "stdout",
     "output_type": "stream",
     "text": [
      "Epoch 125: Train Loss: 0.6303, Train Weighted F1: 0.9899, Validation Loss: 1.5902, Validation Weighted F1: 0.5789\n",
      "Epoch 125: Learning Rate: 0.001000\n"
     ]
    },
    {
     "name": "stderr",
     "output_type": "stream",
     "text": [
      "                                                        \r"
     ]
    },
    {
     "name": "stdout",
     "output_type": "stream",
     "text": [
      "Epoch 126: Train Loss: 0.6290, Train Weighted F1: 0.9933, Validation Loss: 1.5659, Validation Weighted F1: 0.6002\n",
      "Epoch 126: Learning Rate: 0.001000\n"
     ]
    },
    {
     "name": "stderr",
     "output_type": "stream",
     "text": [
      "                                                        \r"
     ]
    },
    {
     "name": "stdout",
     "output_type": "stream",
     "text": [
      "Epoch 127: Train Loss: 0.6289, Train Weighted F1: 0.9909, Validation Loss: 1.6493, Validation Weighted F1: 0.5760\n",
      "Epoch 127: Learning Rate: 0.001000\n"
     ]
    },
    {
     "name": "stderr",
     "output_type": "stream",
     "text": [
      "                                                        \r"
     ]
    },
    {
     "name": "stdout",
     "output_type": "stream",
     "text": [
      "Epoch 128: Train Loss: 0.6295, Train Weighted F1: 0.9914, Validation Loss: 1.5697, Validation Weighted F1: 0.5819\n",
      "Epoch 128: Learning Rate: 0.001000\n"
     ]
    },
    {
     "name": "stderr",
     "output_type": "stream",
     "text": [
      "                                                        \r"
     ]
    },
    {
     "name": "stdout",
     "output_type": "stream",
     "text": [
      "Epoch 129: Train Loss: 0.6316, Train Weighted F1: 0.9895, Validation Loss: 1.5714, Validation Weighted F1: 0.6102\n",
      "Epoch 129: Learning Rate: 0.001000\n"
     ]
    },
    {
     "name": "stderr",
     "output_type": "stream",
     "text": [
      "                                                        \r"
     ]
    },
    {
     "name": "stdout",
     "output_type": "stream",
     "text": [
      "Epoch 130: Train Loss: 0.6320, Train Weighted F1: 0.9904, Validation Loss: 1.6130, Validation Weighted F1: 0.5953\n",
      "Epoch 130: Learning Rate: 0.001000\n"
     ]
    },
    {
     "name": "stderr",
     "output_type": "stream",
     "text": [
      "                                                        \r"
     ]
    },
    {
     "name": "stdout",
     "output_type": "stream",
     "text": [
      "Epoch 131: Train Loss: 0.6262, Train Weighted F1: 0.9934, Validation Loss: 1.5674, Validation Weighted F1: 0.5519\n",
      "Epoch 131: Learning Rate: 0.001000\n"
     ]
    },
    {
     "name": "stderr",
     "output_type": "stream",
     "text": [
      "                                                        \r"
     ]
    },
    {
     "name": "stdout",
     "output_type": "stream",
     "text": [
      "Epoch 132: Train Loss: 0.6293, Train Weighted F1: 0.9891, Validation Loss: 1.5757, Validation Weighted F1: 0.5872\n",
      "Epoch 132: Learning Rate: 0.001000\n"
     ]
    },
    {
     "name": "stderr",
     "output_type": "stream",
     "text": [
      "                                                        \r"
     ]
    },
    {
     "name": "stdout",
     "output_type": "stream",
     "text": [
      "Epoch 133: Train Loss: 0.6318, Train Weighted F1: 0.9906, Validation Loss: 1.5811, Validation Weighted F1: 0.5911\n",
      "Epoch 133: Learning Rate: 0.001000\n"
     ]
    },
    {
     "name": "stderr",
     "output_type": "stream",
     "text": [
      "                                                        \r"
     ]
    },
    {
     "name": "stdout",
     "output_type": "stream",
     "text": [
      "Epoch 134: Train Loss: 0.6279, Train Weighted F1: 0.9897, Validation Loss: 1.6041, Validation Weighted F1: 0.5788\n",
      "Epoch 134: Learning Rate: 0.001000\n"
     ]
    },
    {
     "name": "stderr",
     "output_type": "stream",
     "text": [
      "                                                        \r"
     ]
    },
    {
     "name": "stdout",
     "output_type": "stream",
     "text": [
      "Epoch 135: Train Loss: 0.6262, Train Weighted F1: 0.9921, Validation Loss: 1.5838, Validation Weighted F1: 0.5792\n",
      "Epoch 135: Learning Rate: 0.001000\n"
     ]
    },
    {
     "name": "stderr",
     "output_type": "stream",
     "text": [
      "                                                        \r"
     ]
    },
    {
     "name": "stdout",
     "output_type": "stream",
     "text": [
      "Epoch 136: Train Loss: 0.6219, Train Weighted F1: 0.9931, Validation Loss: 1.6515, Validation Weighted F1: 0.5488\n",
      "Epoch 136: Learning Rate: 0.001000\n"
     ]
    },
    {
     "name": "stderr",
     "output_type": "stream",
     "text": [
      "                                                        \r"
     ]
    },
    {
     "name": "stdout",
     "output_type": "stream",
     "text": [
      "Epoch 137: Train Loss: 0.6357, Train Weighted F1: 0.9899, Validation Loss: 1.6315, Validation Weighted F1: 0.5568\n",
      "Epoch 137: Learning Rate: 0.001000\n"
     ]
    },
    {
     "name": "stderr",
     "output_type": "stream",
     "text": [
      "                                                        \r"
     ]
    },
    {
     "name": "stdout",
     "output_type": "stream",
     "text": [
      "Epoch 138: Train Loss: 0.6295, Train Weighted F1: 0.9889, Validation Loss: 1.5660, Validation Weighted F1: 0.5728\n",
      "Epoch 138: Learning Rate: 0.001000\n"
     ]
    },
    {
     "name": "stderr",
     "output_type": "stream",
     "text": [
      "                                                        \r"
     ]
    },
    {
     "name": "stdout",
     "output_type": "stream",
     "text": [
      "Epoch 139: Train Loss: 0.6294, Train Weighted F1: 0.9901, Validation Loss: 1.4993, Validation Weighted F1: 0.6013\n",
      "Epoch 139: Learning Rate: 0.001000\n"
     ]
    },
    {
     "name": "stderr",
     "output_type": "stream",
     "text": [
      "                                                        \r"
     ]
    },
    {
     "name": "stdout",
     "output_type": "stream",
     "text": [
      "Epoch 140: Train Loss: 0.6277, Train Weighted F1: 0.9917, Validation Loss: 1.5652, Validation Weighted F1: 0.5807\n",
      "Epoch 140: Learning Rate: 0.001000\n"
     ]
    },
    {
     "name": "stderr",
     "output_type": "stream",
     "text": [
      "                                                        \r"
     ]
    },
    {
     "name": "stdout",
     "output_type": "stream",
     "text": [
      "Epoch 141: Train Loss: 0.6239, Train Weighted F1: 0.9950, Validation Loss: 1.5787, Validation Weighted F1: 0.5816\n",
      "Epoch 141: Learning Rate: 0.001000\n"
     ]
    },
    {
     "name": "stderr",
     "output_type": "stream",
     "text": [
      "                                                        \r"
     ]
    },
    {
     "name": "stdout",
     "output_type": "stream",
     "text": [
      "Epoch 142: Train Loss: 0.6277, Train Weighted F1: 0.9922, Validation Loss: 1.5617, Validation Weighted F1: 0.6154\n",
      "Epoch 142: Learning Rate: 0.001000\n"
     ]
    },
    {
     "name": "stderr",
     "output_type": "stream",
     "text": [
      "                                                        \r"
     ]
    },
    {
     "name": "stdout",
     "output_type": "stream",
     "text": [
      "Epoch 143: Train Loss: 0.6255, Train Weighted F1: 0.9895, Validation Loss: 1.5695, Validation Weighted F1: 0.5860\n",
      "Epoch 143: Learning Rate: 0.001000\n"
     ]
    },
    {
     "name": "stderr",
     "output_type": "stream",
     "text": [
      "                                                        \r"
     ]
    },
    {
     "name": "stdout",
     "output_type": "stream",
     "text": [
      "Epoch 144: Train Loss: 0.6265, Train Weighted F1: 0.9918, Validation Loss: 1.6258, Validation Weighted F1: 0.5270\n",
      "Epoch 144: Learning Rate: 0.001000\n"
     ]
    },
    {
     "name": "stderr",
     "output_type": "stream",
     "text": [
      "                                                        \r"
     ]
    },
    {
     "name": "stdout",
     "output_type": "stream",
     "text": [
      "Epoch 145: Train Loss: 0.6279, Train Weighted F1: 0.9910, Validation Loss: 1.5170, Validation Weighted F1: 0.5900\n",
      "Epoch 145: Learning Rate: 0.001000\n"
     ]
    },
    {
     "name": "stderr",
     "output_type": "stream",
     "text": [
      "                                                        \r"
     ]
    },
    {
     "name": "stdout",
     "output_type": "stream",
     "text": [
      "Epoch 146: Train Loss: 0.6278, Train Weighted F1: 0.9928, Validation Loss: 1.5647, Validation Weighted F1: 0.5907\n",
      "Epoch 146: Learning Rate: 0.001000\n"
     ]
    },
    {
     "name": "stderr",
     "output_type": "stream",
     "text": [
      "                                                        \r"
     ]
    },
    {
     "name": "stdout",
     "output_type": "stream",
     "text": [
      "Epoch 147: Train Loss: 0.6206, Train Weighted F1: 0.9927, Validation Loss: 1.6422, Validation Weighted F1: 0.5477\n",
      "Epoch 147: Learning Rate: 0.001000\n"
     ]
    },
    {
     "name": "stderr",
     "output_type": "stream",
     "text": [
      "                                                        \r"
     ]
    },
    {
     "name": "stdout",
     "output_type": "stream",
     "text": [
      "Epoch 148: Train Loss: 0.6315, Train Weighted F1: 0.9892, Validation Loss: 1.5714, Validation Weighted F1: 0.5828\n",
      "Epoch 148: Learning Rate: 0.001000\n"
     ]
    },
    {
     "name": "stderr",
     "output_type": "stream",
     "text": [
      "                                                        \r"
     ]
    },
    {
     "name": "stdout",
     "output_type": "stream",
     "text": [
      "Epoch 149: Train Loss: 0.6330, Train Weighted F1: 0.9907, Validation Loss: 1.6045, Validation Weighted F1: 0.5303\n",
      "Epoch 149: Learning Rate: 0.001000\n"
     ]
    },
    {
     "name": "stderr",
     "output_type": "stream",
     "text": [
      "                                                        \r"
     ]
    },
    {
     "name": "stdout",
     "output_type": "stream",
     "text": [
      "Epoch 150: Train Loss: 0.6277, Train Weighted F1: 0.9911, Validation Loss: 1.5996, Validation Weighted F1: 0.5297\n",
      "Epoch 150: Learning Rate: 0.001000\n"
     ]
    },
    {
     "data": {
      "text/plain": [
       "State:\n",
       "\titeration: 103800\n",
       "\tepoch: 150\n",
       "\tepoch_length: 692\n",
       "\tmax_epochs: 150\n",
       "\toutput: <class 'dict'>\n",
       "\tbatch: <class 'list'>\n",
       "\tmetrics: <class 'dict'>\n",
       "\tdataloader: <class 'torch.utils.data.dataloader.DataLoader'>\n",
       "\tseed: <class 'NoneType'>\n",
       "\ttimes: <class 'dict'>"
      ]
     },
     "execution_count": 22,
     "metadata": {},
     "output_type": "execute_result"
    }
   ],
   "source": [
    "# weight_decay = 1e-4\n",
    "trainer.run(train_loader, max_epochs=150)\n",
    "\n",
    "# Полный output обучения можно посмотреть в traning.log"
   ]
  },
  {
   "cell_type": "code",
   "execution_count": 23,
   "metadata": {},
   "outputs": [
    {
     "name": "stderr",
     "output_type": "stream",
     "text": [
      "                                                        \r"
     ]
    },
    {
     "name": "stdout",
     "output_type": "stream",
     "text": [
      "Epoch 151: Train Loss: 0.6288, Train Weighted F1: 0.9895, Validation Loss: 1.6196, Validation Weighted F1: 0.5455\n",
      "Epoch 151: Learning Rate: 0.001000\n"
     ]
    },
    {
     "name": "stderr",
     "output_type": "stream",
     "text": [
      "                                                        \r"
     ]
    },
    {
     "name": "stdout",
     "output_type": "stream",
     "text": [
      "Epoch 152: Train Loss: 0.6237, Train Weighted F1: 0.9894, Validation Loss: 1.6213, Validation Weighted F1: 0.5696\n",
      "Epoch 152: Learning Rate: 0.001000\n"
     ]
    },
    {
     "name": "stderr",
     "output_type": "stream",
     "text": [
      "                                                        \r"
     ]
    },
    {
     "name": "stdout",
     "output_type": "stream",
     "text": [
      "Epoch 153: Train Loss: 0.6282, Train Weighted F1: 0.9892, Validation Loss: 1.5843, Validation Weighted F1: 0.5776\n",
      "Epoch 153: Learning Rate: 0.001000\n"
     ]
    },
    {
     "name": "stderr",
     "output_type": "stream",
     "text": [
      "                                                        \r"
     ]
    },
    {
     "name": "stdout",
     "output_type": "stream",
     "text": [
      "Epoch 154: Train Loss: 0.6221, Train Weighted F1: 0.9926, Validation Loss: 1.6374, Validation Weighted F1: 0.5605\n",
      "Epoch 154: Learning Rate: 0.001000\n"
     ]
    },
    {
     "name": "stderr",
     "output_type": "stream",
     "text": [
      "                                                        \r"
     ]
    },
    {
     "name": "stdout",
     "output_type": "stream",
     "text": [
      "Epoch 155: Train Loss: 0.6237, Train Weighted F1: 0.9895, Validation Loss: 1.6270, Validation Weighted F1: 0.5641\n",
      "Epoch 155: Learning Rate: 0.001000\n"
     ]
    },
    {
     "name": "stderr",
     "output_type": "stream",
     "text": [
      "                                                        \r"
     ]
    },
    {
     "name": "stdout",
     "output_type": "stream",
     "text": [
      "Epoch 156: Train Loss: 0.6279, Train Weighted F1: 0.9922, Validation Loss: 1.6343, Validation Weighted F1: 0.5949\n",
      "Epoch 156: Learning Rate: 0.001000\n"
     ]
    },
    {
     "name": "stderr",
     "output_type": "stream",
     "text": [
      "                                                        \r"
     ]
    },
    {
     "name": "stdout",
     "output_type": "stream",
     "text": [
      "Epoch 157: Train Loss: 0.6256, Train Weighted F1: 0.9910, Validation Loss: 1.6134, Validation Weighted F1: 0.5576\n",
      "Epoch 157: Learning Rate: 0.001000\n"
     ]
    },
    {
     "name": "stderr",
     "output_type": "stream",
     "text": [
      "                                                        \r"
     ]
    },
    {
     "name": "stdout",
     "output_type": "stream",
     "text": [
      "Epoch 158: Train Loss: 0.6253, Train Weighted F1: 0.9899, Validation Loss: 1.6145, Validation Weighted F1: 0.5253\n",
      "Epoch 158: Learning Rate: 0.001000\n"
     ]
    },
    {
     "name": "stderr",
     "output_type": "stream",
     "text": [
      "                                                        \r"
     ]
    },
    {
     "name": "stdout",
     "output_type": "stream",
     "text": [
      "Epoch 159: Train Loss: 0.6246, Train Weighted F1: 0.9907, Validation Loss: 1.6075, Validation Weighted F1: 0.5302\n",
      "Epoch 159: Learning Rate: 0.001000\n"
     ]
    },
    {
     "name": "stderr",
     "output_type": "stream",
     "text": [
      "                                                        \r"
     ]
    },
    {
     "name": "stdout",
     "output_type": "stream",
     "text": [
      "Epoch 160: Train Loss: 0.6252, Train Weighted F1: 0.9915, Validation Loss: 1.5947, Validation Weighted F1: 0.5549\n",
      "Epoch 160: Learning Rate: 0.001000\n"
     ]
    },
    {
     "name": "stderr",
     "output_type": "stream",
     "text": [
      "                                                        \r"
     ]
    },
    {
     "name": "stdout",
     "output_type": "stream",
     "text": [
      "Epoch 161: Train Loss: 0.6260, Train Weighted F1: 0.9901, Validation Loss: 1.6468, Validation Weighted F1: 0.5655\n",
      "Epoch 161: Learning Rate: 0.001000\n"
     ]
    },
    {
     "name": "stderr",
     "output_type": "stream",
     "text": [
      "                                                        \r"
     ]
    },
    {
     "name": "stdout",
     "output_type": "stream",
     "text": [
      "Epoch 162: Train Loss: 0.6260, Train Weighted F1: 0.9911, Validation Loss: 1.6383, Validation Weighted F1: 0.5652\n",
      "Epoch 162: Learning Rate: 0.001000\n"
     ]
    },
    {
     "name": "stderr",
     "output_type": "stream",
     "text": [
      "                                                        \r"
     ]
    },
    {
     "name": "stdout",
     "output_type": "stream",
     "text": [
      "Epoch 163: Train Loss: 0.6217, Train Weighted F1: 0.9913, Validation Loss: 1.6060, Validation Weighted F1: 0.5915\n",
      "Epoch 163: Learning Rate: 0.001000\n"
     ]
    },
    {
     "name": "stderr",
     "output_type": "stream",
     "text": [
      "                                                        \r"
     ]
    },
    {
     "name": "stdout",
     "output_type": "stream",
     "text": [
      "Epoch 164: Train Loss: 0.6246, Train Weighted F1: 0.9906, Validation Loss: 1.6632, Validation Weighted F1: 0.5768\n",
      "Epoch 164: Learning Rate: 0.001000\n"
     ]
    },
    {
     "name": "stderr",
     "output_type": "stream",
     "text": [
      "                                                        \r"
     ]
    },
    {
     "name": "stdout",
     "output_type": "stream",
     "text": [
      "Epoch 165: Train Loss: 0.6248, Train Weighted F1: 0.9903, Validation Loss: 1.6954, Validation Weighted F1: 0.5113\n",
      "Epoch 165: Learning Rate: 0.001000\n"
     ]
    },
    {
     "name": "stderr",
     "output_type": "stream",
     "text": [
      "                                                        \r"
     ]
    },
    {
     "name": "stdout",
     "output_type": "stream",
     "text": [
      "Epoch 166: Train Loss: 0.6263, Train Weighted F1: 0.9895, Validation Loss: 1.6495, Validation Weighted F1: 0.5517\n",
      "Epoch 166: Learning Rate: 0.001000\n"
     ]
    },
    {
     "name": "stderr",
     "output_type": "stream",
     "text": [
      "                                                        \r"
     ]
    },
    {
     "name": "stdout",
     "output_type": "stream",
     "text": [
      "Epoch 167: Train Loss: 0.6231, Train Weighted F1: 0.9921, Validation Loss: 1.6352, Validation Weighted F1: 0.5388\n",
      "Epoch 167: Learning Rate: 0.001000\n"
     ]
    },
    {
     "name": "stderr",
     "output_type": "stream",
     "text": [
      "                                                        \r"
     ]
    },
    {
     "name": "stdout",
     "output_type": "stream",
     "text": [
      "Epoch 168: Train Loss: 0.6261, Train Weighted F1: 0.9903, Validation Loss: 1.6207, Validation Weighted F1: 0.5905\n",
      "Epoch 168: Learning Rate: 0.001000\n"
     ]
    },
    {
     "name": "stderr",
     "output_type": "stream",
     "text": [
      "                                                        \r"
     ]
    },
    {
     "name": "stdout",
     "output_type": "stream",
     "text": [
      "Epoch 169: Train Loss: 0.6250, Train Weighted F1: 0.9927, Validation Loss: 1.6081, Validation Weighted F1: 0.5866\n",
      "Epoch 169: Learning Rate: 0.001000\n"
     ]
    },
    {
     "name": "stderr",
     "output_type": "stream",
     "text": [
      "                                                        \r"
     ]
    },
    {
     "name": "stdout",
     "output_type": "stream",
     "text": [
      "Epoch 170: Train Loss: 0.6243, Train Weighted F1: 0.9938, Validation Loss: 1.5922, Validation Weighted F1: 0.6000\n",
      "Epoch 170: Learning Rate: 0.001000\n"
     ]
    },
    {
     "name": "stderr",
     "output_type": "stream",
     "text": [
      "                                                        \r"
     ]
    },
    {
     "name": "stdout",
     "output_type": "stream",
     "text": [
      "Epoch 171: Train Loss: 0.6228, Train Weighted F1: 0.9909, Validation Loss: 1.6087, Validation Weighted F1: 0.5695\n",
      "Epoch 171: Learning Rate: 0.001000\n"
     ]
    },
    {
     "name": "stderr",
     "output_type": "stream",
     "text": [
      "                                                        \r"
     ]
    },
    {
     "name": "stdout",
     "output_type": "stream",
     "text": [
      "Epoch 172: Train Loss: 0.6220, Train Weighted F1: 0.9934, Validation Loss: 1.6090, Validation Weighted F1: 0.6079\n",
      "Epoch 172: Learning Rate: 0.001000\n"
     ]
    },
    {
     "name": "stderr",
     "output_type": "stream",
     "text": [
      "                                                        \r"
     ]
    },
    {
     "name": "stdout",
     "output_type": "stream",
     "text": [
      "Epoch 173: Train Loss: 0.6234, Train Weighted F1: 0.9924, Validation Loss: 1.6410, Validation Weighted F1: 0.5878\n",
      "Epoch 173: Learning Rate: 0.001000\n"
     ]
    },
    {
     "name": "stderr",
     "output_type": "stream",
     "text": [
      "                                                        \r"
     ]
    },
    {
     "name": "stdout",
     "output_type": "stream",
     "text": [
      "Epoch 174: Train Loss: 0.6275, Train Weighted F1: 0.9905, Validation Loss: 1.5566, Validation Weighted F1: 0.5771\n",
      "Epoch 174: Learning Rate: 0.001000\n"
     ]
    },
    {
     "name": "stderr",
     "output_type": "stream",
     "text": [
      "                                                        \r"
     ]
    },
    {
     "name": "stdout",
     "output_type": "stream",
     "text": [
      "Epoch 175: Train Loss: 0.6204, Train Weighted F1: 0.9937, Validation Loss: 1.6184, Validation Weighted F1: 0.5993\n",
      "Epoch 175: Learning Rate: 0.001000\n"
     ]
    },
    {
     "name": "stderr",
     "output_type": "stream",
     "text": [
      "                                                        \r"
     ]
    },
    {
     "name": "stdout",
     "output_type": "stream",
     "text": [
      "Epoch 176: Train Loss: 0.6232, Train Weighted F1: 0.9915, Validation Loss: 1.6257, Validation Weighted F1: 0.6171\n",
      "Epoch 176: Learning Rate: 0.001000\n"
     ]
    },
    {
     "name": "stderr",
     "output_type": "stream",
     "text": [
      "                                                        \r"
     ]
    },
    {
     "name": "stdout",
     "output_type": "stream",
     "text": [
      "Epoch 177: Train Loss: 0.6266, Train Weighted F1: 0.9911, Validation Loss: 1.5762, Validation Weighted F1: 0.5822\n",
      "Epoch 177: Learning Rate: 0.001000\n"
     ]
    },
    {
     "name": "stderr",
     "output_type": "stream",
     "text": [
      "                                                        \r"
     ]
    },
    {
     "name": "stdout",
     "output_type": "stream",
     "text": [
      "Epoch 178: Train Loss: 0.6177, Train Weighted F1: 0.9955, Validation Loss: 1.6612, Validation Weighted F1: 0.5550\n",
      "Epoch 178: Learning Rate: 0.001000\n"
     ]
    },
    {
     "name": "stderr",
     "output_type": "stream",
     "text": [
      "                                                        \r"
     ]
    },
    {
     "name": "stdout",
     "output_type": "stream",
     "text": [
      "Epoch 179: Train Loss: 0.6312, Train Weighted F1: 0.9867, Validation Loss: 1.5981, Validation Weighted F1: 0.5786\n",
      "Epoch 179: Learning Rate: 0.001000\n"
     ]
    },
    {
     "name": "stderr",
     "output_type": "stream",
     "text": [
      "                                                        \r"
     ]
    },
    {
     "name": "stdout",
     "output_type": "stream",
     "text": [
      "Epoch 180: Train Loss: 0.6258, Train Weighted F1: 0.9899, Validation Loss: 1.5948, Validation Weighted F1: 0.5334\n",
      "Epoch 180: Learning Rate: 0.001000\n"
     ]
    },
    {
     "name": "stderr",
     "output_type": "stream",
     "text": [
      "                                                        \r"
     ]
    },
    {
     "name": "stdout",
     "output_type": "stream",
     "text": [
      "Epoch 181: Train Loss: 0.6228, Train Weighted F1: 0.9916, Validation Loss: 1.5791, Validation Weighted F1: 0.5974\n",
      "Epoch 181: Learning Rate: 0.001000\n"
     ]
    },
    {
     "name": "stderr",
     "output_type": "stream",
     "text": [
      "                                                        \r"
     ]
    },
    {
     "name": "stdout",
     "output_type": "stream",
     "text": [
      "Epoch 182: Train Loss: 0.6186, Train Weighted F1: 0.9942, Validation Loss: 1.5850, Validation Weighted F1: 0.5904\n",
      "Epoch 182: Learning Rate: 0.001000\n"
     ]
    },
    {
     "name": "stderr",
     "output_type": "stream",
     "text": [
      "                                                        \r"
     ]
    },
    {
     "name": "stdout",
     "output_type": "stream",
     "text": [
      "Epoch 183: Train Loss: 0.6203, Train Weighted F1: 0.9929, Validation Loss: 1.6118, Validation Weighted F1: 0.5566\n",
      "Epoch 183: Learning Rate: 0.001000\n"
     ]
    },
    {
     "name": "stderr",
     "output_type": "stream",
     "text": [
      "                                                        \r"
     ]
    },
    {
     "name": "stdout",
     "output_type": "stream",
     "text": [
      "Epoch 184: Train Loss: 0.6226, Train Weighted F1: 0.9929, Validation Loss: 1.6123, Validation Weighted F1: 0.5464\n",
      "Epoch 184: Learning Rate: 0.001000\n"
     ]
    },
    {
     "name": "stderr",
     "output_type": "stream",
     "text": [
      "                                                        \r"
     ]
    },
    {
     "name": "stdout",
     "output_type": "stream",
     "text": [
      "Epoch 185: Train Loss: 0.6279, Train Weighted F1: 0.9901, Validation Loss: 1.6303, Validation Weighted F1: 0.5282\n",
      "Epoch 185: Learning Rate: 0.001000\n"
     ]
    },
    {
     "name": "stderr",
     "output_type": "stream",
     "text": [
      "                                                        \r"
     ]
    },
    {
     "name": "stdout",
     "output_type": "stream",
     "text": [
      "Epoch 186: Train Loss: 0.6210, Train Weighted F1: 0.9923, Validation Loss: 1.5846, Validation Weighted F1: 0.5739\n",
      "Epoch 186: Learning Rate: 0.001000\n"
     ]
    },
    {
     "name": "stderr",
     "output_type": "stream",
     "text": [
      "                                                        \r"
     ]
    },
    {
     "name": "stdout",
     "output_type": "stream",
     "text": [
      "Epoch 187: Train Loss: 0.6185, Train Weighted F1: 0.9934, Validation Loss: 1.6099, Validation Weighted F1: 0.5126\n",
      "Epoch 187: Learning Rate: 0.001000\n"
     ]
    },
    {
     "name": "stderr",
     "output_type": "stream",
     "text": [
      "                                                        \r"
     ]
    },
    {
     "name": "stdout",
     "output_type": "stream",
     "text": [
      "Epoch 188: Train Loss: 0.6209, Train Weighted F1: 0.9906, Validation Loss: 1.6166, Validation Weighted F1: 0.5490\n",
      "Epoch 188: Learning Rate: 0.001000\n"
     ]
    },
    {
     "name": "stderr",
     "output_type": "stream",
     "text": [
      "                                                        \r"
     ]
    },
    {
     "name": "stdout",
     "output_type": "stream",
     "text": [
      "Epoch 189: Train Loss: 0.6220, Train Weighted F1: 0.9882, Validation Loss: 1.6159, Validation Weighted F1: 0.5659\n",
      "Epoch 189: Learning Rate: 0.001000\n"
     ]
    },
    {
     "name": "stderr",
     "output_type": "stream",
     "text": [
      "                                                        \r"
     ]
    },
    {
     "name": "stdout",
     "output_type": "stream",
     "text": [
      "Epoch 190: Train Loss: 0.6182, Train Weighted F1: 0.9948, Validation Loss: 1.6269, Validation Weighted F1: 0.5700\n",
      "Epoch 190: Learning Rate: 0.001000\n"
     ]
    },
    {
     "name": "stderr",
     "output_type": "stream",
     "text": [
      "                                                        \r"
     ]
    },
    {
     "name": "stdout",
     "output_type": "stream",
     "text": [
      "Epoch 191: Train Loss: 0.6243, Train Weighted F1: 0.9919, Validation Loss: 1.6300, Validation Weighted F1: 0.6037\n",
      "Epoch 191: Learning Rate: 0.001000\n"
     ]
    },
    {
     "name": "stderr",
     "output_type": "stream",
     "text": [
      "                                                        \r"
     ]
    },
    {
     "name": "stdout",
     "output_type": "stream",
     "text": [
      "Epoch 192: Train Loss: 0.6297, Train Weighted F1: 0.9887, Validation Loss: 1.6301, Validation Weighted F1: 0.5324\n",
      "Epoch 192: Learning Rate: 0.001000\n"
     ]
    },
    {
     "name": "stderr",
     "output_type": "stream",
     "text": [
      "                                                        \r"
     ]
    },
    {
     "name": "stdout",
     "output_type": "stream",
     "text": [
      "Epoch 193: Train Loss: 0.6201, Train Weighted F1: 0.9930, Validation Loss: 1.6515, Validation Weighted F1: 0.5770\n",
      "Epoch 193: Learning Rate: 0.001000\n"
     ]
    },
    {
     "name": "stderr",
     "output_type": "stream",
     "text": [
      "                                                        \r"
     ]
    },
    {
     "name": "stdout",
     "output_type": "stream",
     "text": [
      "Epoch 194: Train Loss: 0.6241, Train Weighted F1: 0.9891, Validation Loss: 1.6447, Validation Weighted F1: 0.5278\n",
      "Epoch 194: Learning Rate: 0.001000\n"
     ]
    },
    {
     "name": "stderr",
     "output_type": "stream",
     "text": [
      "                                                        \r"
     ]
    },
    {
     "name": "stdout",
     "output_type": "stream",
     "text": [
      "Epoch 195: Train Loss: 0.6253, Train Weighted F1: 0.9921, Validation Loss: 1.6092, Validation Weighted F1: 0.5487\n",
      "Epoch 195: Learning Rate: 0.001000\n"
     ]
    },
    {
     "name": "stderr",
     "output_type": "stream",
     "text": [
      "                                                        \r"
     ]
    },
    {
     "name": "stdout",
     "output_type": "stream",
     "text": [
      "Epoch 196: Train Loss: 0.6191, Train Weighted F1: 0.9927, Validation Loss: 1.5875, Validation Weighted F1: 0.6103\n",
      "Epoch 196: Learning Rate: 0.001000\n"
     ]
    },
    {
     "name": "stderr",
     "output_type": "stream",
     "text": [
      "                                                        \r"
     ]
    },
    {
     "name": "stdout",
     "output_type": "stream",
     "text": [
      "Epoch 197: Train Loss: 0.6222, Train Weighted F1: 0.9916, Validation Loss: 1.5914, Validation Weighted F1: 0.5112\n",
      "Epoch 197: Learning Rate: 0.001000\n"
     ]
    },
    {
     "name": "stderr",
     "output_type": "stream",
     "text": [
      "                                                        \r"
     ]
    },
    {
     "name": "stdout",
     "output_type": "stream",
     "text": [
      "Epoch 198: Train Loss: 0.6241, Train Weighted F1: 0.9898, Validation Loss: 1.6209, Validation Weighted F1: 0.5537\n",
      "Epoch 198: Learning Rate: 0.001000\n"
     ]
    },
    {
     "name": "stderr",
     "output_type": "stream",
     "text": [
      "                                                        \r"
     ]
    },
    {
     "name": "stdout",
     "output_type": "stream",
     "text": [
      "Epoch 199: Train Loss: 0.6186, Train Weighted F1: 0.9943, Validation Loss: 1.5746, Validation Weighted F1: 0.5723\n",
      "Epoch 199: Learning Rate: 0.001000\n"
     ]
    },
    {
     "name": "stderr",
     "output_type": "stream",
     "text": [
      "                                                        \r"
     ]
    },
    {
     "name": "stdout",
     "output_type": "stream",
     "text": [
      "Epoch 200: Train Loss: 0.6235, Train Weighted F1: 0.9899, Validation Loss: 1.6194, Validation Weighted F1: 0.5708\n",
      "Epoch 200: Learning Rate: 0.001000\n"
     ]
    },
    {
     "name": "stderr",
     "output_type": "stream",
     "text": [
      "                                                        \r"
     ]
    },
    {
     "name": "stdout",
     "output_type": "stream",
     "text": [
      "Epoch 201: Train Loss: 0.6186, Train Weighted F1: 0.9934, Validation Loss: 1.6018, Validation Weighted F1: 0.5665\n",
      "Epoch 201: Learning Rate: 0.001000\n"
     ]
    },
    {
     "name": "stderr",
     "output_type": "stream",
     "text": [
      "                                                        \r"
     ]
    },
    {
     "name": "stdout",
     "output_type": "stream",
     "text": [
      "Epoch 202: Train Loss: 0.6220, Train Weighted F1: 0.9922, Validation Loss: 1.6931, Validation Weighted F1: 0.5489\n",
      "Epoch 202: Learning Rate: 0.001000\n"
     ]
    },
    {
     "name": "stderr",
     "output_type": "stream",
     "text": [
      "                                                        \r"
     ]
    },
    {
     "name": "stdout",
     "output_type": "stream",
     "text": [
      "Epoch 203: Train Loss: 0.6233, Train Weighted F1: 0.9917, Validation Loss: 1.6475, Validation Weighted F1: 0.5660\n",
      "Epoch 203: Learning Rate: 0.001000\n"
     ]
    },
    {
     "name": "stderr",
     "output_type": "stream",
     "text": [
      "                                                        \r"
     ]
    },
    {
     "name": "stdout",
     "output_type": "stream",
     "text": [
      "Epoch 204: Train Loss: 0.6176, Train Weighted F1: 0.9935, Validation Loss: 1.6032, Validation Weighted F1: 0.5704\n",
      "Epoch 204: Learning Rate: 0.001000\n"
     ]
    },
    {
     "name": "stderr",
     "output_type": "stream",
     "text": [
      "                                                        \r"
     ]
    },
    {
     "name": "stdout",
     "output_type": "stream",
     "text": [
      "Epoch 205: Train Loss: 0.6197, Train Weighted F1: 0.9934, Validation Loss: 1.6305, Validation Weighted F1: 0.5590\n",
      "Epoch 205: Learning Rate: 0.001000\n"
     ]
    },
    {
     "name": "stderr",
     "output_type": "stream",
     "text": [
      "                                                        \r"
     ]
    },
    {
     "name": "stdout",
     "output_type": "stream",
     "text": [
      "Epoch 206: Train Loss: 0.6232, Train Weighted F1: 0.9900, Validation Loss: 1.6747, Validation Weighted F1: 0.5624\n",
      "Epoch 206: Learning Rate: 0.001000\n"
     ]
    },
    {
     "name": "stderr",
     "output_type": "stream",
     "text": [
      "                                                        \r"
     ]
    },
    {
     "name": "stdout",
     "output_type": "stream",
     "text": [
      "Epoch 207: Train Loss: 0.6180, Train Weighted F1: 0.9907, Validation Loss: 1.6201, Validation Weighted F1: 0.5580\n",
      "Epoch 207: Learning Rate: 0.001000\n"
     ]
    },
    {
     "name": "stderr",
     "output_type": "stream",
     "text": [
      "                                                        \r"
     ]
    },
    {
     "name": "stdout",
     "output_type": "stream",
     "text": [
      "Epoch 208: Train Loss: 0.6203, Train Weighted F1: 0.9925, Validation Loss: 1.6369, Validation Weighted F1: 0.5337\n",
      "Epoch 208: Learning Rate: 0.001000\n"
     ]
    },
    {
     "name": "stderr",
     "output_type": "stream",
     "text": [
      "                                                        \r"
     ]
    },
    {
     "name": "stdout",
     "output_type": "stream",
     "text": [
      "Epoch 209: Train Loss: 0.6228, Train Weighted F1: 0.9895, Validation Loss: 1.6588, Validation Weighted F1: 0.5591\n",
      "Epoch 209: Learning Rate: 0.001000\n"
     ]
    },
    {
     "name": "stderr",
     "output_type": "stream",
     "text": [
      "                                                        \r"
     ]
    },
    {
     "name": "stdout",
     "output_type": "stream",
     "text": [
      "Epoch 210: Train Loss: 0.6197, Train Weighted F1: 0.9937, Validation Loss: 1.6898, Validation Weighted F1: 0.5213\n",
      "Epoch 210: Learning Rate: 0.001000\n"
     ]
    },
    {
     "name": "stderr",
     "output_type": "stream",
     "text": [
      "                                                        \r"
     ]
    },
    {
     "name": "stdout",
     "output_type": "stream",
     "text": [
      "Epoch 211: Train Loss: 0.6227, Train Weighted F1: 0.9928, Validation Loss: 1.6759, Validation Weighted F1: 0.5762\n",
      "Epoch 211: Learning Rate: 0.001000\n"
     ]
    },
    {
     "name": "stderr",
     "output_type": "stream",
     "text": [
      "                                                        \r"
     ]
    },
    {
     "name": "stdout",
     "output_type": "stream",
     "text": [
      "Epoch 212: Train Loss: 0.6189, Train Weighted F1: 0.9940, Validation Loss: 1.6677, Validation Weighted F1: 0.5916\n",
      "Epoch 212: Learning Rate: 0.001000\n"
     ]
    },
    {
     "name": "stderr",
     "output_type": "stream",
     "text": [
      "                                                        \r"
     ]
    },
    {
     "name": "stdout",
     "output_type": "stream",
     "text": [
      "Epoch 213: Train Loss: 0.6186, Train Weighted F1: 0.9932, Validation Loss: 1.6422, Validation Weighted F1: 0.5729\n",
      "Epoch 213: Learning Rate: 0.001000\n"
     ]
    },
    {
     "name": "stderr",
     "output_type": "stream",
     "text": [
      "                                                        \r"
     ]
    },
    {
     "name": "stdout",
     "output_type": "stream",
     "text": [
      "Epoch 214: Train Loss: 0.6194, Train Weighted F1: 0.9928, Validation Loss: 1.6311, Validation Weighted F1: 0.5745\n",
      "Epoch 214: Learning Rate: 0.001000\n"
     ]
    },
    {
     "name": "stderr",
     "output_type": "stream",
     "text": [
      "                                                        \r"
     ]
    },
    {
     "name": "stdout",
     "output_type": "stream",
     "text": [
      "Epoch 215: Train Loss: 0.6193, Train Weighted F1: 0.9923, Validation Loss: 1.6832, Validation Weighted F1: 0.5015\n",
      "Epoch 215: Learning Rate: 0.001000\n"
     ]
    },
    {
     "name": "stderr",
     "output_type": "stream",
     "text": [
      "                                                        \r"
     ]
    },
    {
     "name": "stdout",
     "output_type": "stream",
     "text": [
      "Epoch 216: Train Loss: 0.6223, Train Weighted F1: 0.9904, Validation Loss: 1.6699, Validation Weighted F1: 0.5495\n",
      "Epoch 216: Learning Rate: 0.001000\n"
     ]
    },
    {
     "name": "stderr",
     "output_type": "stream",
     "text": [
      "                                                        \r"
     ]
    },
    {
     "name": "stdout",
     "output_type": "stream",
     "text": [
      "Epoch 217: Train Loss: 0.6195, Train Weighted F1: 0.9934, Validation Loss: 1.6482, Validation Weighted F1: 0.5512\n",
      "Epoch 217: Learning Rate: 0.001000\n"
     ]
    },
    {
     "name": "stderr",
     "output_type": "stream",
     "text": [
      "                                                        \r"
     ]
    },
    {
     "name": "stdout",
     "output_type": "stream",
     "text": [
      "Epoch 218: Train Loss: 0.6166, Train Weighted F1: 0.9917, Validation Loss: 1.6624, Validation Weighted F1: 0.5323\n",
      "Epoch 218: Learning Rate: 0.001000\n"
     ]
    },
    {
     "name": "stderr",
     "output_type": "stream",
     "text": [
      "                                                        \r"
     ]
    },
    {
     "name": "stdout",
     "output_type": "stream",
     "text": [
      "Epoch 219: Train Loss: 0.6224, Train Weighted F1: 0.9893, Validation Loss: 1.6400, Validation Weighted F1: 0.5678\n",
      "Epoch 219: Learning Rate: 0.001000\n"
     ]
    },
    {
     "name": "stderr",
     "output_type": "stream",
     "text": [
      "                                                        \r"
     ]
    },
    {
     "name": "stdout",
     "output_type": "stream",
     "text": [
      "Epoch 220: Train Loss: 0.6200, Train Weighted F1: 0.9933, Validation Loss: 1.6453, Validation Weighted F1: 0.5907\n",
      "Epoch 220: Learning Rate: 0.001000\n"
     ]
    },
    {
     "name": "stderr",
     "output_type": "stream",
     "text": [
      "                                                        \r"
     ]
    },
    {
     "name": "stdout",
     "output_type": "stream",
     "text": [
      "Epoch 221: Train Loss: 0.6174, Train Weighted F1: 0.9941, Validation Loss: 1.6560, Validation Weighted F1: 0.5631\n",
      "Epoch 221: Learning Rate: 0.001000\n"
     ]
    },
    {
     "name": "stderr",
     "output_type": "stream",
     "text": [
      "                                                        \r"
     ]
    },
    {
     "name": "stdout",
     "output_type": "stream",
     "text": [
      "Epoch 222: Train Loss: 0.6225, Train Weighted F1: 0.9910, Validation Loss: 1.6611, Validation Weighted F1: 0.5349\n",
      "Epoch 222: Learning Rate: 0.001000\n"
     ]
    },
    {
     "name": "stderr",
     "output_type": "stream",
     "text": [
      "                                                        \r"
     ]
    },
    {
     "name": "stdout",
     "output_type": "stream",
     "text": [
      "Epoch 223: Train Loss: 0.6237, Train Weighted F1: 0.9891, Validation Loss: 1.6483, Validation Weighted F1: 0.5381\n",
      "Epoch 223: Learning Rate: 0.001000\n"
     ]
    },
    {
     "name": "stderr",
     "output_type": "stream",
     "text": [
      "                                                        \r"
     ]
    },
    {
     "name": "stdout",
     "output_type": "stream",
     "text": [
      "Epoch 224: Train Loss: 0.6213, Train Weighted F1: 0.9925, Validation Loss: 1.6391, Validation Weighted F1: 0.5714\n",
      "Epoch 224: Learning Rate: 0.001000\n"
     ]
    },
    {
     "name": "stderr",
     "output_type": "stream",
     "text": [
      "                                                        \r"
     ]
    },
    {
     "name": "stdout",
     "output_type": "stream",
     "text": [
      "Epoch 225: Train Loss: 0.6234, Train Weighted F1: 0.9893, Validation Loss: 1.6858, Validation Weighted F1: 0.5658\n",
      "Epoch 225: Learning Rate: 0.001000\n"
     ]
    },
    {
     "name": "stderr",
     "output_type": "stream",
     "text": [
      "                                                        \r"
     ]
    },
    {
     "name": "stdout",
     "output_type": "stream",
     "text": [
      "Epoch 226: Train Loss: 0.6153, Train Weighted F1: 0.9931, Validation Loss: 1.6744, Validation Weighted F1: 0.5615\n",
      "Epoch 226: Learning Rate: 0.001000\n"
     ]
    },
    {
     "name": "stderr",
     "output_type": "stream",
     "text": [
      "                                                        \r"
     ]
    },
    {
     "name": "stdout",
     "output_type": "stream",
     "text": [
      "Epoch 227: Train Loss: 0.6199, Train Weighted F1: 0.9908, Validation Loss: 1.6778, Validation Weighted F1: 0.5492\n",
      "Epoch 227: Learning Rate: 0.001000\n"
     ]
    },
    {
     "name": "stderr",
     "output_type": "stream",
     "text": [
      "                                                        \r"
     ]
    },
    {
     "name": "stdout",
     "output_type": "stream",
     "text": [
      "Epoch 228: Train Loss: 0.6171, Train Weighted F1: 0.9932, Validation Loss: 1.6812, Validation Weighted F1: 0.5414\n",
      "Epoch 228: Learning Rate: 0.001000\n"
     ]
    },
    {
     "name": "stderr",
     "output_type": "stream",
     "text": [
      "                                                        \r"
     ]
    },
    {
     "name": "stdout",
     "output_type": "stream",
     "text": [
      "Epoch 229: Train Loss: 0.6215, Train Weighted F1: 0.9909, Validation Loss: 1.6762, Validation Weighted F1: 0.5483\n",
      "Epoch 229: Learning Rate: 0.001000\n"
     ]
    },
    {
     "name": "stderr",
     "output_type": "stream",
     "text": [
      "                                                        \r"
     ]
    },
    {
     "name": "stdout",
     "output_type": "stream",
     "text": [
      "Epoch 230: Train Loss: 0.6209, Train Weighted F1: 0.9924, Validation Loss: 1.6416, Validation Weighted F1: 0.5288\n",
      "Epoch 230: Learning Rate: 0.001000\n"
     ]
    },
    {
     "name": "stderr",
     "output_type": "stream",
     "text": [
      "                                                        \r"
     ]
    },
    {
     "name": "stdout",
     "output_type": "stream",
     "text": [
      "Epoch 231: Train Loss: 0.6151, Train Weighted F1: 0.9938, Validation Loss: 1.6328, Validation Weighted F1: 0.5669\n",
      "Epoch 231: Learning Rate: 0.001000\n"
     ]
    },
    {
     "name": "stderr",
     "output_type": "stream",
     "text": [
      "                                                        \r"
     ]
    },
    {
     "name": "stdout",
     "output_type": "stream",
     "text": [
      "Epoch 232: Train Loss: 0.6141, Train Weighted F1: 0.9956, Validation Loss: 1.6427, Validation Weighted F1: 0.5789\n",
      "Epoch 232: Learning Rate: 0.001000\n"
     ]
    },
    {
     "name": "stderr",
     "output_type": "stream",
     "text": [
      "                                                        \r"
     ]
    },
    {
     "name": "stdout",
     "output_type": "stream",
     "text": [
      "Epoch 233: Train Loss: 0.6238, Train Weighted F1: 0.9918, Validation Loss: 1.6702, Validation Weighted F1: 0.5631\n",
      "Epoch 233: Learning Rate: 0.001000\n"
     ]
    },
    {
     "name": "stderr",
     "output_type": "stream",
     "text": [
      "                                                        \r"
     ]
    },
    {
     "name": "stdout",
     "output_type": "stream",
     "text": [
      "Epoch 234: Train Loss: 0.6204, Train Weighted F1: 0.9916, Validation Loss: 1.6216, Validation Weighted F1: 0.5735\n",
      "Epoch 234: Learning Rate: 0.001000\n"
     ]
    },
    {
     "name": "stderr",
     "output_type": "stream",
     "text": [
      "                                                        \r"
     ]
    },
    {
     "name": "stdout",
     "output_type": "stream",
     "text": [
      "Epoch 235: Train Loss: 0.6192, Train Weighted F1: 0.9942, Validation Loss: 1.6178, Validation Weighted F1: 0.5588\n",
      "Epoch 235: Learning Rate: 0.001000\n"
     ]
    },
    {
     "name": "stderr",
     "output_type": "stream",
     "text": [
      "                                                        \r"
     ]
    },
    {
     "name": "stdout",
     "output_type": "stream",
     "text": [
      "Epoch 236: Train Loss: 0.6187, Train Weighted F1: 0.9914, Validation Loss: 1.6576, Validation Weighted F1: 0.5430\n",
      "Epoch 236: Learning Rate: 0.001000\n"
     ]
    },
    {
     "name": "stderr",
     "output_type": "stream",
     "text": [
      "                                                        \r"
     ]
    },
    {
     "name": "stdout",
     "output_type": "stream",
     "text": [
      "Epoch 237: Train Loss: 0.6178, Train Weighted F1: 0.9938, Validation Loss: 1.6257, Validation Weighted F1: 0.5612\n",
      "Epoch 237: Learning Rate: 0.001000\n"
     ]
    },
    {
     "name": "stderr",
     "output_type": "stream",
     "text": [
      "                                                        \r"
     ]
    },
    {
     "name": "stdout",
     "output_type": "stream",
     "text": [
      "Epoch 238: Train Loss: 0.6179, Train Weighted F1: 0.9913, Validation Loss: 1.6441, Validation Weighted F1: 0.5709\n",
      "Epoch 238: Learning Rate: 0.001000\n"
     ]
    },
    {
     "name": "stderr",
     "output_type": "stream",
     "text": [
      "                                                        \r"
     ]
    },
    {
     "name": "stdout",
     "output_type": "stream",
     "text": [
      "Epoch 239: Train Loss: 0.6165, Train Weighted F1: 0.9944, Validation Loss: 1.6179, Validation Weighted F1: 0.5902\n",
      "Epoch 239: Learning Rate: 0.001000\n"
     ]
    },
    {
     "name": "stderr",
     "output_type": "stream",
     "text": [
      "                                                        \r"
     ]
    },
    {
     "name": "stdout",
     "output_type": "stream",
     "text": [
      "Epoch 240: Train Loss: 0.6175, Train Weighted F1: 0.9920, Validation Loss: 1.6005, Validation Weighted F1: 0.5858\n",
      "Epoch 240: Learning Rate: 0.001000\n"
     ]
    },
    {
     "name": "stderr",
     "output_type": "stream",
     "text": [
      "                                                        \r"
     ]
    },
    {
     "name": "stdout",
     "output_type": "stream",
     "text": [
      "Epoch 241: Train Loss: 0.6187, Train Weighted F1: 0.9932, Validation Loss: 1.6633, Validation Weighted F1: 0.5752\n",
      "Epoch 241: Learning Rate: 0.001000\n"
     ]
    },
    {
     "name": "stderr",
     "output_type": "stream",
     "text": [
      "                                                        \r"
     ]
    },
    {
     "name": "stdout",
     "output_type": "stream",
     "text": [
      "Epoch 242: Train Loss: 0.6198, Train Weighted F1: 0.9929, Validation Loss: 1.6465, Validation Weighted F1: 0.5710\n",
      "Epoch 242: Learning Rate: 0.001000\n"
     ]
    },
    {
     "name": "stderr",
     "output_type": "stream",
     "text": [
      "                                                        \r"
     ]
    },
    {
     "name": "stdout",
     "output_type": "stream",
     "text": [
      "Epoch 243: Train Loss: 0.6157, Train Weighted F1: 0.9932, Validation Loss: 1.6217, Validation Weighted F1: 0.5674\n",
      "Epoch 243: Learning Rate: 0.001000\n"
     ]
    },
    {
     "name": "stderr",
     "output_type": "stream",
     "text": [
      "                                                        \r"
     ]
    },
    {
     "name": "stdout",
     "output_type": "stream",
     "text": [
      "Epoch 244: Train Loss: 0.6176, Train Weighted F1: 0.9940, Validation Loss: 1.6491, Validation Weighted F1: 0.5900\n",
      "Epoch 244: Learning Rate: 0.001000\n"
     ]
    },
    {
     "name": "stderr",
     "output_type": "stream",
     "text": [
      "                                                        \r"
     ]
    },
    {
     "name": "stdout",
     "output_type": "stream",
     "text": [
      "Epoch 245: Train Loss: 0.6182, Train Weighted F1: 0.9943, Validation Loss: 1.6148, Validation Weighted F1: 0.5521\n",
      "Epoch 245: Learning Rate: 0.001000\n"
     ]
    },
    {
     "name": "stderr",
     "output_type": "stream",
     "text": [
      "                                                        \r"
     ]
    },
    {
     "name": "stdout",
     "output_type": "stream",
     "text": [
      "Epoch 246: Train Loss: 0.6219, Train Weighted F1: 0.9897, Validation Loss: 1.6718, Validation Weighted F1: 0.5455\n",
      "Epoch 246: Learning Rate: 0.001000\n"
     ]
    },
    {
     "name": "stderr",
     "output_type": "stream",
     "text": [
      "                                                        \r"
     ]
    },
    {
     "name": "stdout",
     "output_type": "stream",
     "text": [
      "Epoch 247: Train Loss: 0.6151, Train Weighted F1: 0.9943, Validation Loss: 1.6915, Validation Weighted F1: 0.5390\n",
      "Epoch 247: Learning Rate: 0.001000\n"
     ]
    },
    {
     "name": "stderr",
     "output_type": "stream",
     "text": [
      "                                                        \r"
     ]
    },
    {
     "name": "stdout",
     "output_type": "stream",
     "text": [
      "Epoch 248: Train Loss: 0.6172, Train Weighted F1: 0.9942, Validation Loss: 1.6023, Validation Weighted F1: 0.5646\n",
      "Epoch 248: Learning Rate: 0.001000\n"
     ]
    },
    {
     "name": "stderr",
     "output_type": "stream",
     "text": [
      "                                                        \r"
     ]
    },
    {
     "name": "stdout",
     "output_type": "stream",
     "text": [
      "Epoch 249: Train Loss: 0.6145, Train Weighted F1: 0.9945, Validation Loss: 1.6320, Validation Weighted F1: 0.5710\n",
      "Epoch 249: Learning Rate: 0.001000\n"
     ]
    },
    {
     "name": "stderr",
     "output_type": "stream",
     "text": [
      "                                                        \r"
     ]
    },
    {
     "name": "stdout",
     "output_type": "stream",
     "text": [
      "Epoch 250: Train Loss: 0.6199, Train Weighted F1: 0.9907, Validation Loss: 1.6473, Validation Weighted F1: 0.5897\n",
      "Epoch 250: Learning Rate: 0.001000\n"
     ]
    },
    {
     "data": {
      "text/plain": [
       "State:\n",
       "\titeration: 173000\n",
       "\tepoch: 250\n",
       "\tepoch_length: 692\n",
       "\tmax_epochs: 250\n",
       "\toutput: <class 'dict'>\n",
       "\tbatch: <class 'list'>\n",
       "\tmetrics: <class 'dict'>\n",
       "\tdataloader: <class 'torch.utils.data.dataloader.DataLoader'>\n",
       "\tseed: <class 'NoneType'>\n",
       "\ttimes: <class 'dict'>"
      ]
     },
     "execution_count": 23,
     "metadata": {},
     "output_type": "execute_result"
    }
   ],
   "source": [
    "trainer.run(train_loader, max_epochs=250)"
   ]
  },
  {
   "cell_type": "code",
   "execution_count": 25,
   "metadata": {},
   "outputs": [
    {
     "name": "stderr",
     "output_type": "stream",
     "text": [
      "                                                        \r"
     ]
    },
    {
     "name": "stdout",
     "output_type": "stream",
     "text": [
      "Epoch 251: Train Loss: 0.6165, Train Weighted F1: 0.9937, Validation Loss: 1.6350, Validation Weighted F1: 0.6259\n",
      "Epoch 251: Learning Rate: 0.001000\n"
     ]
    },
    {
     "name": "stderr",
     "output_type": "stream",
     "text": [
      "                                                        \r"
     ]
    },
    {
     "name": "stdout",
     "output_type": "stream",
     "text": [
      "Epoch 252: Train Loss: 0.6146, Train Weighted F1: 0.9932, Validation Loss: 1.6909, Validation Weighted F1: 0.5466\n",
      "Epoch 252: Learning Rate: 0.001000\n"
     ]
    },
    {
     "name": "stderr",
     "output_type": "stream",
     "text": [
      "                                                        \r"
     ]
    },
    {
     "name": "stdout",
     "output_type": "stream",
     "text": [
      "Epoch 253: Train Loss: 0.6197, Train Weighted F1: 0.9927, Validation Loss: 1.6359, Validation Weighted F1: 0.5350\n",
      "Epoch 253: Learning Rate: 0.001000\n"
     ]
    },
    {
     "name": "stderr",
     "output_type": "stream",
     "text": [
      "                                                        \r"
     ]
    },
    {
     "name": "stdout",
     "output_type": "stream",
     "text": [
      "Epoch 254: Train Loss: 0.6140, Train Weighted F1: 0.9931, Validation Loss: 1.6358, Validation Weighted F1: 0.5446\n",
      "Epoch 254: Learning Rate: 0.001000\n"
     ]
    },
    {
     "name": "stderr",
     "output_type": "stream",
     "text": [
      "                                                        \r"
     ]
    },
    {
     "name": "stdout",
     "output_type": "stream",
     "text": [
      "Epoch 255: Train Loss: 0.6187, Train Weighted F1: 0.9944, Validation Loss: 1.6587, Validation Weighted F1: 0.5601\n",
      "Epoch 255: Learning Rate: 0.001000\n"
     ]
    },
    {
     "name": "stderr",
     "output_type": "stream",
     "text": [
      "                                                        \r"
     ]
    },
    {
     "name": "stdout",
     "output_type": "stream",
     "text": [
      "Epoch 256: Train Loss: 0.6177, Train Weighted F1: 0.9914, Validation Loss: 1.5982, Validation Weighted F1: 0.5930\n",
      "Epoch 256: Learning Rate: 0.001000\n"
     ]
    },
    {
     "name": "stderr",
     "output_type": "stream",
     "text": [
      "Epoch [257/350]: [348/692]  50%|█████      [02:02<02:05]"
     ]
    },
    {
     "ename": "KeyboardInterrupt",
     "evalue": "",
     "output_type": "error",
     "traceback": [
      "\u001b[0;31m---------------------------------------------------------------------------\u001b[0m",
      "\u001b[0;31mKeyboardInterrupt\u001b[0m                         Traceback (most recent call last)",
      "Cell \u001b[0;32mIn[25], line 1\u001b[0m\n\u001b[0;32m----> 1\u001b[0m \u001b[43mtrainer\u001b[49m\u001b[38;5;241;43m.\u001b[39;49m\u001b[43mrun\u001b[49m\u001b[43m(\u001b[49m\u001b[43mtrain_loader\u001b[49m\u001b[43m,\u001b[49m\u001b[43m \u001b[49m\u001b[43mmax_epochs\u001b[49m\u001b[38;5;241;43m=\u001b[39;49m\u001b[38;5;241;43m350\u001b[39;49m\u001b[43m)\u001b[49m\n",
      "File \u001b[0;32m~/anaconda3/envs/ttorchenv/lib/python3.10/site-packages/ignite/engine/engine.py:889\u001b[0m, in \u001b[0;36mEngine.run\u001b[0;34m(self, data, max_epochs, epoch_length)\u001b[0m\n\u001b[1;32m    886\u001b[0m     \u001b[38;5;28mself\u001b[39m\u001b[38;5;241m.\u001b[39mstate\u001b[38;5;241m.\u001b[39mdataloader \u001b[38;5;241m=\u001b[39m data\n\u001b[1;32m    888\u001b[0m \u001b[38;5;28;01mif\u001b[39;00m \u001b[38;5;28mself\u001b[39m\u001b[38;5;241m.\u001b[39minterrupt_resume_enabled:\n\u001b[0;32m--> 889\u001b[0m     \u001b[38;5;28;01mreturn\u001b[39;00m \u001b[38;5;28;43mself\u001b[39;49m\u001b[38;5;241;43m.\u001b[39;49m\u001b[43m_internal_run\u001b[49m\u001b[43m(\u001b[49m\u001b[43m)\u001b[49m\n\u001b[1;32m    890\u001b[0m \u001b[38;5;28;01melse\u001b[39;00m:\n\u001b[1;32m    891\u001b[0m     \u001b[38;5;28;01mreturn\u001b[39;00m \u001b[38;5;28mself\u001b[39m\u001b[38;5;241m.\u001b[39m_internal_run_legacy()\n",
      "File \u001b[0;32m~/anaconda3/envs/ttorchenv/lib/python3.10/site-packages/ignite/engine/engine.py:932\u001b[0m, in \u001b[0;36mEngine._internal_run\u001b[0;34m(self)\u001b[0m\n\u001b[1;32m    930\u001b[0m     \u001b[38;5;28mself\u001b[39m\u001b[38;5;241m.\u001b[39m_internal_run_generator \u001b[38;5;241m=\u001b[39m \u001b[38;5;28mself\u001b[39m\u001b[38;5;241m.\u001b[39m_internal_run_as_gen()\n\u001b[1;32m    931\u001b[0m \u001b[38;5;28;01mtry\u001b[39;00m:\n\u001b[0;32m--> 932\u001b[0m     \u001b[38;5;28;01mreturn\u001b[39;00m \u001b[38;5;28;43mnext\u001b[39;49m\u001b[43m(\u001b[49m\u001b[38;5;28;43mself\u001b[39;49m\u001b[38;5;241;43m.\u001b[39;49m\u001b[43m_internal_run_generator\u001b[49m\u001b[43m)\u001b[49m\n\u001b[1;32m    933\u001b[0m \u001b[38;5;28;01mexcept\u001b[39;00m \u001b[38;5;167;01mStopIteration\u001b[39;00m \u001b[38;5;28;01mas\u001b[39;00m out:\n\u001b[1;32m    934\u001b[0m     \u001b[38;5;28mself\u001b[39m\u001b[38;5;241m.\u001b[39m_internal_run_generator \u001b[38;5;241m=\u001b[39m \u001b[38;5;28;01mNone\u001b[39;00m\n",
      "File \u001b[0;32m~/anaconda3/envs/ttorchenv/lib/python3.10/site-packages/ignite/engine/engine.py:990\u001b[0m, in \u001b[0;36mEngine._internal_run_as_gen\u001b[0;34m(self)\u001b[0m\n\u001b[1;32m    988\u001b[0m     \u001b[38;5;28mself\u001b[39m\u001b[38;5;241m.\u001b[39m_dataloader_iter \u001b[38;5;241m=\u001b[39m \u001b[38;5;28;01mNone\u001b[39;00m\n\u001b[1;32m    989\u001b[0m     \u001b[38;5;28mself\u001b[39m\u001b[38;5;241m.\u001b[39mlogger\u001b[38;5;241m.\u001b[39merror(\u001b[38;5;124mf\u001b[39m\u001b[38;5;124m\"\u001b[39m\u001b[38;5;124mEngine run is terminating due to exception: \u001b[39m\u001b[38;5;132;01m{\u001b[39;00me\u001b[38;5;132;01m}\u001b[39;00m\u001b[38;5;124m\"\u001b[39m)\n\u001b[0;32m--> 990\u001b[0m     \u001b[38;5;28;43mself\u001b[39;49m\u001b[38;5;241;43m.\u001b[39;49m\u001b[43m_handle_exception\u001b[49m\u001b[43m(\u001b[49m\u001b[43me\u001b[49m\u001b[43m)\u001b[49m\n\u001b[1;32m    992\u001b[0m \u001b[38;5;28mself\u001b[39m\u001b[38;5;241m.\u001b[39m_dataloader_iter \u001b[38;5;241m=\u001b[39m \u001b[38;5;28;01mNone\u001b[39;00m\n\u001b[1;32m    993\u001b[0m \u001b[38;5;28;01mreturn\u001b[39;00m \u001b[38;5;28mself\u001b[39m\u001b[38;5;241m.\u001b[39mstate\n",
      "File \u001b[0;32m~/anaconda3/envs/ttorchenv/lib/python3.10/site-packages/ignite/engine/engine.py:644\u001b[0m, in \u001b[0;36mEngine._handle_exception\u001b[0;34m(self, e)\u001b[0m\n\u001b[1;32m    642\u001b[0m     \u001b[38;5;28mself\u001b[39m\u001b[38;5;241m.\u001b[39m_fire_event(Events\u001b[38;5;241m.\u001b[39mEXCEPTION_RAISED, e)\n\u001b[1;32m    643\u001b[0m \u001b[38;5;28;01melse\u001b[39;00m:\n\u001b[0;32m--> 644\u001b[0m     \u001b[38;5;28;01mraise\u001b[39;00m e\n",
      "File \u001b[0;32m~/anaconda3/envs/ttorchenv/lib/python3.10/site-packages/ignite/engine/engine.py:956\u001b[0m, in \u001b[0;36mEngine._internal_run_as_gen\u001b[0;34m(self)\u001b[0m\n\u001b[1;32m    953\u001b[0m \u001b[38;5;28;01mif\u001b[39;00m \u001b[38;5;28mself\u001b[39m\u001b[38;5;241m.\u001b[39m_dataloader_iter \u001b[38;5;129;01mis\u001b[39;00m \u001b[38;5;28;01mNone\u001b[39;00m:\n\u001b[1;32m    954\u001b[0m     \u001b[38;5;28mself\u001b[39m\u001b[38;5;241m.\u001b[39m_setup_engine()\n\u001b[0;32m--> 956\u001b[0m epoch_time_taken \u001b[38;5;241m+\u001b[39m\u001b[38;5;241m=\u001b[39m \u001b[38;5;28;01myield from\u001b[39;00m \u001b[38;5;28mself\u001b[39m\u001b[38;5;241m.\u001b[39m_run_once_on_dataset_as_gen()\n\u001b[1;32m    958\u001b[0m \u001b[38;5;66;03m# time is available for handlers but must be updated after fire\u001b[39;00m\n\u001b[1;32m    959\u001b[0m \u001b[38;5;28mself\u001b[39m\u001b[38;5;241m.\u001b[39mstate\u001b[38;5;241m.\u001b[39mtimes[Events\u001b[38;5;241m.\u001b[39mEPOCH_COMPLETED\u001b[38;5;241m.\u001b[39mname] \u001b[38;5;241m=\u001b[39m epoch_time_taken\n",
      "File \u001b[0;32m~/anaconda3/envs/ttorchenv/lib/python3.10/site-packages/ignite/engine/engine.py:1077\u001b[0m, in \u001b[0;36mEngine._run_once_on_dataset_as_gen\u001b[0;34m(self)\u001b[0m\n\u001b[1;32m   1074\u001b[0m \u001b[38;5;28mself\u001b[39m\u001b[38;5;241m.\u001b[39m_fire_event(Events\u001b[38;5;241m.\u001b[39mITERATION_STARTED)\n\u001b[1;32m   1075\u001b[0m \u001b[38;5;28;01myield from\u001b[39;00m \u001b[38;5;28mself\u001b[39m\u001b[38;5;241m.\u001b[39m_maybe_terminate_or_interrupt()\n\u001b[0;32m-> 1077\u001b[0m \u001b[38;5;28mself\u001b[39m\u001b[38;5;241m.\u001b[39mstate\u001b[38;5;241m.\u001b[39moutput \u001b[38;5;241m=\u001b[39m \u001b[38;5;28;43mself\u001b[39;49m\u001b[38;5;241;43m.\u001b[39;49m\u001b[43m_process_function\u001b[49m\u001b[43m(\u001b[49m\u001b[38;5;28;43mself\u001b[39;49m\u001b[43m,\u001b[49m\u001b[43m \u001b[49m\u001b[38;5;28;43mself\u001b[39;49m\u001b[38;5;241;43m.\u001b[39;49m\u001b[43mstate\u001b[49m\u001b[38;5;241;43m.\u001b[39;49m\u001b[43mbatch\u001b[49m\u001b[43m)\u001b[49m\n\u001b[1;32m   1078\u001b[0m \u001b[38;5;28mself\u001b[39m\u001b[38;5;241m.\u001b[39m_fire_event(Events\u001b[38;5;241m.\u001b[39mITERATION_COMPLETED)\n\u001b[1;32m   1079\u001b[0m \u001b[38;5;28;01myield from\u001b[39;00m \u001b[38;5;28mself\u001b[39m\u001b[38;5;241m.\u001b[39m_maybe_terminate_or_interrupt()\n",
      "Cell \u001b[0;32mIn[21], line 37\u001b[0m, in \u001b[0;36mtrain_step\u001b[0;34m(engine, batch)\u001b[0m\n\u001b[1;32m     35\u001b[0m loss \u001b[38;5;241m=\u001b[39m criterion(outputs, labels)\n\u001b[1;32m     36\u001b[0m loss\u001b[38;5;241m.\u001b[39mbackward()\n\u001b[0;32m---> 37\u001b[0m \u001b[43moptimizer\u001b[49m\u001b[38;5;241;43m.\u001b[39;49m\u001b[43mstep\u001b[49m\u001b[43m(\u001b[49m\u001b[43m)\u001b[49m\n\u001b[1;32m     38\u001b[0m \u001b[38;5;28;01mreturn\u001b[39;00m {\u001b[38;5;124m\"\u001b[39m\u001b[38;5;124mloss\u001b[39m\u001b[38;5;124m\"\u001b[39m: loss\u001b[38;5;241m.\u001b[39mitem(), \u001b[38;5;124m\"\u001b[39m\u001b[38;5;124moutputs\u001b[39m\u001b[38;5;124m\"\u001b[39m: outputs, \u001b[38;5;124m\"\u001b[39m\u001b[38;5;124mlabels\u001b[39m\u001b[38;5;124m\"\u001b[39m: labels}\n",
      "File \u001b[0;32m~/anaconda3/envs/ttorchenv/lib/python3.10/site-packages/torch/optim/lr_scheduler.py:137\u001b[0m, in \u001b[0;36mLRScheduler.__init__.<locals>.patch_track_step_called.<locals>.wrap_step.<locals>.wrapper\u001b[0;34m(*args, **kwargs)\u001b[0m\n\u001b[1;32m    135\u001b[0m opt \u001b[38;5;241m=\u001b[39m opt_ref()\n\u001b[1;32m    136\u001b[0m opt\u001b[38;5;241m.\u001b[39m_opt_called \u001b[38;5;241m=\u001b[39m \u001b[38;5;28;01mTrue\u001b[39;00m  \u001b[38;5;66;03m# type: ignore[union-attr]\u001b[39;00m\n\u001b[0;32m--> 137\u001b[0m \u001b[38;5;28;01mreturn\u001b[39;00m \u001b[43mfunc\u001b[49m\u001b[38;5;241;43m.\u001b[39;49m\u001b[38;5;21;43m__get__\u001b[39;49m\u001b[43m(\u001b[49m\u001b[43mopt\u001b[49m\u001b[43m,\u001b[49m\u001b[43m \u001b[49m\u001b[43mopt\u001b[49m\u001b[38;5;241;43m.\u001b[39;49m\u001b[38;5;18;43m__class__\u001b[39;49m\u001b[43m)\u001b[49m\u001b[43m(\u001b[49m\u001b[38;5;241;43m*\u001b[39;49m\u001b[43margs\u001b[49m\u001b[43m,\u001b[49m\u001b[43m \u001b[49m\u001b[38;5;241;43m*\u001b[39;49m\u001b[38;5;241;43m*\u001b[39;49m\u001b[43mkwargs\u001b[49m\u001b[43m)\u001b[49m\n",
      "File \u001b[0;32m~/anaconda3/envs/ttorchenv/lib/python3.10/site-packages/torch/optim/optimizer.py:487\u001b[0m, in \u001b[0;36mOptimizer.profile_hook_step.<locals>.wrapper\u001b[0;34m(*args, **kwargs)\u001b[0m\n\u001b[1;32m    482\u001b[0m         \u001b[38;5;28;01melse\u001b[39;00m:\n\u001b[1;32m    483\u001b[0m             \u001b[38;5;28;01mraise\u001b[39;00m \u001b[38;5;167;01mRuntimeError\u001b[39;00m(\n\u001b[1;32m    484\u001b[0m                 \u001b[38;5;124mf\u001b[39m\u001b[38;5;124m\"\u001b[39m\u001b[38;5;132;01m{\u001b[39;00mfunc\u001b[38;5;132;01m}\u001b[39;00m\u001b[38;5;124m must return None or a tuple of (new_args, new_kwargs), but got \u001b[39m\u001b[38;5;132;01m{\u001b[39;00mresult\u001b[38;5;132;01m}\u001b[39;00m\u001b[38;5;124m.\u001b[39m\u001b[38;5;124m\"\u001b[39m\n\u001b[1;32m    485\u001b[0m             )\n\u001b[0;32m--> 487\u001b[0m out \u001b[38;5;241m=\u001b[39m \u001b[43mfunc\u001b[49m\u001b[43m(\u001b[49m\u001b[38;5;241;43m*\u001b[39;49m\u001b[43margs\u001b[49m\u001b[43m,\u001b[49m\u001b[43m \u001b[49m\u001b[38;5;241;43m*\u001b[39;49m\u001b[38;5;241;43m*\u001b[39;49m\u001b[43mkwargs\u001b[49m\u001b[43m)\u001b[49m\n\u001b[1;32m    488\u001b[0m \u001b[38;5;28mself\u001b[39m\u001b[38;5;241m.\u001b[39m_optimizer_step_code()\n\u001b[1;32m    490\u001b[0m \u001b[38;5;66;03m# call optimizer step post hooks\u001b[39;00m\n",
      "File \u001b[0;32m~/anaconda3/envs/ttorchenv/lib/python3.10/site-packages/torch/optim/optimizer.py:91\u001b[0m, in \u001b[0;36m_use_grad_for_differentiable.<locals>._use_grad\u001b[0;34m(self, *args, **kwargs)\u001b[0m\n\u001b[1;32m     89\u001b[0m     torch\u001b[38;5;241m.\u001b[39mset_grad_enabled(\u001b[38;5;28mself\u001b[39m\u001b[38;5;241m.\u001b[39mdefaults[\u001b[38;5;124m\"\u001b[39m\u001b[38;5;124mdifferentiable\u001b[39m\u001b[38;5;124m\"\u001b[39m])\n\u001b[1;32m     90\u001b[0m     torch\u001b[38;5;241m.\u001b[39m_dynamo\u001b[38;5;241m.\u001b[39mgraph_break()\n\u001b[0;32m---> 91\u001b[0m     ret \u001b[38;5;241m=\u001b[39m \u001b[43mfunc\u001b[49m\u001b[43m(\u001b[49m\u001b[38;5;28;43mself\u001b[39;49m\u001b[43m,\u001b[49m\u001b[43m \u001b[49m\u001b[38;5;241;43m*\u001b[39;49m\u001b[43margs\u001b[49m\u001b[43m,\u001b[49m\u001b[43m \u001b[49m\u001b[38;5;241;43m*\u001b[39;49m\u001b[38;5;241;43m*\u001b[39;49m\u001b[43mkwargs\u001b[49m\u001b[43m)\u001b[49m\n\u001b[1;32m     92\u001b[0m \u001b[38;5;28;01mfinally\u001b[39;00m:\n\u001b[1;32m     93\u001b[0m     torch\u001b[38;5;241m.\u001b[39m_dynamo\u001b[38;5;241m.\u001b[39mgraph_break()\n",
      "File \u001b[0;32m~/anaconda3/envs/ttorchenv/lib/python3.10/site-packages/torch/optim/adamw.py:220\u001b[0m, in \u001b[0;36mAdamW.step\u001b[0;34m(self, closure)\u001b[0m\n\u001b[1;32m    207\u001b[0m     beta1, beta2 \u001b[38;5;241m=\u001b[39m cast(Tuple[\u001b[38;5;28mfloat\u001b[39m, \u001b[38;5;28mfloat\u001b[39m], group[\u001b[38;5;124m\"\u001b[39m\u001b[38;5;124mbetas\u001b[39m\u001b[38;5;124m\"\u001b[39m])\n\u001b[1;32m    209\u001b[0m     has_complex \u001b[38;5;241m=\u001b[39m \u001b[38;5;28mself\u001b[39m\u001b[38;5;241m.\u001b[39m_init_group(\n\u001b[1;32m    210\u001b[0m         group,\n\u001b[1;32m    211\u001b[0m         params_with_grad,\n\u001b[0;32m   (...)\u001b[0m\n\u001b[1;32m    217\u001b[0m         state_steps,\n\u001b[1;32m    218\u001b[0m     )\n\u001b[0;32m--> 220\u001b[0m     \u001b[43madamw\u001b[49m\u001b[43m(\u001b[49m\n\u001b[1;32m    221\u001b[0m \u001b[43m        \u001b[49m\u001b[43mparams_with_grad\u001b[49m\u001b[43m,\u001b[49m\n\u001b[1;32m    222\u001b[0m \u001b[43m        \u001b[49m\u001b[43mgrads\u001b[49m\u001b[43m,\u001b[49m\n\u001b[1;32m    223\u001b[0m \u001b[43m        \u001b[49m\u001b[43mexp_avgs\u001b[49m\u001b[43m,\u001b[49m\n\u001b[1;32m    224\u001b[0m \u001b[43m        \u001b[49m\u001b[43mexp_avg_sqs\u001b[49m\u001b[43m,\u001b[49m\n\u001b[1;32m    225\u001b[0m \u001b[43m        \u001b[49m\u001b[43mmax_exp_avg_sqs\u001b[49m\u001b[43m,\u001b[49m\n\u001b[1;32m    226\u001b[0m \u001b[43m        \u001b[49m\u001b[43mstate_steps\u001b[49m\u001b[43m,\u001b[49m\n\u001b[1;32m    227\u001b[0m \u001b[43m        \u001b[49m\u001b[43mamsgrad\u001b[49m\u001b[38;5;241;43m=\u001b[39;49m\u001b[43mamsgrad\u001b[49m\u001b[43m,\u001b[49m\n\u001b[1;32m    228\u001b[0m \u001b[43m        \u001b[49m\u001b[43mbeta1\u001b[49m\u001b[38;5;241;43m=\u001b[39;49m\u001b[43mbeta1\u001b[49m\u001b[43m,\u001b[49m\n\u001b[1;32m    229\u001b[0m \u001b[43m        \u001b[49m\u001b[43mbeta2\u001b[49m\u001b[38;5;241;43m=\u001b[39;49m\u001b[43mbeta2\u001b[49m\u001b[43m,\u001b[49m\n\u001b[1;32m    230\u001b[0m \u001b[43m        \u001b[49m\u001b[43mlr\u001b[49m\u001b[38;5;241;43m=\u001b[39;49m\u001b[43mgroup\u001b[49m\u001b[43m[\u001b[49m\u001b[38;5;124;43m\"\u001b[39;49m\u001b[38;5;124;43mlr\u001b[39;49m\u001b[38;5;124;43m\"\u001b[39;49m\u001b[43m]\u001b[49m\u001b[43m,\u001b[49m\n\u001b[1;32m    231\u001b[0m \u001b[43m        \u001b[49m\u001b[43mweight_decay\u001b[49m\u001b[38;5;241;43m=\u001b[39;49m\u001b[43mgroup\u001b[49m\u001b[43m[\u001b[49m\u001b[38;5;124;43m\"\u001b[39;49m\u001b[38;5;124;43mweight_decay\u001b[39;49m\u001b[38;5;124;43m\"\u001b[39;49m\u001b[43m]\u001b[49m\u001b[43m,\u001b[49m\n\u001b[1;32m    232\u001b[0m \u001b[43m        \u001b[49m\u001b[43meps\u001b[49m\u001b[38;5;241;43m=\u001b[39;49m\u001b[43mgroup\u001b[49m\u001b[43m[\u001b[49m\u001b[38;5;124;43m\"\u001b[39;49m\u001b[38;5;124;43meps\u001b[39;49m\u001b[38;5;124;43m\"\u001b[39;49m\u001b[43m]\u001b[49m\u001b[43m,\u001b[49m\n\u001b[1;32m    233\u001b[0m \u001b[43m        \u001b[49m\u001b[43mmaximize\u001b[49m\u001b[38;5;241;43m=\u001b[39;49m\u001b[43mgroup\u001b[49m\u001b[43m[\u001b[49m\u001b[38;5;124;43m\"\u001b[39;49m\u001b[38;5;124;43mmaximize\u001b[39;49m\u001b[38;5;124;43m\"\u001b[39;49m\u001b[43m]\u001b[49m\u001b[43m,\u001b[49m\n\u001b[1;32m    234\u001b[0m \u001b[43m        \u001b[49m\u001b[43mforeach\u001b[49m\u001b[38;5;241;43m=\u001b[39;49m\u001b[43mgroup\u001b[49m\u001b[43m[\u001b[49m\u001b[38;5;124;43m\"\u001b[39;49m\u001b[38;5;124;43mforeach\u001b[39;49m\u001b[38;5;124;43m\"\u001b[39;49m\u001b[43m]\u001b[49m\u001b[43m,\u001b[49m\n\u001b[1;32m    235\u001b[0m \u001b[43m        \u001b[49m\u001b[43mcapturable\u001b[49m\u001b[38;5;241;43m=\u001b[39;49m\u001b[43mgroup\u001b[49m\u001b[43m[\u001b[49m\u001b[38;5;124;43m\"\u001b[39;49m\u001b[38;5;124;43mcapturable\u001b[39;49m\u001b[38;5;124;43m\"\u001b[39;49m\u001b[43m]\u001b[49m\u001b[43m,\u001b[49m\n\u001b[1;32m    236\u001b[0m \u001b[43m        \u001b[49m\u001b[43mdifferentiable\u001b[49m\u001b[38;5;241;43m=\u001b[39;49m\u001b[43mgroup\u001b[49m\u001b[43m[\u001b[49m\u001b[38;5;124;43m\"\u001b[39;49m\u001b[38;5;124;43mdifferentiable\u001b[39;49m\u001b[38;5;124;43m\"\u001b[39;49m\u001b[43m]\u001b[49m\u001b[43m,\u001b[49m\n\u001b[1;32m    237\u001b[0m \u001b[43m        \u001b[49m\u001b[43mfused\u001b[49m\u001b[38;5;241;43m=\u001b[39;49m\u001b[43mgroup\u001b[49m\u001b[43m[\u001b[49m\u001b[38;5;124;43m\"\u001b[39;49m\u001b[38;5;124;43mfused\u001b[39;49m\u001b[38;5;124;43m\"\u001b[39;49m\u001b[43m]\u001b[49m\u001b[43m,\u001b[49m\n\u001b[1;32m    238\u001b[0m \u001b[43m        \u001b[49m\u001b[43mgrad_scale\u001b[49m\u001b[38;5;241;43m=\u001b[39;49m\u001b[38;5;28;43mgetattr\u001b[39;49m\u001b[43m(\u001b[49m\u001b[38;5;28;43mself\u001b[39;49m\u001b[43m,\u001b[49m\u001b[43m \u001b[49m\u001b[38;5;124;43m\"\u001b[39;49m\u001b[38;5;124;43mgrad_scale\u001b[39;49m\u001b[38;5;124;43m\"\u001b[39;49m\u001b[43m,\u001b[49m\u001b[43m \u001b[49m\u001b[38;5;28;43;01mNone\u001b[39;49;00m\u001b[43m)\u001b[49m\u001b[43m,\u001b[49m\n\u001b[1;32m    239\u001b[0m \u001b[43m        \u001b[49m\u001b[43mfound_inf\u001b[49m\u001b[38;5;241;43m=\u001b[39;49m\u001b[38;5;28;43mgetattr\u001b[39;49m\u001b[43m(\u001b[49m\u001b[38;5;28;43mself\u001b[39;49m\u001b[43m,\u001b[49m\u001b[43m \u001b[49m\u001b[38;5;124;43m\"\u001b[39;49m\u001b[38;5;124;43mfound_inf\u001b[39;49m\u001b[38;5;124;43m\"\u001b[39;49m\u001b[43m,\u001b[49m\u001b[43m \u001b[49m\u001b[38;5;28;43;01mNone\u001b[39;49;00m\u001b[43m)\u001b[49m\u001b[43m,\u001b[49m\n\u001b[1;32m    240\u001b[0m \u001b[43m        \u001b[49m\u001b[43mhas_complex\u001b[49m\u001b[38;5;241;43m=\u001b[39;49m\u001b[43mhas_complex\u001b[49m\u001b[43m,\u001b[49m\n\u001b[1;32m    241\u001b[0m \u001b[43m    \u001b[49m\u001b[43m)\u001b[49m\n\u001b[1;32m    243\u001b[0m \u001b[38;5;28;01mreturn\u001b[39;00m loss\n",
      "File \u001b[0;32m~/anaconda3/envs/ttorchenv/lib/python3.10/site-packages/torch/optim/optimizer.py:154\u001b[0m, in \u001b[0;36m_disable_dynamo_if_unsupported.<locals>.wrapper.<locals>.maybe_fallback\u001b[0;34m(*args, **kwargs)\u001b[0m\n\u001b[1;32m    152\u001b[0m     \u001b[38;5;28;01mreturn\u001b[39;00m disabled_func(\u001b[38;5;241m*\u001b[39margs, \u001b[38;5;241m*\u001b[39m\u001b[38;5;241m*\u001b[39mkwargs)\n\u001b[1;32m    153\u001b[0m \u001b[38;5;28;01melse\u001b[39;00m:\n\u001b[0;32m--> 154\u001b[0m     \u001b[38;5;28;01mreturn\u001b[39;00m \u001b[43mfunc\u001b[49m\u001b[43m(\u001b[49m\u001b[38;5;241;43m*\u001b[39;49m\u001b[43margs\u001b[49m\u001b[43m,\u001b[49m\u001b[43m \u001b[49m\u001b[38;5;241;43m*\u001b[39;49m\u001b[38;5;241;43m*\u001b[39;49m\u001b[43mkwargs\u001b[49m\u001b[43m)\u001b[49m\n",
      "File \u001b[0;32m~/anaconda3/envs/ttorchenv/lib/python3.10/site-packages/torch/optim/adamw.py:782\u001b[0m, in \u001b[0;36madamw\u001b[0;34m(params, grads, exp_avgs, exp_avg_sqs, max_exp_avg_sqs, state_steps, foreach, capturable, differentiable, fused, grad_scale, found_inf, has_complex, amsgrad, beta1, beta2, lr, weight_decay, eps, maximize)\u001b[0m\n\u001b[1;32m    779\u001b[0m \u001b[38;5;28;01melse\u001b[39;00m:\n\u001b[1;32m    780\u001b[0m     func \u001b[38;5;241m=\u001b[39m _single_tensor_adamw\n\u001b[0;32m--> 782\u001b[0m \u001b[43mfunc\u001b[49m\u001b[43m(\u001b[49m\n\u001b[1;32m    783\u001b[0m \u001b[43m    \u001b[49m\u001b[43mparams\u001b[49m\u001b[43m,\u001b[49m\n\u001b[1;32m    784\u001b[0m \u001b[43m    \u001b[49m\u001b[43mgrads\u001b[49m\u001b[43m,\u001b[49m\n\u001b[1;32m    785\u001b[0m \u001b[43m    \u001b[49m\u001b[43mexp_avgs\u001b[49m\u001b[43m,\u001b[49m\n\u001b[1;32m    786\u001b[0m \u001b[43m    \u001b[49m\u001b[43mexp_avg_sqs\u001b[49m\u001b[43m,\u001b[49m\n\u001b[1;32m    787\u001b[0m \u001b[43m    \u001b[49m\u001b[43mmax_exp_avg_sqs\u001b[49m\u001b[43m,\u001b[49m\n\u001b[1;32m    788\u001b[0m \u001b[43m    \u001b[49m\u001b[43mstate_steps\u001b[49m\u001b[43m,\u001b[49m\n\u001b[1;32m    789\u001b[0m \u001b[43m    \u001b[49m\u001b[43mamsgrad\u001b[49m\u001b[38;5;241;43m=\u001b[39;49m\u001b[43mamsgrad\u001b[49m\u001b[43m,\u001b[49m\n\u001b[1;32m    790\u001b[0m \u001b[43m    \u001b[49m\u001b[43mbeta1\u001b[49m\u001b[38;5;241;43m=\u001b[39;49m\u001b[43mbeta1\u001b[49m\u001b[43m,\u001b[49m\n\u001b[1;32m    791\u001b[0m \u001b[43m    \u001b[49m\u001b[43mbeta2\u001b[49m\u001b[38;5;241;43m=\u001b[39;49m\u001b[43mbeta2\u001b[49m\u001b[43m,\u001b[49m\n\u001b[1;32m    792\u001b[0m \u001b[43m    \u001b[49m\u001b[43mlr\u001b[49m\u001b[38;5;241;43m=\u001b[39;49m\u001b[43mlr\u001b[49m\u001b[43m,\u001b[49m\n\u001b[1;32m    793\u001b[0m \u001b[43m    \u001b[49m\u001b[43mweight_decay\u001b[49m\u001b[38;5;241;43m=\u001b[39;49m\u001b[43mweight_decay\u001b[49m\u001b[43m,\u001b[49m\n\u001b[1;32m    794\u001b[0m \u001b[43m    \u001b[49m\u001b[43meps\u001b[49m\u001b[38;5;241;43m=\u001b[39;49m\u001b[43meps\u001b[49m\u001b[43m,\u001b[49m\n\u001b[1;32m    795\u001b[0m \u001b[43m    \u001b[49m\u001b[43mmaximize\u001b[49m\u001b[38;5;241;43m=\u001b[39;49m\u001b[43mmaximize\u001b[49m\u001b[43m,\u001b[49m\n\u001b[1;32m    796\u001b[0m \u001b[43m    \u001b[49m\u001b[43mcapturable\u001b[49m\u001b[38;5;241;43m=\u001b[39;49m\u001b[43mcapturable\u001b[49m\u001b[43m,\u001b[49m\n\u001b[1;32m    797\u001b[0m \u001b[43m    \u001b[49m\u001b[43mdifferentiable\u001b[49m\u001b[38;5;241;43m=\u001b[39;49m\u001b[43mdifferentiable\u001b[49m\u001b[43m,\u001b[49m\n\u001b[1;32m    798\u001b[0m \u001b[43m    \u001b[49m\u001b[43mgrad_scale\u001b[49m\u001b[38;5;241;43m=\u001b[39;49m\u001b[43mgrad_scale\u001b[49m\u001b[43m,\u001b[49m\n\u001b[1;32m    799\u001b[0m \u001b[43m    \u001b[49m\u001b[43mfound_inf\u001b[49m\u001b[38;5;241;43m=\u001b[39;49m\u001b[43mfound_inf\u001b[49m\u001b[43m,\u001b[49m\n\u001b[1;32m    800\u001b[0m \u001b[43m    \u001b[49m\u001b[43mhas_complex\u001b[49m\u001b[38;5;241;43m=\u001b[39;49m\u001b[43mhas_complex\u001b[49m\u001b[43m,\u001b[49m\n\u001b[1;32m    801\u001b[0m \u001b[43m\u001b[49m\u001b[43m)\u001b[49m\n",
      "File \u001b[0;32m~/anaconda3/envs/ttorchenv/lib/python3.10/site-packages/torch/optim/adamw.py:584\u001b[0m, in \u001b[0;36m_multi_tensor_adamw\u001b[0;34m(params, grads, exp_avgs, exp_avg_sqs, max_exp_avg_sqs, state_steps, grad_scale, found_inf, amsgrad, beta1, beta2, lr, weight_decay, eps, maximize, capturable, differentiable, has_complex)\u001b[0m\n\u001b[1;32m    582\u001b[0m     torch\u001b[38;5;241m.\u001b[39m_foreach_addcdiv_(device_params, device_exp_avgs, exp_avg_sq_sqrt)\n\u001b[1;32m    583\u001b[0m \u001b[38;5;28;01melse\u001b[39;00m:\n\u001b[0;32m--> 584\u001b[0m     bias_correction1 \u001b[38;5;241m=\u001b[39m [\n\u001b[1;32m    585\u001b[0m         \u001b[38;5;241m1\u001b[39m \u001b[38;5;241m-\u001b[39m beta1 \u001b[38;5;241m*\u001b[39m\u001b[38;5;241m*\u001b[39m _get_value(step) \u001b[38;5;28;01mfor\u001b[39;00m step \u001b[38;5;129;01min\u001b[39;00m device_state_steps\n\u001b[1;32m    586\u001b[0m     ]\n\u001b[1;32m    587\u001b[0m     bias_correction2 \u001b[38;5;241m=\u001b[39m [\n\u001b[1;32m    588\u001b[0m         \u001b[38;5;241m1\u001b[39m \u001b[38;5;241m-\u001b[39m beta2 \u001b[38;5;241m*\u001b[39m\u001b[38;5;241m*\u001b[39m _get_value(step) \u001b[38;5;28;01mfor\u001b[39;00m step \u001b[38;5;129;01min\u001b[39;00m device_state_steps\n\u001b[1;32m    589\u001b[0m     ]\n\u001b[1;32m    591\u001b[0m     step_size \u001b[38;5;241m=\u001b[39m _stack_if_compiling([(lr \u001b[38;5;241m/\u001b[39m bc) \u001b[38;5;241m*\u001b[39m \u001b[38;5;241m-\u001b[39m\u001b[38;5;241m1\u001b[39m \u001b[38;5;28;01mfor\u001b[39;00m bc \u001b[38;5;129;01min\u001b[39;00m bias_correction1])\n",
      "File \u001b[0;32m~/anaconda3/envs/ttorchenv/lib/python3.10/site-packages/torch/optim/adamw.py:585\u001b[0m, in \u001b[0;36m<listcomp>\u001b[0;34m(.0)\u001b[0m\n\u001b[1;32m    582\u001b[0m     torch\u001b[38;5;241m.\u001b[39m_foreach_addcdiv_(device_params, device_exp_avgs, exp_avg_sq_sqrt)\n\u001b[1;32m    583\u001b[0m \u001b[38;5;28;01melse\u001b[39;00m:\n\u001b[1;32m    584\u001b[0m     bias_correction1 \u001b[38;5;241m=\u001b[39m [\n\u001b[0;32m--> 585\u001b[0m         \u001b[38;5;241m1\u001b[39m \u001b[38;5;241m-\u001b[39m beta1 \u001b[38;5;241m*\u001b[39m\u001b[38;5;241m*\u001b[39m \u001b[43m_get_value\u001b[49m\u001b[43m(\u001b[49m\u001b[43mstep\u001b[49m\u001b[43m)\u001b[49m \u001b[38;5;28;01mfor\u001b[39;00m step \u001b[38;5;129;01min\u001b[39;00m device_state_steps\n\u001b[1;32m    586\u001b[0m     ]\n\u001b[1;32m    587\u001b[0m     bias_correction2 \u001b[38;5;241m=\u001b[39m [\n\u001b[1;32m    588\u001b[0m         \u001b[38;5;241m1\u001b[39m \u001b[38;5;241m-\u001b[39m beta2 \u001b[38;5;241m*\u001b[39m\u001b[38;5;241m*\u001b[39m _get_value(step) \u001b[38;5;28;01mfor\u001b[39;00m step \u001b[38;5;129;01min\u001b[39;00m device_state_steps\n\u001b[1;32m    589\u001b[0m     ]\n\u001b[1;32m    591\u001b[0m     step_size \u001b[38;5;241m=\u001b[39m _stack_if_compiling([(lr \u001b[38;5;241m/\u001b[39m bc) \u001b[38;5;241m*\u001b[39m \u001b[38;5;241m-\u001b[39m\u001b[38;5;241m1\u001b[39m \u001b[38;5;28;01mfor\u001b[39;00m bc \u001b[38;5;129;01min\u001b[39;00m bias_correction1])\n",
      "File \u001b[0;32m~/anaconda3/envs/ttorchenv/lib/python3.10/site-packages/torch/optim/optimizer.py:106\u001b[0m, in \u001b[0;36m_get_value\u001b[0;34m(x)\u001b[0m\n\u001b[1;32m    104\u001b[0m     \u001b[38;5;28;01mreturn\u001b[39;00m x\n\u001b[1;32m    105\u001b[0m \u001b[38;5;28;01melse\u001b[39;00m:\n\u001b[0;32m--> 106\u001b[0m     \u001b[38;5;28;01mreturn\u001b[39;00m \u001b[43mx\u001b[49m\u001b[38;5;241;43m.\u001b[39;49m\u001b[43mitem\u001b[49m\u001b[43m(\u001b[49m\u001b[43m)\u001b[49m \u001b[38;5;28;01mif\u001b[39;00m \u001b[38;5;28misinstance\u001b[39m(x, torch\u001b[38;5;241m.\u001b[39mTensor) \u001b[38;5;28;01melse\u001b[39;00m x\n",
      "\u001b[0;31mKeyboardInterrupt\u001b[0m: "
     ]
    }
   ],
   "source": [
    "trainer.run(train_loader, max_epochs=350)"
   ]
  },
  {
   "cell_type": "code",
   "execution_count": 19,
   "metadata": {},
   "outputs": [],
   "source": [
    "path_res_check = './train_info/checkpoints_17_12_19_24/best_checkpoint_142_val_F1=0.6188.pt'"
   ]
  },
  {
   "cell_type": "code",
   "execution_count": 20,
   "metadata": {},
   "outputs": [
    {
     "name": "stderr",
     "output_type": "stream",
     "text": [
      "/home/bottic/anaconda3/envs/ttorchenv/lib/python3.10/site-packages/torchvision/models/_utils.py:208: UserWarning: The parameter 'pretrained' is deprecated since 0.13 and may be removed in the future, please use 'weights' instead.\n",
      "  warnings.warn(\n",
      "/home/bottic/anaconda3/envs/ttorchenv/lib/python3.10/site-packages/torchvision/models/_utils.py:223: UserWarning: Arguments other than a weight enum or `None` for 'weights' are deprecated since 0.13 and may be removed in the future. The current behavior is equivalent to passing `weights=None`.\n",
      "  warnings.warn(msg)\n"
     ]
    }
   ],
   "source": [
    "model = custom_efficientnet_b0(num_classes=20).to(device)"
   ]
  },
  {
   "cell_type": "code",
   "execution_count": 21,
   "metadata": {},
   "outputs": [
    {
     "name": "stderr",
     "output_type": "stream",
     "text": [
      "/tmp/ipykernel_72644/3780611332.py:1: FutureWarning: You are using `torch.load` with `weights_only=False` (the current default value), which uses the default pickle module implicitly. It is possible to construct malicious pickle data which will execute arbitrary code during unpickling (See https://github.com/pytorch/pytorch/blob/main/SECURITY.md#untrusted-models for more details). In a future release, the default value for `weights_only` will be flipped to `True`. This limits the functions that could be executed during unpickling. Arbitrary objects will no longer be allowed to be loaded via this mode unless they are explicitly allowlisted by the user via `torch.serialization.add_safe_globals`. We recommend you start setting `weights_only=True` for any use case where you don't have full control of the loaded file. Please open an issue on GitHub for any issues related to this experimental feature.\n",
      "  checkpoint = torch.load(path_res_check, map_location=torch.device(device))\n"
     ]
    },
    {
     "data": {
      "text/plain": [
       "<All keys matched successfully>"
      ]
     },
     "execution_count": 21,
     "metadata": {},
     "output_type": "execute_result"
    }
   ],
   "source": [
    "checkpoint = torch.load(path_res_check, map_location=torch.device(device))\n",
    "model.load_state_dict(checkpoint[\"model\"])"
   ]
  },
  {
   "cell_type": "code",
   "execution_count": 27,
   "metadata": {},
   "outputs": [
    {
     "data": {
      "text/plain": [
       "CustomEfficientNet(\n",
       "  (base_model): EfficientNet(\n",
       "    (features): Sequential(\n",
       "      (0): Conv2dNormActivation(\n",
       "        (0): Conv2d(64, 32, kernel_size=(3, 3), stride=(2, 2), padding=(1, 1))\n",
       "        (1): BatchNorm2d(32, eps=1e-05, momentum=0.1, affine=True, track_running_stats=True)\n",
       "        (2): SiLU(inplace=True)\n",
       "      )\n",
       "      (1): Sequential(\n",
       "        (0): MBConv(\n",
       "          (block): Sequential(\n",
       "            (0): Conv2dNormActivation(\n",
       "              (0): Conv2d(32, 32, kernel_size=(3, 3), stride=(1, 1), padding=(1, 1), groups=32, bias=False)\n",
       "              (1): BatchNorm2d(32, eps=1e-05, momentum=0.1, affine=True, track_running_stats=True)\n",
       "              (2): SiLU(inplace=True)\n",
       "            )\n",
       "            (1): SqueezeExcitation(\n",
       "              (avgpool): AdaptiveAvgPool2d(output_size=1)\n",
       "              (fc1): Conv2d(32, 8, kernel_size=(1, 1), stride=(1, 1))\n",
       "              (fc2): Conv2d(8, 32, kernel_size=(1, 1), stride=(1, 1))\n",
       "              (activation): SiLU(inplace=True)\n",
       "              (scale_activation): Sigmoid()\n",
       "            )\n",
       "            (2): Conv2dNormActivation(\n",
       "              (0): Conv2d(32, 16, kernel_size=(1, 1), stride=(1, 1), bias=False)\n",
       "              (1): BatchNorm2d(16, eps=1e-05, momentum=0.1, affine=True, track_running_stats=True)\n",
       "            )\n",
       "          )\n",
       "          (stochastic_depth): StochasticDepth(p=0.0, mode=row)\n",
       "        )\n",
       "      )\n",
       "      (2): Sequential(\n",
       "        (0): MBConv(\n",
       "          (block): Sequential(\n",
       "            (0): Conv2dNormActivation(\n",
       "              (0): Conv2d(16, 96, kernel_size=(1, 1), stride=(1, 1), bias=False)\n",
       "              (1): BatchNorm2d(96, eps=1e-05, momentum=0.1, affine=True, track_running_stats=True)\n",
       "              (2): SiLU(inplace=True)\n",
       "            )\n",
       "            (1): Conv2dNormActivation(\n",
       "              (0): Conv2d(96, 96, kernel_size=(3, 3), stride=(2, 2), padding=(1, 1), groups=96, bias=False)\n",
       "              (1): BatchNorm2d(96, eps=1e-05, momentum=0.1, affine=True, track_running_stats=True)\n",
       "              (2): SiLU(inplace=True)\n",
       "            )\n",
       "            (2): SqueezeExcitation(\n",
       "              (avgpool): AdaptiveAvgPool2d(output_size=1)\n",
       "              (fc1): Conv2d(96, 4, kernel_size=(1, 1), stride=(1, 1))\n",
       "              (fc2): Conv2d(4, 96, kernel_size=(1, 1), stride=(1, 1))\n",
       "              (activation): SiLU(inplace=True)\n",
       "              (scale_activation): Sigmoid()\n",
       "            )\n",
       "            (3): Conv2dNormActivation(\n",
       "              (0): Conv2d(96, 24, kernel_size=(1, 1), stride=(1, 1), bias=False)\n",
       "              (1): BatchNorm2d(24, eps=1e-05, momentum=0.1, affine=True, track_running_stats=True)\n",
       "            )\n",
       "          )\n",
       "          (stochastic_depth): StochasticDepth(p=0.0125, mode=row)\n",
       "        )\n",
       "        (1): MBConv(\n",
       "          (block): Sequential(\n",
       "            (0): Conv2dNormActivation(\n",
       "              (0): Conv2d(24, 144, kernel_size=(1, 1), stride=(1, 1), bias=False)\n",
       "              (1): BatchNorm2d(144, eps=1e-05, momentum=0.1, affine=True, track_running_stats=True)\n",
       "              (2): SiLU(inplace=True)\n",
       "            )\n",
       "            (1): Conv2dNormActivation(\n",
       "              (0): Conv2d(144, 144, kernel_size=(3, 3), stride=(1, 1), padding=(1, 1), groups=144, bias=False)\n",
       "              (1): BatchNorm2d(144, eps=1e-05, momentum=0.1, affine=True, track_running_stats=True)\n",
       "              (2): SiLU(inplace=True)\n",
       "            )\n",
       "            (2): SqueezeExcitation(\n",
       "              (avgpool): AdaptiveAvgPool2d(output_size=1)\n",
       "              (fc1): Conv2d(144, 6, kernel_size=(1, 1), stride=(1, 1))\n",
       "              (fc2): Conv2d(6, 144, kernel_size=(1, 1), stride=(1, 1))\n",
       "              (activation): SiLU(inplace=True)\n",
       "              (scale_activation): Sigmoid()\n",
       "            )\n",
       "            (3): Conv2dNormActivation(\n",
       "              (0): Conv2d(144, 24, kernel_size=(1, 1), stride=(1, 1), bias=False)\n",
       "              (1): BatchNorm2d(24, eps=1e-05, momentum=0.1, affine=True, track_running_stats=True)\n",
       "            )\n",
       "          )\n",
       "          (stochastic_depth): StochasticDepth(p=0.025, mode=row)\n",
       "        )\n",
       "      )\n",
       "      (3): Sequential(\n",
       "        (0): MBConv(\n",
       "          (block): Sequential(\n",
       "            (0): Conv2dNormActivation(\n",
       "              (0): Conv2d(24, 144, kernel_size=(1, 1), stride=(1, 1), bias=False)\n",
       "              (1): BatchNorm2d(144, eps=1e-05, momentum=0.1, affine=True, track_running_stats=True)\n",
       "              (2): SiLU(inplace=True)\n",
       "            )\n",
       "            (1): Conv2dNormActivation(\n",
       "              (0): Conv2d(144, 144, kernel_size=(5, 5), stride=(2, 2), padding=(2, 2), groups=144, bias=False)\n",
       "              (1): BatchNorm2d(144, eps=1e-05, momentum=0.1, affine=True, track_running_stats=True)\n",
       "              (2): SiLU(inplace=True)\n",
       "            )\n",
       "            (2): SqueezeExcitation(\n",
       "              (avgpool): AdaptiveAvgPool2d(output_size=1)\n",
       "              (fc1): Conv2d(144, 6, kernel_size=(1, 1), stride=(1, 1))\n",
       "              (fc2): Conv2d(6, 144, kernel_size=(1, 1), stride=(1, 1))\n",
       "              (activation): SiLU(inplace=True)\n",
       "              (scale_activation): Sigmoid()\n",
       "            )\n",
       "            (3): Conv2dNormActivation(\n",
       "              (0): Conv2d(144, 40, kernel_size=(1, 1), stride=(1, 1), bias=False)\n",
       "              (1): BatchNorm2d(40, eps=1e-05, momentum=0.1, affine=True, track_running_stats=True)\n",
       "            )\n",
       "          )\n",
       "          (stochastic_depth): StochasticDepth(p=0.037500000000000006, mode=row)\n",
       "        )\n",
       "        (1): MBConv(\n",
       "          (block): Sequential(\n",
       "            (0): Conv2dNormActivation(\n",
       "              (0): Conv2d(40, 240, kernel_size=(1, 1), stride=(1, 1), bias=False)\n",
       "              (1): BatchNorm2d(240, eps=1e-05, momentum=0.1, affine=True, track_running_stats=True)\n",
       "              (2): SiLU(inplace=True)\n",
       "            )\n",
       "            (1): Conv2dNormActivation(\n",
       "              (0): Conv2d(240, 240, kernel_size=(5, 5), stride=(1, 1), padding=(2, 2), groups=240, bias=False)\n",
       "              (1): BatchNorm2d(240, eps=1e-05, momentum=0.1, affine=True, track_running_stats=True)\n",
       "              (2): SiLU(inplace=True)\n",
       "            )\n",
       "            (2): SqueezeExcitation(\n",
       "              (avgpool): AdaptiveAvgPool2d(output_size=1)\n",
       "              (fc1): Conv2d(240, 10, kernel_size=(1, 1), stride=(1, 1))\n",
       "              (fc2): Conv2d(10, 240, kernel_size=(1, 1), stride=(1, 1))\n",
       "              (activation): SiLU(inplace=True)\n",
       "              (scale_activation): Sigmoid()\n",
       "            )\n",
       "            (3): Conv2dNormActivation(\n",
       "              (0): Conv2d(240, 40, kernel_size=(1, 1), stride=(1, 1), bias=False)\n",
       "              (1): BatchNorm2d(40, eps=1e-05, momentum=0.1, affine=True, track_running_stats=True)\n",
       "            )\n",
       "          )\n",
       "          (stochastic_depth): StochasticDepth(p=0.05, mode=row)\n",
       "        )\n",
       "      )\n",
       "      (4): Sequential(\n",
       "        (0): MBConv(\n",
       "          (block): Sequential(\n",
       "            (0): Conv2dNormActivation(\n",
       "              (0): Conv2d(40, 240, kernel_size=(1, 1), stride=(1, 1), bias=False)\n",
       "              (1): BatchNorm2d(240, eps=1e-05, momentum=0.1, affine=True, track_running_stats=True)\n",
       "              (2): SiLU(inplace=True)\n",
       "            )\n",
       "            (1): Conv2dNormActivation(\n",
       "              (0): Conv2d(240, 240, kernel_size=(3, 3), stride=(2, 2), padding=(1, 1), groups=240, bias=False)\n",
       "              (1): BatchNorm2d(240, eps=1e-05, momentum=0.1, affine=True, track_running_stats=True)\n",
       "              (2): SiLU(inplace=True)\n",
       "            )\n",
       "            (2): SqueezeExcitation(\n",
       "              (avgpool): AdaptiveAvgPool2d(output_size=1)\n",
       "              (fc1): Conv2d(240, 10, kernel_size=(1, 1), stride=(1, 1))\n",
       "              (fc2): Conv2d(10, 240, kernel_size=(1, 1), stride=(1, 1))\n",
       "              (activation): SiLU(inplace=True)\n",
       "              (scale_activation): Sigmoid()\n",
       "            )\n",
       "            (3): Conv2dNormActivation(\n",
       "              (0): Conv2d(240, 80, kernel_size=(1, 1), stride=(1, 1), bias=False)\n",
       "              (1): BatchNorm2d(80, eps=1e-05, momentum=0.1, affine=True, track_running_stats=True)\n",
       "            )\n",
       "          )\n",
       "          (stochastic_depth): StochasticDepth(p=0.0625, mode=row)\n",
       "        )\n",
       "        (1): MBConv(\n",
       "          (block): Sequential(\n",
       "            (0): Conv2dNormActivation(\n",
       "              (0): Conv2d(80, 480, kernel_size=(1, 1), stride=(1, 1), bias=False)\n",
       "              (1): BatchNorm2d(480, eps=1e-05, momentum=0.1, affine=True, track_running_stats=True)\n",
       "              (2): SiLU(inplace=True)\n",
       "            )\n",
       "            (1): Conv2dNormActivation(\n",
       "              (0): Conv2d(480, 480, kernel_size=(3, 3), stride=(1, 1), padding=(1, 1), groups=480, bias=False)\n",
       "              (1): BatchNorm2d(480, eps=1e-05, momentum=0.1, affine=True, track_running_stats=True)\n",
       "              (2): SiLU(inplace=True)\n",
       "            )\n",
       "            (2): SqueezeExcitation(\n",
       "              (avgpool): AdaptiveAvgPool2d(output_size=1)\n",
       "              (fc1): Conv2d(480, 20, kernel_size=(1, 1), stride=(1, 1))\n",
       "              (fc2): Conv2d(20, 480, kernel_size=(1, 1), stride=(1, 1))\n",
       "              (activation): SiLU(inplace=True)\n",
       "              (scale_activation): Sigmoid()\n",
       "            )\n",
       "            (3): Conv2dNormActivation(\n",
       "              (0): Conv2d(480, 80, kernel_size=(1, 1), stride=(1, 1), bias=False)\n",
       "              (1): BatchNorm2d(80, eps=1e-05, momentum=0.1, affine=True, track_running_stats=True)\n",
       "            )\n",
       "          )\n",
       "          (stochastic_depth): StochasticDepth(p=0.07500000000000001, mode=row)\n",
       "        )\n",
       "        (2): MBConv(\n",
       "          (block): Sequential(\n",
       "            (0): Conv2dNormActivation(\n",
       "              (0): Conv2d(80, 480, kernel_size=(1, 1), stride=(1, 1), bias=False)\n",
       "              (1): BatchNorm2d(480, eps=1e-05, momentum=0.1, affine=True, track_running_stats=True)\n",
       "              (2): SiLU(inplace=True)\n",
       "            )\n",
       "            (1): Conv2dNormActivation(\n",
       "              (0): Conv2d(480, 480, kernel_size=(3, 3), stride=(1, 1), padding=(1, 1), groups=480, bias=False)\n",
       "              (1): BatchNorm2d(480, eps=1e-05, momentum=0.1, affine=True, track_running_stats=True)\n",
       "              (2): SiLU(inplace=True)\n",
       "            )\n",
       "            (2): SqueezeExcitation(\n",
       "              (avgpool): AdaptiveAvgPool2d(output_size=1)\n",
       "              (fc1): Conv2d(480, 20, kernel_size=(1, 1), stride=(1, 1))\n",
       "              (fc2): Conv2d(20, 480, kernel_size=(1, 1), stride=(1, 1))\n",
       "              (activation): SiLU(inplace=True)\n",
       "              (scale_activation): Sigmoid()\n",
       "            )\n",
       "            (3): Conv2dNormActivation(\n",
       "              (0): Conv2d(480, 80, kernel_size=(1, 1), stride=(1, 1), bias=False)\n",
       "              (1): BatchNorm2d(80, eps=1e-05, momentum=0.1, affine=True, track_running_stats=True)\n",
       "            )\n",
       "          )\n",
       "          (stochastic_depth): StochasticDepth(p=0.08750000000000001, mode=row)\n",
       "        )\n",
       "      )\n",
       "      (5): Sequential(\n",
       "        (0): MBConv(\n",
       "          (block): Sequential(\n",
       "            (0): Conv2dNormActivation(\n",
       "              (0): Conv2d(80, 480, kernel_size=(1, 1), stride=(1, 1), bias=False)\n",
       "              (1): BatchNorm2d(480, eps=1e-05, momentum=0.1, affine=True, track_running_stats=True)\n",
       "              (2): SiLU(inplace=True)\n",
       "            )\n",
       "            (1): Conv2dNormActivation(\n",
       "              (0): Conv2d(480, 480, kernel_size=(5, 5), stride=(1, 1), padding=(2, 2), groups=480, bias=False)\n",
       "              (1): BatchNorm2d(480, eps=1e-05, momentum=0.1, affine=True, track_running_stats=True)\n",
       "              (2): SiLU(inplace=True)\n",
       "            )\n",
       "            (2): SqueezeExcitation(\n",
       "              (avgpool): AdaptiveAvgPool2d(output_size=1)\n",
       "              (fc1): Conv2d(480, 20, kernel_size=(1, 1), stride=(1, 1))\n",
       "              (fc2): Conv2d(20, 480, kernel_size=(1, 1), stride=(1, 1))\n",
       "              (activation): SiLU(inplace=True)\n",
       "              (scale_activation): Sigmoid()\n",
       "            )\n",
       "            (3): Conv2dNormActivation(\n",
       "              (0): Conv2d(480, 112, kernel_size=(1, 1), stride=(1, 1), bias=False)\n",
       "              (1): BatchNorm2d(112, eps=1e-05, momentum=0.1, affine=True, track_running_stats=True)\n",
       "            )\n",
       "          )\n",
       "          (stochastic_depth): StochasticDepth(p=0.1, mode=row)\n",
       "        )\n",
       "        (1): MBConv(\n",
       "          (block): Sequential(\n",
       "            (0): Conv2dNormActivation(\n",
       "              (0): Conv2d(112, 672, kernel_size=(1, 1), stride=(1, 1), bias=False)\n",
       "              (1): BatchNorm2d(672, eps=1e-05, momentum=0.1, affine=True, track_running_stats=True)\n",
       "              (2): SiLU(inplace=True)\n",
       "            )\n",
       "            (1): Conv2dNormActivation(\n",
       "              (0): Conv2d(672, 672, kernel_size=(5, 5), stride=(1, 1), padding=(2, 2), groups=672, bias=False)\n",
       "              (1): BatchNorm2d(672, eps=1e-05, momentum=0.1, affine=True, track_running_stats=True)\n",
       "              (2): SiLU(inplace=True)\n",
       "            )\n",
       "            (2): SqueezeExcitation(\n",
       "              (avgpool): AdaptiveAvgPool2d(output_size=1)\n",
       "              (fc1): Conv2d(672, 28, kernel_size=(1, 1), stride=(1, 1))\n",
       "              (fc2): Conv2d(28, 672, kernel_size=(1, 1), stride=(1, 1))\n",
       "              (activation): SiLU(inplace=True)\n",
       "              (scale_activation): Sigmoid()\n",
       "            )\n",
       "            (3): Conv2dNormActivation(\n",
       "              (0): Conv2d(672, 112, kernel_size=(1, 1), stride=(1, 1), bias=False)\n",
       "              (1): BatchNorm2d(112, eps=1e-05, momentum=0.1, affine=True, track_running_stats=True)\n",
       "            )\n",
       "          )\n",
       "          (stochastic_depth): StochasticDepth(p=0.1125, mode=row)\n",
       "        )\n",
       "        (2): MBConv(\n",
       "          (block): Sequential(\n",
       "            (0): Conv2dNormActivation(\n",
       "              (0): Conv2d(112, 672, kernel_size=(1, 1), stride=(1, 1), bias=False)\n",
       "              (1): BatchNorm2d(672, eps=1e-05, momentum=0.1, affine=True, track_running_stats=True)\n",
       "              (2): SiLU(inplace=True)\n",
       "            )\n",
       "            (1): Conv2dNormActivation(\n",
       "              (0): Conv2d(672, 672, kernel_size=(5, 5), stride=(1, 1), padding=(2, 2), groups=672, bias=False)\n",
       "              (1): BatchNorm2d(672, eps=1e-05, momentum=0.1, affine=True, track_running_stats=True)\n",
       "              (2): SiLU(inplace=True)\n",
       "            )\n",
       "            (2): SqueezeExcitation(\n",
       "              (avgpool): AdaptiveAvgPool2d(output_size=1)\n",
       "              (fc1): Conv2d(672, 28, kernel_size=(1, 1), stride=(1, 1))\n",
       "              (fc2): Conv2d(28, 672, kernel_size=(1, 1), stride=(1, 1))\n",
       "              (activation): SiLU(inplace=True)\n",
       "              (scale_activation): Sigmoid()\n",
       "            )\n",
       "            (3): Conv2dNormActivation(\n",
       "              (0): Conv2d(672, 112, kernel_size=(1, 1), stride=(1, 1), bias=False)\n",
       "              (1): BatchNorm2d(112, eps=1e-05, momentum=0.1, affine=True, track_running_stats=True)\n",
       "            )\n",
       "          )\n",
       "          (stochastic_depth): StochasticDepth(p=0.125, mode=row)\n",
       "        )\n",
       "      )\n",
       "      (6): Sequential(\n",
       "        (0): MBConv(\n",
       "          (block): Sequential(\n",
       "            (0): Conv2dNormActivation(\n",
       "              (0): Conv2d(112, 672, kernel_size=(1, 1), stride=(1, 1), bias=False)\n",
       "              (1): BatchNorm2d(672, eps=1e-05, momentum=0.1, affine=True, track_running_stats=True)\n",
       "              (2): SiLU(inplace=True)\n",
       "            )\n",
       "            (1): Conv2dNormActivation(\n",
       "              (0): Conv2d(672, 672, kernel_size=(5, 5), stride=(2, 2), padding=(2, 2), groups=672, bias=False)\n",
       "              (1): BatchNorm2d(672, eps=1e-05, momentum=0.1, affine=True, track_running_stats=True)\n",
       "              (2): SiLU(inplace=True)\n",
       "            )\n",
       "            (2): SqueezeExcitation(\n",
       "              (avgpool): AdaptiveAvgPool2d(output_size=1)\n",
       "              (fc1): Conv2d(672, 28, kernel_size=(1, 1), stride=(1, 1))\n",
       "              (fc2): Conv2d(28, 672, kernel_size=(1, 1), stride=(1, 1))\n",
       "              (activation): SiLU(inplace=True)\n",
       "              (scale_activation): Sigmoid()\n",
       "            )\n",
       "            (3): Conv2dNormActivation(\n",
       "              (0): Conv2d(672, 192, kernel_size=(1, 1), stride=(1, 1), bias=False)\n",
       "              (1): BatchNorm2d(192, eps=1e-05, momentum=0.1, affine=True, track_running_stats=True)\n",
       "            )\n",
       "          )\n",
       "          (stochastic_depth): StochasticDepth(p=0.1375, mode=row)\n",
       "        )\n",
       "        (1): MBConv(\n",
       "          (block): Sequential(\n",
       "            (0): Conv2dNormActivation(\n",
       "              (0): Conv2d(192, 1152, kernel_size=(1, 1), stride=(1, 1), bias=False)\n",
       "              (1): BatchNorm2d(1152, eps=1e-05, momentum=0.1, affine=True, track_running_stats=True)\n",
       "              (2): SiLU(inplace=True)\n",
       "            )\n",
       "            (1): Conv2dNormActivation(\n",
       "              (0): Conv2d(1152, 1152, kernel_size=(5, 5), stride=(1, 1), padding=(2, 2), groups=1152, bias=False)\n",
       "              (1): BatchNorm2d(1152, eps=1e-05, momentum=0.1, affine=True, track_running_stats=True)\n",
       "              (2): SiLU(inplace=True)\n",
       "            )\n",
       "            (2): SqueezeExcitation(\n",
       "              (avgpool): AdaptiveAvgPool2d(output_size=1)\n",
       "              (fc1): Conv2d(1152, 48, kernel_size=(1, 1), stride=(1, 1))\n",
       "              (fc2): Conv2d(48, 1152, kernel_size=(1, 1), stride=(1, 1))\n",
       "              (activation): SiLU(inplace=True)\n",
       "              (scale_activation): Sigmoid()\n",
       "            )\n",
       "            (3): Conv2dNormActivation(\n",
       "              (0): Conv2d(1152, 192, kernel_size=(1, 1), stride=(1, 1), bias=False)\n",
       "              (1): BatchNorm2d(192, eps=1e-05, momentum=0.1, affine=True, track_running_stats=True)\n",
       "            )\n",
       "          )\n",
       "          (stochastic_depth): StochasticDepth(p=0.15000000000000002, mode=row)\n",
       "        )\n",
       "        (2): MBConv(\n",
       "          (block): Sequential(\n",
       "            (0): Conv2dNormActivation(\n",
       "              (0): Conv2d(192, 1152, kernel_size=(1, 1), stride=(1, 1), bias=False)\n",
       "              (1): BatchNorm2d(1152, eps=1e-05, momentum=0.1, affine=True, track_running_stats=True)\n",
       "              (2): SiLU(inplace=True)\n",
       "            )\n",
       "            (1): Conv2dNormActivation(\n",
       "              (0): Conv2d(1152, 1152, kernel_size=(5, 5), stride=(1, 1), padding=(2, 2), groups=1152, bias=False)\n",
       "              (1): BatchNorm2d(1152, eps=1e-05, momentum=0.1, affine=True, track_running_stats=True)\n",
       "              (2): SiLU(inplace=True)\n",
       "            )\n",
       "            (2): SqueezeExcitation(\n",
       "              (avgpool): AdaptiveAvgPool2d(output_size=1)\n",
       "              (fc1): Conv2d(1152, 48, kernel_size=(1, 1), stride=(1, 1))\n",
       "              (fc2): Conv2d(48, 1152, kernel_size=(1, 1), stride=(1, 1))\n",
       "              (activation): SiLU(inplace=True)\n",
       "              (scale_activation): Sigmoid()\n",
       "            )\n",
       "            (3): Conv2dNormActivation(\n",
       "              (0): Conv2d(1152, 192, kernel_size=(1, 1), stride=(1, 1), bias=False)\n",
       "              (1): BatchNorm2d(192, eps=1e-05, momentum=0.1, affine=True, track_running_stats=True)\n",
       "            )\n",
       "          )\n",
       "          (stochastic_depth): StochasticDepth(p=0.1625, mode=row)\n",
       "        )\n",
       "        (3): MBConv(\n",
       "          (block): Sequential(\n",
       "            (0): Conv2dNormActivation(\n",
       "              (0): Conv2d(192, 1152, kernel_size=(1, 1), stride=(1, 1), bias=False)\n",
       "              (1): BatchNorm2d(1152, eps=1e-05, momentum=0.1, affine=True, track_running_stats=True)\n",
       "              (2): SiLU(inplace=True)\n",
       "            )\n",
       "            (1): Conv2dNormActivation(\n",
       "              (0): Conv2d(1152, 1152, kernel_size=(5, 5), stride=(1, 1), padding=(2, 2), groups=1152, bias=False)\n",
       "              (1): BatchNorm2d(1152, eps=1e-05, momentum=0.1, affine=True, track_running_stats=True)\n",
       "              (2): SiLU(inplace=True)\n",
       "            )\n",
       "            (2): SqueezeExcitation(\n",
       "              (avgpool): AdaptiveAvgPool2d(output_size=1)\n",
       "              (fc1): Conv2d(1152, 48, kernel_size=(1, 1), stride=(1, 1))\n",
       "              (fc2): Conv2d(48, 1152, kernel_size=(1, 1), stride=(1, 1))\n",
       "              (activation): SiLU(inplace=True)\n",
       "              (scale_activation): Sigmoid()\n",
       "            )\n",
       "            (3): Conv2dNormActivation(\n",
       "              (0): Conv2d(1152, 192, kernel_size=(1, 1), stride=(1, 1), bias=False)\n",
       "              (1): BatchNorm2d(192, eps=1e-05, momentum=0.1, affine=True, track_running_stats=True)\n",
       "            )\n",
       "          )\n",
       "          (stochastic_depth): StochasticDepth(p=0.17500000000000002, mode=row)\n",
       "        )\n",
       "      )\n",
       "      (7): Sequential(\n",
       "        (0): MBConv(\n",
       "          (block): Sequential(\n",
       "            (0): Conv2dNormActivation(\n",
       "              (0): Conv2d(192, 1152, kernel_size=(1, 1), stride=(1, 1), bias=False)\n",
       "              (1): BatchNorm2d(1152, eps=1e-05, momentum=0.1, affine=True, track_running_stats=True)\n",
       "              (2): SiLU(inplace=True)\n",
       "            )\n",
       "            (1): Conv2dNormActivation(\n",
       "              (0): Conv2d(1152, 1152, kernel_size=(3, 3), stride=(1, 1), padding=(1, 1), groups=1152, bias=False)\n",
       "              (1): BatchNorm2d(1152, eps=1e-05, momentum=0.1, affine=True, track_running_stats=True)\n",
       "              (2): SiLU(inplace=True)\n",
       "            )\n",
       "            (2): SqueezeExcitation(\n",
       "              (avgpool): AdaptiveAvgPool2d(output_size=1)\n",
       "              (fc1): Conv2d(1152, 48, kernel_size=(1, 1), stride=(1, 1))\n",
       "              (fc2): Conv2d(48, 1152, kernel_size=(1, 1), stride=(1, 1))\n",
       "              (activation): SiLU(inplace=True)\n",
       "              (scale_activation): Sigmoid()\n",
       "            )\n",
       "            (3): Conv2dNormActivation(\n",
       "              (0): Conv2d(1152, 320, kernel_size=(1, 1), stride=(1, 1), bias=False)\n",
       "              (1): BatchNorm2d(320, eps=1e-05, momentum=0.1, affine=True, track_running_stats=True)\n",
       "            )\n",
       "          )\n",
       "          (stochastic_depth): StochasticDepth(p=0.1875, mode=row)\n",
       "        )\n",
       "      )\n",
       "      (8): Conv2dNormActivation(\n",
       "        (0): Conv2d(320, 1280, kernel_size=(1, 1), stride=(1, 1), bias=False)\n",
       "        (1): BatchNorm2d(1280, eps=1e-05, momentum=0.1, affine=True, track_running_stats=True)\n",
       "        (2): SiLU(inplace=True)\n",
       "      )\n",
       "    )\n",
       "    (avgpool): AdaptiveAvgPool2d(output_size=1)\n",
       "    (classifier): Sequential(\n",
       "      (0): Dropout(p=0.5, inplace=True)\n",
       "      (1): Linear(in_features=1280, out_features=20, bias=True)\n",
       "    )\n",
       "  )\n",
       "  (extra_conv): Sequential(\n",
       "    (0): Conv2d(3, 32, kernel_size=(3, 3), stride=(1, 1), padding=(1, 1))\n",
       "    (1): BatchNorm2d(32, eps=1e-05, momentum=0.1, affine=True, track_running_stats=True)\n",
       "    (2): ReLU(inplace=True)\n",
       "    (3): Conv2d(32, 64, kernel_size=(3, 3), stride=(1, 1), padding=(1, 1))\n",
       "    (4): BatchNorm2d(64, eps=1e-05, momentum=0.1, affine=True, track_running_stats=True)\n",
       "    (5): ReLU(inplace=True)\n",
       "    (6): Conv2d(64, 64, kernel_size=(1, 1), stride=(1, 1))\n",
       "    (7): ReLU(inplace=True)\n",
       "  )\n",
       ")"
      ]
     },
     "execution_count": 27,
     "metadata": {},
     "output_type": "execute_result"
    }
   ],
   "source": [
    "model.to(device)"
   ]
  },
  {
   "cell_type": "code",
   "execution_count": 20,
   "metadata": {},
   "outputs": [],
   "source": [
    "criterion = nn.CrossEntropyLoss()\n",
    "optimizer = Adam(model.parameters(), lr=0.001)"
   ]
  },
  {
   "cell_type": "code",
   "execution_count": 20,
   "metadata": {},
   "outputs": [],
   "source": [
    "optimizer.load_state_dict(checkpoint[\"optimizer\"])"
   ]
  },
  {
   "cell_type": "code",
   "execution_count": 22,
   "metadata": {
    "execution": {
     "iopub.execute_input": "2024-12-16T18:43:16.769800Z",
     "iopub.status.busy": "2024-12-16T18:43:16.769200Z",
     "iopub.status.idle": "2024-12-16T18:46:00.995735Z",
     "shell.execute_reply": "2024-12-16T18:46:00.994846Z",
     "shell.execute_reply.started": "2024-12-16T18:43:16.769764Z"
    },
    "trusted": true
   },
   "outputs": [
    {
     "name": "stdout",
     "output_type": "stream",
     "text": [
      "Submission file saved to: ./sub.csv\n"
     ]
    }
   ],
   "source": [
    "model.eval()  \n",
    "\n",
    "test_images_path = \"../data/img_test\"\n",
    "\n",
    "transform = transforms.Compose([\n",
    "    transforms.Resize((227, 227)),  # Изменяем размер изображений\n",
    "    transforms.ToTensor(),\n",
    "    transforms.Normalize(mean=[0.485, 0.456, 0.406],\n",
    "                         std=[0.229, 0.224, 0.225])\n",
    "])\n",
    "\n",
    "test_image_files = [f for f in os.listdir(test_images_path) if f.endswith('.jpg') or f.endswith('.png')]\n",
    "\n",
    "results = []\n",
    "\n",
    "for image_file in test_image_files:\n",
    "    image_path = os.path.join(test_images_path, image_file)\n",
    "    image = Image.open(image_path).convert(\"RGB\") \n",
    "    image = transform(image).unsqueeze(0).to(device)\n",
    "\n",
    "    with torch.no_grad():\n",
    "        outputs = model(image)\n",
    "        predicted_class = torch.argmax(outputs, dim=1).item() \n",
    "\n",
    "    image_id = os.path.splitext(image_file)[0]\n",
    "    results.append({\"id\": image_id, \"target_feature\": predicted_class})\n",
    "\n",
    "submission_df = pd.DataFrame(results)\n",
    "\n",
    "submission_file_path = \"./sub.csv\"\n",
    "submission_df.to_csv(submission_file_path, index=False)\n",
    "\n",
    "print(f\"Submission file saved to: {submission_file_path}\")\n"
   ]
  }
 ],
 "metadata": {
  "kaggle": {
   "accelerator": "gpu",
   "dataSources": [
    {
     "databundleVersionId": 10288468,
     "sourceId": 89345,
     "sourceType": "competition"
    },
    {
     "datasetId": 6286408,
     "sourceId": 10177684,
     "sourceType": "datasetVersion"
    }
   ],
   "dockerImageVersionId": 30805,
   "isGpuEnabled": true,
   "isInternetEnabled": true,
   "language": "python",
   "sourceType": "notebook"
  },
  "kernelspec": {
   "display_name": "ttorchenv",
   "language": "python",
   "name": "python3"
  },
  "language_info": {
   "codemirror_mode": {
    "name": "ipython",
    "version": 3
   },
   "file_extension": ".py",
   "mimetype": "text/x-python",
   "name": "python",
   "nbconvert_exporter": "python",
   "pygments_lexer": "ipython3",
   "version": "3.10.13"
  }
 },
 "nbformat": 4,
 "nbformat_minor": 4
}
