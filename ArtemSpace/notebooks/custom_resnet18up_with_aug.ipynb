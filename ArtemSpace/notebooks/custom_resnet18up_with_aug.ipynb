{
 "cells": [
  {
   "cell_type": "code",
   "execution_count": 1,
   "metadata": {},
   "outputs": [],
   "source": [
    "import numpy as np\n",
    "import os\n",
    "import pandas as pd\n",
    "import matplotlib.pyplot as plt\n",
    "from PIL import Image\n",
    "import shutil\n",
    "from tqdm import tqdm \n",
    "import random\n",
    "\n",
    "import torch\n",
    "import torch.nn as nn\n",
    "from torch.utils.data import Dataset, DataLoader\n",
    "from torch.utils.data import random_split\n",
    "from sklearn.model_selection import train_test_split\n",
    "from torchvision import transforms\n",
    "from torchsummary import summary"
   ]
  },
  {
   "cell_type": "markdown",
   "metadata": {},
   "source": [
    "# Подготовка тренировочного датасета"
   ]
  },
  {
   "cell_type": "code",
   "execution_count": 2,
   "metadata": {},
   "outputs": [
    {
     "name": "stdout",
     "output_type": "stream",
     "text": [
      "CUDA available: True\n",
      "CUDA device name: NVIDIA GeForce RTX 2060\n",
      "PyTorch CUDA version: 12.4\n",
      "Tensor device: cuda:0\n"
     ]
    }
   ],
   "source": [
    "print(\"CUDA available:\", torch.cuda.is_available())\n",
    "print(\"CUDA device name:\", torch.cuda.get_device_name(0))\n",
    "print(\"PyTorch CUDA version:\", torch.version.cuda)\n",
    "device = torch.device(\"cuda\" if torch.cuda.is_available() else \"cpu\")\n",
    "x = torch.rand(3, 3).to(device)\n",
    "print(\"Tensor device:\", x.device)"
   ]
  },
  {
   "cell_type": "code",
   "execution_count": 3,
   "metadata": {},
   "outputs": [
    {
     "data": {
      "text/plain": [
       "device(type='cuda')"
      ]
     },
     "execution_count": 3,
     "metadata": {},
     "output_type": "execute_result"
    }
   ],
   "source": [
    "device"
   ]
  },
  {
   "cell_type": "code",
   "execution_count": 4,
   "metadata": {},
   "outputs": [
    {
     "data": {
      "text/html": [
       "<div>\n",
       "<style scoped>\n",
       "    .dataframe tbody tr th:only-of-type {\n",
       "        vertical-align: middle;\n",
       "    }\n",
       "\n",
       "    .dataframe tbody tr th {\n",
       "        vertical-align: top;\n",
       "    }\n",
       "\n",
       "    .dataframe thead th {\n",
       "        text-align: right;\n",
       "    }\n",
       "</style>\n",
       "<table border=\"1\" class=\"dataframe\">\n",
       "  <thead>\n",
       "    <tr style=\"text-align: right;\">\n",
       "      <th></th>\n",
       "      <th>img_id</th>\n",
       "      <th>target_feature</th>\n",
       "    </tr>\n",
       "  </thead>\n",
       "  <tbody>\n",
       "    <tr>\n",
       "      <th>0</th>\n",
       "      <td>17363</td>\n",
       "      <td>2</td>\n",
       "    </tr>\n",
       "    <tr>\n",
       "      <th>1</th>\n",
       "      <td>8612</td>\n",
       "      <td>5</td>\n",
       "    </tr>\n",
       "    <tr>\n",
       "      <th>2</th>\n",
       "      <td>8244</td>\n",
       "      <td>0</td>\n",
       "    </tr>\n",
       "    <tr>\n",
       "      <th>3</th>\n",
       "      <td>9264</td>\n",
       "      <td>0</td>\n",
       "    </tr>\n",
       "    <tr>\n",
       "      <th>4</th>\n",
       "      <td>5382</td>\n",
       "      <td>6</td>\n",
       "    </tr>\n",
       "  </tbody>\n",
       "</table>\n",
       "</div>"
      ],
      "text/plain": [
       "   img_id  target_feature\n",
       "0   17363               2\n",
       "1    8612               5\n",
       "2    8244               0\n",
       "3    9264               0\n",
       "4    5382               6"
      ]
     },
     "execution_count": 4,
     "metadata": {},
     "output_type": "execute_result"
    }
   ],
   "source": [
    "pd.read_csv('../data/train_answers.csv').head()"
   ]
  },
  {
   "cell_type": "code",
   "execution_count": 4,
   "metadata": {},
   "outputs": [
    {
     "data": {
      "text/html": [
       "<div>\n",
       "<style scoped>\n",
       "    .dataframe tbody tr th:only-of-type {\n",
       "        vertical-align: middle;\n",
       "    }\n",
       "\n",
       "    .dataframe tbody tr th {\n",
       "        vertical-align: top;\n",
       "    }\n",
       "\n",
       "    .dataframe thead th {\n",
       "        text-align: right;\n",
       "    }\n",
       "</style>\n",
       "<table border=\"1\" class=\"dataframe\">\n",
       "  <thead>\n",
       "    <tr style=\"text-align: right;\">\n",
       "      <th></th>\n",
       "      <th>id</th>\n",
       "      <th>category</th>\n",
       "    </tr>\n",
       "  </thead>\n",
       "  <tbody>\n",
       "    <tr>\n",
       "      <th>0</th>\n",
       "      <td>0</td>\n",
       "      <td>sports</td>\n",
       "    </tr>\n",
       "    <tr>\n",
       "      <th>1</th>\n",
       "      <td>1</td>\n",
       "      <td>inactivity quiet/light</td>\n",
       "    </tr>\n",
       "    <tr>\n",
       "      <th>2</th>\n",
       "      <td>2</td>\n",
       "      <td>miscellaneous</td>\n",
       "    </tr>\n",
       "    <tr>\n",
       "      <th>3</th>\n",
       "      <td>3</td>\n",
       "      <td>occupation</td>\n",
       "    </tr>\n",
       "    <tr>\n",
       "      <th>4</th>\n",
       "      <td>4</td>\n",
       "      <td>water activities</td>\n",
       "    </tr>\n",
       "  </tbody>\n",
       "</table>\n",
       "</div>"
      ],
      "text/plain": [
       "   id                category\n",
       "0   0                  sports\n",
       "1   1  inactivity quiet/light\n",
       "2   2           miscellaneous\n",
       "3   3              occupation\n",
       "4   4        water activities"
      ]
     },
     "execution_count": 4,
     "metadata": {},
     "output_type": "execute_result"
    }
   ],
   "source": [
    "categories = pd.read_csv('../data/activity_categories.csv')\n",
    "\n",
    "categories.head()"
   ]
  },
  {
   "cell_type": "code",
   "execution_count": 5,
   "metadata": {},
   "outputs": [],
   "source": [
    "id_to_category = dict(zip(categories['id'], categories['category']))"
   ]
  },
  {
   "cell_type": "code",
   "execution_count": 6,
   "metadata": {},
   "outputs": [],
   "source": [
    "class HumanPoseDataset(Dataset):\n",
    "    def __init__(self, img_dir, csv_file, transform=None):\n",
    "        \"\"\"\n",
    "        img_dir: Папка с изображениями (img_train).\n",
    "        csv_file: Путь к таблице с метками (например, 'train_answers.csv').\n",
    "        transform: Трансформации для предобработки изображений.\n",
    "        \"\"\"\n",
    "        self.img_dir = img_dir\n",
    "        self.files = os.listdir(self.img_dir)\n",
    "        self.labels = pd.read_csv(csv_file)  # Загружаем таблицу меток\n",
    "        self.transform = transform\n",
    "\n",
    "    def __len__(self):\n",
    "        return len(self.labels)\n",
    "\n",
    "    def __getitem__(self, idx):\n",
    "        # Достаем имя изображения и метку\n",
    "        img_id = self.files[idx]\n",
    "        img_id =img_id.split('.')[0]\n",
    "        # img_id1 = self.labels.iloc[idx, 0]  # img_id (имя изображения)\n",
    "        # label = self.labels.iloc[idx, 1]  # target_feature (метка)\n",
    "        label = self.labels.loc[self.labels['img_id'] == int(img_id), 'target_feature'].values[0]\n",
    "\n",
    "        # Загружаем изображение\n",
    "        # img_path = os.path.join(self.img_dir, 'aug_'+str(img_id)+'.jpg')\n",
    "        img_path = os.path.join(self.img_dir, str(img_id)+'.jpg')\n",
    "        image = Image.open(img_path).convert(\"RGB\")\n",
    "\n",
    "        # Применяем трансформации\n",
    "        if self.transform:\n",
    "            image = self.transform(image)\n",
    "\n",
    "        return image, label, img_id\n",
    "    \n",
    "    def __len__(self):\n",
    "        return len(self.files)\n"
   ]
  },
  {
   "cell_type": "markdown",
   "metadata": {},
   "source": [
    "# Создание папки с аугментированными изображениями и ответами к ним"
   ]
  },
  {
   "cell_type": "markdown",
   "metadata": {},
   "source": [
    "Перед аугментацией, разобъем наш датасет на две части"
   ]
  },
  {
   "cell_type": "code",
   "execution_count": 9,
   "metadata": {},
   "outputs": [],
   "source": [
    "#Класс для разделения\n",
    "class SplitPFileToVal:\n",
    "    def __init__(self, path_to_dir, path_to_new_dir_val, path_to_new_dir_train, p:float):\n",
    "        \"\"\"\n",
    "        Создаёт 2 новые папки: Для валидации - % от всех изображений, для трейна - все остальное. \n",
    "        Нужно для отделения части датасета, для val данных\n",
    "\n",
    "        path_to_dir: Папка с изображениями. (img_train)\n",
    "        path_to_new_dir_val: Путь до новой папки, можно не создавать вручную.\n",
    "        path_to_new_dir_train: Путь до новой папки, можно не создавать вручную.\n",
    "        p: % изображений, которые будут отделены для валидационного датасета\n",
    "        \"\"\"\n",
    "\n",
    "        #Проверка, введеного %\n",
    "        if not isinstance(p, float):\n",
    "            raise TypeError(\"% должен быть float\")\n",
    "        if p <= 0 or p > 1:\n",
    "            raise ValueError(\"% должен быть в диапозоне: 0 < p <= 1\")\n",
    "        self.p = p\n",
    "\n",
    "        self.path_to_dir = path_to_dir\n",
    "        self.files = os.listdir(self.path_to_dir)\n",
    "        self.path_to_new_dir_val = path_to_new_dir_val\n",
    "        self.path_to_new_dir_train = path_to_new_dir_train\n",
    "\n",
    "\n",
    "\n",
    "        # Создаем папки для сохранения\n",
    "        if os.path.exists(path_to_new_dir_val):\n",
    "            shutil.rmtree(path_to_new_dir_val)  # Удаляем папку, если она уже существует\n",
    "        os.makedirs(path_to_new_dir_val, exist_ok=True)\n",
    "\n",
    "        if os.path.exists(path_to_new_dir_train):\n",
    "            shutil.rmtree(path_to_new_dir_train)  # Удаляем папку, если она уже существует\n",
    "        os.makedirs(path_to_new_dir_train, exist_ok=True)\n",
    "\n",
    "    def split(self):\n",
    "        len_val = int(len(self.files)*self.p)\n",
    "        len_train = len(self.files) - len_val\n",
    "        with tqdm(total=len_val, desc=\"Отделение валидационных данных\", unit=\"img\") as pbar:\n",
    "            for _ in range(len_val):\n",
    "                idx = random.randint(0, len(self.files) - 1)\n",
    "                file = self.files[idx]\n",
    "                path_to_file = self.path_to_dir+f'/{file}'\n",
    "                shutil.copy(path_to_file, self.path_to_new_dir_val+f'/{file}')\n",
    "                self.files.pop(idx)\n",
    "\n",
    "                pbar.update(1)\n",
    "\n",
    "        with tqdm(total=len_train, desc=\"Отделение тренировочных данных\", unit=\"img\") as pbar:\n",
    "            for _ in range(len_train):\n",
    "                idx = random.randint(0, len(self.files) - 1)\n",
    "                file = self.files[idx]\n",
    "                path_to_file = self.path_to_dir+f'/{file}'\n",
    "                shutil.copy(path_to_file, self.path_to_new_dir_train+f'/{file}')\n",
    "                self.files.pop(idx)\n",
    "                \n",
    "                pbar.update(1)\n",
    "\n",
    "        print(f\"\\nОтделено {len_val} изображений, для валидации в папку: {self.path_to_new_dir_val}\")\n",
    "        print(f\"Отделено {len_train} изображений, для тренировки в папку: {self.path_to_new_dir_train}\")\n",
    "\n"
   ]
  },
  {
   "cell_type": "code",
   "execution_count": 10,
   "metadata": {},
   "outputs": [
    {
     "name": "stderr",
     "output_type": "stream",
     "text": [
      "Отделение валидационных данных: 100%|██████████| 1236/1236 [00:02<00:00, 500.29img/s]\n",
      "Отделение тренировочных данных: 100%|██████████| 11131/11131 [00:34<00:00, 319.18img/s]"
     ]
    },
    {
     "name": "stdout",
     "output_type": "stream",
     "text": [
      "\n",
      "Отделено 1236 изображений, для валидации в папку: ../data/val_dataset\n",
      "Отделено 11131 изображений, для тренировки в папку: ../data/train_dataset\n"
     ]
    },
    {
     "name": "stderr",
     "output_type": "stream",
     "text": [
      "\n"
     ]
    }
   ],
   "source": [
    "#Использование разделения\n",
    "spliter = SplitPFileToVal(\n",
    "    path_to_dir='../data/img_train',\n",
    "    path_to_new_dir_val='../data/val_dataset',\n",
    "    path_to_new_dir_train='../data/train_dataset',\n",
    "    p=0.1\n",
    ")\n",
    "\n",
    "spliter.split()"
   ]
  },
  {
   "cell_type": "code",
   "execution_count": 11,
   "metadata": {},
   "outputs": [],
   "source": [
    "#Класс для создания аугментаций\n",
    "class AugmentedDatasetSaver:\n",
    "    def __init__(self, original_train_dataset, csv_path, augmentation_transform, new_train_dataset_path, output_csv_path, augment_count):\n",
    "        \"\"\"\n",
    "        Создает и сохраняет аугментированный датасет из тренировочного.\n",
    "        Также создает csv с ответами на аугментированный датасет, сохраняет ответы из train_answers\n",
    "\n",
    "        original_train_dataset: Исходный датасет (torch Dataset).\n",
    "        csv_path: путь к csv с ответами\n",
    "        augmentation_transform: Трансформации для аугментации.\n",
    "        new_train_dataset_path: Папка, куда будут сохранены данные.\n",
    "        output_csv_path: Путь, куда будет сохранена csv\n",
    "        augment_count: Количество аугментированных изображений, которые нужно создать.\n",
    "        \"\"\"\n",
    "        self.original_train_dataset_path = original_train_dataset\n",
    "        self.augmentation_transform = augmentation_transform\n",
    "        self.new_train_dataset_path = new_train_dataset_path\n",
    "        self.output_csv_path = output_csv_path\n",
    "        self.original_labels = pd.read_csv(csv_path)\n",
    "\n",
    "        \n",
    "        if augment_count >= len(original_train_dataset):\n",
    "            print(\"Введеный augment_count > длины датасета\")\n",
    "        self.augment_count = augment_count\n",
    "\n",
    "\n",
    "        # Создаем папку для сохранения\n",
    "        if os.path.exists(new_train_dataset_path):\n",
    "            shutil.rmtree(new_train_dataset_path)  # Удаляем папку, если она уже существует\n",
    "        os.makedirs(new_train_dataset_path, exist_ok=True)\n",
    "\n",
    "    def save(self):\n",
    "        new_entries = []\n",
    "        max_id = self.original_labels['img_id'].max()\n",
    "        with tqdm(total=self.augment_count, desc=\"Создание аугментированных данных\", unit=\"img\") as pbar:\n",
    "            for i in range(self.augment_count):\n",
    "                # Выбираем случайное изображение из оригинального датасета\n",
    "                image, label, img_id = random.choice(self.original_train_dataset_path)\n",
    "\n",
    "                # Преобразуем в тензор, если это PIL.Image\n",
    "                if not isinstance(image, Image.Image):\n",
    "                    raise ValueError(f\"Unsupported image format: {type(image)}\")\n",
    "\n",
    "                # Применяем аугментацию\n",
    "                augmented_image = self.augmentation_transform(image)\n",
    "\n",
    "                \n",
    "\n",
    "                # Генерируем имя файла, сохраняя оригинальное имя с префиксом\n",
    "                img_id = max_id+i+1\n",
    "\n",
    "                new_entries.append({'img_id': int(img_id), 'target_feature': label})\n",
    "\n",
    "                img_save_path = os.path.join(self.new_train_dataset_path, f\"{img_id}.jpg\")\n",
    "\n",
    "                # Преобразуем аугментированный тензор обратно в PIL.Image и сохраняем\n",
    "                augmented_image = transforms.ToPILImage()(augmented_image)  # Перевод тензора в PIL\n",
    "                augmented_image.save(img_save_path)\n",
    "\n",
    "                pbar.update(1)\n",
    "        # Создание DataFrame для новых данных\n",
    "        augmented_df = pd.DataFrame(new_entries)\n",
    "        combined_df = pd.concat([self.original_labels, augmented_df], ignore_index=True)\n",
    "        combined_df.to_csv(self.output_csv_path, index=False)\n",
    "        \n",
    "        print(f\"CSV файл с метками успешно сохранён в: {self.output_csv_path}\")\n",
    "        print(f\"\\nСохранено {self.augment_count} аугментированных изображений в папке: {self.new_train_dataset_path}\")\n"
   ]
  },
  {
   "cell_type": "code",
   "execution_count": 12,
   "metadata": {},
   "outputs": [],
   "source": [
    "#transform для аугментации\n",
    "augmentation_transform = transforms.Compose([\n",
    "    transforms.RandomResizedCrop(size=227, scale=(0.8, 1.0)), \n",
    "    transforms.RandomHorizontalFlip(p=0.5),\n",
    "    transforms.ColorJitter(brightness=0.2, contrast=0.2, saturation=0.2, hue=0.1),\n",
    "    transforms.RandomRotation(degrees=25), \n",
    "    transforms.ToTensor(),  # Преобразование в тензор для работы с RandomErasing\n",
    "    transforms.RandomErasing(p=0.3, scale=(0.02, 0.15), ratio=(0.3, 3.3))\n",
    "])"
   ]
  },
  {
   "cell_type": "code",
   "execution_count": 13,
   "metadata": {},
   "outputs": [],
   "source": [
    "# Загружаем датасет, для тренировки\n",
    "original_traint_dataset = HumanPoseDataset(\n",
    "    img_dir='../data/train_dataset',\n",
    "    csv_file='../data/train_answers.csv',\n",
    "    transform=None  # Оставляем без изменений\n",
    ")\n",
    "\n",
    "# Папка для сохранения аугментированного датасета\n",
    "save_dir = \"../data/augmented_only_dataset\"\n",
    "\n",
    "# Количество аугментированных изображений\n",
    "augment_count = 11000 \n",
    "\n",
    "# Создаем и сохраняем \n",
    "dataset_saver = AugmentedDatasetSaver(\n",
    "    original_train_dataset=original_traint_dataset,\n",
    "    augmentation_transform=augmentation_transform,\n",
    "    csv_path='../data/train_answers.csv',\n",
    "    new_train_dataset_path=save_dir,\n",
    "    augment_count=augment_count,\n",
    "    output_csv_path='../data/augmented_train_answers.csv'\n",
    ")"
   ]
  },
  {
   "cell_type": "code",
   "execution_count": 14,
   "metadata": {},
   "outputs": [
    {
     "name": "stderr",
     "output_type": "stream",
     "text": [
      "Создание аугментированных данных: 100%|██████████| 11000/11000 [04:16<00:00, 42.96img/s]"
     ]
    },
    {
     "name": "stdout",
     "output_type": "stream",
     "text": [
      "CSV файл с метками успешно сохранён в: ../data/augmented_train_answers.csv\n",
      "\n",
      "Сохранено 11000 аугментированных изображений в папке: ../data/augmented_only_dataset\n"
     ]
    },
    {
     "name": "stderr",
     "output_type": "stream",
     "text": [
      "\n"
     ]
    }
   ],
   "source": [
    "# Создание аугментированных файлов\n",
    "dataset_saver.save()"
   ]
  },
  {
   "cell_type": "markdown",
   "metadata": {},
   "source": [
    "Проверка, что все создалось в нужном кол-ве"
   ]
  },
  {
   "cell_type": "code",
   "execution_count": 15,
   "metadata": {},
   "outputs": [
    {
     "name": "stdout",
     "output_type": "stream",
     "text": [
      "OK\n"
     ]
    }
   ],
   "source": [
    "line_count = sum(1 for line in open('../data/augmented_train_answers.csv')) - sum(1 for line in open('../data/train_answers.csv'))\n",
    "if augment_count == line_count:\n",
    "    print('OK')\n",
    "else:\n",
    "    print(f'Ожидалось {augment_count}(augment_count)\\n Получилось {line_count}(line_count)')"
   ]
  },
  {
   "cell_type": "code",
   "execution_count": 16,
   "metadata": {},
   "outputs": [
    {
     "name": "stdout",
     "output_type": "stream",
     "text": [
      "OK\n"
     ]
    }
   ],
   "source": [
    "aug_file_count = len(os.listdir(\"../data/augmented_only_dataset\"))\n",
    "if augment_count == aug_file_count:\n",
    "    print('OK')\n",
    "else:\n",
    "    print(f'Ожидалось {augment_count}(augment_count)\\n Получилось {aug_file_count}(aug_file_count)')"
   ]
  },
  {
   "cell_type": "markdown",
   "metadata": {},
   "source": [
    "## Cоединение папки с аугментированными картинками и тренировочным датасетом в новую папку."
   ]
  },
  {
   "cell_type": "markdown",
   "metadata": {},
   "source": [
    "Удаляет папку по пути, который указан в path_augmented_only_dataset"
   ]
  },
  {
   "cell_type": "code",
   "execution_count": 17,
   "metadata": {},
   "outputs": [],
   "source": [
    "def merge_folders(path_train_dataset, path_augmented_only_dataset, path_destination_folder):\n",
    "    \"\"\"\n",
    "    Объединяет две папки с картинками в одну. УДАЛЯЕТ папку path_augmented_only_dataset\n",
    "\n",
    "    :param path_train_dataset: Путь к первой исходной папке\n",
    "    :param source_folder2: Путь ко второй исходной папке\n",
    "    :param destination_folder: Путь к папке назначения\n",
    "    \"\"\"\n",
    "    # Создаем папку назначения, если она не существует\n",
    "    if os.path.exists(path_destination_folder):\n",
    "        shutil.rmtree(path_destination_folder)  # Удаляем папку, если она уже существует\n",
    "    os.makedirs(path_destination_folder, exist_ok=True)\n",
    "    \n",
    "    # Функция для копирования файлов из папки\n",
    "    def copy_files_from_folder(folder):\n",
    "        with tqdm(total=len(os.listdir(folder)), desc=f\"Копирование из {folder}\", unit=\"img\") as pbar:\n",
    "            for file_name in os.listdir(folder):\n",
    "                source_path = os.path.join(folder, file_name)\n",
    "                dest_path = os.path.join(path_destination_folder, file_name)\n",
    "                \n",
    "                # Проверяем, является ли элемент файлом\n",
    "                if os.path.isfile(source_path):\n",
    "                    if os.path.exists(dest_path):\n",
    "                        raise KeyError('файл с таким именем уже существует в папке назначения')\n",
    "                    shutil.copy2(source_path, dest_path)\n",
    "                pbar.update(1)\n",
    "    \n",
    "    # Копируем файлы из обеих папок\n",
    "    copy_files_from_folder(path_train_dataset)\n",
    "    copy_files_from_folder(path_augmented_only_dataset)\n",
    "    #Удаляем папку с аугментацией\n",
    "    shutil.rmtree(path_augmented_only_dataset)"
   ]
  },
  {
   "cell_type": "code",
   "execution_count": 18,
   "metadata": {},
   "outputs": [],
   "source": [
    "path_train_dataset = '../data/train_dataset'\n",
    "path_augmented_only_dataset = \"../data/augmented_only_dataset\"\n",
    "destination_folder = \"../data/augmented_and_train_dataset\""
   ]
  },
  {
   "cell_type": "code",
   "execution_count": 19,
   "metadata": {},
   "outputs": [
    {
     "name": "stderr",
     "output_type": "stream",
     "text": [
      "Копирование из ../data/train_dataset: 100%|██████████| 11131/11131 [00:27<00:00, 401.92img/s]\n",
      "Копирование из ../data/augmented_only_dataset: 100%|██████████| 11000/11000 [00:02<00:00, 3990.32img/s]\n"
     ]
    }
   ],
   "source": [
    "merge_folders(path_train_dataset, path_augmented_only_dataset, destination_folder)"
   ]
  },
  {
   "cell_type": "code",
   "execution_count": 20,
   "metadata": {},
   "outputs": [
    {
     "name": "stdout",
     "output_type": "stream",
     "text": [
      "OK\n"
     ]
    }
   ],
   "source": [
    "expected_count = aug_file_count+len(os.listdir(\"../data/train_dataset\"))\n",
    "quantity_count = len(os.listdir(\"../data/augmented_and_train_dataset\"))\n",
    "if expected_count == quantity_count:\n",
    "    print('OK')\n",
    "else:\n",
    "    print(f'Ожидалось {expected_count}(expected_count)\\n Получилось {quantity_count}(quantity_count)')"
   ]
  },
  {
   "cell_type": "markdown",
   "metadata": {},
   "source": [
    "По итогу получилось:   \n",
    "папка img_train -- картинки в оригинале,  \n",
    "папка train_dataset -- часть датасета, для обучения,  \n",
    "папка val_dataset -- часть датасета, для валидации,   \n",
    "папка augmented_and_train_dataset -- augmented_only_dataset+img_train,   \n",
    "augmented_train_answers.csv -- ответы на все папки  "
   ]
  },
  {
   "cell_type": "markdown",
   "metadata": {},
   "source": [
    "# Начало работы с моделью"
   ]
  },
  {
   "cell_type": "code",
   "execution_count": null,
   "metadata": {},
   "outputs": [],
   "source": [
    "# RANDOM_SEED = 52\n",
    "# generator = torch.Generator().manual_seed(RANDOM_SEED)"
   ]
  },
  {
   "cell_type": "code",
   "execution_count": 8,
   "metadata": {},
   "outputs": [
    {
     "name": "stdout",
     "output_type": "stream",
     "text": [
      "Available CPU cores: 8\n"
     ]
    }
   ],
   "source": [
    "print(f\"Available CPU cores: {os.cpu_count()}\")"
   ]
  },
  {
   "cell_type": "code",
   "execution_count": 7,
   "metadata": {},
   "outputs": [],
   "source": [
    "# transform_train = transforms.Compose([\n",
    "#     transforms.Resize((227, 227)), # тк в ауг датасете есть фото без аугментации\n",
    "#     transforms.ToTensor(),\n",
    "#     transforms.Normalize(mean=[0.485, 0.456, 0.406],\n",
    "#                          std=[0.229, 0.224, 0.225])\n",
    "# ])\n",
    "\n",
    "transform = transforms.Compose([\n",
    "    transforms.Resize((227, 227)),  # Изменяем размер изображений\n",
    "    transforms.ToTensor(),\n",
    "    transforms.Normalize(mean=[0.485, 0.456, 0.406],\n",
    "                         std=[0.229, 0.224, 0.225])\n",
    "])"
   ]
  },
  {
   "cell_type": "code",
   "execution_count": 8,
   "metadata": {},
   "outputs": [],
   "source": [
    "val_dataset = HumanPoseDataset(\n",
    "    img_dir='../data/val_dataset',\n",
    "    csv_file='../data/train_answers.csv',\n",
    "    transform=transform\n",
    ")\n",
    "\n",
    "train_dataset = HumanPoseDataset(\n",
    "    img_dir='../data/augmented_and_train_dataset',\n",
    "    csv_file='../data/augmented_train_answers.csv',\n",
    "    transform=transform\n",
    ")\n",
    "\n",
    "\n",
    "\n",
    "# train_dataset, _ = random_split(dataset_train, [int(0.9*len(dataset_train)), len(dataset_train) - int(0.9*len(dataset_train))], generator)\n",
    "# _, val_dataset = random_split(dataset_val, [int(0.9*len(dataset_val)), len(dataset_val) - int(0.9*len(dataset_val))], generator)"
   ]
  },
  {
   "cell_type": "code",
   "execution_count": 31,
   "metadata": {},
   "outputs": [
    {
     "data": {
      "text/plain": [
       "(tensor([[[ 2.0434,  1.1872,  0.0398,  ...,  2.1804,  2.1462,  1.7694],\n",
       "          [ 1.8893,  1.5639,  0.2967,  ...,  2.1462,  1.9920,  1.5639],\n",
       "          [ 2.0263,  1.8893,  0.8276,  ...,  1.3755,  1.4269,  1.1015],\n",
       "          ...,\n",
       "          [ 1.2214,  1.2899,  1.3584,  ...,  0.5364,  0.4679,  0.4166],\n",
       "          [ 1.2557,  1.3413,  1.3584,  ...,  0.5193,  0.4337,  0.3823],\n",
       "          [ 1.2899,  1.3413,  1.3584,  ...,  0.5193,  0.4337,  0.3823]],\n",
       " \n",
       "         [[ 0.6954,  0.1702, -0.5476,  ...,  2.3761,  2.3936,  2.1310],\n",
       "          [ 0.5203,  0.4678, -0.3025,  ...,  2.3936,  2.3410,  2.0434],\n",
       "          [ 0.6254,  0.6779,  0.0826,  ...,  1.6933,  1.8683,  1.6583],\n",
       "          ...,\n",
       "          [ 0.3978,  0.4678,  0.5028,  ...,  0.0651, -0.0399, -0.0924],\n",
       "          [ 0.4328,  0.5028,  0.5378,  ...,  0.0126, -0.0749, -0.1275],\n",
       "          [ 0.4678,  0.5203,  0.5553,  ...,  0.0126, -0.0749, -0.1275]],\n",
       " \n",
       "         [[-0.3578, -0.5844, -0.6715,  ...,  2.6226,  2.6226,  2.5180],\n",
       "          [-0.4798, -0.4101, -0.6715,  ...,  2.5703,  2.5877,  2.4483],\n",
       "          [-0.2881, -0.3404, -0.5495,  ...,  1.6988,  2.0648,  2.0474],\n",
       "          ...,\n",
       "          [-0.2010, -0.1487, -0.0964,  ..., -0.3230, -0.3578, -0.3927],\n",
       "          [-0.1661, -0.0964, -0.0964,  ..., -0.3230, -0.3230, -0.3578],\n",
       "          [-0.1312, -0.0790, -0.0964,  ..., -0.3055, -0.3230, -0.3578]]]),\n",
       " 12,\n",
       " '3552')"
      ]
     },
     "execution_count": 31,
     "metadata": {},
     "output_type": "execute_result"
    }
   ],
   "source": [
    "train_dataset[0]"
   ]
  },
  {
   "cell_type": "code",
   "execution_count": 11,
   "metadata": {},
   "outputs": [],
   "source": [
    "# Функция для отображения изображений с подписями\n",
    "def show_images_with_labels(dataset, id_to_category, num_images=10):\n",
    "    fig, axes = plt.subplots(1, num_images, figsize=(20, 5))\n",
    "    for i in range(num_images):\n",
    "        # Достаем изображение и метку\n",
    "        image, label, img_id= dataset[i]\n",
    "        # img_name = dataset.labels.iloc[i, 0]  # Имя файла\n",
    "\n",
    "        # Декодируем метку в категорию\n",
    "        category = id_to_category[label] if id_to_category else label\n",
    "\n",
    "        # # Отображаем изображение\n",
    "        axes[i].imshow(image.permute(1, 2, 0))  # Преобразуем тензор в (H, W, C)"
   ]
  },
  {
   "cell_type": "code",
   "execution_count": 11,
   "metadata": {},
   "outputs": [
    {
     "name": "stderr",
     "output_type": "stream",
     "text": [
      "Clipping input data to the valid range for imshow with RGB data ([0..1] for floats or [0..255] for integers). Got range [-1.843908..2.622571].\n",
      "Clipping input data to the valid range for imshow with RGB data ([0..1] for floats or [0..255] for integers). Got range [-2.117904..2.64].\n",
      "Clipping input data to the valid range for imshow with RGB data ([0..1] for floats or [0..255] for integers). Got range [-1.8952821..2.64].\n",
      "Clipping input data to the valid range for imshow with RGB data ([0..1] for floats or [0..255] for integers). Got range [-2.117904..2.5005665].\n",
      "Clipping input data to the valid range for imshow with RGB data ([0..1] for floats or [0..255] for integers). Got range [-2.0665298..2.64].\n",
      "Clipping input data to the valid range for imshow with RGB data ([0..1] for floats or [0..255] for integers). Got range [-2.117904..1.7351656].\n",
      "Clipping input data to the valid range for imshow with RGB data ([0..1] for floats or [0..255] for integers). Got range [-2.117904..2.64].\n",
      "Clipping input data to the valid range for imshow with RGB data ([0..1] for floats or [0..255] for integers). Got range [-2.117904..1.2108063].\n",
      "Clipping input data to the valid range for imshow with RGB data ([0..1] for floats or [0..255] for integers). Got range [-2.117904..2.6051416].\n",
      "Clipping input data to the valid range for imshow with RGB data ([0..1] for floats or [0..255] for integers). Got range [-2.117904..2.64].\n"
     ]
    },
    {
     "data": {
      "image/png": "[encoded data removed]",
      "text/plain": [
       "<Figure size 2000x500 with 10 Axes>"
      ]
     },
     "metadata": {},
     "output_type": "display_data"
    }
   ],
   "source": [
    "# Получить батч данных\n",
    "# dataiter = iter(train_loader)\n",
    "# images, labels = next(dataiter)\n",
    "\n",
    "# Вывести первые 5 изображений в одну строку\n",
    "show_images_with_labels(train_dataset, id_to_category, 10)"
   ]
  },
  {
   "cell_type": "markdown",
   "metadata": {},
   "source": [
    "# Архитектуры"
   ]
  },
  {
   "cell_type": "code",
   "execution_count": 9,
   "metadata": {},
   "outputs": [],
   "source": [
    "class Mish(nn.Module):\n",
    "    def forward(self, x):\n",
    "        return x * torch.tanh(nn.functional.softplus(x))\n",
    "\n",
    "class SEBlock(nn.Module):\n",
    "    def __init__(self, channels, reduction=16):\n",
    "        super(SEBlock, self).__init__()\n",
    "        self.fc1 = nn.Linear(channels, channels // reduction, bias=False)\n",
    "        self.relu = nn.ReLU(inplace=True)\n",
    "        self.fc2 = nn.Linear(channels // reduction, channels, bias=False)\n",
    "        self.sigmoid = nn.Sigmoid()\n",
    "\n",
    "    def forward(self, x):\n",
    "        b, c, _, _ = x.size()\n",
    "        y = x.view(b, c, -1).mean(dim=2)\n",
    "        y = self.fc1(y)\n",
    "        y = self.relu(y)\n",
    "        y = self.fc2(y)\n",
    "        y = self.sigmoid(y).view(b, c, 1, 1)\n",
    "        return x * y\n",
    "\n",
    "class ResidualBlock(nn.Module):\n",
    "    def __init__(self, in_channels, out_channels, stride=1, downsample=None, dropout_prob=0.3):\n",
    "        super(ResidualBlock, self).__init__()\n",
    "        self.conv1 = nn.Conv2d(in_channels, out_channels, kernel_size=3, stride=stride, padding=1, bias=False)\n",
    "        self.mish = Mish()\n",
    "        self.group_norm1 = nn.GroupNorm(32, out_channels)\n",
    "        self.dropout1 = nn.Dropout2d(p=dropout_prob)\n",
    "\n",
    "        self.conv2 = nn.Conv2d(out_channels, out_channels, kernel_size=3, stride=1, padding=1, bias=False)\n",
    "        self.group_norm2 = nn.GroupNorm(32, out_channels)\n",
    "        self.dropout2 = nn.Dropout2d(p=dropout_prob)\n",
    "\n",
    "        self.se_block = SEBlock(out_channels)\n",
    "        self.downsample = downsample\n",
    "\n",
    "    def forward(self, x):\n",
    "        identity = x\n",
    "        if self.downsample:\n",
    "            identity = self.downsample(x)\n",
    "\n",
    "        out = self.conv1(x)\n",
    "        out = self.mish(out)\n",
    "        out = self.group_norm1(out)\n",
    "        out = self.dropout1(out)\n",
    "\n",
    "        out = self.conv2(out)\n",
    "        out = self.mish(out)\n",
    "        out = self.group_norm2(out)\n",
    "        out = self.dropout2(out)\n",
    "\n",
    "        out = self.se_block(out)\n",
    "        out += identity\n",
    "        out = self.mish(out)\n",
    "        return out\n",
    "\n",
    "class UpdatedResNet(nn.Module):\n",
    "    def __init__(self, block, layers, num_classes=20, dropout_prob=0.3):\n",
    "        super(UpdatedResNet, self).__init__()\n",
    "        self.in_channels = 64\n",
    "\n",
    "        self.conv1 = nn.Conv2d(3, 64, kernel_size=7, stride=2, padding=3, bias=False)\n",
    "        self.mish = Mish()\n",
    "        self.group_norm = nn.GroupNorm(32, 64)\n",
    "        self.maxpool = nn.MaxPool2d(kernel_size=3, stride=2, padding=1)\n",
    "\n",
    "        self.layer1 = self._make_layer(block, 64, layers[0], dropout_prob=dropout_prob)\n",
    "        self.layer2 = self._make_layer(block, 128, layers[1], stride=2, dropout_prob=dropout_prob)\n",
    "        self.layer3 = self._make_layer(block, 256, layers[2], stride=2, dropout_prob=dropout_prob)\n",
    "        self.layer4 = self._make_layer(block, 512, layers[3], stride=2, dropout_prob=dropout_prob)\n",
    "\n",
    "        self.avgpool = nn.AdaptiveAvgPool2d((1, 1))\n",
    "        self.fc = nn.Linear(512, num_classes)\n",
    "\n",
    "    def _make_layer(self, block, out_channels, blocks, stride=1, dropout_prob=0.3):\n",
    "        downsample = None\n",
    "        if stride != 1 or self.in_channels != out_channels:\n",
    "            downsample = nn.Sequential(\n",
    "                nn.Conv2d(self.in_channels, out_channels, kernel_size=1, stride=stride, bias=False),\n",
    "                nn.GroupNorm(32, out_channels)\n",
    "            )\n",
    "        \n",
    "        layers = []\n",
    "        layers.append(block(self.in_channels, out_channels, stride, downsample, dropout_prob=dropout_prob))\n",
    "        self.in_channels = out_channels\n",
    "        for _ in range(1, blocks):\n",
    "            layers.append(block(out_channels, out_channels, dropout_prob=dropout_prob))\n",
    "        \n",
    "        return nn.Sequential(*layers)\n",
    "\n",
    "    def forward(self, x):\n",
    "        x = self.conv1(x)\n",
    "        x = self.mish(x)\n",
    "        x = self.group_norm(x)\n",
    "        x = self.maxpool(x)\n",
    "\n",
    "        x = self.layer1(x)\n",
    "        x = self.layer2(x)\n",
    "        x = self.layer3(x)\n",
    "        x = self.layer4(x)\n",
    "\n",
    "        x = self.avgpool(x)\n",
    "        x = torch.flatten(x, 1)\n",
    "        x = self.fc(x)\n",
    "        return x\n",
    "\n",
    "def custom_resnet18(num_classes=20, dropout_prob=0.3):\n",
    "    return UpdatedResNet(ResidualBlock, [2, 2, 2, 2], num_classes, dropout_prob)\n"
   ]
  },
  {
   "cell_type": "code",
   "execution_count": 9,
   "metadata": {},
   "outputs": [],
   "source": [
    "import torch.nn.functional as F\n",
    "class Mish(nn.Module):\n",
    "    def forward(self, x):\n",
    "        return x * torch.tanh(F.softplus(x))\n",
    "\n",
    "class SEBlock(nn.Module):\n",
    "    def __init__(self, channels, reduction=16):\n",
    "        super(SEBlock, self).__init__()\n",
    "        self.avg_pool = nn.AdaptiveAvgPool2d(1)\n",
    "        self.fc = nn.Sequential(\n",
    "            nn.Conv2d(channels, channels // reduction, kernel_size=1, bias=False),\n",
    "            nn.ReLU(inplace=True),\n",
    "            nn.Conv2d(channels // reduction, channels, kernel_size=1, bias=False),\n",
    "            nn.Sigmoid()\n",
    "        )\n",
    "\n",
    "    def forward(self, x):\n",
    "        y = self.avg_pool(x)\n",
    "        y = self.fc(y)\n",
    "        return x * y\n",
    "\n",
    "class ResidualBlock(nn.Module):\n",
    "    def __init__(self, in_channels, out_channels, stride=1, downsample=None, dropout_prob=0.2):\n",
    "        super(ResidualBlock, self).__init__()\n",
    "        self.conv1 = nn.Conv2d(in_channels, out_channels, kernel_size=3, stride=stride, padding=1, bias=False)\n",
    "        self.mish = Mish()\n",
    "        self.group_norm1 = nn.GroupNorm(32, out_channels)\n",
    "        self.dropout1 = nn.Dropout2d(p=dropout_prob)\n",
    "\n",
    "        self.conv2 = nn.Conv2d(out_channels, out_channels, kernel_size=3, stride=1, padding=1, bias=False)\n",
    "        self.group_norm2 = nn.GroupNorm(32, out_channels)\n",
    "        self.dropout2 = nn.Dropout2d(p=dropout_prob)\n",
    "\n",
    "        self.se_block = SEBlock(out_channels)\n",
    "        self.downsample = downsample\n",
    "\n",
    "    def forward(self, x):\n",
    "        identity = x\n",
    "        if self.downsample:\n",
    "            identity = self.downsample(x)\n",
    "\n",
    "        out = self.conv1(x)\n",
    "        out = self.mish(out)\n",
    "        out = self.group_norm1(out)\n",
    "        out = self.dropout1(out)\n",
    "\n",
    "        out = self.conv2(out)\n",
    "        out = self.mish(out)\n",
    "        out = self.group_norm2(out)\n",
    "        out = self.dropout2(out)\n",
    "\n",
    "        out = self.se_block(out)\n",
    "        out += identity\n",
    "        out = self.mish(out)\n",
    "        return out\n",
    "\n",
    "class UpdatedResNet(nn.Module):\n",
    "    def __init__(self, block, layers, num_classes=20, dropout_prob=0.2):\n",
    "        super(UpdatedResNet, self).__init__()\n",
    "        self.in_channels = 64\n",
    "\n",
    "        self.conv1 = nn.Conv2d(3, 64, kernel_size=7, stride=2, padding=3, bias=False)\n",
    "        self.mish = Mish()\n",
    "        self.group_norm = nn.GroupNorm(32, 64)\n",
    "        self.maxpool = nn.MaxPool2d(kernel_size=3, stride=2, padding=1)\n",
    "\n",
    "        self.layer1 = self._make_layer(block, 64, layers[0], dropout_prob=dropout_prob)\n",
    "        self.layer2 = self._make_layer(block, 128, layers[1], stride=2, dropout_prob=dropout_prob)\n",
    "        self.layer3 = self._make_layer(block, 256, layers[2], stride=2, dropout_prob=dropout_prob)\n",
    "        self.layer4 = self._make_layer(block, 512, layers[3], stride=2, dropout_prob=dropout_prob)\n",
    "\n",
    "        self.avgpool = nn.AdaptiveAvgPool2d((1, 1))\n",
    "        self.fc = nn.Linear(512, num_classes)\n",
    "\n",
    "    def _make_layer(self, block, out_channels, blocks, stride=1, dropout_prob=0.2):\n",
    "        downsample = None\n",
    "        if stride != 1 or self.in_channels != out_channels:\n",
    "            downsample = nn.Sequential(\n",
    "                nn.Conv2d(self.in_channels, out_channels, kernel_size=1, stride=stride, bias=False),\n",
    "                nn.GroupNorm(32, out_channels)\n",
    "            )\n",
    "\n",
    "        layers = []\n",
    "        layers.append(block(self.in_channels, out_channels, stride, downsample, dropout_prob=dropout_prob))\n",
    "        self.in_channels = out_channels\n",
    "        for _ in range(1, blocks):\n",
    "            layers.append(block(out_channels, out_channels, dropout_prob=dropout_prob))\n",
    "\n",
    "        return nn.Sequential(*layers)\n",
    "\n",
    "    def forward(self, x):\n",
    "        x = self.conv1(x)\n",
    "        x = self.mish(x)\n",
    "        x = self.group_norm(x)\n",
    "        x = self.maxpool(x)\n",
    "\n",
    "        x = self.layer1(x)\n",
    "        x = self.layer2(x)\n",
    "        x = self.layer3(x)\n",
    "        x = self.layer4(x)\n",
    "\n",
    "        x = self.avgpool(x)\n",
    "        x = torch.flatten(x, 1)\n",
    "        x = self.fc(x)\n",
    "        return x\n",
    "\n",
    "def custom_resnet18(num_classes=20, dropout_prob=0.2):\n",
    "    return UpdatedResNet(ResidualBlock, [2, 2, 2, 2], num_classes, dropout_prob)"
   ]
  },
  {
   "cell_type": "code",
   "execution_count": 31,
   "metadata": {},
   "outputs": [
    {
     "data": {
      "text/plain": [
       "20"
      ]
     },
     "execution_count": 31,
     "metadata": {},
     "output_type": "execute_result"
    }
   ],
   "source": [
    "len(id_to_category)"
   ]
  },
  {
   "cell_type": "code",
   "execution_count": null,
   "metadata": {},
   "outputs": [
    {
     "name": "stdout",
     "output_type": "stream",
     "text": [
      "----------------------------------------------------------------\n",
      "        Layer (type)               Output Shape         Param #\n",
      "================================================================\n",
      "            Conv2d-1         [-1, 64, 114, 114]           9,408\n",
      "              Mish-2         [-1, 64, 114, 114]               0\n",
      "         GroupNorm-3         [-1, 64, 114, 114]             128\n",
      "         MaxPool2d-4           [-1, 64, 57, 57]               0\n",
      "            Conv2d-5           [-1, 64, 57, 57]          36,864\n",
      "              Mish-6           [-1, 64, 57, 57]               0\n",
      "         GroupNorm-7           [-1, 64, 57, 57]             128\n",
      "         Dropout2d-8           [-1, 64, 57, 57]               0\n",
      "            Conv2d-9           [-1, 64, 57, 57]          36,864\n",
      "             Mish-10           [-1, 64, 57, 57]               0\n",
      "        GroupNorm-11           [-1, 64, 57, 57]             128\n",
      "        Dropout2d-12           [-1, 64, 57, 57]               0\n",
      "           Linear-13                    [-1, 4]             256\n",
      "             ReLU-14                    [-1, 4]               0\n",
      "           Linear-15                   [-1, 64]             256\n",
      "          Sigmoid-16                   [-1, 64]               0\n",
      "          SEBlock-17           [-1, 64, 57, 57]               0\n",
      "             Mish-18           [-1, 64, 57, 57]               0\n",
      "    ResidualBlock-19           [-1, 64, 57, 57]               0\n",
      "           Conv2d-20           [-1, 64, 57, 57]          36,864\n",
      "             Mish-21           [-1, 64, 57, 57]               0\n",
      "        GroupNorm-22           [-1, 64, 57, 57]             128\n",
      "        Dropout2d-23           [-1, 64, 57, 57]               0\n",
      "           Conv2d-24           [-1, 64, 57, 57]          36,864\n",
      "             Mish-25           [-1, 64, 57, 57]               0\n",
      "        GroupNorm-26           [-1, 64, 57, 57]             128\n",
      "        Dropout2d-27           [-1, 64, 57, 57]               0\n",
      "           Linear-28                    [-1, 4]             256\n",
      "             ReLU-29                    [-1, 4]               0\n",
      "           Linear-30                   [-1, 64]             256\n",
      "          Sigmoid-31                   [-1, 64]               0\n",
      "          SEBlock-32           [-1, 64, 57, 57]               0\n",
      "             Mish-33           [-1, 64, 57, 57]               0\n",
      "    ResidualBlock-34           [-1, 64, 57, 57]               0\n",
      "           Conv2d-35          [-1, 128, 29, 29]           8,192\n",
      "        GroupNorm-36          [-1, 128, 29, 29]             256\n",
      "           Conv2d-37          [-1, 128, 29, 29]          73,728\n",
      "             Mish-38          [-1, 128, 29, 29]               0\n",
      "        GroupNorm-39          [-1, 128, 29, 29]             256\n",
      "        Dropout2d-40          [-1, 128, 29, 29]               0\n",
      "           Conv2d-41          [-1, 128, 29, 29]         147,456\n",
      "             Mish-42          [-1, 128, 29, 29]               0\n",
      "        GroupNorm-43          [-1, 128, 29, 29]             256\n",
      "        Dropout2d-44          [-1, 128, 29, 29]               0\n",
      "           Linear-45                    [-1, 8]           1,024\n",
      "             ReLU-46                    [-1, 8]               0\n",
      "           Linear-47                  [-1, 128]           1,024\n",
      "          Sigmoid-48                  [-1, 128]               0\n",
      "          SEBlock-49          [-1, 128, 29, 29]               0\n",
      "             Mish-50          [-1, 128, 29, 29]               0\n",
      "    ResidualBlock-51          [-1, 128, 29, 29]               0\n",
      "           Conv2d-52          [-1, 128, 29, 29]         147,456\n",
      "             Mish-53          [-1, 128, 29, 29]               0\n",
      "        GroupNorm-54          [-1, 128, 29, 29]             256\n",
      "        Dropout2d-55          [-1, 128, 29, 29]               0\n",
      "           Conv2d-56          [-1, 128, 29, 29]         147,456\n",
      "             Mish-57          [-1, 128, 29, 29]               0\n",
      "        GroupNorm-58          [-1, 128, 29, 29]             256\n",
      "        Dropout2d-59          [-1, 128, 29, 29]               0\n",
      "           Linear-60                    [-1, 8]           1,024\n",
      "             ReLU-61                    [-1, 8]               0\n",
      "           Linear-62                  [-1, 128]           1,024\n",
      "          Sigmoid-63                  [-1, 128]               0\n",
      "          SEBlock-64          [-1, 128, 29, 29]               0\n",
      "             Mish-65          [-1, 128, 29, 29]               0\n",
      "    ResidualBlock-66          [-1, 128, 29, 29]               0\n",
      "           Conv2d-67          [-1, 256, 15, 15]          32,768\n",
      "        GroupNorm-68          [-1, 256, 15, 15]             512\n",
      "           Conv2d-69          [-1, 256, 15, 15]         294,912\n",
      "             Mish-70          [-1, 256, 15, 15]               0\n",
      "        GroupNorm-71          [-1, 256, 15, 15]             512\n",
      "        Dropout2d-72          [-1, 256, 15, 15]               0\n",
      "           Conv2d-73          [-1, 256, 15, 15]         589,824\n",
      "             Mish-74          [-1, 256, 15, 15]               0\n",
      "        GroupNorm-75          [-1, 256, 15, 15]             512\n",
      "        Dropout2d-76          [-1, 256, 15, 15]               0\n",
      "           Linear-77                   [-1, 16]           4,096\n",
      "             ReLU-78                   [-1, 16]               0\n",
      "           Linear-79                  [-1, 256]           4,096\n",
      "          Sigmoid-80                  [-1, 256]               0\n",
      "          SEBlock-81          [-1, 256, 15, 15]               0\n",
      "             Mish-82          [-1, 256, 15, 15]               0\n",
      "    ResidualBlock-83          [-1, 256, 15, 15]               0\n",
      "           Conv2d-84          [-1, 256, 15, 15]         589,824\n",
      "             Mish-85          [-1, 256, 15, 15]               0\n",
      "        GroupNorm-86          [-1, 256, 15, 15]             512\n",
      "        Dropout2d-87          [-1, 256, 15, 15]               0\n",
      "           Conv2d-88          [-1, 256, 15, 15]         589,824\n",
      "             Mish-89          [-1, 256, 15, 15]               0\n",
      "        GroupNorm-90          [-1, 256, 15, 15]             512\n",
      "        Dropout2d-91          [-1, 256, 15, 15]               0\n",
      "           Linear-92                   [-1, 16]           4,096\n",
      "             ReLU-93                   [-1, 16]               0\n",
      "           Linear-94                  [-1, 256]           4,096\n",
      "          Sigmoid-95                  [-1, 256]               0\n",
      "          SEBlock-96          [-1, 256, 15, 15]               0\n",
      "             Mish-97          [-1, 256, 15, 15]               0\n",
      "    ResidualBlock-98          [-1, 256, 15, 15]               0\n",
      "           Conv2d-99            [-1, 512, 8, 8]         131,072\n",
      "       GroupNorm-100            [-1, 512, 8, 8]           1,024\n",
      "          Conv2d-101            [-1, 512, 8, 8]       1,179,648\n",
      "            Mish-102            [-1, 512, 8, 8]               0\n",
      "       GroupNorm-103            [-1, 512, 8, 8]           1,024\n",
      "       Dropout2d-104            [-1, 512, 8, 8]               0\n",
      "          Conv2d-105            [-1, 512, 8, 8]       2,359,296\n",
      "            Mish-106            [-1, 512, 8, 8]               0\n",
      "       GroupNorm-107            [-1, 512, 8, 8]           1,024\n",
      "       Dropout2d-108            [-1, 512, 8, 8]               0\n",
      "          Linear-109                   [-1, 32]          16,384\n",
      "            ReLU-110                   [-1, 32]               0\n",
      "          Linear-111                  [-1, 512]          16,384\n",
      "         Sigmoid-112                  [-1, 512]               0\n",
      "         SEBlock-113            [-1, 512, 8, 8]               0\n",
      "            Mish-114            [-1, 512, 8, 8]               0\n",
      "   ResidualBlock-115            [-1, 512, 8, 8]               0\n",
      "          Conv2d-116            [-1, 512, 8, 8]       2,359,296\n",
      "            Mish-117            [-1, 512, 8, 8]               0\n",
      "       GroupNorm-118            [-1, 512, 8, 8]           1,024\n",
      "       Dropout2d-119            [-1, 512, 8, 8]               0\n",
      "          Conv2d-120            [-1, 512, 8, 8]       2,359,296\n",
      "            Mish-121            [-1, 512, 8, 8]               0\n",
      "       GroupNorm-122            [-1, 512, 8, 8]           1,024\n",
      "       Dropout2d-123            [-1, 512, 8, 8]               0\n",
      "          Linear-124                   [-1, 32]          16,384\n",
      "            ReLU-125                   [-1, 32]               0\n",
      "          Linear-126                  [-1, 512]          16,384\n",
      "         Sigmoid-127                  [-1, 512]               0\n",
      "         SEBlock-128            [-1, 512, 8, 8]               0\n",
      "            Mish-129            [-1, 512, 8, 8]               0\n",
      "   ResidualBlock-130            [-1, 512, 8, 8]               0\n",
      "AdaptiveAvgPool2d-131            [-1, 512, 1, 1]               0\n",
      "          Linear-132                   [-1, 20]          10,260\n",
      "================================================================\n",
      "Total params: 11,273,812\n",
      "Trainable params: 11,273,812\n",
      "Non-trainable params: 0\n",
      "----------------------------------------------------------------\n",
      "Input size (MB): 0.59\n",
      "Forward/backward pass size (MB): 91.82\n",
      "Params size (MB): 43.01\n",
      "Estimated Total Size (MB): 135.41\n",
      "----------------------------------------------------------------\n"
     ]
    }
   ],
   "source": [
    "# summary(AlexNet(20).to(device), (3, 227, 227))"
   ]
  },
  {
   "cell_type": "code",
   "execution_count": 10,
   "metadata": {},
   "outputs": [
    {
     "name": "stdout",
     "output_type": "stream",
     "text": [
      "----------------------------------------------------------------\n",
      "        Layer (type)               Output Shape         Param #\n",
      "================================================================\n",
      "            Conv2d-1         [-1, 64, 114, 114]           9,408\n",
      "              Mish-2         [-1, 64, 114, 114]               0\n",
      "         GroupNorm-3         [-1, 64, 114, 114]             128\n",
      "         MaxPool2d-4           [-1, 64, 57, 57]               0\n",
      "            Conv2d-5           [-1, 64, 57, 57]          36,864\n",
      "              Mish-6           [-1, 64, 57, 57]               0\n",
      "         GroupNorm-7           [-1, 64, 57, 57]             128\n",
      "         Dropout2d-8           [-1, 64, 57, 57]               0\n",
      "            Conv2d-9           [-1, 64, 57, 57]          36,864\n",
      "             Mish-10           [-1, 64, 57, 57]               0\n",
      "        GroupNorm-11           [-1, 64, 57, 57]             128\n",
      "        Dropout2d-12           [-1, 64, 57, 57]               0\n",
      "           Linear-13                    [-1, 4]             256\n",
      "             ReLU-14                    [-1, 4]               0\n",
      "           Linear-15                   [-1, 64]             256\n",
      "          Sigmoid-16                   [-1, 64]               0\n",
      "          SEBlock-17           [-1, 64, 57, 57]               0\n",
      "             Mish-18           [-1, 64, 57, 57]               0\n",
      "    ResidualBlock-19           [-1, 64, 57, 57]               0\n",
      "           Conv2d-20           [-1, 64, 57, 57]          36,864\n",
      "             Mish-21           [-1, 64, 57, 57]               0\n",
      "        GroupNorm-22           [-1, 64, 57, 57]             128\n",
      "        Dropout2d-23           [-1, 64, 57, 57]               0\n",
      "           Conv2d-24           [-1, 64, 57, 57]          36,864\n",
      "             Mish-25           [-1, 64, 57, 57]               0\n",
      "        GroupNorm-26           [-1, 64, 57, 57]             128\n",
      "        Dropout2d-27           [-1, 64, 57, 57]               0\n",
      "           Linear-28                    [-1, 4]             256\n",
      "             ReLU-29                    [-1, 4]               0\n",
      "           Linear-30                   [-1, 64]             256\n",
      "          Sigmoid-31                   [-1, 64]               0\n",
      "          SEBlock-32           [-1, 64, 57, 57]               0\n",
      "             Mish-33           [-1, 64, 57, 57]               0\n",
      "    ResidualBlock-34           [-1, 64, 57, 57]               0\n",
      "           Conv2d-35          [-1, 128, 29, 29]           8,192\n",
      "        GroupNorm-36          [-1, 128, 29, 29]             256\n",
      "           Conv2d-37          [-1, 128, 29, 29]          73,728\n",
      "             Mish-38          [-1, 128, 29, 29]               0\n",
      "        GroupNorm-39          [-1, 128, 29, 29]             256\n",
      "        Dropout2d-40          [-1, 128, 29, 29]               0\n",
      "           Conv2d-41          [-1, 128, 29, 29]         147,456\n",
      "             Mish-42          [-1, 128, 29, 29]               0\n",
      "        GroupNorm-43          [-1, 128, 29, 29]             256\n",
      "        Dropout2d-44          [-1, 128, 29, 29]               0\n",
      "           Linear-45                    [-1, 8]           1,024\n",
      "             ReLU-46                    [-1, 8]               0\n",
      "           Linear-47                  [-1, 128]           1,024\n",
      "          Sigmoid-48                  [-1, 128]               0\n",
      "          SEBlock-49          [-1, 128, 29, 29]               0\n",
      "             Mish-50          [-1, 128, 29, 29]               0\n",
      "    ResidualBlock-51          [-1, 128, 29, 29]               0\n",
      "           Conv2d-52          [-1, 128, 29, 29]         147,456\n",
      "             Mish-53          [-1, 128, 29, 29]               0\n",
      "        GroupNorm-54          [-1, 128, 29, 29]             256\n",
      "        Dropout2d-55          [-1, 128, 29, 29]               0\n",
      "           Conv2d-56          [-1, 128, 29, 29]         147,456\n",
      "             Mish-57          [-1, 128, 29, 29]               0\n",
      "        GroupNorm-58          [-1, 128, 29, 29]             256\n",
      "        Dropout2d-59          [-1, 128, 29, 29]               0\n",
      "           Linear-60                    [-1, 8]           1,024\n",
      "             ReLU-61                    [-1, 8]               0\n",
      "           Linear-62                  [-1, 128]           1,024\n",
      "          Sigmoid-63                  [-1, 128]               0\n",
      "          SEBlock-64          [-1, 128, 29, 29]               0\n",
      "             Mish-65          [-1, 128, 29, 29]               0\n",
      "    ResidualBlock-66          [-1, 128, 29, 29]               0\n",
      "           Conv2d-67          [-1, 256, 15, 15]          32,768\n",
      "        GroupNorm-68          [-1, 256, 15, 15]             512\n",
      "           Conv2d-69          [-1, 256, 15, 15]         294,912\n",
      "             Mish-70          [-1, 256, 15, 15]               0\n",
      "        GroupNorm-71          [-1, 256, 15, 15]             512\n",
      "        Dropout2d-72          [-1, 256, 15, 15]               0\n",
      "           Conv2d-73          [-1, 256, 15, 15]         589,824\n",
      "             Mish-74          [-1, 256, 15, 15]               0\n",
      "        GroupNorm-75          [-1, 256, 15, 15]             512\n",
      "        Dropout2d-76          [-1, 256, 15, 15]               0\n",
      "           Linear-77                   [-1, 16]           4,096\n",
      "             ReLU-78                   [-1, 16]               0\n",
      "           Linear-79                  [-1, 256]           4,096\n",
      "          Sigmoid-80                  [-1, 256]               0\n",
      "          SEBlock-81          [-1, 256, 15, 15]               0\n",
      "             Mish-82          [-1, 256, 15, 15]               0\n",
      "    ResidualBlock-83          [-1, 256, 15, 15]               0\n",
      "           Conv2d-84          [-1, 256, 15, 15]         589,824\n",
      "             Mish-85          [-1, 256, 15, 15]               0\n",
      "        GroupNorm-86          [-1, 256, 15, 15]             512\n",
      "        Dropout2d-87          [-1, 256, 15, 15]               0\n",
      "           Conv2d-88          [-1, 256, 15, 15]         589,824\n",
      "             Mish-89          [-1, 256, 15, 15]               0\n",
      "        GroupNorm-90          [-1, 256, 15, 15]             512\n",
      "        Dropout2d-91          [-1, 256, 15, 15]               0\n",
      "           Linear-92                   [-1, 16]           4,096\n",
      "             ReLU-93                   [-1, 16]               0\n",
      "           Linear-94                  [-1, 256]           4,096\n",
      "          Sigmoid-95                  [-1, 256]               0\n",
      "          SEBlock-96          [-1, 256, 15, 15]               0\n",
      "             Mish-97          [-1, 256, 15, 15]               0\n",
      "    ResidualBlock-98          [-1, 256, 15, 15]               0\n",
      "           Conv2d-99            [-1, 512, 8, 8]         131,072\n",
      "       GroupNorm-100            [-1, 512, 8, 8]           1,024\n",
      "          Conv2d-101            [-1, 512, 8, 8]       1,179,648\n",
      "            Mish-102            [-1, 512, 8, 8]               0\n",
      "       GroupNorm-103            [-1, 512, 8, 8]           1,024\n",
      "       Dropout2d-104            [-1, 512, 8, 8]               0\n",
      "          Conv2d-105            [-1, 512, 8, 8]       2,359,296\n",
      "            Mish-106            [-1, 512, 8, 8]               0\n",
      "       GroupNorm-107            [-1, 512, 8, 8]           1,024\n",
      "       Dropout2d-108            [-1, 512, 8, 8]               0\n",
      "          Linear-109                   [-1, 32]          16,384\n",
      "            ReLU-110                   [-1, 32]               0\n",
      "          Linear-111                  [-1, 512]          16,384\n",
      "         Sigmoid-112                  [-1, 512]               0\n",
      "         SEBlock-113            [-1, 512, 8, 8]               0\n",
      "            Mish-114            [-1, 512, 8, 8]               0\n",
      "   ResidualBlock-115            [-1, 512, 8, 8]               0\n",
      "          Conv2d-116            [-1, 512, 8, 8]       2,359,296\n",
      "            Mish-117            [-1, 512, 8, 8]               0\n",
      "       GroupNorm-118            [-1, 512, 8, 8]           1,024\n",
      "       Dropout2d-119            [-1, 512, 8, 8]               0\n",
      "          Conv2d-120            [-1, 512, 8, 8]       2,359,296\n",
      "            Mish-121            [-1, 512, 8, 8]               0\n",
      "       GroupNorm-122            [-1, 512, 8, 8]           1,024\n",
      "       Dropout2d-123            [-1, 512, 8, 8]               0\n",
      "          Linear-124                   [-1, 32]          16,384\n",
      "            ReLU-125                   [-1, 32]               0\n",
      "          Linear-126                  [-1, 512]          16,384\n",
      "         Sigmoid-127                  [-1, 512]               0\n",
      "         SEBlock-128            [-1, 512, 8, 8]               0\n",
      "            Mish-129            [-1, 512, 8, 8]               0\n",
      "   ResidualBlock-130            [-1, 512, 8, 8]               0\n",
      "AdaptiveAvgPool2d-131            [-1, 512, 1, 1]               0\n",
      "          Linear-132                   [-1, 20]          10,260\n",
      "================================================================\n",
      "Total params: 11,273,812\n",
      "Trainable params: 11,273,812\n",
      "Non-trainable params: 0\n",
      "----------------------------------------------------------------\n",
      "Input size (MB): 0.59\n",
      "Forward/backward pass size (MB): 91.82\n",
      "Params size (MB): 43.01\n",
      "Estimated Total Size (MB): 135.41\n",
      "----------------------------------------------------------------\n"
     ]
    }
   ],
   "source": [
    "summary(custom_resnet18(dropout_prob=0.4).to(device), (3, 227, 227))"
   ]
  },
  {
   "cell_type": "markdown",
   "metadata": {},
   "source": [
    "# Обучение"
   ]
  },
  {
   "cell_type": "code",
   "execution_count": 11,
   "metadata": {},
   "outputs": [
    {
     "name": "stderr",
     "output_type": "stream",
     "text": [
      "/home/bottic/anaconda3/envs/ttorchenv/lib/python3.10/site-packages/ignite/handlers/checkpoint.py:16: DeprecationWarning: `TorchScript` support for functional optimizers is deprecated and will be removed in a future PyTorch release. Consider using the `torch.compile` optimizer instead.\n",
      "  from torch.distributed.optim import ZeroRedundancyOptimizer\n"
     ]
    }
   ],
   "source": [
    "from torch.optim import Adam\n",
    "from torch.utils.data import DataLoader\n",
    "from ignite.engine import Engine, Events\n",
    "from ignite.handlers import Checkpoint, DiskSaver, global_step_from_engine\n",
    "from ignite.metrics import Accuracy, Loss\n",
    "from ignite.contrib.handlers import ProgressBar\n",
    "import logging\n"
   ]
  },
  {
   "cell_type": "code",
   "execution_count": 12,
   "metadata": {},
   "outputs": [],
   "source": [
    "model = custom_resnet18(dropout_prob=0.5).to(device)"
   ]
  },
  {
   "cell_type": "code",
   "execution_count": 13,
   "metadata": {},
   "outputs": [],
   "source": [
    "# Определение функции потерь и оптимизатора\n",
    "# criterion = nn.CrossEntropyLoss()\n",
    "criterion = nn.CrossEntropyLoss(label_smoothing=0.1)\n",
    "weight_decay = 1e-4\n",
    "optimizer = torch.optim.AdamW(model.parameters(), lr=0.001, weight_decay=weight_decay)\n",
    "\n",
    "# Создание DataLoader\n",
    "train_loader = DataLoader(train_dataset, batch_size=64, shuffle=True, num_workers=3)\n",
    "val_loader = DataLoader(val_dataset, batch_size=64, shuffle=False, num_workers=3)"
   ]
  },
  {
   "cell_type": "code",
   "execution_count": 14,
   "metadata": {},
   "outputs": [
    {
     "data": {
      "text/plain": [
       "time.struct_time(tm_year=2024, tm_mon=12, tm_mday=11, tm_hour=6, tm_min=59, tm_sec=31, tm_wday=2, tm_yday=346, tm_isdst=0)"
      ]
     },
     "execution_count": 14,
     "metadata": {},
     "output_type": "execute_result"
    }
   ],
   "source": [
    "import time\n",
    "\n",
    "time.localtime()"
   ]
  },
  {
   "cell_type": "code",
   "execution_count": 15,
   "metadata": {},
   "outputs": [],
   "source": [
    "# lr_scheduler = torch.optim.lr_scheduler.ReduceLROnPlateau(\n",
    "#     optimizer, \n",
    "#     mode='min',  # Или 'max', если метрика должна увеличиваться\n",
    "#     factor=0.75,  # Во сколько раз уменьшать learning rate\n",
    "#     patience=1,  # Сколько эпох ждать улучшений\n",
    "#     verbose=True,  # Выводить сообщения о снижении learning rate\n",
    "#     min_lr=1e-6  # Минимальное значение learning rate\n",
    "# )\n",
    "\n",
    "lr_scheduler = torch.optim.lr_scheduler.CosineAnnealingLR(optimizer, T_max=10)"
   ]
  },
  {
   "cell_type": "code",
   "execution_count": 16,
   "metadata": {},
   "outputs": [
    {
     "name": "stderr",
     "output_type": "stream",
     "text": [
      "/home/bottic/anaconda3/envs/ttorchenv/lib/python3.10/site-packages/ignite/handlers/tqdm_logger.py:127: TqdmWarning: IProgress not found. Please update jupyter and ipywidgets. See https://ipywidgets.readthedocs.io/en/stable/user_install.html\n",
      "  from tqdm.autonotebook import tqdm\n"
     ]
    }
   ],
   "source": [
    "from ignite.handlers import EarlyStopping\n",
    "# Определяем одну итерацию обучения (тренировочный шаг)\n",
    "def train_step(engine, batch):\n",
    "    model.train()  # Переводим модель в режим обучения\n",
    "    images, labels, img_id = batch\n",
    "    images, labels = images.to(device), labels.to(device)  # Перенос данных на устройство (CPU/GPU)\n",
    "    optimizer.zero_grad()  # Обнуляем градиенты\n",
    "    outputs = model(images)  # Прямой проход (forward pass)\n",
    "    loss = criterion(outputs, labels)  # Вычисляем функцию потерь\n",
    "    loss.backward()  # Вычисляем градиенты\n",
    "    optimizer.step()  # Обновляем параметры модели\n",
    "    # Возвращаем результаты: значение функции потерь, выходы модели и метки\n",
    "    return {\"loss\": loss.item(), \"outputs\": outputs, \"labels\": labels}\n",
    "\n",
    "# Определяем одну итерацию валидации\n",
    "def val_step(engine, batch):\n",
    "    model.eval()  # Переводим модель в режим оценки\n",
    "    with torch.no_grad():  # Отключаем вычисление градиентов (ускоряет выполнение и экономит память)\n",
    "        images, labels, img_id = batch\n",
    "        images, labels = images.to(device), labels.to(device)\n",
    "        outputs = model(images)  # Прямой проход\n",
    "        return outputs, labels  # Возвращаем предсказания и истинные метки\n",
    "\n",
    "# Создаём движки (engines) для тренировки и валидации\n",
    "trainer = Engine(train_step)  # Движок для обучения\n",
    "evaluator = Engine(val_step)  # Движок для валидации\n",
    "\n",
    "# Создаём обработчик ранней остановки\n",
    "handler = EarlyStopping(\n",
    "    patience=15,  # Количество эпох без улучшений\n",
    "    score_function=lambda engine: -engine.state.metrics['loss'],  # Метрика для отслеживания\n",
    "    # score_function=lambda engine: -engine.state.metrics['accuracy'],  # Метрика для отслеживания\n",
    "    trainer=trainer, # Остановка тренировки\n",
    "    min_delta=0.001\n",
    ")\n",
    "\n",
    "evaluator.add_event_handler(Events.COMPLETED, handler)\n",
    "\n",
    "# Добавляем метрики для обучения\n",
    "train_loss = Loss(criterion, output_transform=lambda x: (x[\"outputs\"], x[\"labels\"]))\n",
    "train_accuracy = Accuracy(output_transform=lambda x: (x[\"outputs\"], x[\"labels\"]))\n",
    "train_loss.attach(trainer, \"loss\")  # Привязываем метрику функции потерь к тренеру\n",
    "train_accuracy.attach(trainer, \"accuracy\")  # Привязываем метрику точности к тренеру\n",
    "\n",
    "# Добавляем метрики для валидации\n",
    "Accuracy().attach(evaluator, \"accuracy\")  # Точность\n",
    "Loss(criterion).attach(evaluator, \"loss\")  # Функция потерь\n",
    "\n",
    "# Прогресс-бар для отображения статуса обучения\n",
    "ProgressBar().attach(trainer)\n",
    "ProgressBar().attach(evaluator)\n",
    "\n",
    "cur_time = time.localtime()\n",
    "path_suf = '_' + str(cur_time.tm_mday) + '_' + str(cur_time.tm_mon) + '_' + str(cur_time.tm_hour) + '_' + str(cur_time.tm_min)\n",
    "\n",
    "# Настройка логирования\n",
    "log_dir = \"./train_info/logs\" + path_suf\n",
    "os.makedirs(log_dir, exist_ok=True)  # Создаём директорию для логов, если её нет\n",
    "logging.basicConfig(\n",
    "    filename=\"training.log\",  # Файл для записи логов\n",
    "    level=logging.INFO,  # Уровень логирования\n",
    "    format=\"%(asctime)s - %(message)s\",  # Формат записей\n",
    ")\n",
    "logger = logging.getLogger()  # Создаём логгер\n",
    "\n",
    "# Создаём DataFrame для метрик\n",
    "metrics_path = os.path.join(log_dir, \"metrics.csv\")\n",
    "if os.path.exists(metrics_path):\n",
    "    # Если файл уже существует, загружаем его (например, для продолжения тренировки)\n",
    "    metrics_df = pd.read_csv(metrics_path)\n",
    "else:\n",
    "    # Создаём новый DataFrame, если файла ещё нет\n",
    "    metrics_df = pd.DataFrame(columns=[\"Epoch\", \"Train Loss\", \"Train Accuracy\", \"Validation Loss\", \"Validation Accuracy\"])\n",
    "\n",
    "# Настраиваем сохранение модели при лучших результатах\n",
    "to_save = {\"model\": model, \"optimizer\": optimizer, \"trainer\": trainer}\n",
    "handler = Checkpoint(\n",
    "    to_save,  # Что сохранять\n",
    "    DiskSaver(\"./train_info/checkpoints\" + path_suf, create_dir=True, require_empty=False, atomic=False),  # Диск-сохранитель\n",
    "    n_saved=3,  # Сохранять только последние 3 чекпоинта\n",
    "    filename_prefix=\"best\",  # Префикс имени файла\n",
    "    score_function=lambda engine: engine.state.metrics[\"accuracy\"],  # Критерий выбора \"лучшей\" модели\n",
    "    score_name=\"val_accuracy\",  # Название критерия\n",
    "    global_step_transform=global_step_from_engine(trainer),  # Глобальный шаг (номер итерации)\n",
    ")\n",
    "\n",
    "# Добавляем событие для логирования и сохранения метрик после каждой эпохи\n",
    "@trainer.on(Events.EPOCH_COMPLETED)\n",
    "def log_and_save_metrics(engine):\n",
    "    # Получаем метрики для тренировки\n",
    "    train_metrics = engine.state.metrics\n",
    "    train_loss = train_metrics[\"loss\"]\n",
    "    train_accuracy = train_metrics[\"accuracy\"]\n",
    "    \n",
    "    # Запускаем валидацию\n",
    "    evaluator.run(val_loader)\n",
    "    val_metrics = evaluator.state.metrics\n",
    "    val_loss = val_metrics[\"loss\"]\n",
    "    val_accuracy = val_metrics[\"accuracy\"]\n",
    "    \n",
    "    # Логируем метрики\n",
    "    logger.info(f\"Epoch {engine.state.epoch}: Train Loss: {train_loss:.4f}, Train Accuracy: {train_accuracy:.4f}, \"\n",
    "                f\"Validation Loss: {val_loss:.4f}, Validation Accuracy: {val_accuracy:.4f}\")\n",
    "    print(f\"Epoch {engine.state.epoch}: Train Loss: {train_loss:.4f}, Train Accuracy: {train_accuracy:.4f}, \"\n",
    "          f\"Validation Loss: {val_loss:.4f}, Validation Accuracy: {val_accuracy:.4f}\")\n",
    "    \n",
    "    # Сохраняем метрики в DataFrame и записываем в CSV\n",
    "    global metrics_df\n",
    "    metrics_df = pd.concat(\n",
    "        [metrics_df, pd.DataFrame({\n",
    "            \"Epoch\": [engine.state.epoch],\n",
    "            \"Train Loss\": [train_loss],\n",
    "            \"Train Accuracy\": [train_accuracy],\n",
    "            \"Validation Loss\": [val_loss],\n",
    "            \"Validation Accuracy\": [val_accuracy],\n",
    "        })],\n",
    "        ignore_index=True\n",
    "    )\n",
    "    metrics_df.to_csv(metrics_path, index=False)  # Сохраняем таблицу в CSV\n",
    "    \n",
    "    # Сохраняем модель\n",
    "    handler(evaluator)\n",
    "    \n",
    "    # Шаг для ReduceLROnPlateau\n",
    "    lr_scheduler.step(val_loss)  # Здесь используем валидирующую функцию потерь как ключевую метрику\n",
    "\n",
    "\n",
    "@trainer.on(Events.EPOCH_COMPLETED)\n",
    "def log_lr_and_threshold(engine):\n",
    "    current_lr = optimizer.param_groups[0]['lr']\n",
    "    logger.info(f\"Epoch {engine.state.epoch}: Learning Rate: {current_lr:.6f}, Weight Decay: {weight_decay:.4f}\")\n",
    "    print(f\"Epoch {engine.state.epoch}: Learning Rate: {current_lr:.6f}, Weight Decay: {weight_decay:.4f}\")\n"
   ]
  },
  {
   "cell_type": "markdown",
   "metadata": {},
   "source": [
    "Запуски с различными гиперпараметрами"
   ]
  },
  {
   "cell_type": "code",
   "execution_count": 17,
   "metadata": {},
   "outputs": [
    {
     "name": "stderr",
     "output_type": "stream",
     "text": [
      "                                                     "
     ]
    },
    {
     "name": "stdout",
     "output_type": "stream",
     "text": [
      "Epoch 1: Train Loss: 2.6374, Train Accuracy: 0.2007, Validation Loss: 2.5537, Validation Accuracy: 0.2144\n",
      "Epoch 1: Learning Rate: 0.000848, Weight Decay: 0.0001\n"
     ]
    },
    {
     "name": "stderr",
     "output_type": "stream",
     "text": [
      "/tmp/ipykernel_208474/1840080456.py:109: FutureWarning: The behavior of DataFrame concatenation with empty or all-NA entries is deprecated. In a future version, this will no longer exclude empty or all-NA columns when determining the result dtypes. To retain the old behavior, exclude the relevant entries before the concat operation.\n",
      "  metrics_df = pd.concat(\n",
      "/home/bottic/anaconda3/envs/ttorchenv/lib/python3.10/site-packages/torch/optim/lr_scheduler.py:240: UserWarning: The epoch parameter in `scheduler.step()` was not necessary and is being deprecated where possible. Please use `scheduler.step()` to step the scheduler. During the deprecation, if epoch is different from None, the closed form is used instead of the new chainable form, where available. Please open an issue if you are unable to replicate your use case: https://github.com/pytorch/pytorch/issues/new/choose.\n",
      "  warnings.warn(EPOCH_DEPRECATION_WARNING, UserWarning)\n",
      "                                                     "
     ]
    },
    {
     "name": "stdout",
     "output_type": "stream",
     "text": [
      "Epoch 2: Train Loss: 2.5173, Train Accuracy: 0.2395, Validation Loss: 2.4719, Validation Accuracy: 0.2597\n",
      "Epoch 2: Learning Rate: 0.000857, Weight Decay: 0.0001\n"
     ]
    },
    {
     "name": "stderr",
     "output_type": "stream",
     "text": [
      "                                                     "
     ]
    },
    {
     "name": "stdout",
     "output_type": "stream",
     "text": [
      "Epoch 3: Train Loss: 2.4336, Train Accuracy: 0.2784, Validation Loss: 2.3572, Validation Accuracy: 0.3147\n",
      "Epoch 3: Learning Rate: 0.000869, Weight Decay: 0.0001\n"
     ]
    },
    {
     "name": "stderr",
     "output_type": "stream",
     "text": [
      "                                                     \r"
     ]
    },
    {
     "name": "stdout",
     "output_type": "stream",
     "text": [
      "Epoch 4: Train Loss: 2.3536, Train Accuracy: 0.3017, Validation Loss: 2.2708, Validation Accuracy: 0.3285\n",
      "Epoch 4: Learning Rate: 0.000878, Weight Decay: 0.0001\n"
     ]
    },
    {
     "name": "stderr",
     "output_type": "stream",
     "text": [
      "                                                     \r"
     ]
    },
    {
     "name": "stdout",
     "output_type": "stream",
     "text": [
      "Epoch 5: Train Loss: 2.2637, Train Accuracy: 0.3364, Validation Loss: 2.1846, Validation Accuracy: 0.3746\n",
      "Epoch 5: Learning Rate: 0.000887, Weight Decay: 0.0001\n"
     ]
    },
    {
     "name": "stderr",
     "output_type": "stream",
     "text": [
      "                                                     \r"
     ]
    },
    {
     "name": "stdout",
     "output_type": "stream",
     "text": [
      "Epoch 6: Train Loss: 2.2013, Train Accuracy: 0.3565, Validation Loss: 2.1681, Validation Accuracy: 0.3730\n",
      "Epoch 6: Learning Rate: 0.000888, Weight Decay: 0.0001\n"
     ]
    },
    {
     "name": "stderr",
     "output_type": "stream",
     "text": [
      "                                                     \r"
     ]
    },
    {
     "name": "stdout",
     "output_type": "stream",
     "text": [
      "Epoch 7: Train Loss: 2.1291, Train Accuracy: 0.3889, Validation Loss: 2.0814, Validation Accuracy: 0.4102\n",
      "Epoch 7: Learning Rate: 0.000897, Weight Decay: 0.0001\n"
     ]
    },
    {
     "name": "stderr",
     "output_type": "stream",
     "text": [
      "                                                     \r"
     ]
    },
    {
     "name": "stdout",
     "output_type": "stream",
     "text": [
      "Epoch 8: Train Loss: 2.0724, Train Accuracy: 0.4085, Validation Loss: 2.0350, Validation Accuracy: 0.4312\n",
      "Epoch 8: Learning Rate: 0.000901, Weight Decay: 0.0001\n"
     ]
    },
    {
     "name": "stderr",
     "output_type": "stream",
     "text": [
      "                                                     \r"
     ]
    },
    {
     "name": "stdout",
     "output_type": "stream",
     "text": [
      "Epoch 9: Train Loss: 1.9970, Train Accuracy: 0.4445, Validation Loss: 2.0382, Validation Accuracy: 0.4150\n",
      "Epoch 9: Learning Rate: 0.000901, Weight Decay: 0.0001\n"
     ]
    },
    {
     "name": "stderr",
     "output_type": "stream",
     "text": [
      "                                                      \r"
     ]
    },
    {
     "name": "stdout",
     "output_type": "stream",
     "text": [
      "Epoch 10: Train Loss: 1.9391, Train Accuracy: 0.4608, Validation Loss: 1.9236, Validation Accuracy: 0.4693\n",
      "Epoch 10: Learning Rate: 0.000911, Weight Decay: 0.0001\n"
     ]
    },
    {
     "name": "stderr",
     "output_type": "stream",
     "text": [
      "                                                      \r"
     ]
    },
    {
     "name": "stdout",
     "output_type": "stream",
     "text": [
      "Epoch 11: Train Loss: 1.8660, Train Accuracy: 0.4944, Validation Loss: 1.8482, Validation Accuracy: 0.5105\n",
      "Epoch 11: Learning Rate: 0.000918, Weight Decay: 0.0001\n"
     ]
    },
    {
     "name": "stderr",
     "output_type": "stream",
     "text": [
      "                                                      \r"
     ]
    },
    {
     "name": "stdout",
     "output_type": "stream",
     "text": [
      "Epoch 12: Train Loss: 1.7985, Train Accuracy: 0.5240, Validation Loss: 1.8553, Validation Accuracy: 0.5105\n",
      "Epoch 12: Learning Rate: 0.000917, Weight Decay: 0.0001\n"
     ]
    },
    {
     "name": "stderr",
     "output_type": "stream",
     "text": [
      "                                                      \r"
     ]
    },
    {
     "name": "stdout",
     "output_type": "stream",
     "text": [
      "Epoch 13: Train Loss: 1.7325, Train Accuracy: 0.5500, Validation Loss: 1.8083, Validation Accuracy: 0.5259\n",
      "Epoch 13: Learning Rate: 0.000921, Weight Decay: 0.0001\n"
     ]
    },
    {
     "name": "stderr",
     "output_type": "stream",
     "text": [
      "                                                      \r"
     ]
    },
    {
     "name": "stdout",
     "output_type": "stream",
     "text": [
      "Epoch 14: Train Loss: 1.6597, Train Accuracy: 0.5833, Validation Loss: 1.7514, Validation Accuracy: 0.5494\n",
      "Epoch 14: Learning Rate: 0.000926, Weight Decay: 0.0001\n"
     ]
    },
    {
     "name": "stderr",
     "output_type": "stream",
     "text": [
      "                                                      \r"
     ]
    },
    {
     "name": "stdout",
     "output_type": "stream",
     "text": [
      "Epoch 15: Train Loss: 1.5976, Train Accuracy: 0.6110, Validation Loss: 1.7047, Validation Accuracy: 0.5833\n",
      "Epoch 15: Learning Rate: 0.000930, Weight Decay: 0.0001\n"
     ]
    },
    {
     "name": "stderr",
     "output_type": "stream",
     "text": [
      "                                                      \r"
     ]
    },
    {
     "name": "stdout",
     "output_type": "stream",
     "text": [
      "Epoch 16: Train Loss: 1.5370, Train Accuracy: 0.6340, Validation Loss: 1.6805, Validation Accuracy: 0.5947\n",
      "Epoch 16: Learning Rate: 0.000932, Weight Decay: 0.0001\n"
     ]
    },
    {
     "name": "stderr",
     "output_type": "stream",
     "text": [
      "                                                      \r"
     ]
    },
    {
     "name": "stdout",
     "output_type": "stream",
     "text": [
      "Epoch 17: Train Loss: 1.4780, Train Accuracy: 0.6593, Validation Loss: 1.6885, Validation Accuracy: 0.5971\n",
      "Epoch 17: Learning Rate: 0.000931, Weight Decay: 0.0001\n"
     ]
    },
    {
     "name": "stderr",
     "output_type": "stream",
     "text": [
      "                                                      \r"
     ]
    },
    {
     "name": "stdout",
     "output_type": "stream",
     "text": [
      "Epoch 18: Train Loss: 1.4289, Train Accuracy: 0.6808, Validation Loss: 1.6402, Validation Accuracy: 0.6076\n",
      "Epoch 18: Learning Rate: 0.000935, Weight Decay: 0.0001\n"
     ]
    },
    {
     "name": "stderr",
     "output_type": "stream",
     "text": [
      "                                                      \r"
     ]
    },
    {
     "name": "stdout",
     "output_type": "stream",
     "text": [
      "Epoch 19: Train Loss: 1.3774, Train Accuracy: 0.7039, Validation Loss: 1.6756, Validation Accuracy: 0.6125\n",
      "Epoch 19: Learning Rate: 0.000932, Weight Decay: 0.0001\n"
     ]
    },
    {
     "name": "stderr",
     "output_type": "stream",
     "text": [
      "                                                      \r"
     ]
    },
    {
     "name": "stdout",
     "output_type": "stream",
     "text": [
      "Epoch 20: Train Loss: 1.3222, Train Accuracy: 0.7260, Validation Loss: 1.5833, Validation Accuracy: 0.6489\n",
      "Epoch 20: Learning Rate: 0.000939, Weight Decay: 0.0001\n"
     ]
    },
    {
     "name": "stderr",
     "output_type": "stream",
     "text": [
      "                                                      \r"
     ]
    },
    {
     "name": "stdout",
     "output_type": "stream",
     "text": [
      "Epoch 21: Train Loss: 1.2774, Train Accuracy: 0.7446, Validation Loss: 1.6066, Validation Accuracy: 0.6359\n",
      "Epoch 21: Learning Rate: 0.000938, Weight Decay: 0.0001\n"
     ]
    },
    {
     "name": "stderr",
     "output_type": "stream",
     "text": [
      "                                                      \r"
     ]
    },
    {
     "name": "stdout",
     "output_type": "stream",
     "text": [
      "Epoch 22: Train Loss: 1.2343, Train Accuracy: 0.7679, Validation Loss: 1.5819, Validation Accuracy: 0.6432\n",
      "Epoch 22: Learning Rate: 0.000940, Weight Decay: 0.0001\n"
     ]
    },
    {
     "name": "stderr",
     "output_type": "stream",
     "text": [
      "                                                      \r"
     ]
    },
    {
     "name": "stdout",
     "output_type": "stream",
     "text": [
      "Epoch 23: Train Loss: 1.1910, Train Accuracy: 0.7849, Validation Loss: 1.6213, Validation Accuracy: 0.6610\n",
      "Epoch 23: Learning Rate: 0.000937, Weight Decay: 0.0001\n"
     ]
    },
    {
     "name": "stderr",
     "output_type": "stream",
     "text": [
      "                                                      "
     ]
    },
    {
     "name": "stdout",
     "output_type": "stream",
     "text": [
      "Epoch 24: Train Loss: 1.1589, Train Accuracy: 0.7973, Validation Loss: 1.6145, Validation Accuracy: 0.6432\n",
      "Epoch 24: Learning Rate: 0.000937, Weight Decay: 0.0001\n"
     ]
    },
    {
     "name": "stderr",
     "output_type": "stream",
     "text": [
      "                                                      \r"
     ]
    },
    {
     "name": "stdout",
     "output_type": "stream",
     "text": [
      "Epoch 25: Train Loss: 1.1153, Train Accuracy: 0.8170, Validation Loss: 1.5821, Validation Accuracy: 0.6618\n",
      "Epoch 25: Learning Rate: 0.000940, Weight Decay: 0.0001\n"
     ]
    },
    {
     "name": "stderr",
     "output_type": "stream",
     "text": [
      "                                                      \r"
     ]
    },
    {
     "name": "stdout",
     "output_type": "stream",
     "text": [
      "Epoch 26: Train Loss: 1.0809, Train Accuracy: 0.8322, Validation Loss: 1.6159, Validation Accuracy: 0.6626\n",
      "Epoch 26: Learning Rate: 0.000937, Weight Decay: 0.0001\n"
     ]
    },
    {
     "name": "stderr",
     "output_type": "stream",
     "text": [
      "                                                      \r"
     ]
    },
    {
     "name": "stdout",
     "output_type": "stream",
     "text": [
      "Epoch 27: Train Loss: 1.0547, Train Accuracy: 0.8457, Validation Loss: 1.5813, Validation Accuracy: 0.6715\n",
      "Epoch 27: Learning Rate: 0.000940, Weight Decay: 0.0001\n"
     ]
    },
    {
     "name": "stderr",
     "output_type": "stream",
     "text": [
      "                                                      \r"
     ]
    },
    {
     "name": "stdout",
     "output_type": "stream",
     "text": [
      "Epoch 28: Train Loss: 1.0264, Train Accuracy: 0.8599, Validation Loss: 1.5538, Validation Accuracy: 0.6715\n",
      "Epoch 28: Learning Rate: 0.000942, Weight Decay: 0.0001\n"
     ]
    },
    {
     "name": "stderr",
     "output_type": "stream",
     "text": [
      "                                                      \r"
     ]
    },
    {
     "name": "stdout",
     "output_type": "stream",
     "text": [
      "Epoch 29: Train Loss: 0.9954, Train Accuracy: 0.8723, Validation Loss: 1.5980, Validation Accuracy: 0.6707\n",
      "Epoch 29: Learning Rate: 0.000938, Weight Decay: 0.0001\n"
     ]
    },
    {
     "name": "stderr",
     "output_type": "stream",
     "text": [
      "                                                      "
     ]
    },
    {
     "name": "stdout",
     "output_type": "stream",
     "text": [
      "Epoch 30: Train Loss: 0.9732, Train Accuracy: 0.8798, Validation Loss: 1.6146, Validation Accuracy: 0.6683\n",
      "Epoch 30: Learning Rate: 0.000937, Weight Decay: 0.0001\n"
     ]
    },
    {
     "name": "stderr",
     "output_type": "stream",
     "text": [
      "                                                      "
     ]
    },
    {
     "name": "stdout",
     "output_type": "stream",
     "text": [
      "Epoch 31: Train Loss: 0.9488, Train Accuracy: 0.8930, Validation Loss: 1.5944, Validation Accuracy: 0.6586\n",
      "Epoch 31: Learning Rate: 0.000939, Weight Decay: 0.0001\n"
     ]
    },
    {
     "name": "stderr",
     "output_type": "stream",
     "text": [
      "                                                      \r"
     ]
    },
    {
     "name": "stdout",
     "output_type": "stream",
     "text": [
      "Epoch 32: Train Loss: 0.9391, Train Accuracy: 0.8952, Validation Loss: 1.5839, Validation Accuracy: 0.6772\n",
      "Epoch 32: Learning Rate: 0.000939, Weight Decay: 0.0001\n"
     ]
    },
    {
     "name": "stderr",
     "output_type": "stream",
     "text": [
      "                                                      \r"
     ]
    },
    {
     "name": "stdout",
     "output_type": "stream",
     "text": [
      "Epoch 33: Train Loss: 0.9127, Train Accuracy: 0.9085, Validation Loss: 1.5520, Validation Accuracy: 0.6812\n",
      "Epoch 33: Learning Rate: 0.000942, Weight Decay: 0.0001\n"
     ]
    },
    {
     "name": "stderr",
     "output_type": "stream",
     "text": [
      "                                                      \r"
     ]
    },
    {
     "name": "stdout",
     "output_type": "stream",
     "text": [
      "Epoch 34: Train Loss: 0.9001, Train Accuracy: 0.9148, Validation Loss: 1.5660, Validation Accuracy: 0.6796\n",
      "Epoch 34: Learning Rate: 0.000941, Weight Decay: 0.0001\n"
     ]
    },
    {
     "name": "stderr",
     "output_type": "stream",
     "text": [
      "                                                      "
     ]
    },
    {
     "name": "stdout",
     "output_type": "stream",
     "text": [
      "Epoch 35: Train Loss: 0.8925, Train Accuracy: 0.9169, Validation Loss: 1.5669, Validation Accuracy: 0.6748\n",
      "Epoch 35: Learning Rate: 0.000941, Weight Decay: 0.0001\n"
     ]
    },
    {
     "name": "stderr",
     "output_type": "stream",
     "text": [
      "                                                      \r"
     ]
    },
    {
     "name": "stdout",
     "output_type": "stream",
     "text": [
      "Epoch 36: Train Loss: 0.8762, Train Accuracy: 0.9236, Validation Loss: 1.5584, Validation Accuracy: 0.6950\n",
      "Epoch 36: Learning Rate: 0.000941, Weight Decay: 0.0001\n"
     ]
    },
    {
     "name": "stderr",
     "output_type": "stream",
     "text": [
      "                                                      \r"
     ]
    },
    {
     "name": "stdout",
     "output_type": "stream",
     "text": [
      "Epoch 37: Train Loss: 0.8600, Train Accuracy: 0.9291, Validation Loss: 1.5366, Validation Accuracy: 0.6926\n",
      "Epoch 37: Learning Rate: 0.000943, Weight Decay: 0.0001\n"
     ]
    },
    {
     "name": "stderr",
     "output_type": "stream",
     "text": [
      "                                                      \r"
     ]
    },
    {
     "name": "stdout",
     "output_type": "stream",
     "text": [
      "Epoch 38: Train Loss: 0.8540, Train Accuracy: 0.9308, Validation Loss: 1.5691, Validation Accuracy: 0.6885\n",
      "Epoch 38: Learning Rate: 0.000940, Weight Decay: 0.0001\n"
     ]
    },
    {
     "name": "stderr",
     "output_type": "stream",
     "text": [
      "                                                      \r"
     ]
    },
    {
     "name": "stdout",
     "output_type": "stream",
     "text": [
      "Epoch 39: Train Loss: 0.8467, Train Accuracy: 0.9355, Validation Loss: 1.5530, Validation Accuracy: 0.6950\n",
      "Epoch 39: Learning Rate: 0.000942, Weight Decay: 0.0001\n"
     ]
    },
    {
     "name": "stderr",
     "output_type": "stream",
     "text": [
      "                                                      \r"
     ]
    },
    {
     "name": "stdout",
     "output_type": "stream",
     "text": [
      "Epoch 40: Train Loss: 0.8299, Train Accuracy: 0.9439, Validation Loss: 1.5326, Validation Accuracy: 0.6990\n",
      "Epoch 40: Learning Rate: 0.000943, Weight Decay: 0.0001\n"
     ]
    },
    {
     "name": "stderr",
     "output_type": "stream",
     "text": [
      "                                                      "
     ]
    },
    {
     "name": "stdout",
     "output_type": "stream",
     "text": [
      "Epoch 41: Train Loss: 0.8202, Train Accuracy: 0.9472, Validation Loss: 1.5957, Validation Accuracy: 0.6812\n",
      "Epoch 41: Learning Rate: 0.000938, Weight Decay: 0.0001\n"
     ]
    },
    {
     "name": "stderr",
     "output_type": "stream",
     "text": [
      "                                                      "
     ]
    },
    {
     "name": "stdout",
     "output_type": "stream",
     "text": [
      "Epoch 42: Train Loss: 0.8130, Train Accuracy: 0.9491, Validation Loss: 1.5534, Validation Accuracy: 0.6828\n",
      "Epoch 42: Learning Rate: 0.000942, Weight Decay: 0.0001\n"
     ]
    },
    {
     "name": "stderr",
     "output_type": "stream",
     "text": [
      "                                                      \r"
     ]
    },
    {
     "name": "stdout",
     "output_type": "stream",
     "text": [
      "Epoch 43: Train Loss: 0.8025, Train Accuracy: 0.9534, Validation Loss: 1.5670, Validation Accuracy: 0.6958\n",
      "Epoch 43: Learning Rate: 0.000941, Weight Decay: 0.0001\n"
     ]
    },
    {
     "name": "stderr",
     "output_type": "stream",
     "text": [
      "                                                      "
     ]
    },
    {
     "name": "stdout",
     "output_type": "stream",
     "text": [
      "Epoch 44: Train Loss: 0.8001, Train Accuracy: 0.9542, Validation Loss: 1.5439, Validation Accuracy: 0.6820\n",
      "Epoch 44: Learning Rate: 0.000942, Weight Decay: 0.0001\n"
     ]
    },
    {
     "name": "stderr",
     "output_type": "stream",
     "text": [
      "                                                      "
     ]
    },
    {
     "name": "stdout",
     "output_type": "stream",
     "text": [
      "Epoch 45: Train Loss: 0.7961, Train Accuracy: 0.9556, Validation Loss: 1.5785, Validation Accuracy: 0.6877\n",
      "Epoch 45: Learning Rate: 0.000940, Weight Decay: 0.0001\n"
     ]
    },
    {
     "name": "stderr",
     "output_type": "stream",
     "text": [
      "                                                      "
     ]
    },
    {
     "name": "stdout",
     "output_type": "stream",
     "text": [
      "Epoch 46: Train Loss: 0.7843, Train Accuracy: 0.9605, Validation Loss: 1.5795, Validation Accuracy: 0.6699\n",
      "Epoch 46: Learning Rate: 0.000940, Weight Decay: 0.0001\n"
     ]
    },
    {
     "name": "stderr",
     "output_type": "stream",
     "text": [
      "                                                      "
     ]
    },
    {
     "name": "stdout",
     "output_type": "stream",
     "text": [
      "Epoch 47: Train Loss: 0.7776, Train Accuracy: 0.9633, Validation Loss: 1.5583, Validation Accuracy: 0.6812\n",
      "Epoch 47: Learning Rate: 0.000941, Weight Decay: 0.0001\n"
     ]
    },
    {
     "name": "stderr",
     "output_type": "stream",
     "text": [
      "                                                      "
     ]
    },
    {
     "name": "stdout",
     "output_type": "stream",
     "text": [
      "Epoch 48: Train Loss: 0.7752, Train Accuracy: 0.9615, Validation Loss: 1.5720, Validation Accuracy: 0.6845\n",
      "Epoch 48: Learning Rate: 0.000940, Weight Decay: 0.0001\n"
     ]
    },
    {
     "name": "stderr",
     "output_type": "stream",
     "text": [
      "                                                      "
     ]
    },
    {
     "name": "stdout",
     "output_type": "stream",
     "text": [
      "Epoch 49: Train Loss: 0.7685, Train Accuracy: 0.9639, Validation Loss: 1.5854, Validation Accuracy: 0.6804\n",
      "Epoch 49: Learning Rate: 0.000939, Weight Decay: 0.0001\n"
     ]
    },
    {
     "name": "stderr",
     "output_type": "stream",
     "text": [
      "                                                      "
     ]
    },
    {
     "name": "stdout",
     "output_type": "stream",
     "text": [
      "Epoch 50: Train Loss: 0.7648, Train Accuracy: 0.9643, Validation Loss: 1.5568, Validation Accuracy: 0.6934\n",
      "Epoch 50: Learning Rate: 0.000941, Weight Decay: 0.0001\n"
     ]
    },
    {
     "name": "stderr",
     "output_type": "stream",
     "text": [
      "\r"
     ]
    },
    {
     "data": {
      "text/plain": [
       "State:\n",
       "\titeration: 17300\n",
       "\tepoch: 50\n",
       "\tepoch_length: 346\n",
       "\tmax_epochs: 50\n",
       "\toutput: <class 'dict'>\n",
       "\tbatch: <class 'list'>\n",
       "\tmetrics: <class 'dict'>\n",
       "\tdataloader: <class 'torch.utils.data.dataloader.DataLoader'>\n",
       "\tseed: <class 'NoneType'>\n",
       "\ttimes: <class 'dict'>"
      ]
     },
     "execution_count": 17,
     "metadata": {},
     "output_type": "execute_result"
    }
   ],
   "source": [
    "# weight_decay = \n",
    "trainer.run(train_loader, max_epochs=50)"
   ]
  },
  {
   "cell_type": "code",
   "execution_count": 19,
   "metadata": {},
   "outputs": [
    {
     "name": "stderr",
     "output_type": "stream",
     "text": [
      "                                                     "
     ]
    },
    {
     "name": "stdout",
     "output_type": "stream",
     "text": [
      "Epoch 1: Train Loss: 0.7504, Train Accuracy: 0.9674, Validation Loss: 1.5432, Validation Accuracy: 0.6853\n",
      "Epoch 1: Learning Rate: 0.000942, Weight Decay: 0.0001\n"
     ]
    },
    {
     "name": "stderr",
     "output_type": "stream",
     "text": [
      "                                                     "
     ]
    },
    {
     "name": "stdout",
     "output_type": "stream",
     "text": [
      "Epoch 2: Train Loss: 0.7515, Train Accuracy: 0.9657, Validation Loss: 1.5350, Validation Accuracy: 0.6837\n",
      "Epoch 2: Learning Rate: 0.000943, Weight Decay: 0.0001\n"
     ]
    },
    {
     "name": "stderr",
     "output_type": "stream",
     "text": [
      "                                                     "
     ]
    },
    {
     "name": "stdout",
     "output_type": "stream",
     "text": [
      "Epoch 3: Train Loss: 0.7380, Train Accuracy: 0.9713, Validation Loss: 1.5524, Validation Accuracy: 0.6893\n",
      "Epoch 3: Learning Rate: 0.000942, Weight Decay: 0.0001\n"
     ]
    },
    {
     "name": "stderr",
     "output_type": "stream",
     "text": [
      "                                                     "
     ]
    },
    {
     "name": "stdout",
     "output_type": "stream",
     "text": [
      "Epoch 4: Train Loss: 0.7396, Train Accuracy: 0.9692, Validation Loss: 1.5725, Validation Accuracy: 0.6804\n",
      "Epoch 4: Learning Rate: 0.000940, Weight Decay: 0.0001\n"
     ]
    },
    {
     "name": "stderr",
     "output_type": "stream",
     "text": [
      "                                                     "
     ]
    },
    {
     "name": "stdout",
     "output_type": "stream",
     "text": [
      "Epoch 5: Train Loss: 0.7355, Train Accuracy: 0.9706, Validation Loss: 1.5433, Validation Accuracy: 0.6861\n",
      "Epoch 5: Learning Rate: 0.000942, Weight Decay: 0.0001\n"
     ]
    },
    {
     "name": "stderr",
     "output_type": "stream",
     "text": [
      "                                                     "
     ]
    },
    {
     "name": "stdout",
     "output_type": "stream",
     "text": [
      "Epoch 6: Train Loss: 0.7410, Train Accuracy: 0.9680, Validation Loss: 1.5536, Validation Accuracy: 0.6772\n",
      "Epoch 6: Learning Rate: 0.000942, Weight Decay: 0.0001\n"
     ]
    },
    {
     "name": "stderr",
     "output_type": "stream",
     "text": [
      "                                                     "
     ]
    },
    {
     "name": "stdout",
     "output_type": "stream",
     "text": [
      "Epoch 7: Train Loss: 0.7273, Train Accuracy: 0.9732, Validation Loss: 1.5532, Validation Accuracy: 0.6804\n",
      "Epoch 7: Learning Rate: 0.000942, Weight Decay: 0.0001\n"
     ]
    },
    {
     "name": "stderr",
     "output_type": "stream",
     "text": [
      "                                                     "
     ]
    },
    {
     "name": "stdout",
     "output_type": "stream",
     "text": [
      "Epoch 8: Train Loss: 0.7244, Train Accuracy: 0.9741, Validation Loss: 1.5424, Validation Accuracy: 0.6804\n",
      "Epoch 8: Learning Rate: 0.000942, Weight Decay: 0.0001\n"
     ]
    },
    {
     "name": "stderr",
     "output_type": "stream",
     "text": [
      "2024-12-11 06:43:47,893 ignite.handlers.early_stopping.EarlyStopping INFO: EarlyStopping: Stop training\n"
     ]
    },
    {
     "name": "stdout",
     "output_type": "stream",
     "text": [
      "Epoch 9: Train Loss: 0.7279, Train Accuracy: 0.9727, Validation Loss: 1.5696, Validation Accuracy: 0.6926\n",
      "Epoch 9: Learning Rate: 0.000940, Weight Decay: 0.0001\n"
     ]
    },
    {
     "data": {
      "text/plain": [
       "State:\n",
       "\titeration: 3114\n",
       "\tepoch: 9\n",
       "\tepoch_length: 346\n",
       "\tmax_epochs: 50\n",
       "\toutput: <class 'dict'>\n",
       "\tbatch: <class 'list'>\n",
       "\tmetrics: <class 'dict'>\n",
       "\tdataloader: <class 'torch.utils.data.dataloader.DataLoader'>\n",
       "\tseed: <class 'NoneType'>\n",
       "\ttimes: <class 'dict'>"
      ]
     },
     "execution_count": 19,
     "metadata": {},
     "output_type": "execute_result"
    }
   ],
   "source": [
    "# weight_decay = 1e-4\n",
    "trainer.run(train_loader, max_epochs=50)\n",
    "\n",
    "# Полный output обучения можно посмотреть в traning.log"
   ]
  },
  {
   "cell_type": "code",
   "execution_count": 26,
   "metadata": {},
   "outputs": [
    {
     "name": "stderr",
     "output_type": "stream",
     "text": [
      "2024-12-11 01:20:49,081 ignite.handlers.early_stopping.EarlyStopping INFO: EarlyStopping: Stop training\n"
     ]
    },
    {
     "name": "stdout",
     "output_type": "stream",
     "text": [
      "Epoch 24: Train Loss: 0.0935, Train Accuracy: 0.9746, Validation Loss: 1.4203, Validation Accuracy: 0.6764\n",
      "Epoch 24: Learning Rate: 0.000016, Weight Decay: 0.0001\n"
     ]
    },
    {
     "data": {
      "text/plain": [
       "State:\n",
       "\titeration: 8304\n",
       "\tepoch: 24\n",
       "\tepoch_length: 346\n",
       "\tmax_epochs: 50\n",
       "\toutput: <class 'dict'>\n",
       "\tbatch: <class 'list'>\n",
       "\tmetrics: <class 'dict'>\n",
       "\tdataloader: <class 'torch.utils.data.dataloader.DataLoader'>\n",
       "\tseed: <class 'NoneType'>\n",
       "\ttimes: <class 'dict'>"
      ]
     },
     "execution_count": 26,
     "metadata": {},
     "output_type": "execute_result"
    }
   ],
   "source": [
    "trainer.run(train_loader, max_epochs=50)"
   ]
  },
  {
   "cell_type": "markdown",
   "metadata": {},
   "source": [
    "# Просмотр результатов обучения"
   ]
  },
  {
   "cell_type": "code",
   "execution_count": 25,
   "metadata": {},
   "outputs": [
    {
     "name": "stderr",
     "output_type": "stream",
     "text": [
      "Epoch [26/50]: [19/277]   7%|▋          [00:03<00:58]"
     ]
    },
    {
     "ename": "KeyboardInterrupt",
     "evalue": "",
     "output_type": "error",
     "traceback": [
      "\u001b[0;31m---------------------------------------------------------------------------\u001b[0m",
      "\u001b[0;31mKeyboardInterrupt\u001b[0m                         Traceback (most recent call last)",
      "Cell \u001b[0;32mIn[25], line 1\u001b[0m\n\u001b[0;32m----> 1\u001b[0m \u001b[43mtrainer\u001b[49m\u001b[38;5;241;43m.\u001b[39;49m\u001b[43mrun\u001b[49m\u001b[43m(\u001b[49m\u001b[43mtrain_loader\u001b[49m\u001b[43m,\u001b[49m\u001b[43m \u001b[49m\u001b[43mmax_epochs\u001b[49m\u001b[38;5;241;43m=\u001b[39;49m\u001b[38;5;241;43m50\u001b[39;49m\u001b[43m)\u001b[49m\n",
      "File \u001b[0;32m~/anaconda3/envs/ttorchenv/lib/python3.10/site-packages/ignite/engine/engine.py:889\u001b[0m, in \u001b[0;36mEngine.run\u001b[0;34m(self, data, max_epochs, epoch_length)\u001b[0m\n\u001b[1;32m    886\u001b[0m     \u001b[38;5;28mself\u001b[39m\u001b[38;5;241m.\u001b[39mstate\u001b[38;5;241m.\u001b[39mdataloader \u001b[38;5;241m=\u001b[39m data\n\u001b[1;32m    888\u001b[0m \u001b[38;5;28;01mif\u001b[39;00m \u001b[38;5;28mself\u001b[39m\u001b[38;5;241m.\u001b[39minterrupt_resume_enabled:\n\u001b[0;32m--> 889\u001b[0m     \u001b[38;5;28;01mreturn\u001b[39;00m \u001b[38;5;28;43mself\u001b[39;49m\u001b[38;5;241;43m.\u001b[39;49m\u001b[43m_internal_run\u001b[49m\u001b[43m(\u001b[49m\u001b[43m)\u001b[49m\n\u001b[1;32m    890\u001b[0m \u001b[38;5;28;01melse\u001b[39;00m:\n\u001b[1;32m    891\u001b[0m     \u001b[38;5;28;01mreturn\u001b[39;00m \u001b[38;5;28mself\u001b[39m\u001b[38;5;241m.\u001b[39m_internal_run_legacy()\n",
      "File \u001b[0;32m~/anaconda3/envs/ttorchenv/lib/python3.10/site-packages/ignite/engine/engine.py:932\u001b[0m, in \u001b[0;36mEngine._internal_run\u001b[0;34m(self)\u001b[0m\n\u001b[1;32m    930\u001b[0m     \u001b[38;5;28mself\u001b[39m\u001b[38;5;241m.\u001b[39m_internal_run_generator \u001b[38;5;241m=\u001b[39m \u001b[38;5;28mself\u001b[39m\u001b[38;5;241m.\u001b[39m_internal_run_as_gen()\n\u001b[1;32m    931\u001b[0m \u001b[38;5;28;01mtry\u001b[39;00m:\n\u001b[0;32m--> 932\u001b[0m     \u001b[38;5;28;01mreturn\u001b[39;00m \u001b[38;5;28;43mnext\u001b[39;49m\u001b[43m(\u001b[49m\u001b[38;5;28;43mself\u001b[39;49m\u001b[38;5;241;43m.\u001b[39;49m\u001b[43m_internal_run_generator\u001b[49m\u001b[43m)\u001b[49m\n\u001b[1;32m    933\u001b[0m \u001b[38;5;28;01mexcept\u001b[39;00m \u001b[38;5;167;01mStopIteration\u001b[39;00m \u001b[38;5;28;01mas\u001b[39;00m out:\n\u001b[1;32m    934\u001b[0m     \u001b[38;5;28mself\u001b[39m\u001b[38;5;241m.\u001b[39m_internal_run_generator \u001b[38;5;241m=\u001b[39m \u001b[38;5;28;01mNone\u001b[39;00m\n",
      "File \u001b[0;32m~/anaconda3/envs/ttorchenv/lib/python3.10/site-packages/ignite/engine/engine.py:990\u001b[0m, in \u001b[0;36mEngine._internal_run_as_gen\u001b[0;34m(self)\u001b[0m\n\u001b[1;32m    988\u001b[0m     \u001b[38;5;28mself\u001b[39m\u001b[38;5;241m.\u001b[39m_dataloader_iter \u001b[38;5;241m=\u001b[39m \u001b[38;5;28;01mNone\u001b[39;00m\n\u001b[1;32m    989\u001b[0m     \u001b[38;5;28mself\u001b[39m\u001b[38;5;241m.\u001b[39mlogger\u001b[38;5;241m.\u001b[39merror(\u001b[38;5;124mf\u001b[39m\u001b[38;5;124m\"\u001b[39m\u001b[38;5;124mEngine run is terminating due to exception: \u001b[39m\u001b[38;5;132;01m{\u001b[39;00me\u001b[38;5;132;01m}\u001b[39;00m\u001b[38;5;124m\"\u001b[39m)\n\u001b[0;32m--> 990\u001b[0m     \u001b[38;5;28;43mself\u001b[39;49m\u001b[38;5;241;43m.\u001b[39;49m\u001b[43m_handle_exception\u001b[49m\u001b[43m(\u001b[49m\u001b[43me\u001b[49m\u001b[43m)\u001b[49m\n\u001b[1;32m    992\u001b[0m \u001b[38;5;28mself\u001b[39m\u001b[38;5;241m.\u001b[39m_dataloader_iter \u001b[38;5;241m=\u001b[39m \u001b[38;5;28;01mNone\u001b[39;00m\n\u001b[1;32m    993\u001b[0m \u001b[38;5;28;01mreturn\u001b[39;00m \u001b[38;5;28mself\u001b[39m\u001b[38;5;241m.\u001b[39mstate\n",
      "File \u001b[0;32m~/anaconda3/envs/ttorchenv/lib/python3.10/site-packages/ignite/engine/engine.py:644\u001b[0m, in \u001b[0;36mEngine._handle_exception\u001b[0;34m(self, e)\u001b[0m\n\u001b[1;32m    642\u001b[0m     \u001b[38;5;28mself\u001b[39m\u001b[38;5;241m.\u001b[39m_fire_event(Events\u001b[38;5;241m.\u001b[39mEXCEPTION_RAISED, e)\n\u001b[1;32m    643\u001b[0m \u001b[38;5;28;01melse\u001b[39;00m:\n\u001b[0;32m--> 644\u001b[0m     \u001b[38;5;28;01mraise\u001b[39;00m e\n",
      "File \u001b[0;32m~/anaconda3/envs/ttorchenv/lib/python3.10/site-packages/ignite/engine/engine.py:956\u001b[0m, in \u001b[0;36mEngine._internal_run_as_gen\u001b[0;34m(self)\u001b[0m\n\u001b[1;32m    953\u001b[0m \u001b[38;5;28;01mif\u001b[39;00m \u001b[38;5;28mself\u001b[39m\u001b[38;5;241m.\u001b[39m_dataloader_iter \u001b[38;5;129;01mis\u001b[39;00m \u001b[38;5;28;01mNone\u001b[39;00m:\n\u001b[1;32m    954\u001b[0m     \u001b[38;5;28mself\u001b[39m\u001b[38;5;241m.\u001b[39m_setup_engine()\n\u001b[0;32m--> 956\u001b[0m epoch_time_taken \u001b[38;5;241m+\u001b[39m\u001b[38;5;241m=\u001b[39m \u001b[38;5;28;01myield from\u001b[39;00m \u001b[38;5;28mself\u001b[39m\u001b[38;5;241m.\u001b[39m_run_once_on_dataset_as_gen()\n\u001b[1;32m    958\u001b[0m \u001b[38;5;66;03m# time is available for handlers but must be updated after fire\u001b[39;00m\n\u001b[1;32m    959\u001b[0m \u001b[38;5;28mself\u001b[39m\u001b[38;5;241m.\u001b[39mstate\u001b[38;5;241m.\u001b[39mtimes[Events\u001b[38;5;241m.\u001b[39mEPOCH_COMPLETED\u001b[38;5;241m.\u001b[39mname] \u001b[38;5;241m=\u001b[39m epoch_time_taken\n",
      "File \u001b[0;32m~/anaconda3/envs/ttorchenv/lib/python3.10/site-packages/ignite/engine/engine.py:1077\u001b[0m, in \u001b[0;36mEngine._run_once_on_dataset_as_gen\u001b[0;34m(self)\u001b[0m\n\u001b[1;32m   1074\u001b[0m \u001b[38;5;28mself\u001b[39m\u001b[38;5;241m.\u001b[39m_fire_event(Events\u001b[38;5;241m.\u001b[39mITERATION_STARTED)\n\u001b[1;32m   1075\u001b[0m \u001b[38;5;28;01myield from\u001b[39;00m \u001b[38;5;28mself\u001b[39m\u001b[38;5;241m.\u001b[39m_maybe_terminate_or_interrupt()\n\u001b[0;32m-> 1077\u001b[0m \u001b[38;5;28mself\u001b[39m\u001b[38;5;241m.\u001b[39mstate\u001b[38;5;241m.\u001b[39moutput \u001b[38;5;241m=\u001b[39m \u001b[38;5;28;43mself\u001b[39;49m\u001b[38;5;241;43m.\u001b[39;49m\u001b[43m_process_function\u001b[49m\u001b[43m(\u001b[49m\u001b[38;5;28;43mself\u001b[39;49m\u001b[43m,\u001b[49m\u001b[43m \u001b[49m\u001b[38;5;28;43mself\u001b[39;49m\u001b[38;5;241;43m.\u001b[39;49m\u001b[43mstate\u001b[49m\u001b[38;5;241;43m.\u001b[39;49m\u001b[43mbatch\u001b[49m\u001b[43m)\u001b[49m\n\u001b[1;32m   1078\u001b[0m \u001b[38;5;28mself\u001b[39m\u001b[38;5;241m.\u001b[39m_fire_event(Events\u001b[38;5;241m.\u001b[39mITERATION_COMPLETED)\n\u001b[1;32m   1079\u001b[0m \u001b[38;5;28;01myield from\u001b[39;00m \u001b[38;5;28mself\u001b[39m\u001b[38;5;241m.\u001b[39m_maybe_terminate_or_interrupt()\n",
      "Cell \u001b[0;32mIn[23], line 6\u001b[0m, in \u001b[0;36mtrain_step\u001b[0;34m(engine, batch)\u001b[0m\n\u001b[1;32m      4\u001b[0m model\u001b[38;5;241m.\u001b[39mtrain()  \u001b[38;5;66;03m# Переводим модель в режим обучения\u001b[39;00m\n\u001b[1;32m      5\u001b[0m images, labels \u001b[38;5;241m=\u001b[39m batch\n\u001b[0;32m----> 6\u001b[0m images, labels \u001b[38;5;241m=\u001b[39m \u001b[43mimages\u001b[49m\u001b[38;5;241;43m.\u001b[39;49m\u001b[43mto\u001b[49m\u001b[43m(\u001b[49m\u001b[43mdevice\u001b[49m\u001b[43m)\u001b[49m, labels\u001b[38;5;241m.\u001b[39mto(device)  \u001b[38;5;66;03m# Перенос данных на устройство (CPU/GPU)\u001b[39;00m\n\u001b[1;32m      7\u001b[0m optimizer\u001b[38;5;241m.\u001b[39mzero_grad()  \u001b[38;5;66;03m# Обнуляем градиенты\u001b[39;00m\n\u001b[1;32m      8\u001b[0m outputs \u001b[38;5;241m=\u001b[39m model(images)  \u001b[38;5;66;03m# Прямой проход (forward pass)\u001b[39;00m\n",
      "\u001b[0;31mKeyboardInterrupt\u001b[0m: "
     ]
    }
   ],
   "source": [
    "trainer.run(train_loader, max_epochs=50)"
   ]
  },
  {
   "cell_type": "markdown",
   "metadata": {},
   "source": [
    "Перед просмотром результатов обучения, убедитесь, что запускали ячеки из папок 'Подготовка тренировочного датасета' и 'Архитектуры'"
   ]
  },
  {
   "cell_type": "code",
   "execution_count": 26,
   "metadata": {},
   "outputs": [],
   "source": [
    "import pandas as pd\n",
    "from torch.optim import Adam\n",
    "from ignite.contrib.handlers import ProgressBar\n",
    "from ignite.engine import Engine"
   ]
  },
  {
   "cell_type": "code",
   "execution_count": null,
   "metadata": {},
   "outputs": [],
   "source": [
    "# train_loader = DataLoader(train_dataset, batch_size=64, shuffle=True, num_workers=0)\n",
    "# val_loader = DataLoader(val_dataset, batch_size=64, shuffle=False, num_workers=3)"
   ]
  },
  {
   "cell_type": "code",
   "execution_count": 18,
   "metadata": {},
   "outputs": [
    {
     "data": {
      "text/plain": [
       "<Axes: >"
      ]
     },
     "execution_count": 18,
     "metadata": {},
     "output_type": "execute_result"
    },
    {
     "data": {
      "text/plain": [
       "<Figure size 640x480 with 0 Axes>"
      ]
     },
     "metadata": {},
     "output_type": "display_data"
    },
    {
     "data": {
      "image/png": "[encoded data removed]",
      "text/plain": [
       "<Figure size 640x480 with 1 Axes>"
      ]
     },
     "metadata": {},
     "output_type": "display_data"
    }
   ],
   "source": [
    "metrics_path = \"./train_info/logs_11_12_7_1_custom_resnet18_dp=05/metrics.csv\"\n",
    "\n",
    "metrics = pd.read_csv(metrics_path)\n",
    "\n",
    "plt.figure()\n",
    "metrics[['Train Loss', 'Validation Loss', 'Validation Accuracy']].plot()"
   ]
  },
  {
   "cell_type": "code",
   "execution_count": 22,
   "metadata": {},
   "outputs": [],
   "source": [
    "from ignite.handlers import Checkpoint\n",
    "import torch"
   ]
  },
  {
   "cell_type": "code",
   "execution_count": 23,
   "metadata": {},
   "outputs": [
    {
     "name": "stdout",
     "output_type": "stream",
     "text": [
      "CUDA available: True\n",
      "CUDA device name: NVIDIA GeForce RTX 4070 SUPER\n",
      "PyTorch CUDA version: 12.4\n",
      "Tensor device: cuda:0\n"
     ]
    }
   ],
   "source": [
    "print(\"CUDA available:\", torch.cuda.is_available())\n",
    "print(\"CUDA device name:\", torch.cuda.get_device_name(0))\n",
    "print(\"PyTorch CUDA version:\", torch.version.cuda)\n",
    "device = torch.device(\"cuda\" if torch.cuda.is_available() else \"cpu\")\n",
    "x = torch.rand(3, 3).to(device)\n",
    "print(\"Tensor device:\", x.device)"
   ]
  },
  {
   "cell_type": "code",
   "execution_count": null,
   "metadata": {},
   "outputs": [],
   "source": [
    "model = AlexNet(20).to(device)\n",
    "criterion = nn.CrossEntropyLoss()\n",
    "optimizer = Adam(model.parameters(), lr=0.001)"
   ]
  },
  {
   "cell_type": "code",
   "execution_count": 25,
   "metadata": {},
   "outputs": [
    {
     "name": "stderr",
     "output_type": "stream",
     "text": [
      "C:\\Users\\Vlad\\AppData\\Local\\Temp\\ipykernel_8468\\910594076.py:3: FutureWarning: You are using `torch.load` with `weights_only=False` (the current default value), which uses the default pickle module implicitly. It is possible to construct malicious pickle data which will execute arbitrary code during unpickling (See https://github.com/pytorch/pytorch/blob/main/SECURITY.md#untrusted-models for more details). In a future release, the default value for `weights_only` will be flipped to `True`. This limits the functions that could be executed during unpickling. Arbitrary objects will no longer be allowed to be loaded via this mode unless they are explicitly allowlisted by the user via `torch.serialization.add_safe_globals`. We recommend you start setting `weights_only=True` for any use case where you don't have full control of the loaded file. Please open an issue on GitHub for any issues related to this experimental feature.\n",
      "  checkpoint = torch.load(checkpoint_path)\n"
     ]
    },
    {
     "data": {
      "text/plain": [
       "95.0"
      ]
     },
     "execution_count": 25,
     "metadata": {},
     "output_type": "execute_result"
    }
   ],
   "source": [
    "checkpoint_path = \"./train_info/checkpoints_5_12_20_59/best_checkpoint_95_val_accuracy=0.5004.pt\"\n",
    "\n",
    "checkpoint = torch.load(checkpoint_path)\n",
    "\n",
    "model.load_state_dict(checkpoint[\"model\"])\n",
    "optimizer.load_state_dict(checkpoint[\"optimizer\"])\n",
    "\n",
    "model.eval()\n",
    "\n",
    "start_epoch = checkpoint[\"trainer\"]['iteration'] / checkpoint[\"trainer\"]['epoch_length']\n",
    "start_epoch"
   ]
  },
  {
   "cell_type": "code",
   "execution_count": 26,
   "metadata": {},
   "outputs": [
    {
     "data": {
      "text/plain": [
       "OrderedDict([('epoch_length', 174), ('max_epochs', 100), ('iteration', 16530)])"
      ]
     },
     "execution_count": 26,
     "metadata": {},
     "output_type": "execute_result"
    }
   ],
   "source": [
    "checkpoint['trainer']"
   ]
  },
  {
   "cell_type": "code",
   "execution_count": 27,
   "metadata": {},
   "outputs": [
    {
     "name": "stderr",
     "output_type": "stream",
     "text": [
      "Clipping input data to the valid range for imshow with RGB data ([0..1] for floats or [0..255] for integers). Got range [-2.0665298..2.64].\n"
     ]
    },
    {
     "data": {
      "image/png": "[encoded data removed]",
      "text/plain": [
       "<Figure size 200x200 with 1 Axes>"
      ]
     },
     "metadata": {},
     "output_type": "display_data"
    },
    {
     "name": "stdout",
     "output_type": "stream",
     "text": [
      "occupation\n"
     ]
    }
   ],
   "source": [
    "dataiter = iter(train_loader)\n",
    "images, labels = next(dataiter)\n",
    "\n",
    "show_images_row([images[0]], [label.item() for label in labels[:5]], size=(2, 2))\n",
    "\n",
    "probabilities = torch.softmax(model(images[0].unsqueeze(0).to(device)), dim=1)\n",
    "predicted_class = torch.argmax(probabilities, dim=1).item()\n",
    "\n",
    "print(id_to_category[predicted_class])"
   ]
  },
  {
   "cell_type": "code",
   "execution_count": 30,
   "metadata": {},
   "outputs": [
    {
     "name": "stderr",
     "output_type": "stream",
     "text": [
      "Clipping input data to the valid range for imshow with RGB data ([0..1] for floats or [0..255] for integers). Got range [-2.117904..2.64].\n"
     ]
    },
    {
     "data": {
      "image/png": "[encoded data removed]",
      "text/plain": [
       "<Figure size 200x200 with 1 Axes>"
      ]
     },
     "metadata": {},
     "output_type": "display_data"
    },
    {
     "name": "stdout",
     "output_type": "stream",
     "text": [
      "sports\n"
     ]
    }
   ],
   "source": [
    "dataiter = iter(DataLoader(val_dataset, batch_size=64, shuffle=True, num_workers=0))\n",
    "images, labels = next(dataiter)\n",
    "\n",
    "show_images_row([images[0]], [label.item() for label in labels[:5]], size=(2, 2))\n",
    "\n",
    "probabilities = torch.softmax(model(images[0].unsqueeze(0).to(device)), dim=1)\n",
    "predicted_class = torch.argmax(probabilities, dim=1).item()\n",
    "\n",
    "print(id_to_category[predicted_class])"
   ]
  },
  {
   "cell_type": "code",
   "execution_count": 29,
   "metadata": {},
   "outputs": [
    {
     "name": "stderr",
     "output_type": "stream",
     "text": [
      "c:\\Users\\Vlad\\.conda\\envs\\DL_ENV\\lib\\site-packages\\ignite\\handlers\\tqdm_logger.py:127: TqdmWarning: IProgress not found. Please update jupyter and ipywidgets. See https://ipywidgets.readthedocs.io/en/stable/user_install.html\n",
      "  from tqdm.autonotebook import tqdm\n",
      "Iteration: [20/20] 100%|██████████ [00:16<00:00]"
     ]
    },
    {
     "name": "stdout",
     "output_type": "stream",
     "text": [
      "Validation Accuracy: 0.5004\n",
      "Validation Precision: 0.3904\n",
      "Validation Recall: 0.3489\n",
      "Validation F1 Score: 0.3578\n"
     ]
    },
    {
     "name": "stderr",
     "output_type": "stream",
     "text": [
      "\n"
     ]
    }
   ],
   "source": [
    "from ignite.metrics import Accuracy\n",
    "from ignite.metrics import Precision, Recall, Fbeta, Accuracy\n",
    "\n",
    "# Функция инференса для вычисления метрик\n",
    "def inference_step(engine, batch):\n",
    "    model.eval()\n",
    "    with torch.no_grad():\n",
    "        images, labels = batch\n",
    "        images, labels = images.to(device), labels.to(device)\n",
    "        outputs = model(images)\n",
    "        return outputs, labels\n",
    "\n",
    "# Создаём Engine для инференса\n",
    "evaluator = Engine(inference_step)\n",
    "\n",
    "# Добавляем метрику Accuracy\n",
    "accuracy = Accuracy()\n",
    "precision = Precision(average=True)\n",
    "recall = Recall(average=True)\n",
    "f1 = Fbeta(beta=1.0, average=True)\n",
    "\n",
    "accuracy.attach(evaluator, \"accuracy\")\n",
    "precision.attach(evaluator, \"precision\")\n",
    "recall.attach(evaluator, \"recall\")\n",
    "f1.attach(evaluator, \"f1\")\n",
    "\n",
    "pbar = ProgressBar(persist=True)\n",
    "pbar.attach(evaluator)\n",
    "\n",
    "# Оценка на валидационном датасете\n",
    "state = evaluator.run(val_loader)\n",
    "\n",
    "print(f\"Validation Accuracy: {state.metrics['accuracy']:.4f}\")\n",
    "print(f\"Validation Precision: {state.metrics['precision']:.4f}\")\n",
    "print(f\"Validation Recall: {state.metrics['recall']:.4f}\")\n",
    "print(f\"Validation F1 Score: {state.metrics['f1']:.4f}\")"
   ]
  },
  {
   "cell_type": "code",
   "execution_count": null,
   "metadata": {},
   "outputs": [],
   "source": []
  }
 ],
 "metadata": {
  "kernelspec": {
   "display_name": "ttorchenv",
   "language": "python",
   "name": "python3"
  },
  "language_info": {
   "codemirror_mode": {
    "name": "ipython",
    "version": 3
   },
   "file_extension": ".py",
   "mimetype": "text/x-python",
   "name": "python",
   "nbconvert_exporter": "python",
   "pygments_lexer": "ipython3",
   "version": "3.10.13"
  }
 },
 "nbformat": 4,
 "nbformat_minor": 2
}
