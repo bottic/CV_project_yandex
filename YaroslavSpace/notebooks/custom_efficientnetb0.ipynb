{
 "cells": [
  {
   "cell_type": "code",
   "execution_count": 1,
   "metadata": {
    "execution": {
     "iopub.execute_input": "2024-12-14T15:22:22.843371Z",
     "iopub.status.busy": "2024-12-14T15:22:22.842665Z",
     "iopub.status.idle": "2024-12-14T15:22:32.737540Z",
     "shell.execute_reply": "2024-12-14T15:22:32.736450Z",
     "shell.execute_reply.started": "2024-12-14T15:22:22.843340Z"
    },
    "trusted": true
   },
   "outputs": [
    {
     "name": "stdout",
     "output_type": "stream",
     "text": [
      "Collecting torchsummary\n",
      "  Downloading torchsummary-1.5.1-py3-none-any.whl.metadata (296 bytes)\n",
      "Downloading torchsummary-1.5.1-py3-none-any.whl (2.8 kB)\n",
      "Installing collected packages: torchsummary\n",
      "Successfully installed torchsummary-1.5.1\n",
      "Note: you may need to restart the kernel to use updated packages.\n"
     ]
    }
   ],
   "source": [
    "pip install torchsummary"
   ]
  },
  {
   "cell_type": "code",
   "execution_count": 2,
   "metadata": {
    "execution": {
     "iopub.execute_input": "2024-12-14T15:22:32.739606Z",
     "iopub.status.busy": "2024-12-14T15:22:32.739302Z",
     "iopub.status.idle": "2024-12-14T15:22:37.545596Z",
     "shell.execute_reply": "2024-12-14T15:22:37.544643Z",
     "shell.execute_reply.started": "2024-12-14T15:22:32.739576Z"
    },
    "trusted": true
   },
   "outputs": [],
   "source": [
    "import numpy as np\n",
    "import os\n",
    "import pandas as pd\n",
    "import matplotlib.pyplot as plt\n",
    "from PIL import Image\n",
    "import shutil\n",
    "from tqdm import tqdm \n",
    "import random\n",
    "\n",
    "import torch\n",
    "import torch.nn as nn\n",
    "from torch.utils.data import Dataset, DataLoader\n",
    "from torch.utils.data import random_split\n",
    "from sklearn.model_selection import train_test_split\n",
    "from torchvision import transforms\n",
    "from torchsummary import summary\n",
    "import torch\n",
    "import torch.nn as nn\n",
    "from torchvision.models import efficientnet_b0"
   ]
  },
  {
   "cell_type": "markdown",
   "metadata": {},
   "source": [
    "# Подготовка тренировочного датасета"
   ]
  },
  {
   "cell_type": "code",
   "execution_count": 3,
   "metadata": {
    "execution": {
     "iopub.execute_input": "2024-12-14T15:22:37.547174Z",
     "iopub.status.busy": "2024-12-14T15:22:37.546741Z",
     "iopub.status.idle": "2024-12-14T15:22:37.781968Z",
     "shell.execute_reply": "2024-12-14T15:22:37.781092Z",
     "shell.execute_reply.started": "2024-12-14T15:22:37.547145Z"
    },
    "trusted": true
   },
   "outputs": [
    {
     "name": "stdout",
     "output_type": "stream",
     "text": [
      "CUDA available: True\n",
      "CUDA device name: Tesla P100-PCIE-16GB\n",
      "PyTorch CUDA version: 12.3\n",
      "Tensor device: cuda:0\n"
     ]
    }
   ],
   "source": [
    "print(\"CUDA available:\", torch.cuda.is_available())\n",
    "print(\"CUDA device name:\", torch.cuda.get_device_name(0))\n",
    "print(\"PyTorch CUDA version:\", torch.version.cuda)\n",
    "device = torch.device(\"cuda\" if torch.cuda.is_available() else \"cpu\")\n",
    "x = torch.rand(3, 3).to(device)\n",
    "print(\"Tensor device:\", x.device)"
   ]
  },
  {
   "cell_type": "code",
   "execution_count": 4,
   "metadata": {
    "execution": {
     "iopub.execute_input": "2024-12-14T15:22:37.783851Z",
     "iopub.status.busy": "2024-12-14T15:22:37.783573Z",
     "iopub.status.idle": "2024-12-14T15:22:37.790499Z",
     "shell.execute_reply": "2024-12-14T15:22:37.789594Z",
     "shell.execute_reply.started": "2024-12-14T15:22:37.783825Z"
    },
    "trusted": true
   },
   "outputs": [
    {
     "data": {
      "text/plain": [
       "device(type='cuda')"
      ]
     },
     "execution_count": 4,
     "metadata": {},
     "output_type": "execute_result"
    }
   ],
   "source": [
    "device"
   ]
  },
  {
   "cell_type": "code",
   "execution_count": 5,
   "metadata": {
    "execution": {
     "iopub.execute_input": "2024-12-14T15:22:37.791665Z",
     "iopub.status.busy": "2024-12-14T15:22:37.791389Z",
     "iopub.status.idle": "2024-12-14T15:22:37.825531Z",
     "shell.execute_reply": "2024-12-14T15:22:37.824714Z",
     "shell.execute_reply.started": "2024-12-14T15:22:37.791639Z"
    },
    "trusted": true
   },
   "outputs": [
    {
     "data": {
      "text/html": [
       "<div>\n",
       "<style scoped>\n",
       "    .dataframe tbody tr th:only-of-type {\n",
       "        vertical-align: middle;\n",
       "    }\n",
       "\n",
       "    .dataframe tbody tr th {\n",
       "        vertical-align: top;\n",
       "    }\n",
       "\n",
       "    .dataframe thead th {\n",
       "        text-align: right;\n",
       "    }\n",
       "</style>\n",
       "<table border=\"1\" class=\"dataframe\">\n",
       "  <thead>\n",
       "    <tr style=\"text-align: right;\">\n",
       "      <th></th>\n",
       "      <th>img_id</th>\n",
       "      <th>target_feature</th>\n",
       "    </tr>\n",
       "  </thead>\n",
       "  <tbody>\n",
       "    <tr>\n",
       "      <th>0</th>\n",
       "      <td>17363</td>\n",
       "      <td>2</td>\n",
       "    </tr>\n",
       "    <tr>\n",
       "      <th>1</th>\n",
       "      <td>8612</td>\n",
       "      <td>5</td>\n",
       "    </tr>\n",
       "    <tr>\n",
       "      <th>2</th>\n",
       "      <td>8244</td>\n",
       "      <td>0</td>\n",
       "    </tr>\n",
       "    <tr>\n",
       "      <th>3</th>\n",
       "      <td>9264</td>\n",
       "      <td>0</td>\n",
       "    </tr>\n",
       "    <tr>\n",
       "      <th>4</th>\n",
       "      <td>5382</td>\n",
       "      <td>6</td>\n",
       "    </tr>\n",
       "  </tbody>\n",
       "</table>\n",
       "</div>"
      ],
      "text/plain": [
       "   img_id  target_feature\n",
       "0   17363               2\n",
       "1    8612               5\n",
       "2    8244               0\n",
       "3    9264               0\n",
       "4    5382               6"
      ]
     },
     "execution_count": 5,
     "metadata": {},
     "output_type": "execute_result"
    }
   ],
   "source": [
    "pd.read_csv('/kaggle/input/ml-intensive-yandex-academy-autumn-2024/human_poses_data/train_answers.csv').head()"
   ]
  },
  {
   "cell_type": "code",
   "execution_count": 6,
   "metadata": {
    "execution": {
     "iopub.execute_input": "2024-12-14T15:22:37.826770Z",
     "iopub.status.busy": "2024-12-14T15:22:37.826491Z",
     "iopub.status.idle": "2024-12-14T15:22:37.837246Z",
     "shell.execute_reply": "2024-12-14T15:22:37.836380Z",
     "shell.execute_reply.started": "2024-12-14T15:22:37.826744Z"
    },
    "trusted": true
   },
   "outputs": [
    {
     "data": {
      "text/html": [
       "<div>\n",
       "<style scoped>\n",
       "    .dataframe tbody tr th:only-of-type {\n",
       "        vertical-align: middle;\n",
       "    }\n",
       "\n",
       "    .dataframe tbody tr th {\n",
       "        vertical-align: top;\n",
       "    }\n",
       "\n",
       "    .dataframe thead th {\n",
       "        text-align: right;\n",
       "    }\n",
       "</style>\n",
       "<table border=\"1\" class=\"dataframe\">\n",
       "  <thead>\n",
       "    <tr style=\"text-align: right;\">\n",
       "      <th></th>\n",
       "      <th>id</th>\n",
       "      <th>category</th>\n",
       "    </tr>\n",
       "  </thead>\n",
       "  <tbody>\n",
       "    <tr>\n",
       "      <th>0</th>\n",
       "      <td>0</td>\n",
       "      <td>sports</td>\n",
       "    </tr>\n",
       "    <tr>\n",
       "      <th>1</th>\n",
       "      <td>1</td>\n",
       "      <td>inactivity quiet/light</td>\n",
       "    </tr>\n",
       "    <tr>\n",
       "      <th>2</th>\n",
       "      <td>2</td>\n",
       "      <td>miscellaneous</td>\n",
       "    </tr>\n",
       "    <tr>\n",
       "      <th>3</th>\n",
       "      <td>3</td>\n",
       "      <td>occupation</td>\n",
       "    </tr>\n",
       "    <tr>\n",
       "      <th>4</th>\n",
       "      <td>4</td>\n",
       "      <td>water activities</td>\n",
       "    </tr>\n",
       "  </tbody>\n",
       "</table>\n",
       "</div>"
      ],
      "text/plain": [
       "   id                category\n",
       "0   0                  sports\n",
       "1   1  inactivity quiet/light\n",
       "2   2           miscellaneous\n",
       "3   3              occupation\n",
       "4   4        water activities"
      ]
     },
     "execution_count": 6,
     "metadata": {},
     "output_type": "execute_result"
    }
   ],
   "source": [
    "categories = pd.read_csv('/kaggle/input/ml-intensive-yandex-academy-autumn-2024/human_poses_data/activity_categories.csv')\n",
    "\n",
    "categories.head()"
   ]
  },
  {
   "cell_type": "code",
   "execution_count": 7,
   "metadata": {
    "execution": {
     "iopub.execute_input": "2024-12-14T15:22:37.838515Z",
     "iopub.status.busy": "2024-12-14T15:22:37.838204Z",
     "iopub.status.idle": "2024-12-14T15:22:37.842905Z",
     "shell.execute_reply": "2024-12-14T15:22:37.842004Z",
     "shell.execute_reply.started": "2024-12-14T15:22:37.838489Z"
    },
    "trusted": true
   },
   "outputs": [],
   "source": [
    "id_to_category = dict(zip(categories['id'], categories['category']))"
   ]
  },
  {
   "cell_type": "code",
   "execution_count": 8,
   "metadata": {
    "execution": {
     "iopub.execute_input": "2024-12-14T15:22:37.844344Z",
     "iopub.status.busy": "2024-12-14T15:22:37.844058Z",
     "iopub.status.idle": "2024-12-14T15:22:37.855602Z",
     "shell.execute_reply": "2024-12-14T15:22:37.854832Z",
     "shell.execute_reply.started": "2024-12-14T15:22:37.844319Z"
    },
    "trusted": true
   },
   "outputs": [],
   "source": [
    "class HumanPoseDataset(Dataset):\n",
    "    def __init__(self, img_dir, csv_file, transform=None):\n",
    "        \"\"\"\n",
    "        img_dir: Папка с изображениями (img_train).\n",
    "        csv_file: Путь к таблице с метками (например, 'train_answers.csv').\n",
    "        transform: Трансформации для предобработки изображений.\n",
    "        \"\"\"\n",
    "        self.img_dir = img_dir\n",
    "        self.files = os.listdir(self.img_dir)\n",
    "        self.labels = pd.read_csv(csv_file)  # Загружаем таблицу меток\n",
    "        self.transform = transform\n",
    "\n",
    "    def __len__(self):\n",
    "        return len(self.labels)\n",
    "\n",
    "    def __getitem__(self, idx):\n",
    "        # Достаем имя изображения и метку\n",
    "        img_id = self.files[idx]\n",
    "        img_id =img_id.split('.')[0]\n",
    "        # img_id1 = self.labels.iloc[idx, 0]  # img_id (имя изображения)\n",
    "        # label = self.labels.iloc[idx, 1]  # target_feature (метка)\n",
    "        label = self.labels.loc[self.labels['img_id'] == int(img_id), 'target_feature'].values[0]\n",
    "\n",
    "        # Загружаем изображение\n",
    "        # img_path = os.path.join(self.img_dir, 'aug_'+str(img_id)+'.jpg')\n",
    "        img_path = os.path.join(self.img_dir, str(img_id)+'.jpg')\n",
    "        image = Image.open(img_path).convert(\"RGB\")\n",
    "\n",
    "        # Применяем трансформации\n",
    "        if self.transform:\n",
    "            image = self.transform(image)\n",
    "\n",
    "        return image, label, img_id\n",
    "    \n",
    "    def __len__(self):\n",
    "        return len(self.files)\n"
   ]
  },
  {
   "cell_type": "markdown",
   "metadata": {},
   "source": [
    "# Создание папки с аугментированными изображениями и ответами к ним"
   ]
  },
  {
   "cell_type": "markdown",
   "metadata": {},
   "source": [
    "Перед аугментацией, разобъем наш датасет на две части"
   ]
  },
  {
   "cell_type": "code",
   "execution_count": 9,
   "metadata": {
    "execution": {
     "iopub.execute_input": "2024-12-14T15:22:37.856778Z",
     "iopub.status.busy": "2024-12-14T15:22:37.856508Z",
     "iopub.status.idle": "2024-12-14T15:22:37.870571Z",
     "shell.execute_reply": "2024-12-14T15:22:37.869756Z",
     "shell.execute_reply.started": "2024-12-14T15:22:37.856736Z"
    },
    "trusted": true
   },
   "outputs": [],
   "source": [
    "#Класс для разделения\n",
    "class SplitPFileToVal:\n",
    "    def __init__(self, path_to_dir, path_to_new_dir_val, path_to_new_dir_train, p:float):\n",
    "        \"\"\"\n",
    "        Создаёт 2 новые папки: Для валидации - % от всех изображений, для трейна - все остальное. \n",
    "        Нужно для отделения части датасета, для val данных\n",
    "\n",
    "        path_to_dir: Папка с изображениями. (img_train)\n",
    "        path_to_new_dir_val: Путь до новой папки, можно не создавать вручную.\n",
    "        path_to_new_dir_train: Путь до новой папки, можно не создавать вручную.\n",
    "        p: % изображений, которые будут отделены для валидационного датасета\n",
    "        \"\"\"\n",
    "\n",
    "        #Проверка, введеного %\n",
    "        if not isinstance(p, float):\n",
    "            raise TypeError(\"% должен быть float\")\n",
    "        if p <= 0 or p > 1:\n",
    "            raise ValueError(\"% должен быть в диапозоне: 0 < p <= 1\")\n",
    "        self.p = p\n",
    "\n",
    "        self.path_to_dir = path_to_dir\n",
    "        self.files = os.listdir(self.path_to_dir)\n",
    "        self.path_to_new_dir_val = path_to_new_dir_val\n",
    "        self.path_to_new_dir_train = path_to_new_dir_train\n",
    "\n",
    "\n",
    "\n",
    "        # Создаем папки для сохранения\n",
    "        if os.path.exists(path_to_new_dir_val):\n",
    "            shutil.rmtree(path_to_new_dir_val)  # Удаляем папку, если она уже существует\n",
    "        os.makedirs(path_to_new_dir_val, exist_ok=True)\n",
    "\n",
    "        if os.path.exists(path_to_new_dir_train):\n",
    "            shutil.rmtree(path_to_new_dir_train)  # Удаляем папку, если она уже существует\n",
    "        os.makedirs(path_to_new_dir_train, exist_ok=True)\n",
    "\n",
    "    def split(self):\n",
    "        len_val = int(len(self.files)*self.p)\n",
    "        len_train = len(self.files) - len_val\n",
    "        with tqdm(total=len_val, desc=\"Отделение валидационных данных\", unit=\"img\") as pbar:\n",
    "            for _ in range(len_val):\n",
    "                idx = random.randint(0, len(self.files) - 1)\n",
    "                file = self.files[idx]\n",
    "                path_to_file = self.path_to_dir+f'/{file}'\n",
    "                shutil.copy(path_to_file, self.path_to_new_dir_val+f'/{file}')\n",
    "                self.files.pop(idx)\n",
    "\n",
    "                pbar.update(1)\n",
    "\n",
    "        with tqdm(total=len_train, desc=\"Отделение тренировочных данных\", unit=\"img\") as pbar:\n",
    "            for _ in range(len_train):\n",
    "                idx = random.randint(0, len(self.files) - 1)\n",
    "                file = self.files[idx]\n",
    "                path_to_file = self.path_to_dir+f'/{file}'\n",
    "                shutil.copy(path_to_file, self.path_to_new_dir_train+f'/{file}')\n",
    "                self.files.pop(idx)\n",
    "                \n",
    "                pbar.update(1)\n",
    "\n",
    "        print(f\"\\nОтделено {len_val} изображений, для валидации в папку: {self.path_to_new_dir_val}\")\n",
    "        print(f\"Отделено {len_train} изображений, для тренировки в папку: {self.path_to_new_dir_train}\")\n",
    "\n"
   ]
  },
  {
   "cell_type": "code",
   "execution_count": 10,
   "metadata": {
    "execution": {
     "iopub.execute_input": "2024-12-14T15:22:37.874874Z",
     "iopub.status.busy": "2024-12-14T15:22:37.874529Z",
     "iopub.status.idle": "2024-12-14T15:24:25.594841Z",
     "shell.execute_reply": "2024-12-14T15:24:25.594033Z",
     "shell.execute_reply.started": "2024-12-14T15:22:37.874849Z"
    },
    "trusted": true
   },
   "outputs": [
    {
     "name": "stderr",
     "output_type": "stream",
     "text": [
      "Отделение валидационных данных: 100%|██████████| 1236/1236 [00:12<00:00, 101.12img/s]\n",
      "Отделение тренировочных данных: 100%|██████████| 11131/11131 [01:35<00:00, 116.66img/s]"
     ]
    },
    {
     "name": "stdout",
     "output_type": "stream",
     "text": [
      "\n",
      "Отделено 1236 изображений, для валидации в папку: /kaggle/working/data/val_dataset\n",
      "Отделено 11131 изображений, для тренировки в папку: /kaggle/working/data/train_dataset\n"
     ]
    },
    {
     "name": "stderr",
     "output_type": "stream",
     "text": [
      "\n"
     ]
    }
   ],
   "source": [
    "#Использование разделения\n",
    "spliter = SplitPFileToVal(\n",
    "    path_to_dir='/kaggle/input/ml-intensive-yandex-academy-autumn-2024/human_poses_data/img_train',\n",
    "    path_to_new_dir_val='/kaggle/working/data/val_dataset',\n",
    "    path_to_new_dir_train='/kaggle/working/data/train_dataset',\n",
    "    p=0.1\n",
    ")\n",
    "\n",
    "spliter.split()"
   ]
  },
  {
   "cell_type": "code",
   "execution_count": 11,
   "metadata": {
    "execution": {
     "iopub.execute_input": "2024-12-14T15:24:25.597749Z",
     "iopub.status.busy": "2024-12-14T15:24:25.597365Z",
     "iopub.status.idle": "2024-12-14T15:24:25.607891Z",
     "shell.execute_reply": "2024-12-14T15:24:25.606960Z",
     "shell.execute_reply.started": "2024-12-14T15:24:25.597707Z"
    },
    "trusted": true
   },
   "outputs": [],
   "source": [
    "#Класс для создания аугментаций\n",
    "class AugmentedDatasetSaver:\n",
    "    def __init__(self, original_train_dataset, csv_path, augmentation_transform, new_train_dataset_path, output_csv_path, augment_count):\n",
    "        \"\"\"\n",
    "        Создает и сохраняет аугментированный датасет из тренировочного.\n",
    "        Также создает csv с ответами на аугментированный датасет, сохраняет ответы из train_answers\n",
    "\n",
    "        original_train_dataset: Исходный датасет (torch Dataset).\n",
    "        csv_path: путь к csv с ответами\n",
    "        augmentation_transform: Трансформации для аугментации.\n",
    "        new_train_dataset_path: Папка, куда будут сохранены данные.\n",
    "        output_csv_path: Путь, куда будет сохранена csv\n",
    "        augment_count: Количество аугментированных изображений, которые нужно создать.\n",
    "        \"\"\"\n",
    "        self.original_train_dataset_path = original_train_dataset\n",
    "        self.augmentation_transform = augmentation_transform\n",
    "        self.new_train_dataset_path = new_train_dataset_path\n",
    "        self.output_csv_path = output_csv_path\n",
    "        self.original_labels = pd.read_csv(csv_path)\n",
    "\n",
    "        \n",
    "        if augment_count >= len(original_train_dataset):\n",
    "            print(\"Введеный augment_count > длины датасета\")\n",
    "        self.augment_count = augment_count\n",
    "\n",
    "\n",
    "        # Создаем папку для сохранения\n",
    "        if os.path.exists(new_train_dataset_path):\n",
    "            shutil.rmtree(new_train_dataset_path)  # Удаляем папку, если она уже существует\n",
    "        os.makedirs(new_train_dataset_path, exist_ok=True)\n",
    "\n",
    "    def save(self):\n",
    "        new_entries = []\n",
    "        max_id = self.original_labels['img_id'].max()\n",
    "        with tqdm(total=self.augment_count, desc=\"Создание аугментированных данных\", unit=\"img\") as pbar:\n",
    "            for i in range(self.augment_count):\n",
    "                # Выбираем случайное изображение из оригинального датасета\n",
    "                image, label, img_id = random.choice(self.original_train_dataset_path)\n",
    "\n",
    "                # Преобразуем в тензор, если это PIL.Image\n",
    "                if not isinstance(image, Image.Image):\n",
    "                    raise ValueError(f\"Unsupported image format: {type(image)}\")\n",
    "\n",
    "                # Применяем аугментацию\n",
    "                augmented_image = self.augmentation_transform(image)\n",
    "\n",
    "                \n",
    "\n",
    "                # Генерируем имя файла, сохраняя оригинальное имя с префиксом\n",
    "                img_id = max_id+i+1\n",
    "\n",
    "                new_entries.append({'img_id': int(img_id), 'target_feature': label})\n",
    "\n",
    "                img_save_path = os.path.join(self.new_train_dataset_path, f\"{img_id}.jpg\")\n",
    "\n",
    "                # Преобразуем аугментированный тензор обратно в PIL.Image и сохраняем\n",
    "                augmented_image = transforms.ToPILImage()(augmented_image)  # Перевод тензора в PIL\n",
    "                augmented_image.save(img_save_path)\n",
    "\n",
    "                pbar.update(1)\n",
    "        # Создание DataFrame для новых данных\n",
    "        augmented_df = pd.DataFrame(new_entries)\n",
    "        combined_df = pd.concat([self.original_labels, augmented_df], ignore_index=True)\n",
    "        combined_df.to_csv(self.output_csv_path, index=False)\n",
    "        \n",
    "        print(f\"CSV файл с метками успешно сохранён в: {self.output_csv_path}\")\n",
    "        print(f\"\\nСохранено {self.augment_count} аугментированных изображений в папке: {self.new_train_dataset_path}\")\n"
   ]
  },
  {
   "cell_type": "code",
   "execution_count": 12,
   "metadata": {
    "execution": {
     "iopub.execute_input": "2024-12-14T15:24:25.609367Z",
     "iopub.status.busy": "2024-12-14T15:24:25.608993Z",
     "iopub.status.idle": "2024-12-14T15:24:26.150361Z",
     "shell.execute_reply": "2024-12-14T15:24:26.149646Z",
     "shell.execute_reply.started": "2024-12-14T15:24:25.609329Z"
    },
    "trusted": true
   },
   "outputs": [],
   "source": [
    "#transform для аугментации\n",
    "augmentation_transform = transforms.Compose([\n",
    "    transforms.RandomResizedCrop(size=227, scale=(0.8, 1.0)), \n",
    "    transforms.RandomHorizontalFlip(p=0.5),\n",
    "    transforms.ColorJitter(brightness=0.2, contrast=0.2, saturation=0.2, hue=0.1),\n",
    "    transforms.RandomRotation(degrees=25), \n",
    "    transforms.ToTensor(),  # Преобразование в тензор для работы с RandomErasing\n",
    "    transforms.RandomErasing(p=0.3, scale=(0.02, 0.15), ratio=(0.3, 3.3))\n",
    "])"
   ]
  },
  {
   "cell_type": "code",
   "execution_count": 13,
   "metadata": {
    "execution": {
     "iopub.execute_input": "2024-12-14T15:24:26.151741Z",
     "iopub.status.busy": "2024-12-14T15:24:26.151398Z",
     "iopub.status.idle": "2024-12-14T15:24:26.180203Z",
     "shell.execute_reply": "2024-12-14T15:24:26.179417Z",
     "shell.execute_reply.started": "2024-12-14T15:24:26.151694Z"
    },
    "trusted": true
   },
   "outputs": [],
   "source": [
    "# Загружаем датасет, для тренировки\n",
    "original_traint_dataset = HumanPoseDataset(\n",
    "    img_dir='/kaggle/working/data/train_dataset',\n",
    "    csv_file='/kaggle/input/ml-intensive-yandex-academy-autumn-2024/human_poses_data/train_answers.csv',\n",
    "    transform=None  # Оставляем без изменений\n",
    ")\n",
    "\n",
    "# Папка для сохранения аугментированного датасета\n",
    "save_dir = \"/kaggle/working/data/augmented_only_dataset\"\n",
    "\n",
    "# Количество аугментированных изображений\n",
    "augment_count = 11000 \n",
    "\n",
    "# Создаем и сохраняем \n",
    "dataset_saver = AugmentedDatasetSaver(\n",
    "    original_train_dataset=original_traint_dataset,\n",
    "    augmentation_transform=augmentation_transform,\n",
    "    csv_path='/kaggle/input/ml-intensive-yandex-academy-autumn-2024/human_poses_data/train_answers.csv',\n",
    "    new_train_dataset_path=save_dir,\n",
    "    augment_count=augment_count,\n",
    "    output_csv_path='/kaggle/working/data/augmented_train_answers.csv'\n",
    ")"
   ]
  },
  {
   "cell_type": "code",
   "execution_count": 14,
   "metadata": {
    "execution": {
     "iopub.execute_input": "2024-12-14T15:24:26.181920Z",
     "iopub.status.busy": "2024-12-14T15:24:26.181273Z",
     "iopub.status.idle": "2024-12-14T15:29:10.014717Z",
     "shell.execute_reply": "2024-12-14T15:29:10.013975Z",
     "shell.execute_reply.started": "2024-12-14T15:24:26.181883Z"
    },
    "trusted": true
   },
   "outputs": [
    {
     "name": "stderr",
     "output_type": "stream",
     "text": [
      "Создание аугментированных данных: 100%|██████████| 11000/11000 [04:43<00:00, 38.76img/s]\n"
     ]
    },
    {
     "name": "stdout",
     "output_type": "stream",
     "text": [
      "CSV файл с метками успешно сохранён в: /kaggle/working/data/augmented_train_answers.csv\n",
      "\n",
      "Сохранено 11000 аугментированных изображений в папке: /kaggle/working/data/augmented_only_dataset\n"
     ]
    }
   ],
   "source": [
    "# Создание аугментированных файлов\n",
    "dataset_saver.save()"
   ]
  },
  {
   "cell_type": "markdown",
   "metadata": {},
   "source": [
    "Проверка, что все создалось в нужном кол-ве"
   ]
  },
  {
   "cell_type": "code",
   "execution_count": 15,
   "metadata": {
    "execution": {
     "iopub.execute_input": "2024-12-14T15:29:10.016428Z",
     "iopub.status.busy": "2024-12-14T15:29:10.016113Z",
     "iopub.status.idle": "2024-12-14T15:29:10.027298Z",
     "shell.execute_reply": "2024-12-14T15:29:10.026469Z",
     "shell.execute_reply.started": "2024-12-14T15:29:10.016396Z"
    },
    "trusted": true
   },
   "outputs": [
    {
     "name": "stdout",
     "output_type": "stream",
     "text": [
      "OK\n"
     ]
    }
   ],
   "source": [
    "line_count = sum(1 for line in open('/kaggle/working/data/augmented_train_answers.csv')) - sum(1 for line in open('/kaggle/input/ml-intensive-yandex-academy-autumn-2024/human_poses_data/train_answers.csv'))\n",
    "if augment_count == line_count:\n",
    "    print('OK')\n",
    "else:\n",
    "    print(f'Ожидалось {augment_count}(augment_count)\\n Получилось {line_count}(line_count)')"
   ]
  },
  {
   "cell_type": "code",
   "execution_count": 16,
   "metadata": {
    "execution": {
     "iopub.execute_input": "2024-12-14T15:29:10.028486Z",
     "iopub.status.busy": "2024-12-14T15:29:10.028262Z",
     "iopub.status.idle": "2024-12-14T15:29:10.041744Z",
     "shell.execute_reply": "2024-12-14T15:29:10.041005Z",
     "shell.execute_reply.started": "2024-12-14T15:29:10.028463Z"
    },
    "trusted": true
   },
   "outputs": [
    {
     "name": "stdout",
     "output_type": "stream",
     "text": [
      "OK\n"
     ]
    }
   ],
   "source": [
    "aug_file_count = len(os.listdir(\"/kaggle/working/data/augmented_only_dataset\"))\n",
    "if augment_count == aug_file_count:\n",
    "    print('OK')\n",
    "else:\n",
    "    print(f'Ожидалось {augment_count}(augment_count)\\n Получилось {aug_file_count}(aug_file_count)')"
   ]
  },
  {
   "cell_type": "markdown",
   "metadata": {},
   "source": [
    "## Cоединение папки с аугментированными картинками и тренировочным датасетом в новую папку."
   ]
  },
  {
   "cell_type": "markdown",
   "metadata": {},
   "source": [
    "Удаляет папку по пути, который указан в path_augmented_only_dataset"
   ]
  },
  {
   "cell_type": "code",
   "execution_count": 17,
   "metadata": {
    "execution": {
     "iopub.execute_input": "2024-12-14T15:29:10.043606Z",
     "iopub.status.busy": "2024-12-14T15:29:10.043391Z",
     "iopub.status.idle": "2024-12-14T15:29:10.053667Z",
     "shell.execute_reply": "2024-12-14T15:29:10.053054Z",
     "shell.execute_reply.started": "2024-12-14T15:29:10.043576Z"
    },
    "trusted": true
   },
   "outputs": [],
   "source": [
    "def merge_folders(path_train_dataset, path_augmented_only_dataset, path_destination_folder):\n",
    "    \"\"\"\n",
    "    Объединяет две папки с картинками в одну. УДАЛЯЕТ папку path_augmented_only_dataset\n",
    "\n",
    "    :param path_train_dataset: Путь к первой исходной папке\n",
    "    :param source_folder2: Путь ко второй исходной папке\n",
    "    :param destination_folder: Путь к папке назначения\n",
    "    \"\"\"\n",
    "    # Создаем папку назначения, если она не существует\n",
    "    if os.path.exists(path_destination_folder):\n",
    "        shutil.rmtree(path_destination_folder)  # Удаляем папку, если она уже существует\n",
    "    os.makedirs(path_destination_folder, exist_ok=True)\n",
    "    \n",
    "    # Функция для копирования файлов из папки\n",
    "    def copy_files_from_folder(folder):\n",
    "        with tqdm(total=len(os.listdir(folder)), desc=f\"Копирование из {folder}\", unit=\"img\") as pbar:\n",
    "            for file_name in os.listdir(folder):\n",
    "                source_path = os.path.join(folder, file_name)\n",
    "                dest_path = os.path.join(path_destination_folder, file_name)\n",
    "                \n",
    "                # Проверяем, является ли элемент файлом\n",
    "                if os.path.isfile(source_path):\n",
    "                    if os.path.exists(dest_path):\n",
    "                        raise KeyError('файл с таким именем уже существует в папке назначения')\n",
    "                    shutil.copy2(source_path, dest_path)\n",
    "                pbar.update(1)\n",
    "    \n",
    "    # Копируем файлы из обеих папок\n",
    "    copy_files_from_folder(path_train_dataset)\n",
    "    copy_files_from_folder(path_augmented_only_dataset)\n",
    "    #Удаляем папку с аугментацией\n",
    "    shutil.rmtree(path_augmented_only_dataset)"
   ]
  },
  {
   "cell_type": "code",
   "execution_count": 18,
   "metadata": {
    "execution": {
     "iopub.execute_input": "2024-12-14T15:29:10.054753Z",
     "iopub.status.busy": "2024-12-14T15:29:10.054509Z",
     "iopub.status.idle": "2024-12-14T15:29:10.068836Z",
     "shell.execute_reply": "2024-12-14T15:29:10.067999Z",
     "shell.execute_reply.started": "2024-12-14T15:29:10.054729Z"
    },
    "trusted": true
   },
   "outputs": [],
   "source": [
    "path_train_dataset = '/kaggle/working/data/train_dataset'\n",
    "path_augmented_only_dataset = \"/kaggle/working/data/augmented_only_dataset\"\n",
    "destination_folder = \"/kaggle/working/data/augmented_and_train_dataset\""
   ]
  },
  {
   "cell_type": "code",
   "execution_count": 19,
   "metadata": {
    "execution": {
     "iopub.execute_input": "2024-12-14T15:29:10.070187Z",
     "iopub.status.busy": "2024-12-14T15:29:10.069893Z",
     "iopub.status.idle": "2024-12-14T15:29:20.606518Z",
     "shell.execute_reply": "2024-12-14T15:29:20.605716Z",
     "shell.execute_reply.started": "2024-12-14T15:29:10.070158Z"
    },
    "trusted": true
   },
   "outputs": [
    {
     "name": "stderr",
     "output_type": "stream",
     "text": [
      "Копирование из /kaggle/working/data/train_dataset: 100%|██████████| 11131/11131 [00:08<00:00, 1274.53img/s]\n",
      "Копирование из /kaggle/working/data/augmented_only_dataset: 100%|██████████| 11000/11000 [00:01<00:00, 7554.70img/s]\n"
     ]
    }
   ],
   "source": [
    "merge_folders(path_train_dataset, path_augmented_only_dataset, destination_folder)"
   ]
  },
  {
   "cell_type": "code",
   "execution_count": 20,
   "metadata": {
    "execution": {
     "iopub.execute_input": "2024-12-14T15:29:20.607859Z",
     "iopub.status.busy": "2024-12-14T15:29:20.607628Z",
     "iopub.status.idle": "2024-12-14T15:29:20.630194Z",
     "shell.execute_reply": "2024-12-14T15:29:20.629456Z",
     "shell.execute_reply.started": "2024-12-14T15:29:20.607836Z"
    },
    "trusted": true
   },
   "outputs": [
    {
     "name": "stdout",
     "output_type": "stream",
     "text": [
      "OK\n"
     ]
    }
   ],
   "source": [
    "expected_count = aug_file_count+len(os.listdir(\"/kaggle/working/data/train_dataset\"))\n",
    "quantity_count = len(os.listdir(\"/kaggle/working/data/augmented_and_train_dataset\"))\n",
    "if expected_count == quantity_count:\n",
    "    print('OK')\n",
    "else:\n",
    "    print(f'Ожидалось {expected_count}(expected_count)\\n Получилось {quantity_count}(quantity_count)')"
   ]
  },
  {
   "cell_type": "markdown",
   "metadata": {},
   "source": [
    "По итогу получилось:   \n",
    "папка img_train -- картинки в оригинале,  \n",
    "папка train_dataset -- часть датасета, для обучения,  \n",
    "папка val_dataset -- часть датасета, для валидации,   \n",
    "папка augmented_and_train_dataset -- augmented_only_dataset+img_train,   \n",
    "augmented_train_answers.csv -- ответы на все папки  "
   ]
  },
  {
   "cell_type": "markdown",
   "metadata": {},
   "source": [
    "# Начало работы с моделью"
   ]
  },
  {
   "cell_type": "code",
   "execution_count": 21,
   "metadata": {
    "execution": {
     "iopub.execute_input": "2024-12-14T15:29:20.631485Z",
     "iopub.status.busy": "2024-12-14T15:29:20.631149Z",
     "iopub.status.idle": "2024-12-14T15:29:21.434912Z",
     "shell.execute_reply": "2024-12-14T15:29:21.433876Z",
     "shell.execute_reply.started": "2024-12-14T15:29:20.631447Z"
    },
    "trusted": true
   },
   "outputs": [],
   "source": [
    "# RANDOM_SEED = 52\n",
    "# generator = torch.Generator().manual_seed(RANDOM_SEED)"
   ]
  },
  {
   "cell_type": "code",
   "execution_count": 22,
   "metadata": {
    "execution": {
     "iopub.execute_input": "2024-12-14T15:29:21.436757Z",
     "iopub.status.busy": "2024-12-14T15:29:21.436402Z",
     "iopub.status.idle": "2024-12-14T15:29:22.417138Z",
     "shell.execute_reply": "2024-12-14T15:29:22.416082Z",
     "shell.execute_reply.started": "2024-12-14T15:29:21.436720Z"
    },
    "trusted": true
   },
   "outputs": [
    {
     "name": "stdout",
     "output_type": "stream",
     "text": [
      "Available CPU cores: 4\n"
     ]
    }
   ],
   "source": [
    "print(f\"Available CPU cores: {os.cpu_count()}\")"
   ]
  },
  {
   "cell_type": "code",
   "execution_count": 23,
   "metadata": {
    "execution": {
     "iopub.execute_input": "2024-12-14T15:29:22.418601Z",
     "iopub.status.busy": "2024-12-14T15:29:22.418340Z",
     "iopub.status.idle": "2024-12-14T15:29:23.882533Z",
     "shell.execute_reply": "2024-12-14T15:29:23.881341Z",
     "shell.execute_reply.started": "2024-12-14T15:29:22.418576Z"
    },
    "trusted": true
   },
   "outputs": [],
   "source": [
    "# transform_train = transforms.Compose([\n",
    "#     transforms.Resize((227, 227)), # тк в ауг датасете есть фото без аугментации\n",
    "#     transforms.ToTensor(),\n",
    "#     transforms.Normalize(mean=[0.485, 0.456, 0.406],\n",
    "#                          std=[0.229, 0.224, 0.225])\n",
    "# ])\n",
    "\n",
    "transform = transforms.Compose([\n",
    "    transforms.Resize((227, 227)),  # Изменяем размер изображений\n",
    "    transforms.ToTensor(),\n",
    "    transforms.Normalize(mean=[0.485, 0.456, 0.406],\n",
    "                         std=[0.229, 0.224, 0.225])\n",
    "])"
   ]
  },
  {
   "cell_type": "code",
   "execution_count": 24,
   "metadata": {
    "execution": {
     "iopub.execute_input": "2024-12-14T15:29:23.884294Z",
     "iopub.status.busy": "2024-12-14T15:29:23.883711Z",
     "iopub.status.idle": "2024-12-14T15:29:24.969185Z",
     "shell.execute_reply": "2024-12-14T15:29:24.968464Z",
     "shell.execute_reply.started": "2024-12-14T15:29:23.884251Z"
    },
    "trusted": true
   },
   "outputs": [],
   "source": [
    "val_dataset = HumanPoseDataset(\n",
    "    img_dir='/kaggle/working/data/val_dataset',\n",
    "    csv_file='/kaggle/input/ml-intensive-yandex-academy-autumn-2024/human_poses_data/train_answers.csv',\n",
    "    transform=transform\n",
    ")\n",
    "\n",
    "train_dataset = HumanPoseDataset(\n",
    "    img_dir='/kaggle/working/data/augmented_and_train_dataset',\n",
    "    csv_file='/kaggle/working/data/augmented_train_answers.csv',\n",
    "    transform=transform\n",
    ")\n",
    "\n",
    "\n",
    "\n",
    "# train_dataset, _ = random_split(dataset_train, [int(0.9*len(dataset_train)), len(dataset_train) - int(0.9*len(dataset_train))], generator)\n",
    "# _, val_dataset = random_split(dataset_val, [int(0.9*len(dataset_val)), len(dataset_val) - int(0.9*len(dataset_val))], generator)"
   ]
  },
  {
   "cell_type": "code",
   "execution_count": 48,
   "metadata": {
    "execution": {
     "iopub.execute_input": "2024-12-14T16:04:10.451440Z",
     "iopub.status.busy": "2024-12-14T16:04:10.450611Z",
     "iopub.status.idle": "2024-12-14T16:04:10.467948Z",
     "shell.execute_reply": "2024-12-14T16:04:10.467078Z",
     "shell.execute_reply.started": "2024-12-14T16:04:10.451406Z"
    },
    "trusted": true
   },
   "outputs": [
    {
     "name": "stdout",
     "output_type": "stream",
     "text": [
      "Train class counts:\n",
      "{0: 4811, 1: 244, 2: 959, 3: 3252, 4: 1414, 5: 1862, 6: 1518, 8: 993, 9: 2316, 10: 723, 11: 993, 12: 845, 13: 833, 14: 433, 16: 1385, 18: 786}\n",
      "Validation class counts:\n",
      "{0: 2512, 1: 135, 2: 530, 3: 1680, 4: 752, 5: 982, 6: 800, 8: 533, 9: 1223, 10: 390, 11: 528, 12: 469, 13: 442, 14: 228, 16: 753, 18: 410}\n"
     ]
    }
   ],
   "source": [
    "import pandas as pd\n",
    "\n",
    "# Загрузим CSV-файлы для валидационного и тренировочного датасетов\n",
    "val_labels_df = pd.read_csv('/kaggle/input/ml-intensive-yandex-academy-autumn-2024/human_poses_data/train_answers.csv')\n",
    "train_labels_df = pd.read_csv('/kaggle/working/data/augmented_train_answers.csv')\n",
    "\n",
    "# Предположим, что метки классов в этих датафреймах хранятся в колонке 'label' или другой\n",
    "# Замените 'label' на название колонки с метками в вашем случае\n",
    "val_labels = val_labels_df['target_feature'].values\n",
    "train_labels = train_labels_df['target_feature'].values\n",
    "\n",
    "# Подсчитаем количество примеров для каждого класса в тренировочном датасете\n",
    "train_class_counts = pd.Series(train_labels).value_counts().sort_index().to_dict()\n",
    "\n",
    "# Подсчитаем количество примеров для каждого класса в валидационном датасете\n",
    "val_class_counts = pd.Series(val_labels).value_counts().sort_index().to_dict()\n",
    "\n",
    "# Выведем количество примеров для каждого класса\n",
    "print(f\"Train class counts:\\n{train_class_counts}\")\n",
    "print(f\"Validation class counts:\\n{val_class_counts}\")\n"
   ]
  },
  {
   "cell_type": "code",
   "execution_count": null,
   "metadata": {
    "trusted": true
   },
   "outputs": [],
   "source": []
  },
  {
   "cell_type": "code",
   "execution_count": 49,
   "metadata": {
    "execution": {
     "iopub.execute_input": "2024-12-14T16:04:12.731418Z",
     "iopub.status.busy": "2024-12-14T16:04:12.730752Z",
     "iopub.status.idle": "2024-12-14T16:04:12.736944Z",
     "shell.execute_reply": "2024-12-14T16:04:12.735912Z",
     "shell.execute_reply.started": "2024-12-14T16:04:12.731384Z"
    },
    "trusted": true
   },
   "outputs": [
    {
     "name": "stdout",
     "output_type": "stream",
     "text": [
      "Train class weights: {0: 4.8569943878611515, 1: 95.76639344262296, 2: 24.366006256517206, 3: 7.185424354243542, 4: 16.525459688826025, 5: 12.549409237379162, 6: 15.393280632411066, 8: 23.531722054380666, 9: 10.089378238341968, 10: 32.3195020746888, 11: 23.531722054380666, 12: 27.653254437869823, 13: 28.051620648259302, 14: 53.96535796766744, 16: 16.871480144404334, 18: 29.729007633587788}\n",
      "Validation class weights: {0: 4.923168789808917, 1: 91.60740740740741, 2: 23.333962264150944, 3: 7.361309523809524, 4: 16.445478723404257, 5: 12.59368635437882, 6: 15.45875, 8: 23.202626641651033, 9: 10.112019623875716, 10: 31.71025641025641, 11: 23.422348484848484, 12: 26.368869936034116, 13: 27.979638009049772, 14: 54.24122807017544, 16: 16.42363877822045, 18: 30.163414634146342}\n"
     ]
    }
   ],
   "source": [
    "total_train_samples = sum(train_class_counts.values())\n",
    "total_val_samples = sum(val_class_counts.values())\n",
    "\n",
    "# Веса для классов в тренировочном и валидационном датасетах\n",
    "train_class_weights = {k: total_train_samples / v for k, v in train_class_counts.items()}\n",
    "val_class_weights = {k: total_val_samples / v for k, v in val_class_counts.items()}\n",
    "\n",
    "# Выводим веса для классов\n",
    "print(\"Train class weights:\", train_class_weights)\n",
    "print(\"Validation class weights:\", val_class_weights)"
   ]
  },
  {
   "cell_type": "code",
   "execution_count": 25,
   "metadata": {
    "execution": {
     "iopub.execute_input": "2024-12-14T15:29:24.970634Z",
     "iopub.status.busy": "2024-12-14T15:29:24.970272Z",
     "iopub.status.idle": "2024-12-14T15:29:25.888923Z",
     "shell.execute_reply": "2024-12-14T15:29:25.887939Z",
     "shell.execute_reply.started": "2024-12-14T15:29:24.970593Z"
    },
    "trusted": true
   },
   "outputs": [
    {
     "data": {
      "text/plain": [
       "(tensor([[[-2.0837, -2.0837, -2.0837,  ..., -2.1179, -2.1179, -2.1179],\n",
       "          [-2.1179, -2.1179, -2.1179,  ..., -2.1179, -2.1179, -2.1179],\n",
       "          [-2.0837, -2.0837, -2.0837,  ..., -2.1179, -2.1179, -2.1179],\n",
       "          ...,\n",
       "          [-2.1179, -2.1179, -2.1179,  ..., -2.1179, -2.1179, -2.1179],\n",
       "          [-2.1179, -2.1179, -2.1179,  ..., -2.1179, -2.1179, -2.1179],\n",
       "          [-2.1179, -2.1179, -2.1179,  ..., -2.1179, -2.1179, -2.1179]],\n",
       " \n",
       "         [[-2.0007, -2.0007, -2.0007,  ..., -2.0357, -2.0357, -2.0357],\n",
       "          [-2.0357, -2.0357, -2.0357,  ..., -2.0357, -2.0357, -2.0357],\n",
       "          [-2.0007, -2.0007, -2.0007,  ..., -2.0357, -2.0357, -2.0357],\n",
       "          ...,\n",
       "          [-2.0357, -2.0357, -2.0357,  ..., -2.0357, -2.0357, -2.0357],\n",
       "          [-2.0357, -2.0357, -2.0357,  ..., -2.0357, -2.0357, -2.0357],\n",
       "          [-2.0357, -2.0357, -2.0357,  ..., -2.0357, -2.0357, -2.0357]],\n",
       " \n",
       "         [[-1.7347, -1.7347, -1.7347,  ..., -1.8044, -1.8044, -1.8044],\n",
       "          [-1.7696, -1.7696, -1.7696,  ..., -1.8044, -1.8044, -1.8044],\n",
       "          [-1.7347, -1.7347, -1.7347,  ..., -1.8044, -1.8044, -1.8044],\n",
       "          ...,\n",
       "          [-1.8044, -1.8044, -1.8044,  ..., -1.8044, -1.8044, -1.8044],\n",
       "          [-1.8044, -1.8044, -1.8044,  ..., -1.8044, -1.8044, -1.8044],\n",
       "          [-1.8044, -1.8044, -1.8044,  ..., -1.8044, -1.8044, -1.8044]]]),\n",
       " 4,\n",
       " '28481')"
      ]
     },
     "execution_count": 25,
     "metadata": {},
     "output_type": "execute_result"
    }
   ],
   "source": [
    "train_dataset[0]"
   ]
  },
  {
   "cell_type": "code",
   "execution_count": 26,
   "metadata": {
    "execution": {
     "iopub.execute_input": "2024-12-14T15:29:25.890414Z",
     "iopub.status.busy": "2024-12-14T15:29:25.890077Z",
     "iopub.status.idle": "2024-12-14T15:29:26.948471Z",
     "shell.execute_reply": "2024-12-14T15:29:26.947376Z",
     "shell.execute_reply.started": "2024-12-14T15:29:25.890385Z"
    },
    "trusted": true
   },
   "outputs": [],
   "source": [
    "# Функция для отображения изображений с подписями\n",
    "def show_images_with_labels(dataset, id_to_category, num_images=10):\n",
    "    fig, axes = plt.subplots(1, num_images, figsize=(20, 5))\n",
    "    for i in range(num_images):\n",
    "        # Достаем изображение и метку\n",
    "        image, label, img_id= dataset[i]\n",
    "        # img_name = dataset.labels.iloc[i, 0]  # Имя файла\n",
    "\n",
    "        # Декодируем метку в категорию\n",
    "        category = id_to_category[label] if id_to_category else label\n",
    "\n",
    "        # # Отображаем изображение\n",
    "        axes[i].imshow(image.permute(1, 2, 0))  # Преобразуем тензор в (H, W, C)"
   ]
  },
  {
   "cell_type": "code",
   "execution_count": 27,
   "metadata": {
    "execution": {
     "iopub.execute_input": "2024-12-14T15:29:26.950032Z",
     "iopub.status.busy": "2024-12-14T15:29:26.949751Z",
     "iopub.status.idle": "2024-12-14T15:29:28.960320Z",
     "shell.execute_reply": "2024-12-14T15:29:28.959436Z",
     "shell.execute_reply.started": "2024-12-14T15:29:26.949989Z"
    },
    "trusted": true
   },
   "outputs": [
    {
     "data": {
      "image/png": "[encoded data removed]",
      "text/plain": [
       "<Figure size 2000x500 with 10 Axes>"
      ]
     },
     "metadata": {},
     "output_type": "display_data"
    }
   ],
   "source": [
    "# Вывести первые 5 изображений в одну строку\n",
    "show_images_with_labels(train_dataset, id_to_category, 10)"
   ]
  },
  {
   "cell_type": "markdown",
   "metadata": {},
   "source": [
    "# Архитектуры"
   ]
  },
  {
   "cell_type": "code",
   "execution_count": 28,
   "metadata": {
    "execution": {
     "iopub.execute_input": "2024-12-14T15:29:28.964419Z",
     "iopub.status.busy": "2024-12-14T15:29:28.964137Z",
     "iopub.status.idle": "2024-12-14T15:29:28.982394Z",
     "shell.execute_reply": "2024-12-14T15:29:28.981599Z",
     "shell.execute_reply.started": "2024-12-14T15:29:28.964392Z"
    },
    "trusted": true
   },
   "outputs": [],
   "source": [
    "class Mish(nn.Module):\n",
    "    def forward(self, x):\n",
    "        return x * torch.tanh(nn.functional.softplus(x))\n",
    "\n",
    "class SEBlock(nn.Module):\n",
    "    def __init__(self, channels, reduction=16):\n",
    "        super(SEBlock, self).__init__()\n",
    "        self.fc1 = nn.Linear(channels, channels // reduction, bias=False)\n",
    "        self.relu = nn.ReLU(inplace=True)\n",
    "        self.fc2 = nn.Linear(channels // reduction, channels, bias=False)\n",
    "        self.sigmoid = nn.Sigmoid()\n",
    "\n",
    "    def forward(self, x):\n",
    "        b, c, _, _ = x.size()\n",
    "        y = x.view(b, c, -1).mean(dim=2)\n",
    "        y = self.fc1(y)\n",
    "        y = self.relu(y)\n",
    "        y = self.fc2(y)\n",
    "        y = self.sigmoid(y).view(b, c, 1, 1)\n",
    "        return x * y\n",
    "\n",
    "class ResidualBlock(nn.Module):\n",
    "    def __init__(self, in_channels, out_channels, stride=1, downsample=None, dropout_prob=0.3):\n",
    "        super(ResidualBlock, self).__init__()\n",
    "        self.conv1 = nn.Conv2d(in_channels, out_channels, kernel_size=3, stride=stride, padding=1, bias=False)\n",
    "        self.mish = Mish()\n",
    "        self.group_norm1 = nn.GroupNorm(32, out_channels)\n",
    "        self.dropout1 = nn.Dropout2d(p=dropout_prob)\n",
    "\n",
    "        self.conv2 = nn.Conv2d(out_channels, out_channels, kernel_size=3, stride=1, padding=1, bias=False)\n",
    "        self.group_norm2 = nn.GroupNorm(32, out_channels)\n",
    "        self.dropout2 = nn.Dropout2d(p=dropout_prob)\n",
    "\n",
    "        self.se_block = SEBlock(out_channels)\n",
    "        self.downsample = downsample\n",
    "\n",
    "    def forward(self, x):\n",
    "        identity = x\n",
    "        if self.downsample:\n",
    "            identity = self.downsample(x)\n",
    "\n",
    "        out = self.conv1(x)\n",
    "        out = self.mish(out)\n",
    "        out = self.group_norm1(out)\n",
    "        out = self.dropout1(out)\n",
    "\n",
    "        out = self.conv2(out)\n",
    "        out = self.mish(out)\n",
    "        out = self.group_norm2(out)\n",
    "        out = self.dropout2(out)\n",
    "\n",
    "        out = self.se_block(out)\n",
    "        out += identity\n",
    "        out = self.mish(out)\n",
    "        return out\n",
    "\n",
    "class UpdatedResNet(nn.Module):\n",
    "    def __init__(self, block, layers, num_classes=20, dropout_prob=0.3):\n",
    "        super(UpdatedResNet, self).__init__()\n",
    "        self.in_channels = 64\n",
    "\n",
    "        self.conv1 = nn.Conv2d(3, 64, kernel_size=7, stride=2, padding=3, bias=False)\n",
    "        self.mish = Mish()\n",
    "        self.group_norm = nn.GroupNorm(32, 64)\n",
    "        self.maxpool = nn.MaxPool2d(kernel_size=3, stride=2, padding=1)\n",
    "\n",
    "        self.layer1 = self._make_layer(block, 64, layers[0], dropout_prob=dropout_prob)\n",
    "        self.layer2 = self._make_layer(block, 128, layers[1], stride=2, dropout_prob=dropout_prob)\n",
    "        self.layer3 = self._make_layer(block, 256, layers[2], stride=2, dropout_prob=dropout_prob)\n",
    "        self.layer4 = self._make_layer(block, 512, layers[3], stride=2, dropout_prob=dropout_prob)\n",
    "\n",
    "        self.avgpool = nn.AdaptiveAvgPool2d((1, 1))\n",
    "        self.fc = nn.Linear(512, num_classes)\n",
    "\n",
    "    def _make_layer(self, block, out_channels, blocks, stride=1, dropout_prob=0.3):\n",
    "        downsample = None\n",
    "        if stride != 1 or self.in_channels != out_channels:\n",
    "            downsample = nn.Sequential(\n",
    "                nn.Conv2d(self.in_channels, out_channels, kernel_size=1, stride=stride, bias=False),\n",
    "                nn.GroupNorm(32, out_channels)\n",
    "            )\n",
    "        \n",
    "        layers = []\n",
    "        layers.append(block(self.in_channels, out_channels, stride, downsample, dropout_prob=dropout_prob))\n",
    "        self.in_channels = out_channels\n",
    "        for _ in range(1, blocks):\n",
    "            layers.append(block(out_channels, out_channels, dropout_prob=dropout_prob))\n",
    "        \n",
    "        return nn.Sequential(*layers)\n",
    "\n",
    "    def forward(self, x):\n",
    "        x = self.conv1(x)\n",
    "        x = self.mish(x)\n",
    "        x = self.group_norm(x)\n",
    "        x = self.maxpool(x)\n",
    "\n",
    "        x = self.layer1(x)\n",
    "        x = self.layer2(x)\n",
    "        x = self.layer3(x)\n",
    "        x = self.layer4(x)\n",
    "\n",
    "        x = self.avgpool(x)\n",
    "        x = torch.flatten(x, 1)\n",
    "        x = self.fc(x)\n",
    "        return x\n",
    "\n",
    "def custom_resnet18(num_classes=20, dropout_prob=0.3):\n",
    "    return UpdatedResNet(ResidualBlock, [2, 2, 2, 2], num_classes, dropout_prob)\n"
   ]
  },
  {
   "cell_type": "code",
   "execution_count": 29,
   "metadata": {
    "execution": {
     "iopub.execute_input": "2024-12-14T15:29:28.984262Z",
     "iopub.status.busy": "2024-12-14T15:29:28.983501Z",
     "iopub.status.idle": "2024-12-14T15:29:30.183816Z",
     "shell.execute_reply": "2024-12-14T15:29:30.182573Z",
     "shell.execute_reply.started": "2024-12-14T15:29:28.984221Z"
    },
    "trusted": true
   },
   "outputs": [],
   "source": [
    "import torch.nn.functional as F\n",
    "class Mish(nn.Module):\n",
    "    def forward(self, x):\n",
    "        return x * torch.tanh(F.softplus(x))\n",
    "\n",
    "class SEBlock(nn.Module):\n",
    "    def __init__(self, channels, reduction=16):\n",
    "        super(SEBlock, self).__init__()\n",
    "        self.avg_pool = nn.AdaptiveAvgPool2d(1)\n",
    "        self.fc = nn.Sequential(\n",
    "            nn.Conv2d(channels, channels // reduction, kernel_size=1, bias=False),\n",
    "            nn.ReLU(inplace=True),\n",
    "            nn.Conv2d(channels // reduction, channels, kernel_size=1, bias=False),\n",
    "            nn.Sigmoid()\n",
    "        )\n",
    "\n",
    "    def forward(self, x):\n",
    "        y = self.avg_pool(x)\n",
    "        y = self.fc(y)\n",
    "        return x * y\n",
    "\n",
    "class ResidualBlock(nn.Module):\n",
    "    def __init__(self, in_channels, out_channels, stride=1, downsample=None, dropout_prob=0.2):\n",
    "        super(ResidualBlock, self).__init__()\n",
    "        self.conv1 = nn.Conv2d(in_channels, out_channels, kernel_size=3, stride=stride, padding=1, bias=False)\n",
    "        self.mish = Mish()\n",
    "        self.group_norm1 = nn.GroupNorm(32, out_channels)\n",
    "        self.dropout1 = nn.Dropout2d(p=dropout_prob)\n",
    "\n",
    "        self.conv2 = nn.Conv2d(out_channels, out_channels, kernel_size=3, stride=1, padding=1, bias=False)\n",
    "        self.group_norm2 = nn.GroupNorm(32, out_channels)\n",
    "        self.dropout2 = nn.Dropout2d(p=dropout_prob)\n",
    "\n",
    "        self.se_block = SEBlock(out_channels)\n",
    "        self.downsample = downsample\n",
    "\n",
    "    def forward(self, x):\n",
    "        identity = x\n",
    "        if self.downsample:\n",
    "            identity = self.downsample(x)\n",
    "\n",
    "        out = self.conv1(x)\n",
    "        out = self.mish(out)\n",
    "        out = self.group_norm1(out)\n",
    "        out = self.dropout1(out)\n",
    "\n",
    "        out = self.conv2(out)\n",
    "        out = self.mish(out)\n",
    "        out = self.group_norm2(out)\n",
    "        out = self.dropout2(out)\n",
    "\n",
    "        out = self.se_block(out)\n",
    "        out += identity\n",
    "        out = self.mish(out)\n",
    "        return out\n",
    "\n",
    "class UpdatedResNet(nn.Module):\n",
    "    def __init__(self, block, layers, num_classes=20, dropout_prob=0.2):\n",
    "        super(UpdatedResNet, self).__init__()\n",
    "        self.in_channels = 64\n",
    "\n",
    "        self.conv1 = nn.Conv2d(3, 64, kernel_size=7, stride=2, padding=3, bias=False)\n",
    "        self.mish = Mish()\n",
    "        self.group_norm = nn.GroupNorm(32, 64)\n",
    "        self.maxpool = nn.MaxPool2d(kernel_size=3, stride=2, padding=1)\n",
    "\n",
    "        self.layer1 = self._make_layer(block, 64, layers[0], dropout_prob=dropout_prob)\n",
    "        self.layer2 = self._make_layer(block, 128, layers[1], stride=2, dropout_prob=dropout_prob)\n",
    "        self.layer3 = self._make_layer(block, 256, layers[2], stride=2, dropout_prob=dropout_prob)\n",
    "        self.layer4 = self._make_layer(block, 512, layers[3], stride=2, dropout_prob=dropout_prob)\n",
    "\n",
    "        self.avgpool = nn.AdaptiveAvgPool2d((1, 1))\n",
    "        self.fc = nn.Linear(512, num_classes)\n",
    "\n",
    "    def _make_layer(self, block, out_channels, blocks, stride=1, dropout_prob=0.2):\n",
    "        downsample = None\n",
    "        if stride != 1 or self.in_channels != out_channels:\n",
    "            downsample = nn.Sequential(\n",
    "                nn.Conv2d(self.in_channels, out_channels, kernel_size=1, stride=stride, bias=False),\n",
    "                nn.GroupNorm(32, out_channels)\n",
    "            )\n",
    "\n",
    "        layers = []\n",
    "        layers.append(block(self.in_channels, out_channels, stride, downsample, dropout_prob=dropout_prob))\n",
    "        self.in_channels = out_channels\n",
    "        for _ in range(1, blocks):\n",
    "            layers.append(block(out_channels, out_channels, dropout_prob=dropout_prob))\n",
    "\n",
    "        return nn.Sequential(*layers)\n",
    "\n",
    "    def forward(self, x):\n",
    "        x = self.conv1(x)\n",
    "        x = self.mish(x)\n",
    "        x = self.group_norm(x)\n",
    "        x = self.maxpool(x)\n",
    "\n",
    "        x = self.layer1(x)\n",
    "        x = self.layer2(x)\n",
    "        x = self.layer3(x)\n",
    "        x = self.layer4(x)\n",
    "\n",
    "        x = self.avgpool(x)\n",
    "        x = torch.flatten(x, 1)\n",
    "        x = self.fc(x)\n",
    "        return x\n",
    "\n",
    "def custom_resnet18(num_classes=20, dropout_prob=0.2):\n",
    "    return UpdatedResNet(ResidualBlock, [2, 2, 2, 2], num_classes, dropout_prob)"
   ]
  },
  {
   "cell_type": "code",
   "execution_count": 30,
   "metadata": {
    "execution": {
     "iopub.execute_input": "2024-12-14T15:29:30.185517Z",
     "iopub.status.busy": "2024-12-14T15:29:30.185160Z",
     "iopub.status.idle": "2024-12-14T15:29:35.996243Z",
     "shell.execute_reply": "2024-12-14T15:29:35.995394Z",
     "shell.execute_reply.started": "2024-12-14T15:29:30.185476Z"
    },
    "trusted": true
   },
   "outputs": [],
   "source": [
    "import torch\n",
    "import torch.nn as nn\n",
    "from torchvision.models import efficientnet_b0\n",
    "from torchsummary import summary"
   ]
  },
  {
   "cell_type": "code",
   "execution_count": 31,
   "metadata": {
    "execution": {
     "iopub.execute_input": "2024-12-14T15:29:35.997767Z",
     "iopub.status.busy": "2024-12-14T15:29:35.997432Z",
     "iopub.status.idle": "2024-12-14T15:29:36.032580Z",
     "shell.execute_reply": "2024-12-14T15:29:36.031858Z",
     "shell.execute_reply.started": "2024-12-14T15:29:35.997721Z"
    },
    "trusted": true
   },
   "outputs": [],
   "source": [
    "class CustomEfficientNet(nn.Module):\n",
    "    def __init__(self, num_classes=20):\n",
    "        super(CustomEfficientNet, self).__init__()\n",
    "        # Load the base EfficientNet-B0 architecture without pretrained weights\n",
    "        self.base_model = efficientnet_b0(pretrained=False)\n",
    "\n",
    "        # Replace the last classifier layer for 20 classes\n",
    "        in_features = self.base_model.classifier[1].in_features\n",
    "        self.base_model.classifier = nn.Sequential(\n",
    "            nn.Dropout(p=0.2, inplace=True),\n",
    "            nn.Linear(in_features, num_classes, bias=True)  # Explicitly set bias=True\n",
    "        )\n",
    "\n",
    "    def forward(self, x):\n",
    "        return self.base_model(x)\n",
    "\n",
    "def custom_efficientnet_b0(num_classes=20):\n",
    "    return CustomEfficientNet(num_classes=num_classes)"
   ]
  },
  {
   "cell_type": "code",
   "execution_count": 32,
   "metadata": {
    "execution": {
     "iopub.execute_input": "2024-12-14T15:29:36.034634Z",
     "iopub.status.busy": "2024-12-14T15:29:36.034310Z",
     "iopub.status.idle": "2024-12-14T15:29:36.188399Z",
     "shell.execute_reply": "2024-12-14T15:29:36.187434Z",
     "shell.execute_reply.started": "2024-12-14T15:29:36.034606Z"
    },
    "trusted": true
   },
   "outputs": [
    {
     "name": "stderr",
     "output_type": "stream",
     "text": [
      "/opt/conda/lib/python3.10/site-packages/torchvision/models/_utils.py:208: UserWarning: The parameter 'pretrained' is deprecated since 0.13 and may be removed in the future, please use 'weights' instead.\n",
      "  warnings.warn(\n",
      "/opt/conda/lib/python3.10/site-packages/torchvision/models/_utils.py:223: UserWarning: Arguments other than a weight enum or `None` for 'weights' are deprecated since 0.13 and may be removed in the future. The current behavior is equivalent to passing `weights=None`.\n",
      "  warnings.warn(msg)\n"
     ]
    }
   ],
   "source": [
    "model = custom_efficientnet_b0(num_classes=20)"
   ]
  },
  {
   "cell_type": "code",
   "execution_count": 33,
   "metadata": {
    "execution": {
     "iopub.execute_input": "2024-12-14T15:29:36.190507Z",
     "iopub.status.busy": "2024-12-14T15:29:36.190082Z",
     "iopub.status.idle": "2024-12-14T15:29:36.196827Z",
     "shell.execute_reply": "2024-12-14T15:29:36.195771Z",
     "shell.execute_reply.started": "2024-12-14T15:29:36.190461Z"
    },
    "trusted": true
   },
   "outputs": [
    {
     "data": {
      "text/plain": [
       "20"
      ]
     },
     "execution_count": 33,
     "metadata": {},
     "output_type": "execute_result"
    }
   ],
   "source": [
    "len(id_to_category)"
   ]
  },
  {
   "cell_type": "code",
   "execution_count": 34,
   "metadata": {
    "execution": {
     "iopub.execute_input": "2024-12-14T15:29:36.198322Z",
     "iopub.status.busy": "2024-12-14T15:29:36.197953Z",
     "iopub.status.idle": "2024-12-14T15:29:37.286528Z",
     "shell.execute_reply": "2024-12-14T15:29:37.285689Z",
     "shell.execute_reply.started": "2024-12-14T15:29:36.198281Z"
    },
    "trusted": true
   },
   "outputs": [
    {
     "name": "stdout",
     "output_type": "stream",
     "text": [
      "----------------------------------------------------------------\n",
      "        Layer (type)               Output Shape         Param #\n",
      "================================================================\n",
      "            Conv2d-1         [-1, 32, 114, 114]             864\n",
      "       BatchNorm2d-2         [-1, 32, 114, 114]              64\n",
      "              SiLU-3         [-1, 32, 114, 114]               0\n",
      "            Conv2d-4         [-1, 32, 114, 114]             288\n",
      "       BatchNorm2d-5         [-1, 32, 114, 114]              64\n",
      "              SiLU-6         [-1, 32, 114, 114]               0\n",
      " AdaptiveAvgPool2d-7             [-1, 32, 1, 1]               0\n",
      "            Conv2d-8              [-1, 8, 1, 1]             264\n",
      "              SiLU-9              [-1, 8, 1, 1]               0\n",
      "           Conv2d-10             [-1, 32, 1, 1]             288\n",
      "          Sigmoid-11             [-1, 32, 1, 1]               0\n",
      "SqueezeExcitation-12         [-1, 32, 114, 114]               0\n",
      "           Conv2d-13         [-1, 16, 114, 114]             512\n",
      "      BatchNorm2d-14         [-1, 16, 114, 114]              32\n",
      "           MBConv-15         [-1, 16, 114, 114]               0\n",
      "           Conv2d-16         [-1, 96, 114, 114]           1,536\n",
      "      BatchNorm2d-17         [-1, 96, 114, 114]             192\n",
      "             SiLU-18         [-1, 96, 114, 114]               0\n",
      "           Conv2d-19           [-1, 96, 57, 57]             864\n",
      "      BatchNorm2d-20           [-1, 96, 57, 57]             192\n",
      "             SiLU-21           [-1, 96, 57, 57]               0\n",
      "AdaptiveAvgPool2d-22             [-1, 96, 1, 1]               0\n",
      "           Conv2d-23              [-1, 4, 1, 1]             388\n",
      "             SiLU-24              [-1, 4, 1, 1]               0\n",
      "           Conv2d-25             [-1, 96, 1, 1]             480\n",
      "          Sigmoid-26             [-1, 96, 1, 1]               0\n",
      "SqueezeExcitation-27           [-1, 96, 57, 57]               0\n",
      "           Conv2d-28           [-1, 24, 57, 57]           2,304\n",
      "      BatchNorm2d-29           [-1, 24, 57, 57]              48\n",
      "           MBConv-30           [-1, 24, 57, 57]               0\n",
      "           Conv2d-31          [-1, 144, 57, 57]           3,456\n",
      "      BatchNorm2d-32          [-1, 144, 57, 57]             288\n",
      "             SiLU-33          [-1, 144, 57, 57]               0\n",
      "           Conv2d-34          [-1, 144, 57, 57]           1,296\n",
      "      BatchNorm2d-35          [-1, 144, 57, 57]             288\n",
      "             SiLU-36          [-1, 144, 57, 57]               0\n",
      "AdaptiveAvgPool2d-37            [-1, 144, 1, 1]               0\n",
      "           Conv2d-38              [-1, 6, 1, 1]             870\n",
      "             SiLU-39              [-1, 6, 1, 1]               0\n",
      "           Conv2d-40            [-1, 144, 1, 1]           1,008\n",
      "          Sigmoid-41            [-1, 144, 1, 1]               0\n",
      "SqueezeExcitation-42          [-1, 144, 57, 57]               0\n",
      "           Conv2d-43           [-1, 24, 57, 57]           3,456\n",
      "      BatchNorm2d-44           [-1, 24, 57, 57]              48\n",
      "  StochasticDepth-45           [-1, 24, 57, 57]               0\n",
      "           MBConv-46           [-1, 24, 57, 57]               0\n",
      "           Conv2d-47          [-1, 144, 57, 57]           3,456\n",
      "      BatchNorm2d-48          [-1, 144, 57, 57]             288\n",
      "             SiLU-49          [-1, 144, 57, 57]               0\n",
      "           Conv2d-50          [-1, 144, 29, 29]           3,600\n",
      "      BatchNorm2d-51          [-1, 144, 29, 29]             288\n",
      "             SiLU-52          [-1, 144, 29, 29]               0\n",
      "AdaptiveAvgPool2d-53            [-1, 144, 1, 1]               0\n",
      "           Conv2d-54              [-1, 6, 1, 1]             870\n",
      "             SiLU-55              [-1, 6, 1, 1]               0\n",
      "           Conv2d-56            [-1, 144, 1, 1]           1,008\n",
      "          Sigmoid-57            [-1, 144, 1, 1]               0\n",
      "SqueezeExcitation-58          [-1, 144, 29, 29]               0\n",
      "           Conv2d-59           [-1, 40, 29, 29]           5,760\n",
      "      BatchNorm2d-60           [-1, 40, 29, 29]              80\n",
      "           MBConv-61           [-1, 40, 29, 29]               0\n",
      "           Conv2d-62          [-1, 240, 29, 29]           9,600\n",
      "      BatchNorm2d-63          [-1, 240, 29, 29]             480\n",
      "             SiLU-64          [-1, 240, 29, 29]               0\n",
      "           Conv2d-65          [-1, 240, 29, 29]           6,000\n",
      "      BatchNorm2d-66          [-1, 240, 29, 29]             480\n",
      "             SiLU-67          [-1, 240, 29, 29]               0\n",
      "AdaptiveAvgPool2d-68            [-1, 240, 1, 1]               0\n",
      "           Conv2d-69             [-1, 10, 1, 1]           2,410\n",
      "             SiLU-70             [-1, 10, 1, 1]               0\n",
      "           Conv2d-71            [-1, 240, 1, 1]           2,640\n",
      "          Sigmoid-72            [-1, 240, 1, 1]               0\n",
      "SqueezeExcitation-73          [-1, 240, 29, 29]               0\n",
      "           Conv2d-74           [-1, 40, 29, 29]           9,600\n",
      "      BatchNorm2d-75           [-1, 40, 29, 29]              80\n",
      "  StochasticDepth-76           [-1, 40, 29, 29]               0\n",
      "           MBConv-77           [-1, 40, 29, 29]               0\n",
      "           Conv2d-78          [-1, 240, 29, 29]           9,600\n",
      "      BatchNorm2d-79          [-1, 240, 29, 29]             480\n",
      "             SiLU-80          [-1, 240, 29, 29]               0\n",
      "           Conv2d-81          [-1, 240, 15, 15]           2,160\n",
      "      BatchNorm2d-82          [-1, 240, 15, 15]             480\n",
      "             SiLU-83          [-1, 240, 15, 15]               0\n",
      "AdaptiveAvgPool2d-84            [-1, 240, 1, 1]               0\n",
      "           Conv2d-85             [-1, 10, 1, 1]           2,410\n",
      "             SiLU-86             [-1, 10, 1, 1]               0\n",
      "           Conv2d-87            [-1, 240, 1, 1]           2,640\n",
      "          Sigmoid-88            [-1, 240, 1, 1]               0\n",
      "SqueezeExcitation-89          [-1, 240, 15, 15]               0\n",
      "           Conv2d-90           [-1, 80, 15, 15]          19,200\n",
      "      BatchNorm2d-91           [-1, 80, 15, 15]             160\n",
      "           MBConv-92           [-1, 80, 15, 15]               0\n",
      "           Conv2d-93          [-1, 480, 15, 15]          38,400\n",
      "      BatchNorm2d-94          [-1, 480, 15, 15]             960\n",
      "             SiLU-95          [-1, 480, 15, 15]               0\n",
      "           Conv2d-96          [-1, 480, 15, 15]           4,320\n",
      "      BatchNorm2d-97          [-1, 480, 15, 15]             960\n",
      "             SiLU-98          [-1, 480, 15, 15]               0\n",
      "AdaptiveAvgPool2d-99            [-1, 480, 1, 1]               0\n",
      "          Conv2d-100             [-1, 20, 1, 1]           9,620\n",
      "            SiLU-101             [-1, 20, 1, 1]               0\n",
      "          Conv2d-102            [-1, 480, 1, 1]          10,080\n",
      "         Sigmoid-103            [-1, 480, 1, 1]               0\n",
      "SqueezeExcitation-104          [-1, 480, 15, 15]               0\n",
      "          Conv2d-105           [-1, 80, 15, 15]          38,400\n",
      "     BatchNorm2d-106           [-1, 80, 15, 15]             160\n",
      " StochasticDepth-107           [-1, 80, 15, 15]               0\n",
      "          MBConv-108           [-1, 80, 15, 15]               0\n",
      "          Conv2d-109          [-1, 480, 15, 15]          38,400\n",
      "     BatchNorm2d-110          [-1, 480, 15, 15]             960\n",
      "            SiLU-111          [-1, 480, 15, 15]               0\n",
      "          Conv2d-112          [-1, 480, 15, 15]           4,320\n",
      "     BatchNorm2d-113          [-1, 480, 15, 15]             960\n",
      "            SiLU-114          [-1, 480, 15, 15]               0\n",
      "AdaptiveAvgPool2d-115            [-1, 480, 1, 1]               0\n",
      "          Conv2d-116             [-1, 20, 1, 1]           9,620\n",
      "            SiLU-117             [-1, 20, 1, 1]               0\n",
      "          Conv2d-118            [-1, 480, 1, 1]          10,080\n",
      "         Sigmoid-119            [-1, 480, 1, 1]               0\n",
      "SqueezeExcitation-120          [-1, 480, 15, 15]               0\n",
      "          Conv2d-121           [-1, 80, 15, 15]          38,400\n",
      "     BatchNorm2d-122           [-1, 80, 15, 15]             160\n",
      " StochasticDepth-123           [-1, 80, 15, 15]               0\n",
      "          MBConv-124           [-1, 80, 15, 15]               0\n",
      "          Conv2d-125          [-1, 480, 15, 15]          38,400\n",
      "     BatchNorm2d-126          [-1, 480, 15, 15]             960\n",
      "            SiLU-127          [-1, 480, 15, 15]               0\n",
      "          Conv2d-128          [-1, 480, 15, 15]          12,000\n",
      "     BatchNorm2d-129          [-1, 480, 15, 15]             960\n",
      "            SiLU-130          [-1, 480, 15, 15]               0\n",
      "AdaptiveAvgPool2d-131            [-1, 480, 1, 1]               0\n",
      "          Conv2d-132             [-1, 20, 1, 1]           9,620\n",
      "            SiLU-133             [-1, 20, 1, 1]               0\n",
      "          Conv2d-134            [-1, 480, 1, 1]          10,080\n",
      "         Sigmoid-135            [-1, 480, 1, 1]               0\n",
      "SqueezeExcitation-136          [-1, 480, 15, 15]               0\n",
      "          Conv2d-137          [-1, 112, 15, 15]          53,760\n",
      "     BatchNorm2d-138          [-1, 112, 15, 15]             224\n",
      "          MBConv-139          [-1, 112, 15, 15]               0\n",
      "          Conv2d-140          [-1, 672, 15, 15]          75,264\n",
      "     BatchNorm2d-141          [-1, 672, 15, 15]           1,344\n",
      "            SiLU-142          [-1, 672, 15, 15]               0\n",
      "          Conv2d-143          [-1, 672, 15, 15]          16,800\n",
      "     BatchNorm2d-144          [-1, 672, 15, 15]           1,344\n",
      "            SiLU-145          [-1, 672, 15, 15]               0\n",
      "AdaptiveAvgPool2d-146            [-1, 672, 1, 1]               0\n",
      "          Conv2d-147             [-1, 28, 1, 1]          18,844\n",
      "            SiLU-148             [-1, 28, 1, 1]               0\n",
      "          Conv2d-149            [-1, 672, 1, 1]          19,488\n",
      "         Sigmoid-150            [-1, 672, 1, 1]               0\n",
      "SqueezeExcitation-151          [-1, 672, 15, 15]               0\n",
      "          Conv2d-152          [-1, 112, 15, 15]          75,264\n",
      "     BatchNorm2d-153          [-1, 112, 15, 15]             224\n",
      " StochasticDepth-154          [-1, 112, 15, 15]               0\n",
      "          MBConv-155          [-1, 112, 15, 15]               0\n",
      "          Conv2d-156          [-1, 672, 15, 15]          75,264\n",
      "     BatchNorm2d-157          [-1, 672, 15, 15]           1,344\n",
      "            SiLU-158          [-1, 672, 15, 15]               0\n",
      "          Conv2d-159          [-1, 672, 15, 15]          16,800\n",
      "     BatchNorm2d-160          [-1, 672, 15, 15]           1,344\n",
      "            SiLU-161          [-1, 672, 15, 15]               0\n",
      "AdaptiveAvgPool2d-162            [-1, 672, 1, 1]               0\n",
      "          Conv2d-163             [-1, 28, 1, 1]          18,844\n",
      "            SiLU-164             [-1, 28, 1, 1]               0\n",
      "          Conv2d-165            [-1, 672, 1, 1]          19,488\n",
      "         Sigmoid-166            [-1, 672, 1, 1]               0\n",
      "SqueezeExcitation-167          [-1, 672, 15, 15]               0\n",
      "          Conv2d-168          [-1, 112, 15, 15]          75,264\n",
      "     BatchNorm2d-169          [-1, 112, 15, 15]             224\n",
      " StochasticDepth-170          [-1, 112, 15, 15]               0\n",
      "          MBConv-171          [-1, 112, 15, 15]               0\n",
      "          Conv2d-172          [-1, 672, 15, 15]          75,264\n",
      "     BatchNorm2d-173          [-1, 672, 15, 15]           1,344\n",
      "            SiLU-174          [-1, 672, 15, 15]               0\n",
      "          Conv2d-175            [-1, 672, 8, 8]          16,800\n",
      "     BatchNorm2d-176            [-1, 672, 8, 8]           1,344\n",
      "            SiLU-177            [-1, 672, 8, 8]               0\n",
      "AdaptiveAvgPool2d-178            [-1, 672, 1, 1]               0\n",
      "          Conv2d-179             [-1, 28, 1, 1]          18,844\n",
      "            SiLU-180             [-1, 28, 1, 1]               0\n",
      "          Conv2d-181            [-1, 672, 1, 1]          19,488\n",
      "         Sigmoid-182            [-1, 672, 1, 1]               0\n",
      "SqueezeExcitation-183            [-1, 672, 8, 8]               0\n",
      "          Conv2d-184            [-1, 192, 8, 8]         129,024\n",
      "     BatchNorm2d-185            [-1, 192, 8, 8]             384\n",
      "          MBConv-186            [-1, 192, 8, 8]               0\n",
      "          Conv2d-187           [-1, 1152, 8, 8]         221,184\n",
      "     BatchNorm2d-188           [-1, 1152, 8, 8]           2,304\n",
      "            SiLU-189           [-1, 1152, 8, 8]               0\n",
      "          Conv2d-190           [-1, 1152, 8, 8]          28,800\n",
      "     BatchNorm2d-191           [-1, 1152, 8, 8]           2,304\n",
      "            SiLU-192           [-1, 1152, 8, 8]               0\n",
      "AdaptiveAvgPool2d-193           [-1, 1152, 1, 1]               0\n",
      "          Conv2d-194             [-1, 48, 1, 1]          55,344\n",
      "            SiLU-195             [-1, 48, 1, 1]               0\n",
      "          Conv2d-196           [-1, 1152, 1, 1]          56,448\n",
      "         Sigmoid-197           [-1, 1152, 1, 1]               0\n",
      "SqueezeExcitation-198           [-1, 1152, 8, 8]               0\n",
      "          Conv2d-199            [-1, 192, 8, 8]         221,184\n",
      "     BatchNorm2d-200            [-1, 192, 8, 8]             384\n",
      " StochasticDepth-201            [-1, 192, 8, 8]               0\n",
      "          MBConv-202            [-1, 192, 8, 8]               0\n",
      "          Conv2d-203           [-1, 1152, 8, 8]         221,184\n",
      "     BatchNorm2d-204           [-1, 1152, 8, 8]           2,304\n",
      "            SiLU-205           [-1, 1152, 8, 8]               0\n",
      "          Conv2d-206           [-1, 1152, 8, 8]          28,800\n",
      "     BatchNorm2d-207           [-1, 1152, 8, 8]           2,304\n",
      "            SiLU-208           [-1, 1152, 8, 8]               0\n",
      "AdaptiveAvgPool2d-209           [-1, 1152, 1, 1]               0\n",
      "          Conv2d-210             [-1, 48, 1, 1]          55,344\n",
      "            SiLU-211             [-1, 48, 1, 1]               0\n",
      "          Conv2d-212           [-1, 1152, 1, 1]          56,448\n",
      "         Sigmoid-213           [-1, 1152, 1, 1]               0\n",
      "SqueezeExcitation-214           [-1, 1152, 8, 8]               0\n",
      "          Conv2d-215            [-1, 192, 8, 8]         221,184\n",
      "     BatchNorm2d-216            [-1, 192, 8, 8]             384\n",
      " StochasticDepth-217            [-1, 192, 8, 8]               0\n",
      "          MBConv-218            [-1, 192, 8, 8]               0\n",
      "          Conv2d-219           [-1, 1152, 8, 8]         221,184\n",
      "     BatchNorm2d-220           [-1, 1152, 8, 8]           2,304\n",
      "            SiLU-221           [-1, 1152, 8, 8]               0\n",
      "          Conv2d-222           [-1, 1152, 8, 8]          28,800\n",
      "     BatchNorm2d-223           [-1, 1152, 8, 8]           2,304\n",
      "            SiLU-224           [-1, 1152, 8, 8]               0\n",
      "AdaptiveAvgPool2d-225           [-1, 1152, 1, 1]               0\n",
      "          Conv2d-226             [-1, 48, 1, 1]          55,344\n",
      "            SiLU-227             [-1, 48, 1, 1]               0\n",
      "          Conv2d-228           [-1, 1152, 1, 1]          56,448\n",
      "         Sigmoid-229           [-1, 1152, 1, 1]               0\n",
      "SqueezeExcitation-230           [-1, 1152, 8, 8]               0\n",
      "          Conv2d-231            [-1, 192, 8, 8]         221,184\n",
      "     BatchNorm2d-232            [-1, 192, 8, 8]             384\n",
      " StochasticDepth-233            [-1, 192, 8, 8]               0\n",
      "          MBConv-234            [-1, 192, 8, 8]               0\n",
      "          Conv2d-235           [-1, 1152, 8, 8]         221,184\n",
      "     BatchNorm2d-236           [-1, 1152, 8, 8]           2,304\n",
      "            SiLU-237           [-1, 1152, 8, 8]               0\n",
      "          Conv2d-238           [-1, 1152, 8, 8]          10,368\n",
      "     BatchNorm2d-239           [-1, 1152, 8, 8]           2,304\n",
      "            SiLU-240           [-1, 1152, 8, 8]               0\n",
      "AdaptiveAvgPool2d-241           [-1, 1152, 1, 1]               0\n",
      "          Conv2d-242             [-1, 48, 1, 1]          55,344\n",
      "            SiLU-243             [-1, 48, 1, 1]               0\n",
      "          Conv2d-244           [-1, 1152, 1, 1]          56,448\n",
      "         Sigmoid-245           [-1, 1152, 1, 1]               0\n",
      "SqueezeExcitation-246           [-1, 1152, 8, 8]               0\n",
      "          Conv2d-247            [-1, 320, 8, 8]         368,640\n",
      "     BatchNorm2d-248            [-1, 320, 8, 8]             640\n",
      "          MBConv-249            [-1, 320, 8, 8]               0\n",
      "          Conv2d-250           [-1, 1280, 8, 8]         409,600\n",
      "     BatchNorm2d-251           [-1, 1280, 8, 8]           2,560\n",
      "            SiLU-252           [-1, 1280, 8, 8]               0\n",
      "AdaptiveAvgPool2d-253           [-1, 1280, 1, 1]               0\n",
      "         Dropout-254                 [-1, 1280]               0\n",
      "          Linear-255                   [-1, 20]          25,620\n",
      "    EfficientNet-256                   [-1, 20]               0\n",
      "================================================================\n",
      "Total params: 4,033,168\n",
      "Trainable params: 4,033,168\n",
      "Non-trainable params: 0\n",
      "----------------------------------------------------------------\n",
      "Input size (MB): 0.59\n",
      "Forward/backward pass size (MB): 189.02\n",
      "Params size (MB): 15.39\n",
      "Estimated Total Size (MB): 205.00\n",
      "----------------------------------------------------------------\n",
      "torch.Size([1, 20])\n"
     ]
    }
   ],
   "source": [
    "model = custom_efficientnet_b0(num_classes=20)\n",
    "\n",
    "device = torch.device(\"cuda\" if torch.cuda.is_available() else \"cpu\")\n",
    "model.to(device)\n",
    "\n",
    "summary(model, (3, 227, 227))\n",
    "\n",
    "dummy_input = torch.randn(1, 3, 227, 227).to(device)\n",
    "\n",
    "output = model(dummy_input)\n",
    "print(output.shape)"
   ]
  },
  {
   "cell_type": "markdown",
   "metadata": {},
   "source": []
  },
  {
   "cell_type": "code",
   "execution_count": 35,
   "metadata": {
    "execution": {
     "iopub.execute_input": "2024-12-14T15:29:37.288323Z",
     "iopub.status.busy": "2024-12-14T15:29:37.287702Z",
     "iopub.status.idle": "2024-12-14T15:29:37.917848Z",
     "shell.execute_reply": "2024-12-14T15:29:37.916993Z",
     "shell.execute_reply.started": "2024-12-14T15:29:37.288280Z"
    },
    "trusted": true
   },
   "outputs": [
    {
     "name": "stderr",
     "output_type": "stream",
     "text": [
      "/opt/conda/lib/python3.10/site-packages/ignite/handlers/checkpoint.py:16: DeprecationWarning: `TorchScript` support for functional optimizers is deprecated and will be removed in a future PyTorch release. Consider using the `torch.compile` optimizer instead.\n",
      "  from torch.distributed.optim import ZeroRedundancyOptimizer\n"
     ]
    }
   ],
   "source": [
    "from torch.optim import Adam\n",
    "from torch.utils.data import DataLoader\n",
    "from ignite.engine import Engine, Events\n",
    "from ignite.handlers import Checkpoint, DiskSaver, global_step_from_engine\n",
    "from ignite.metrics import Accuracy, Loss\n",
    "from ignite.contrib.handlers import ProgressBar\n",
    "import logging\n",
    "from ignite.metrics import Precision, Recall"
   ]
  },
  {
   "cell_type": "code",
   "execution_count": 36,
   "metadata": {
    "execution": {
     "iopub.execute_input": "2024-12-14T15:29:37.919361Z",
     "iopub.status.busy": "2024-12-14T15:29:37.919067Z",
     "iopub.status.idle": "2024-12-14T15:29:38.054801Z",
     "shell.execute_reply": "2024-12-14T15:29:38.053941Z",
     "shell.execute_reply.started": "2024-12-14T15:29:37.919333Z"
    },
    "trusted": true
   },
   "outputs": [
    {
     "name": "stderr",
     "output_type": "stream",
     "text": [
      "/opt/conda/lib/python3.10/site-packages/torchvision/models/_utils.py:208: UserWarning: The parameter 'pretrained' is deprecated since 0.13 and may be removed in the future, please use 'weights' instead.\n",
      "  warnings.warn(\n",
      "/opt/conda/lib/python3.10/site-packages/torchvision/models/_utils.py:223: UserWarning: Arguments other than a weight enum or `None` for 'weights' are deprecated since 0.13 and may be removed in the future. The current behavior is equivalent to passing `weights=None`.\n",
      "  warnings.warn(msg)\n"
     ]
    }
   ],
   "source": [
    "model = custom_efficientnet_b0().to(device)"
   ]
  },
  {
   "cell_type": "code",
   "execution_count": 37,
   "metadata": {
    "execution": {
     "iopub.execute_input": "2024-12-14T15:29:38.056781Z",
     "iopub.status.busy": "2024-12-14T15:29:38.056135Z",
     "iopub.status.idle": "2024-12-14T15:29:38.062838Z",
     "shell.execute_reply": "2024-12-14T15:29:38.062057Z",
     "shell.execute_reply.started": "2024-12-14T15:29:38.056739Z"
    },
    "trusted": true
   },
   "outputs": [],
   "source": [
    "# Определение функции потерь и оптимизатора\n",
    "# criterion = nn.CrossEntropyLoss()\n",
    "criterion = nn.CrossEntropyLoss(label_smoothing=0.1)\n",
    "weight_decay = 1e-4\n",
    "optimizer = torch.optim.AdamW(model.parameters(), lr=0.001, weight_decay=weight_decay)\n",
    "\n",
    "# Создание DataLoader\n",
    "train_loader = DataLoader(train_dataset, batch_size=64, shuffle=True, num_workers=3)\n",
    "val_loader = DataLoader(val_dataset, batch_size=64, shuffle=False, num_workers=3)"
   ]
  },
  {
   "cell_type": "code",
   "execution_count": 38,
   "metadata": {
    "execution": {
     "iopub.execute_input": "2024-12-14T15:29:38.064285Z",
     "iopub.status.busy": "2024-12-14T15:29:38.063969Z",
     "iopub.status.idle": "2024-12-14T15:29:38.074863Z",
     "shell.execute_reply": "2024-12-14T15:29:38.074244Z",
     "shell.execute_reply.started": "2024-12-14T15:29:38.064259Z"
    },
    "trusted": true
   },
   "outputs": [
    {
     "data": {
      "text/plain": [
       "time.struct_time(tm_year=2024, tm_mon=12, tm_mday=14, tm_hour=15, tm_min=29, tm_sec=38, tm_wday=5, tm_yday=349, tm_isdst=0)"
      ]
     },
     "execution_count": 38,
     "metadata": {},
     "output_type": "execute_result"
    }
   ],
   "source": [
    "import time\n",
    "\n",
    "time.localtime()"
   ]
  },
  {
   "cell_type": "code",
   "execution_count": 39,
   "metadata": {
    "execution": {
     "iopub.execute_input": "2024-12-14T15:29:38.076121Z",
     "iopub.status.busy": "2024-12-14T15:29:38.075848Z",
     "iopub.status.idle": "2024-12-14T15:29:38.084139Z",
     "shell.execute_reply": "2024-12-14T15:29:38.083254Z",
     "shell.execute_reply.started": "2024-12-14T15:29:38.076096Z"
    },
    "trusted": true
   },
   "outputs": [],
   "source": [
    "# lr_scheduler = torch.optim.lr_scheduler.ReduceLROnPlateau(\n",
    "#     optimizer, \n",
    "#     mode='min',  # Или 'max', если метрика должна увеличиваться\n",
    "#     factor=0.75,  # Во сколько раз уменьшать learning rate\n",
    "#     patience=1,  # Сколько эпох ждать улучшений\n",
    "#     verbose=True,  # Выводить сообщения о снижении learning rate\n",
    "#     min_lr=1e-6  # Минимальное значение learning rate\n",
    "# )\n",
    "\n",
    "lr_scheduler = torch.optim.lr_scheduler.CosineAnnealingLR(optimizer, T_max=10)"
   ]
  },
  {
   "cell_type": "code",
   "execution_count": 59,
   "metadata": {
    "execution": {
     "iopub.execute_input": "2024-12-14T16:26:24.241936Z",
     "iopub.status.busy": "2024-12-14T16:26:24.241607Z",
     "iopub.status.idle": "2024-12-14T16:26:24.266143Z",
     "shell.execute_reply": "2024-12-14T16:26:24.265402Z",
     "shell.execute_reply.started": "2024-12-14T16:26:24.241908Z"
    },
    "trusted": true
   },
   "outputs": [],
   "source": [
    "import os\n",
    "import time\n",
    "import logging\n",
    "import pandas as pd\n",
    "import torch\n",
    "from ignite.engine import Engine, Events\n",
    "from ignite.metrics import Precision, Recall, Loss, MetricsLambda\n",
    "from ignite.handlers import EarlyStopping, Checkpoint, DiskSaver, global_step_from_engine\n",
    "from ignite.contrib.handlers import ProgressBar\n",
    "\n",
    "\n",
    "# Функция для вычисления взвешенного F1\n",
    "def weighted_f1_from_tensor(f1_tensor, class_weights):\n",
    "    # Преобразуем веса классов в список\n",
    "    class_weights_tensor = torch.tensor([class_weights.get(i, 0) for i in range(len(f1_tensor))], dtype=torch.float32)\n",
    "\n",
    "    # Массив F1 для классов, которые присутствуют в данных\n",
    "    f1_values = f1_tensor[class_weights_tensor > 0]  # Фильтруем классы с нулевыми весами\n",
    "    class_weights_values = class_weights_tensor[class_weights_tensor > 0]\n",
    "\n",
    "    if len(f1_values) == 0:  # Если нет классов с ненулевыми весами\n",
    "        return 0.0\n",
    "\n",
    "    # Рассчитываем взвешенный F1\n",
    "    weighted_f1 = torch.sum(f1_values * class_weights_values) / torch.sum(class_weights_values)\n",
    "    return weighted_f1.item()\n",
    "\n",
    "# Определяем одну итерацию обучения (тренировочный шаг)\n",
    "def train_step(engine, batch):\n",
    "    model.train()\n",
    "    images, labels, img_id = batch\n",
    "    images, labels = images.to(device), labels.to(device)\n",
    "    optimizer.zero_grad()\n",
    "    outputs = model(images)\n",
    "    loss = criterion(outputs, labels)\n",
    "    loss.backward()\n",
    "    optimizer.step()\n",
    "    return {\"loss\": loss.item(), \"outputs\": outputs, \"labels\": labels}\n",
    "\n",
    "# Определяем одну итерацию валидации\n",
    "def val_step(engine, batch):\n",
    "    model.eval()\n",
    "    with torch.no_grad():\n",
    "        images, labels, img_id = batch\n",
    "        images, labels = images.to(device), labels.to(device)\n",
    "        outputs = model(images)\n",
    "        return {\"outputs\": outputs, \"labels\": labels}\n",
    "\n",
    "# Создаём движки для тренировки и валидации\n",
    "trainer = Engine(train_step)\n",
    "evaluator = Engine(val_step)\n",
    "\n",
    "# Определяем метрики Precision, Recall и F1\n",
    "precision = Precision(average=False, output_transform=lambda x: (x[\"outputs\"], x[\"labels\"]))\n",
    "recall = Recall(average=False, output_transform=lambda x: (x[\"outputs\"], x[\"labels\"]))\n",
    "f1 = MetricsLambda(lambda p, r: 2 * (p * r) / (p + r + 1e-9), precision, recall)\n",
    "\n",
    "# Добавляем метрики к тренеру и валидатору\n",
    "train_loss = Loss(criterion, output_transform=lambda x: (x[\"outputs\"], x[\"labels\"]))\n",
    "train_loss.attach(trainer, \"loss\")\n",
    "precision.attach(trainer, \"precision\")\n",
    "recall.attach(trainer, \"recall\")\n",
    "f1.attach(trainer, \"F1\")\n",
    "\n",
    "eval_loss = Loss(criterion, output_transform=lambda x: (x[\"outputs\"], x[\"labels\"]))\n",
    "eval_loss.attach(evaluator, \"loss\")\n",
    "precision.attach(evaluator, \"precision\")\n",
    "recall.attach(evaluator, \"recall\")\n",
    "f1.attach(evaluator, \"F1\")\n",
    "\n",
    "# Обработчик ранней остановки\n",
    "handler = EarlyStopping(\n",
    "    patience=7,\n",
    "    score_function=lambda engine: -engine.state.metrics[\"loss\"],  # Отслеживаем метрику потерь\n",
    "    trainer=trainer,\n",
    "    min_delta=0.01\n",
    ")\n",
    "evaluator.add_event_handler(Events.COMPLETED, handler)\n",
    "\n",
    "# Прогресс-бар\n",
    "ProgressBar().attach(trainer)\n",
    "ProgressBar().attach(evaluator)\n",
    "\n",
    "# Логирование\n",
    "cur_time = time.localtime()\n",
    "path_suf = f'_{cur_time.tm_mday}_{cur_time.tm_mon}_{cur_time.tm_hour}_{cur_time.tm_min}'\n",
    "\n",
    "log_dir = \"./train_info/logs\" + path_suf\n",
    "os.makedirs(log_dir, exist_ok=True)\n",
    "logging.basicConfig(\n",
    "    filename=os.path.join(log_dir, \"training.log\"),\n",
    "    level=logging.INFO,\n",
    "    format=\"%(asctime)s - %(message)s\",\n",
    ")\n",
    "logger = logging.getLogger()\n",
    "\n",
    "# Сохраняем метрики в DataFrame\n",
    "metrics_path = os.path.join(log_dir, \"metrics.csv\")\n",
    "if os.path.exists(metrics_path):\n",
    "    metrics_df = pd.read_csv(metrics_path)\n",
    "else:\n",
    "    metrics_df = pd.DataFrame(columns=[\"Epoch\", \"Train Loss\", \"Train F1\", \"Validation Loss\", \"Validation F1\"])\n",
    "\n",
    "# Сохранение модели\n",
    "to_save = {\"model\": model, \"optimizer\": optimizer, \"trainer\": trainer}\n",
    "checkpoint_handler = Checkpoint(\n",
    "    to_save,\n",
    "    DiskSaver(\"./train_info/checkpoints\" + path_suf, create_dir=True, require_empty=False, atomic=False),\n",
    "    n_saved=3,\n",
    "    filename_prefix=\"best\",\n",
    "    score_function=lambda engine: weighted_f1_from_tensor(engine.state.metrics[\"F1\"], train_class_weights),  # Применяем weighted F1\n",
    "    score_name=\"val_F1\",\n",
    "    global_step_transform=global_step_from_engine(trainer),\n",
    ")\n",
    "\n",
    "\n",
    "@trainer.on(Events.EPOCH_COMPLETED)\n",
    "def log_and_save_metrics(engine):\n",
    "    # Логируем метрики тренировки\n",
    "    train_metrics = engine.state.metrics\n",
    "    train_loss = train_metrics[\"loss\"]\n",
    "    train_F1 = train_metrics[\"F1\"]\n",
    "\n",
    "    # Запускаем валидацию\n",
    "    evaluator.run(val_loader)\n",
    "    val_metrics = evaluator.state.metrics\n",
    "    val_loss = val_metrics[\"loss\"]\n",
    "    val_F1 = val_metrics[\"F1\"]\n",
    "    \n",
    "    # Рассчитываем взвешенные F1\n",
    "    weighted_train_f1 = weighted_f1_from_tensor(train_F1, train_class_weights)\n",
    "    weighted_val_f1 = weighted_f1_from_tensor(val_F1, val_class_weights)\n",
    "\n",
    "\n",
    "    # Логируем результаты\n",
    "    logger.info(f\"Epoch {engine.state.epoch}: Train Loss: {train_loss:.4f}, Train Weighted F1: {weighted_train_f1:.4f}, \"\n",
    "                f\"Validation Loss: {val_loss:.4f}, Validation Weighted F1: {weighted_val_f1:.4f}\")\n",
    "    print(f\"Epoch {engine.state.epoch}: Train Loss: {train_loss:.4f}, Train Weighted F1: {weighted_train_f1:.4f}, \"\n",
    "          f\"Validation Loss: {val_loss:.4f}, Validation Weighted F1: {weighted_val_f1:.4f}\")\n",
    "\n",
    "    # Сохраняем метрики в DataFrame\n",
    "    global metrics_df\n",
    "    metrics_df = pd.concat(\n",
    "        [metrics_df, pd.DataFrame({\n",
    "            \"Epoch\": [engine.state.epoch],\n",
    "            \"Train Loss\": [train_loss],\n",
    "            \"Train F1\": [train_F1],\n",
    "            \"Validation Loss\": [val_loss],\n",
    "            \"Validation F1\": [val_F1],\n",
    "        })],\n",
    "        ignore_index=True\n",
    "    )\n",
    "    metrics_df.to_csv(metrics_path, index=False)\n",
    "\n",
    "    # Сохраняем модель\n",
    "    checkpoint_handler(evaluator)\n",
    "\n",
    "# Логируем изменения learning rate и weight decay\n",
    "@trainer.on(Events.EPOCH_COMPLETED)\n",
    "def log_lr_and_threshold(engine):\n",
    "    current_lr = optimizer.param_groups[0][\"lr\"]\n",
    "    logger.info(f\"Epoch {engine.state.epoch}: Learning Rate: {current_lr:.6f}\")\n",
    "    print(f\"Epoch {engine.state.epoch}: Learning Rate: {current_lr:.6f}\")\n"
   ]
  },
  {
   "cell_type": "code",
   "execution_count": 60,
   "metadata": {
    "execution": {
     "iopub.execute_input": "2024-12-14T16:26:26.663652Z",
     "iopub.status.busy": "2024-12-14T16:26:26.662788Z",
     "iopub.status.idle": "2024-12-14T17:11:10.224168Z",
     "shell.execute_reply": "2024-12-14T17:11:10.222995Z",
     "shell.execute_reply.started": "2024-12-14T16:26:26.663616Z"
    },
    "trusted": true
   },
   "outputs": [
    {
     "data": {
      "application/vnd.jupyter.widget-view+json": {
       "model_id": "",
       "version_major": 2,
       "version_minor": 0
      },
      "text/plain": [
       "[1/346]   0%|           [00:00<?]"
      ]
     },
     "metadata": {},
     "output_type": "display_data"
    },
    {
     "data": {
      "application/vnd.jupyter.widget-view+json": {
       "model_id": "",
       "version_major": 2,
       "version_minor": 0
      },
      "text/plain": [
       "[1/20]   5%|5          [00:00<?]"
      ]
     },
     "metadata": {},
     "output_type": "display_data"
    },
    {
     "name": "stdout",
     "output_type": "stream",
     "text": [
      "Epoch 1: Train Loss: 1.8332, Train Weighted F1: 0.2754, Validation Loss: 2.0153, Validation Weighted F1: 0.3109\n",
      "Epoch 1: Learning Rate: 0.001000\n"
     ]
    },
    {
     "name": "stderr",
     "output_type": "stream",
     "text": [
      "/tmp/ipykernel_23/474177218.py:143: FutureWarning: The behavior of DataFrame concatenation with empty or all-NA entries is deprecated. In a future version, this will no longer exclude empty or all-NA columns when determining the result dtypes. To retain the old behavior, exclude the relevant entries before the concat operation.\n",
      "  metrics_df = pd.concat(\n"
     ]
    },
    {
     "data": {
      "application/vnd.jupyter.widget-view+json": {
       "model_id": "",
       "version_major": 2,
       "version_minor": 0
      },
      "text/plain": [
       "[1/346]   0%|           [00:00<?]"
      ]
     },
     "metadata": {},
     "output_type": "display_data"
    },
    {
     "data": {
      "application/vnd.jupyter.widget-view+json": {
       "model_id": "",
       "version_major": 2,
       "version_minor": 0
      },
      "text/plain": [
       "[1/20]   5%|5          [00:00<?]"
      ]
     },
     "metadata": {},
     "output_type": "display_data"
    },
    {
     "name": "stdout",
     "output_type": "stream",
     "text": [
      "Epoch 2: Train Loss: 1.7260, Train Weighted F1: 0.3034, Validation Loss: 1.8039, Validation Weighted F1: 0.3323\n",
      "Epoch 2: Learning Rate: 0.001000\n"
     ]
    },
    {
     "data": {
      "application/vnd.jupyter.widget-view+json": {
       "model_id": "",
       "version_major": 2,
       "version_minor": 0
      },
      "text/plain": [
       "[1/346]   0%|           [00:00<?]"
      ]
     },
     "metadata": {},
     "output_type": "display_data"
    },
    {
     "data": {
      "application/vnd.jupyter.widget-view+json": {
       "model_id": "",
       "version_major": 2,
       "version_minor": 0
      },
      "text/plain": [
       "[1/20]   5%|5          [00:00<?]"
      ]
     },
     "metadata": {},
     "output_type": "display_data"
    },
    {
     "name": "stdout",
     "output_type": "stream",
     "text": [
      "Epoch 3: Train Loss: 1.6107, Train Weighted F1: 0.3509, Validation Loss: 1.7560, Validation Weighted F1: 0.3954\n",
      "Epoch 3: Learning Rate: 0.001000\n"
     ]
    },
    {
     "data": {
      "application/vnd.jupyter.widget-view+json": {
       "model_id": "",
       "version_major": 2,
       "version_minor": 0
      },
      "text/plain": [
       "[1/346]   0%|           [00:00<?]"
      ]
     },
     "metadata": {},
     "output_type": "display_data"
    },
    {
     "data": {
      "application/vnd.jupyter.widget-view+json": {
       "model_id": "",
       "version_major": 2,
       "version_minor": 0
      },
      "text/plain": [
       "[1/20]   5%|5          [00:00<?]"
      ]
     },
     "metadata": {},
     "output_type": "display_data"
    },
    {
     "name": "stdout",
     "output_type": "stream",
     "text": [
      "Epoch 4: Train Loss: 1.4929, Train Weighted F1: 0.3995, Validation Loss: 1.6979, Validation Weighted F1: 0.4061\n",
      "Epoch 4: Learning Rate: 0.001000\n"
     ]
    },
    {
     "data": {
      "application/vnd.jupyter.widget-view+json": {
       "model_id": "",
       "version_major": 2,
       "version_minor": 0
      },
      "text/plain": [
       "[1/346]   0%|           [00:00<?]"
      ]
     },
     "metadata": {},
     "output_type": "display_data"
    },
    {
     "data": {
      "application/vnd.jupyter.widget-view+json": {
       "model_id": "",
       "version_major": 2,
       "version_minor": 0
      },
      "text/plain": [
       "[1/20]   5%|5          [00:00<?]"
      ]
     },
     "metadata": {},
     "output_type": "display_data"
    },
    {
     "name": "stdout",
     "output_type": "stream",
     "text": [
      "Epoch 5: Train Loss: 1.3855, Train Weighted F1: 0.4343, Validation Loss: 1.6961, Validation Weighted F1: 0.3959\n",
      "Epoch 5: Learning Rate: 0.001000\n"
     ]
    },
    {
     "data": {
      "application/vnd.jupyter.widget-view+json": {
       "model_id": "",
       "version_major": 2,
       "version_minor": 0
      },
      "text/plain": [
       "[1/346]   0%|           [00:00<?]"
      ]
     },
     "metadata": {},
     "output_type": "display_data"
    },
    {
     "data": {
      "application/vnd.jupyter.widget-view+json": {
       "model_id": "",
       "version_major": 2,
       "version_minor": 0
      },
      "text/plain": [
       "[1/20]   5%|5          [00:00<?]"
      ]
     },
     "metadata": {},
     "output_type": "display_data"
    },
    {
     "name": "stdout",
     "output_type": "stream",
     "text": [
      "Epoch 6: Train Loss: 1.2681, Train Weighted F1: 0.4944, Validation Loss: 1.6472, Validation Weighted F1: 0.4053\n",
      "Epoch 6: Learning Rate: 0.001000\n"
     ]
    },
    {
     "data": {
      "application/vnd.jupyter.widget-view+json": {
       "model_id": "",
       "version_major": 2,
       "version_minor": 0
      },
      "text/plain": [
       "[1/346]   0%|           [00:00<?]"
      ]
     },
     "metadata": {},
     "output_type": "display_data"
    },
    {
     "data": {
      "application/vnd.jupyter.widget-view+json": {
       "model_id": "",
       "version_major": 2,
       "version_minor": 0
      },
      "text/plain": [
       "[1/20]   5%|5          [00:00<?]"
      ]
     },
     "metadata": {},
     "output_type": "display_data"
    },
    {
     "name": "stdout",
     "output_type": "stream",
     "text": [
      "Epoch 7: Train Loss: 1.1648, Train Weighted F1: 0.5777, Validation Loss: 1.6655, Validation Weighted F1: 0.4307\n",
      "Epoch 7: Learning Rate: 0.001000\n"
     ]
    },
    {
     "data": {
      "application/vnd.jupyter.widget-view+json": {
       "model_id": "",
       "version_major": 2,
       "version_minor": 0
      },
      "text/plain": [
       "[1/346]   0%|           [00:00<?]"
      ]
     },
     "metadata": {},
     "output_type": "display_data"
    },
    {
     "data": {
      "application/vnd.jupyter.widget-view+json": {
       "model_id": "",
       "version_major": 2,
       "version_minor": 0
      },
      "text/plain": [
       "[1/20]   5%|5          [00:00<?]"
      ]
     },
     "metadata": {},
     "output_type": "display_data"
    },
    {
     "name": "stdout",
     "output_type": "stream",
     "text": [
      "Epoch 8: Train Loss: 1.0798, Train Weighted F1: 0.6164, Validation Loss: 1.6110, Validation Weighted F1: 0.4454\n",
      "Epoch 8: Learning Rate: 0.001000\n"
     ]
    },
    {
     "data": {
      "application/vnd.jupyter.widget-view+json": {
       "model_id": "",
       "version_major": 2,
       "version_minor": 0
      },
      "text/plain": [
       "[1/346]   0%|           [00:00<?]"
      ]
     },
     "metadata": {},
     "output_type": "display_data"
    },
    {
     "data": {
      "application/vnd.jupyter.widget-view+json": {
       "model_id": "",
       "version_major": 2,
       "version_minor": 0
      },
      "text/plain": [
       "[1/20]   5%|5          [00:00<?]"
      ]
     },
     "metadata": {},
     "output_type": "display_data"
    },
    {
     "name": "stdout",
     "output_type": "stream",
     "text": [
      "Epoch 9: Train Loss: 0.9987, Train Weighted F1: 0.7053, Validation Loss: 1.6307, Validation Weighted F1: 0.4732\n",
      "Epoch 9: Learning Rate: 0.001000\n"
     ]
    },
    {
     "data": {
      "application/vnd.jupyter.widget-view+json": {
       "model_id": "",
       "version_major": 2,
       "version_minor": 0
      },
      "text/plain": [
       "[1/346]   0%|           [00:00<?]"
      ]
     },
     "metadata": {},
     "output_type": "display_data"
    },
    {
     "data": {
      "application/vnd.jupyter.widget-view+json": {
       "model_id": "",
       "version_major": 2,
       "version_minor": 0
      },
      "text/plain": [
       "[1/20]   5%|5          [00:00<?]"
      ]
     },
     "metadata": {},
     "output_type": "display_data"
    },
    {
     "name": "stdout",
     "output_type": "stream",
     "text": [
      "Epoch 10: Train Loss: 0.9350, Train Weighted F1: 0.7611, Validation Loss: 1.6050, Validation Weighted F1: 0.5357\n",
      "Epoch 10: Learning Rate: 0.001000\n"
     ]
    },
    {
     "data": {
      "application/vnd.jupyter.widget-view+json": {
       "model_id": "",
       "version_major": 2,
       "version_minor": 0
      },
      "text/plain": [
       "[1/346]   0%|           [00:00<?]"
      ]
     },
     "metadata": {},
     "output_type": "display_data"
    },
    {
     "data": {
      "application/vnd.jupyter.widget-view+json": {
       "model_id": "",
       "version_major": 2,
       "version_minor": 0
      },
      "text/plain": [
       "[1/20]   5%|5          [00:00<?]"
      ]
     },
     "metadata": {},
     "output_type": "display_data"
    },
    {
     "name": "stdout",
     "output_type": "stream",
     "text": [
      "Epoch 11: Train Loss: 0.8811, Train Weighted F1: 0.8218, Validation Loss: 1.6290, Validation Weighted F1: 0.5403\n",
      "Epoch 11: Learning Rate: 0.001000\n"
     ]
    },
    {
     "data": {
      "application/vnd.jupyter.widget-view+json": {
       "model_id": "",
       "version_major": 2,
       "version_minor": 0
      },
      "text/plain": [
       "[1/346]   0%|           [00:00<?]"
      ]
     },
     "metadata": {},
     "output_type": "display_data"
    },
    {
     "data": {
      "application/vnd.jupyter.widget-view+json": {
       "model_id": "",
       "version_major": 2,
       "version_minor": 0
      },
      "text/plain": [
       "[1/20]   5%|5          [00:00<?]"
      ]
     },
     "metadata": {},
     "output_type": "display_data"
    },
    {
     "name": "stdout",
     "output_type": "stream",
     "text": [
      "Epoch 12: Train Loss: 0.8423, Train Weighted F1: 0.8583, Validation Loss: 1.6254, Validation Weighted F1: 0.5702\n",
      "Epoch 12: Learning Rate: 0.001000\n"
     ]
    },
    {
     "data": {
      "application/vnd.jupyter.widget-view+json": {
       "model_id": "",
       "version_major": 2,
       "version_minor": 0
      },
      "text/plain": [
       "[1/346]   0%|           [00:00<?]"
      ]
     },
     "metadata": {},
     "output_type": "display_data"
    },
    {
     "data": {
      "application/vnd.jupyter.widget-view+json": {
       "model_id": "",
       "version_major": 2,
       "version_minor": 0
      },
      "text/plain": [
       "[1/20]   5%|5          [00:00<?]"
      ]
     },
     "metadata": {},
     "output_type": "display_data"
    },
    {
     "name": "stdout",
     "output_type": "stream",
     "text": [
      "Epoch 13: Train Loss: 0.8062, Train Weighted F1: 0.8851, Validation Loss: 1.5722, Validation Weighted F1: 0.5374\n",
      "Epoch 13: Learning Rate: 0.001000\n"
     ]
    },
    {
     "data": {
      "application/vnd.jupyter.widget-view+json": {
       "model_id": "",
       "version_major": 2,
       "version_minor": 0
      },
      "text/plain": [
       "[1/346]   0%|           [00:00<?]"
      ]
     },
     "metadata": {},
     "output_type": "display_data"
    },
    {
     "data": {
      "application/vnd.jupyter.widget-view+json": {
       "model_id": "",
       "version_major": 2,
       "version_minor": 0
      },
      "text/plain": [
       "[1/20]   5%|5          [00:00<?]"
      ]
     },
     "metadata": {},
     "output_type": "display_data"
    },
    {
     "name": "stdout",
     "output_type": "stream",
     "text": [
      "Epoch 14: Train Loss: 0.7833, Train Weighted F1: 0.9122, Validation Loss: 1.6131, Validation Weighted F1: 0.5707\n",
      "Epoch 14: Learning Rate: 0.001000\n"
     ]
    },
    {
     "data": {
      "application/vnd.jupyter.widget-view+json": {
       "model_id": "",
       "version_major": 2,
       "version_minor": 0
      },
      "text/plain": [
       "[1/346]   0%|           [00:00<?]"
      ]
     },
     "metadata": {},
     "output_type": "display_data"
    },
    {
     "data": {
      "application/vnd.jupyter.widget-view+json": {
       "model_id": "",
       "version_major": 2,
       "version_minor": 0
      },
      "text/plain": [
       "[1/20]   5%|5          [00:00<?]"
      ]
     },
     "metadata": {},
     "output_type": "display_data"
    },
    {
     "name": "stdout",
     "output_type": "stream",
     "text": [
      "Epoch 15: Train Loss: 0.7639, Train Weighted F1: 0.9300, Validation Loss: 1.6687, Validation Weighted F1: 0.5160\n",
      "Epoch 15: Learning Rate: 0.001000\n"
     ]
    },
    {
     "data": {
      "application/vnd.jupyter.widget-view+json": {
       "model_id": "",
       "version_major": 2,
       "version_minor": 0
      },
      "text/plain": [
       "[1/346]   0%|           [00:00<?]"
      ]
     },
     "metadata": {},
     "output_type": "display_data"
    },
    {
     "data": {
      "application/vnd.jupyter.widget-view+json": {
       "model_id": "",
       "version_major": 2,
       "version_minor": 0
      },
      "text/plain": [
       "[1/20]   5%|5          [00:00<?]"
      ]
     },
     "metadata": {},
     "output_type": "display_data"
    },
    {
     "name": "stdout",
     "output_type": "stream",
     "text": [
      "Epoch 16: Train Loss: 0.7612, Train Weighted F1: 0.9351, Validation Loss: 1.6059, Validation Weighted F1: 0.5735\n",
      "Epoch 16: Learning Rate: 0.001000\n"
     ]
    },
    {
     "data": {
      "application/vnd.jupyter.widget-view+json": {
       "model_id": "",
       "version_major": 2,
       "version_minor": 0
      },
      "text/plain": [
       "[1/346]   0%|           [00:00<?]"
      ]
     },
     "metadata": {},
     "output_type": "display_data"
    },
    {
     "data": {
      "application/vnd.jupyter.widget-view+json": {
       "model_id": "9d73ef4c548a4bab8c9b06976edf44a2",
       "version_major": 2,
       "version_minor": 0
      },
      "text/plain": [
       "[1/20]   5%|5          [00:00<?]"
      ]
     },
     "metadata": {},
     "output_type": "display_data"
    },
    {
     "name": "stdout",
     "output_type": "stream",
     "text": [
      "Epoch 17: Train Loss: 0.7531, Train Weighted F1: 0.9462, Validation Loss: 1.6287, Validation Weighted F1: 0.5905\n",
      "Epoch 17: Learning Rate: 0.001000\n"
     ]
    },
    {
     "data": {
      "application/vnd.jupyter.widget-view+json": {
       "model_id": "",
       "version_major": 2,
       "version_minor": 0
      },
      "text/plain": [
       "[1/346]   0%|           [00:00<?]"
      ]
     },
     "metadata": {},
     "output_type": "display_data"
    },
    {
     "data": {
      "application/vnd.jupyter.widget-view+json": {
       "model_id": "",
       "version_major": 2,
       "version_minor": 0
      },
      "text/plain": [
       "[1/20]   5%|5          [00:00<?]"
      ]
     },
     "metadata": {},
     "output_type": "display_data"
    },
    {
     "name": "stdout",
     "output_type": "stream",
     "text": [
      "Epoch 18: Train Loss: 0.7419, Train Weighted F1: 0.9538, Validation Loss: 1.5638, Validation Weighted F1: 0.5998\n",
      "Epoch 18: Learning Rate: 0.001000\n"
     ]
    },
    {
     "data": {
      "application/vnd.jupyter.widget-view+json": {
       "model_id": "",
       "version_major": 2,
       "version_minor": 0
      },
      "text/plain": [
       "[1/346]   0%|           [00:00<?]"
      ]
     },
     "metadata": {},
     "output_type": "display_data"
    },
    {
     "data": {
      "application/vnd.jupyter.widget-view+json": {
       "model_id": "",
       "version_major": 2,
       "version_minor": 0
      },
      "text/plain": [
       "[1/20]   5%|5          [00:00<?]"
      ]
     },
     "metadata": {},
     "output_type": "display_data"
    },
    {
     "name": "stdout",
     "output_type": "stream",
     "text": [
      "Epoch 19: Train Loss: 0.7309, Train Weighted F1: 0.9560, Validation Loss: 1.5775, Validation Weighted F1: 0.5549\n",
      "Epoch 19: Learning Rate: 0.001000\n"
     ]
    },
    {
     "data": {
      "application/vnd.jupyter.widget-view+json": {
       "model_id": "",
       "version_major": 2,
       "version_minor": 0
      },
      "text/plain": [
       "[1/346]   0%|           [00:00<?]"
      ]
     },
     "metadata": {},
     "output_type": "display_data"
    },
    {
     "data": {
      "application/vnd.jupyter.widget-view+json": {
       "model_id": "",
       "version_major": 2,
       "version_minor": 0
      },
      "text/plain": [
       "[1/20]   5%|5          [00:00<?]"
      ]
     },
     "metadata": {},
     "output_type": "display_data"
    },
    {
     "name": "stderr",
     "output_type": "stream",
     "text": [
      "2024-12-14 17:11:10,087 ignite.handlers.early_stopping.EarlyStopping INFO: EarlyStopping: Stop training\n"
     ]
    },
    {
     "name": "stdout",
     "output_type": "stream",
     "text": [
      "Epoch 20: Train Loss: 0.7082, Train Weighted F1: 0.9695, Validation Loss: 1.5614, Validation Weighted F1: 0.5702\n",
      "Epoch 20: Learning Rate: 0.001000\n"
     ]
    },
    {
     "data": {
      "text/plain": [
       "State:\n",
       "\titeration: 6920\n",
       "\tepoch: 20\n",
       "\tepoch_length: 346\n",
       "\tmax_epochs: 35\n",
       "\toutput: <class 'dict'>\n",
       "\tbatch: <class 'list'>\n",
       "\tmetrics: <class 'dict'>\n",
       "\tdataloader: <class 'torch.utils.data.dataloader.DataLoader'>\n",
       "\tseed: <class 'NoneType'>\n",
       "\ttimes: <class 'dict'>"
      ]
     },
     "execution_count": 60,
     "metadata": {},
     "output_type": "execute_result"
    }
   ],
   "source": [
    "# weight_decay = 1e-4\n",
    "trainer.run(train_loader, max_epochs=35)\n",
    "\n",
    "# Полный output обучения можно посмотреть в traning.log"
   ]
  },
  {
   "cell_type": "code",
   "execution_count": 61,
   "metadata": {
    "execution": {
     "iopub.execute_input": "2024-12-14T17:18:03.353384Z",
     "iopub.status.busy": "2024-12-14T17:18:03.352990Z",
     "iopub.status.idle": "2024-12-14T17:21:28.250100Z",
     "shell.execute_reply": "2024-12-14T17:21:28.249043Z",
     "shell.execute_reply.started": "2024-12-14T17:18:03.353345Z"
    },
    "trusted": true
   },
   "outputs": [
    {
     "name": "stdout",
     "output_type": "stream",
     "text": [
      "Submission file saved to: /kaggle/working/submission.csv\n"
     ]
    }
   ],
   "source": [
    "import os\n",
    "import pandas as pd\n",
    "import torch\n",
    "from torchvision import transforms\n",
    "from PIL import Image\n",
    "\n",
    "model.eval()  \n",
    "\n",
    "test_images_path = \"/kaggle/input/ml-intensive-yandex-academy-autumn-2024/human_poses_data/img_test\"\n",
    "\n",
    "transform = transforms.Compose([\n",
    "    transforms.Resize((227, 227)),  # Изменяем размер изображений\n",
    "    transforms.ToTensor(),\n",
    "    transforms.Normalize(mean=[0.485, 0.456, 0.406],\n",
    "                         std=[0.229, 0.224, 0.225])\n",
    "])\n",
    "\n",
    "test_image_files = [f for f in os.listdir(test_images_path) if f.endswith('.jpg') or f.endswith('.png')]\n",
    "\n",
    "results = []\n",
    "\n",
    "for image_file in test_image_files:\n",
    "    image_path = os.path.join(test_images_path, image_file)\n",
    "    image = Image.open(image_path).convert(\"RGB\") \n",
    "    image = transform(image).unsqueeze(0).to(device)\n",
    "\n",
    "    with torch.no_grad():\n",
    "        outputs = model(image)\n",
    "        predicted_class = torch.argmax(outputs, dim=1).item() \n",
    "\n",
    "    image_id = os.path.splitext(image_file)[0]\n",
    "    results.append({\"id\": image_id, \"target_feature\": predicted_class})\n",
    "\n",
    "submission_df = pd.DataFrame(results)\n",
    "\n",
    "submission_file_path = \"/kaggle/working/submission.csv\"\n",
    "submission_df.to_csv(submission_file_path, index=False)\n",
    "\n",
    "print(f\"Submission file saved to: {submission_file_path}\")\n"
   ]
  }
 ],
 "metadata": {
  "kaggle": {
   "accelerator": "gpu",
   "dataSources": [
    {
     "databundleVersionId": 10288468,
     "sourceId": 89345,
     "sourceType": "competition"
    },
    {
     "datasetId": 6286408,
     "sourceId": 10177684,
     "sourceType": "datasetVersion"
    }
   ],
   "dockerImageVersionId": 30805,
   "isGpuEnabled": true,
   "isInternetEnabled": true,
   "language": "python",
   "sourceType": "notebook"
  },
  "kernelspec": {
   "display_name": "Python 3",
   "language": "python",
   "name": "python3"
  },
  "language_info": {
   "codemirror_mode": {
    "name": "ipython",
    "version": 3
   },
   "file_extension": ".py",
   "mimetype": "text/x-python",
   "name": "python",
   "nbconvert_exporter": "python",
   "pygments_lexer": "ipython3",
   "version": "3.10.14"
  }
 },
 "nbformat": 4,
 "nbformat_minor": 4
}
